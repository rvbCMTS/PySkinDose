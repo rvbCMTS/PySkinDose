{
 "cells": [
  {
   "cell_type": "markdown",
   "metadata": {},
   "source": [
    "# plot procedure"
   ]
  },
  {
   "cell_type": "markdown",
   "metadata": {},
   "source": [
    "### Imports"
   ]
  },
  {
   "cell_type": "code",
   "execution_count": null,
   "metadata": {
    "ExecuteTime": {
     "end_time": "2023-09-04T08:41:12.515854600Z",
     "start_time": "2023-09-04T08:41:11.802140Z"
    }
   },
   "outputs": [],
   "source": [
    "from notebook_base_dev_settings import DEVELOPMENT_PARAMETERS\n",
    "from pyskindose import constants\n",
    "from pyskindose.main import main\n",
    "from pyskindose.settings import PyskindoseSettings"
   ]
  },
  {
   "cell_type": "markdown",
   "metadata": {},
   "source": [
    "### settings"
   ]
  },
  {
   "cell_type": "code",
   "execution_count": null,
   "metadata": {
    "ExecuteTime": {
     "end_time": "2023-09-04T08:41:19.478494300Z",
     "start_time": "2023-09-04T08:41:19.452085Z"
    }
   },
   "outputs": [],
   "source": [
    "settings = PyskindoseSettings(settings=DEVELOPMENT_PARAMETERS)\n",
    "settings.mode = constants.MODE_PLOT_PROCEDURE"
   ]
  },
  {
   "cell_type": "markdown",
   "metadata": {},
   "source": [
    "### check parameters"
   ]
  },
  {
   "cell_type": "code",
   "execution_count": null,
   "metadata": {
    "ExecuteTime": {
     "end_time": "2023-09-04T08:46:35.629518700Z",
     "start_time": "2023-09-04T08:46:35.550948700Z"
    }
   },
   "outputs": [],
   "source": [
    "settings.rdsr_filename = r\"G:\\CMTS\\SF\\Personal\\Personliga mappar\\Josef Lundman\\DicomPort\\REMbox\\20230904103946\\859442_RDSR_2.25.29562646476819680735928656208464540061.dcm\"\n",
    "settings.print_parameters()"
   ]
  },
  {
   "cell_type": "markdown",
   "metadata": {},
   "source": [
    "### run PySkinDose"
   ]
  },
  {
   "cell_type": "code",
   "execution_count": null,
   "metadata": {
    "ExecuteTime": {
     "end_time": "2023-09-04T08:46:42.693035400Z",
     "start_time": "2023-09-04T08:46:42.280370100Z"
    }
   },
   "outputs": [],
   "source": [
    "main(settings=settings)"
   ]
  },
  {
   "cell_type": "code",
   "execution_count": null,
   "metadata": {},
   "outputs": [],
   "source": []
  }
 ],
 "metadata": {
  "kernelspec": {
   "display_name": "Python 3",
   "language": "python",
   "name": "python3"
  },
  "language_info": {
   "codemirror_mode": {
    "name": "ipython",
    "version": 3
   },
   "file_extension": ".py",
   "mimetype": "text/x-python",
   "name": "python",
   "nbconvert_exporter": "python",
   "pygments_lexer": "ipython3",
   "version": "3.9.0"
  }
 },
 "nbformat": 4,
 "nbformat_minor": 4
}
