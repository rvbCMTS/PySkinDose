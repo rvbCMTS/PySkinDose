{
 "cells": [
  {
   "cell_type": "markdown",
   "metadata": {},
   "source": [
    "# plot procedure"
   ]
  },
  {
   "cell_type": "markdown",
   "metadata": {},
   "source": [
    "### Imports"
   ]
  },
  {
   "cell_type": "code",
   "execution_count": 1,
   "metadata": {
    "ExecuteTime": {
     "end_time": "2023-09-04T08:41:12.515854600Z",
     "start_time": "2023-09-04T08:41:11.802140Z"
    }
   },
   "outputs": [],
   "source": [
    "from notebook_base_dev_settings import DEVELOPMENT_PARAMETERS\n",
    "from pyskindose import constants\n",
    "from pyskindose.main import main\n",
    "from pyskindose.settings import PyskindoseSettings"
   ]
  },
  {
   "cell_type": "markdown",
   "metadata": {},
   "source": [
    "### settings"
   ]
  },
  {
   "cell_type": "code",
   "execution_count": 2,
   "metadata": {
    "ExecuteTime": {
     "end_time": "2023-09-04T08:41:19.478494300Z",
     "start_time": "2023-09-04T08:41:19.452085Z"
    }
   },
   "outputs": [],
   "source": [
    "settings = PyskindoseSettings(settings=DEVELOPMENT_PARAMETERS)\n",
    "settings.mode = constants.MODE_PLOT_PROCEDURE"
   ]
  },
  {
   "cell_type": "markdown",
   "metadata": {},
   "source": [
    "### check parameters"
   ]
  },
  {
   "cell_type": "code",
   "execution_count": 7,
   "metadata": {
    "ExecuteTime": {
     "end_time": "2023-09-04T08:46:35.629518700Z",
     "start_time": "2023-09-04T08:46:35.550948700Z"
    }
   },
   "outputs": [
    {
     "data": {
      "text/plain": "\u001B[1;4;36mGeneral settings\u001B[0m\n        \u001B[36mmode\u001B[0m:   plot_procedure\n        \u001B[36mrdsr_filename\u001B[0m:  \nC:\\Programming\\PySkinDose\\src\\pyskindose\\example_data\\RDSR\\siemens_axiom_example_procedure.dcm\n        \u001B[36mestimate_k_tab\u001B[0m: \u001B[3;91mFalse\u001B[0m\n\n\u001B[1;35mPhantom settings\u001B[0m\n        \u001B[35mmodel\u001B[0m: human\n        \u001B[35mpatient_offset\u001B[0m:\n                \u001B[35md_lat\u001B[0m: \u001B[1;36m-35\u001B[0m\n                \u001B[35md_ver\u001B[0m: \u001B[1;36m0\u001B[0m\n                \u001B[35md_lon\u001B[0m: \u001B[1;36m0\u001B[0m\n        \u001B[35mpatient_orientation\u001B[0m: head_first_supine\n        \u001B[35mdimension\u001B[0m:\n                \u001B[35mplane_length\u001B[0m: \u001B[1;36m120\u001B[0m\n                \u001B[35mplane_width\u001B[0m: \u001B[1;36m40\u001B[0m\n                \u001B[35mplane_resolution\u001B[0m: sparse\n                \u001B[35mcylinder_length\u001B[0m: \u001B[1;36m150\u001B[0m\n                \u001B[35mcylinder_radii_a\u001B[0m: \u001B[1;36m20\u001B[0m\n                \u001B[35mcylinder_radii_b\u001B[0m: \u001B[1;36m10\u001B[0m\n                \u001B[35mcylinder_resolution\u001B[0m: sparse\n                \u001B[35mtable_thickness\u001B[0m: \u001B[1;36m5\u001B[0m\n                \u001B[35mtable_length\u001B[0m: \u001B[1;36m282\u001B[0m\n                \u001B[35mtable_width\u001B[0m: \u001B[1;36m45\u001B[0m\n                \u001B[35mpad_thickness\u001B[0m: \u001B[1;36m4\u001B[0m\n                \u001B[35mpad_width\u001B[0m: \u001B[1;36m45\u001B[0m\n                \u001B[35mpad_length\u001B[0m: \u001B[1;36m282\u001B[0m\n\n\u001B[1;34mPlot settings\u001B[0m\n        \u001B[34minteractivity\u001B[0m: \u001B[3;92mTrue\u001B[0m\n        \u001B[34mdark_mode\u001B[0m: \u001B[3;91mFalse\u001B[0m\n        \u001B[34mnotebook_mode\u001B[0m: \u001B[3;92mTrue\u001B[0m\n        \u001B[34mplot_dosemap\u001B[0m: \u001B[3;91mFalse\u001B[0m\n        \u001B[34mmax_events_for_patient_inclusion\u001B[0m: \u001B[1;36m0\u001B[0m\n        \u001B[34mplot_event_index\u001B[0m: \u001B[1;36m12\u001B[0m\n\n\u001B[1;32mNormalization settings\u001B[0m\n        \u001B[32mtrans_offset\u001B[0m:\n                \u001B[32mx\u001B[0m:\u001B[1;36m0.0\u001B[0m\n                \u001B[32my\u001B[0m:\u001B[1;36m0.0\u001B[0m\n                \u001B[32mz\u001B[0m:\u001B[1;36m0.0\u001B[0m\n        \u001B[32mtrans_dir\u001B[0m:\n                \u001B[32mx\u001B[0m:\u001B[1;36m1\u001B[0m\n                \u001B[32my\u001B[0m:\u001B[1;36m1\u001B[0m\n                \u001B[32mz\u001B[0m:\u001B[1;36m1\u001B[0m\n        \u001B[32mrot_dir\u001B[0m:\n                \u001B[32mAp\u001B[0m\u001B[1;32m1\u001B[0m\u001B[1;92m:1\u001B[0m\n                \u001B[32mAp\u001B[0m\u001B[1;32m2\u001B[0m\u001B[1;92m:1\u001B[0m\n                \u001B[32mAp\u001B[0m\u001B[1;32m3\u001B[0m\u001B[1;92m:1\u001B[0m\n                \u001B[32mAt\u001B[0m\u001B[1;32m1\u001B[0m\u001B[1;92m:1\u001B[0m\n                \u001B[32mAt\u001B[0m\u001B[1;32m2\u001B[0m\u001B[1;92m:1\u001B[0m\n                \u001B[32mAt\u001B[0m\u001B[1;32m3\u001B[0m\u001B[1;92m:1\u001B[0m\n        \u001B[32mfield_size_mode\u001B[0m: CFA\n        \u001B[32mdetector_side_length\u001B[0m: \u001B[1;36m40\u001B[0m\n\n",
      "text/html": "<pre style=\"white-space:pre;overflow-x:auto;line-height:normal;font-family:Menlo,'DejaVu Sans Mono',consolas,'Courier New',monospace\"><span style=\"color: #008080; text-decoration-color: #008080; font-weight: bold; text-decoration: underline\">General settings</span>\n        <span style=\"color: #008080; text-decoration-color: #008080\">mode</span>:   plot_procedure\n        <span style=\"color: #008080; text-decoration-color: #008080\">rdsr_filename</span>:  \nC:\\Programming\\PySkinDose\\src\\pyskindose\\example_data\\RDSR\\siemens_axiom_example_procedure.dcm\n        <span style=\"color: #008080; text-decoration-color: #008080\">estimate_k_tab</span>: <span style=\"color: #ff0000; text-decoration-color: #ff0000; font-style: italic\">False</span>\n\n<span style=\"color: #800080; text-decoration-color: #800080; font-weight: bold\">Phantom settings</span>\n        <span style=\"color: #800080; text-decoration-color: #800080\">model</span>: human\n        <span style=\"color: #800080; text-decoration-color: #800080\">patient_offset</span>:\n                <span style=\"color: #800080; text-decoration-color: #800080\">d_lat</span>: <span style=\"color: #008080; text-decoration-color: #008080; font-weight: bold\">-35</span>\n                <span style=\"color: #800080; text-decoration-color: #800080\">d_ver</span>: <span style=\"color: #008080; text-decoration-color: #008080; font-weight: bold\">0</span>\n                <span style=\"color: #800080; text-decoration-color: #800080\">d_lon</span>: <span style=\"color: #008080; text-decoration-color: #008080; font-weight: bold\">0</span>\n        <span style=\"color: #800080; text-decoration-color: #800080\">patient_orientation</span>: head_first_supine\n        <span style=\"color: #800080; text-decoration-color: #800080\">dimension</span>:\n                <span style=\"color: #800080; text-decoration-color: #800080\">plane_length</span>: <span style=\"color: #008080; text-decoration-color: #008080; font-weight: bold\">120</span>\n                <span style=\"color: #800080; text-decoration-color: #800080\">plane_width</span>: <span style=\"color: #008080; text-decoration-color: #008080; font-weight: bold\">40</span>\n                <span style=\"color: #800080; text-decoration-color: #800080\">plane_resolution</span>: sparse\n                <span style=\"color: #800080; text-decoration-color: #800080\">cylinder_length</span>: <span style=\"color: #008080; text-decoration-color: #008080; font-weight: bold\">150</span>\n                <span style=\"color: #800080; text-decoration-color: #800080\">cylinder_radii_a</span>: <span style=\"color: #008080; text-decoration-color: #008080; font-weight: bold\">20</span>\n                <span style=\"color: #800080; text-decoration-color: #800080\">cylinder_radii_b</span>: <span style=\"color: #008080; text-decoration-color: #008080; font-weight: bold\">10</span>\n                <span style=\"color: #800080; text-decoration-color: #800080\">cylinder_resolution</span>: sparse\n                <span style=\"color: #800080; text-decoration-color: #800080\">table_thickness</span>: <span style=\"color: #008080; text-decoration-color: #008080; font-weight: bold\">5</span>\n                <span style=\"color: #800080; text-decoration-color: #800080\">table_length</span>: <span style=\"color: #008080; text-decoration-color: #008080; font-weight: bold\">282</span>\n                <span style=\"color: #800080; text-decoration-color: #800080\">table_width</span>: <span style=\"color: #008080; text-decoration-color: #008080; font-weight: bold\">45</span>\n                <span style=\"color: #800080; text-decoration-color: #800080\">pad_thickness</span>: <span style=\"color: #008080; text-decoration-color: #008080; font-weight: bold\">4</span>\n                <span style=\"color: #800080; text-decoration-color: #800080\">pad_width</span>: <span style=\"color: #008080; text-decoration-color: #008080; font-weight: bold\">45</span>\n                <span style=\"color: #800080; text-decoration-color: #800080\">pad_length</span>: <span style=\"color: #008080; text-decoration-color: #008080; font-weight: bold\">282</span>\n\n<span style=\"color: #000080; text-decoration-color: #000080; font-weight: bold\">Plot settings</span>\n        <span style=\"color: #000080; text-decoration-color: #000080\">interactivity</span>: <span style=\"color: #00ff00; text-decoration-color: #00ff00; font-style: italic\">True</span>\n        <span style=\"color: #000080; text-decoration-color: #000080\">dark_mode</span>: <span style=\"color: #ff0000; text-decoration-color: #ff0000; font-style: italic\">False</span>\n        <span style=\"color: #000080; text-decoration-color: #000080\">notebook_mode</span>: <span style=\"color: #00ff00; text-decoration-color: #00ff00; font-style: italic\">True</span>\n        <span style=\"color: #000080; text-decoration-color: #000080\">plot_dosemap</span>: <span style=\"color: #ff0000; text-decoration-color: #ff0000; font-style: italic\">False</span>\n        <span style=\"color: #000080; text-decoration-color: #000080\">max_events_for_patient_inclusion</span>: <span style=\"color: #008080; text-decoration-color: #008080; font-weight: bold\">0</span>\n        <span style=\"color: #000080; text-decoration-color: #000080\">plot_event_index</span>: <span style=\"color: #008080; text-decoration-color: #008080; font-weight: bold\">12</span>\n\n<span style=\"color: #008000; text-decoration-color: #008000; font-weight: bold\">Normalization settings</span>\n        <span style=\"color: #008000; text-decoration-color: #008000\">trans_offset</span>:\n                <span style=\"color: #008000; text-decoration-color: #008000\">x</span>:<span style=\"color: #008080; text-decoration-color: #008080; font-weight: bold\">0.0</span>\n                <span style=\"color: #008000; text-decoration-color: #008000\">y</span>:<span style=\"color: #008080; text-decoration-color: #008080; font-weight: bold\">0.0</span>\n                <span style=\"color: #008000; text-decoration-color: #008000\">z</span>:<span style=\"color: #008080; text-decoration-color: #008080; font-weight: bold\">0.0</span>\n        <span style=\"color: #008000; text-decoration-color: #008000\">trans_dir</span>:\n                <span style=\"color: #008000; text-decoration-color: #008000\">x</span>:<span style=\"color: #008080; text-decoration-color: #008080; font-weight: bold\">1</span>\n                <span style=\"color: #008000; text-decoration-color: #008000\">y</span>:<span style=\"color: #008080; text-decoration-color: #008080; font-weight: bold\">1</span>\n                <span style=\"color: #008000; text-decoration-color: #008000\">z</span>:<span style=\"color: #008080; text-decoration-color: #008080; font-weight: bold\">1</span>\n        <span style=\"color: #008000; text-decoration-color: #008000\">rot_dir</span>:\n                <span style=\"color: #008000; text-decoration-color: #008000\">Ap</span><span style=\"color: #008000; text-decoration-color: #008000; font-weight: bold\">1</span><span style=\"color: #00ff00; text-decoration-color: #00ff00; font-weight: bold\">:1</span>\n                <span style=\"color: #008000; text-decoration-color: #008000\">Ap</span><span style=\"color: #008000; text-decoration-color: #008000; font-weight: bold\">2</span><span style=\"color: #00ff00; text-decoration-color: #00ff00; font-weight: bold\">:1</span>\n                <span style=\"color: #008000; text-decoration-color: #008000\">Ap</span><span style=\"color: #008000; text-decoration-color: #008000; font-weight: bold\">3</span><span style=\"color: #00ff00; text-decoration-color: #00ff00; font-weight: bold\">:1</span>\n                <span style=\"color: #008000; text-decoration-color: #008000\">At</span><span style=\"color: #008000; text-decoration-color: #008000; font-weight: bold\">1</span><span style=\"color: #00ff00; text-decoration-color: #00ff00; font-weight: bold\">:1</span>\n                <span style=\"color: #008000; text-decoration-color: #008000\">At</span><span style=\"color: #008000; text-decoration-color: #008000; font-weight: bold\">2</span><span style=\"color: #00ff00; text-decoration-color: #00ff00; font-weight: bold\">:1</span>\n                <span style=\"color: #008000; text-decoration-color: #008000\">At</span><span style=\"color: #008000; text-decoration-color: #008000; font-weight: bold\">3</span><span style=\"color: #00ff00; text-decoration-color: #00ff00; font-weight: bold\">:1</span>\n        <span style=\"color: #008000; text-decoration-color: #008000\">field_size_mode</span>: CFA\n        <span style=\"color: #008000; text-decoration-color: #008000\">detector_side_length</span>: <span style=\"color: #008080; text-decoration-color: #008080; font-weight: bold\">40</span>\n\n</pre>\n"
     },
     "metadata": {},
     "output_type": "display_data"
    }
   ],
   "source": [
    "settings.rdsr_filename = r\"G:\\CMTS\\SF\\Personal\\Personliga mappar\\Josef Lundman\\DicomPort\\REMbox\\20230904103946\\859442_RDSR_2.25.29562646476819680735928656208464540061.dcm\"\n",
    "settings.print_parameters()"
   ]
  },
  {
   "cell_type": "markdown",
   "metadata": {},
   "source": [
    "### run PySkinDose"
   ]
  },
  {
   "cell_type": "code",
   "execution_count": 8,
   "metadata": {
    "ExecuteTime": {
     "end_time": "2023-09-04T08:46:42.693035400Z",
     "start_time": "2023-09-04T08:46:42.280370100Z"
    }
   },
   "outputs": [
    {
     "data": {
      "application/vnd.plotly.v1+json": {
       "data": [
        {
         "hoverinfo": "text",
         "marker": {
          "color": "#D3D3D3",
          "size": 8
         },
         "mode": "markers",
         "text": [
          "<b>X-ray source</b><br><br><b>LAT : </b>-0.0 cm<br><b>LON : </b>-0.0 cm<br><b>VER : </b>78.0 cm"
         ],
         "visible": true,
         "x": [
          -0.2740123799496683,
          -0.2740123799496683
         ],
         "y": [
          78.49844569911527,
          78.49844569911527
         ],
         "z": [
          -0.411023160766437,
          -0.411023160766437
         ],
         "type": "scatter3d"
        },
        {
         "hoverinfo": "text",
         "marker": {
          "color": "#D3D3D3",
          "size": 8
         },
         "mode": "markers",
         "text": [
          "<b>X-ray source</b><br><br><b>LAT : </b>-0.0 cm<br><b>LON : </b>-0.0 cm<br><b>VER : </b>78.0 cm"
         ],
         "visible": false,
         "x": [
          -0.2740123799496683,
          -0.2740123799496683
         ],
         "y": [
          78.49844569911527,
          78.49844569911527
         ],
         "z": [
          -0.411023160766437,
          -0.411023160766437
         ],
         "type": "scatter3d"
        },
        {
         "hoverinfo": "text",
         "marker": {
          "color": "#D3D3D3",
          "size": 8
         },
         "mode": "markers",
         "text": [
          "<b>X-ray source</b><br><br><b>LAT : </b>-0.0 cm<br><b>LON : </b>-0.0 cm<br><b>VER : </b>78.0 cm"
         ],
         "visible": false,
         "x": [
          -0.2740123799496683,
          -0.2740123799496683
         ],
         "y": [
          78.49844569911527,
          78.49844569911527
         ],
         "z": [
          -0.411023160766437,
          -0.411023160766437
         ],
         "type": "scatter3d"
        },
        {
         "hoverinfo": "text",
         "marker": {
          "color": "#D3D3D3",
          "size": 8
         },
         "mode": "markers",
         "text": [
          "<b>X-ray source</b><br><br><b>LAT : </b>-0.0 cm<br><b>LON : </b>-0.0 cm<br><b>VER : </b>78.0 cm"
         ],
         "visible": false,
         "x": [
          -0.2740123799496683,
          -0.2740123799496683
         ],
         "y": [
          78.49844569911527,
          78.49844569911527
         ],
         "z": [
          -0.411023160766437,
          -0.411023160766437
         ],
         "type": "scatter3d"
        },
        {
         "hoverinfo": "text",
         "marker": {
          "color": "#D3D3D3",
          "size": 8
         },
         "mode": "markers",
         "text": [
          "<b>X-ray source</b><br><br><b>LAT : </b>-0.0 cm<br><b>LON : </b>-0.0 cm<br><b>VER : </b>78.0 cm"
         ],
         "visible": false,
         "x": [
          -0.2740123799496683,
          -0.2740123799496683
         ],
         "y": [
          78.49844569911527,
          78.49844569911527
         ],
         "z": [
          -0.411023160766437,
          -0.411023160766437
         ],
         "type": "scatter3d"
        },
        {
         "hoverinfo": "text",
         "marker": {
          "color": "#D3D3D3",
          "size": 8
         },
         "mode": "markers",
         "text": [
          "<b>X-ray source</b><br><br><b>LAT : </b>-0.0 cm<br><b>LON : </b>-0.0 cm<br><b>VER : </b>78.0 cm"
         ],
         "visible": false,
         "x": [
          -0.2740123799496683,
          -0.2740123799496683
         ],
         "y": [
          78.49844569911527,
          78.49844569911527
         ],
         "z": [
          -0.411023160766437,
          -0.411023160766437
         ],
         "type": "scatter3d"
        },
        {
         "hoverinfo": "text",
         "marker": {
          "color": "#D3D3D3",
          "size": 8
         },
         "mode": "markers",
         "text": [
          "<b>X-ray source</b><br><br><b>LAT : </b>-0.0 cm<br><b>LON : </b>-0.0 cm<br><b>VER : </b>78.0 cm"
         ],
         "visible": false,
         "x": [
          -0.2740123799496683,
          -0.2740123799496683
         ],
         "y": [
          78.49844569911527,
          78.49844569911527
         ],
         "z": [
          -0.411023160766437,
          -0.411023160766437
         ],
         "type": "scatter3d"
        },
        {
         "hoverinfo": "text",
         "marker": {
          "color": "#D3D3D3",
          "size": 8
         },
         "mode": "markers",
         "text": [
          "<b>X-ray source</b><br><br><b>LAT : </b>-0.0 cm<br><b>LON : </b>-0.0 cm<br><b>VER : </b>78.0 cm"
         ],
         "visible": false,
         "x": [
          -0.2740123799496683,
          -0.2740123799496683
         ],
         "y": [
          78.49844569911527,
          78.49844569911527
         ],
         "z": [
          -0.411023160766437,
          -0.411023160766437
         ],
         "type": "scatter3d"
        },
        {
         "hoverinfo": "text",
         "marker": {
          "color": "#D3D3D3",
          "size": 8
         },
         "mode": "markers",
         "text": [
          "<b>X-ray source</b><br><br><b>LAT : </b>-0.0 cm<br><b>LON : </b>-0.0 cm<br><b>VER : </b>78.0 cm"
         ],
         "visible": false,
         "x": [
          -0.2740123799496683,
          -0.2740123799496683
         ],
         "y": [
          78.49844569911527,
          78.49844569911527
         ],
         "z": [
          -0.411023160766437,
          -0.411023160766437
         ],
         "type": "scatter3d"
        },
        {
         "hoverinfo": "text",
         "marker": {
          "color": "#D3D3D3",
          "size": 8
         },
         "mode": "markers",
         "text": [
          "<b>X-ray source</b><br><br><b>LAT : </b>-0.0 cm<br><b>LON : </b>-0.0 cm<br><b>VER : </b>78.0 cm"
         ],
         "visible": false,
         "x": [
          -0.2740123799496683,
          -0.2740123799496683
         ],
         "y": [
          78.49844569911527,
          78.49844569911527
         ],
         "z": [
          -0.411023160766437,
          -0.411023160766437
         ],
         "type": "scatter3d"
        },
        {
         "hoverinfo": "text",
         "marker": {
          "color": "#D3D3D3",
          "size": 8
         },
         "mode": "markers",
         "text": [
          "<b>X-ray source</b><br><br><b>LAT : </b>-0.0 cm<br><b>LON : </b>-0.0 cm<br><b>VER : </b>78.0 cm"
         ],
         "visible": false,
         "x": [
          -0.2740123799496683,
          -0.2740123799496683
         ],
         "y": [
          78.49844569911527,
          78.49844569911527
         ],
         "z": [
          -0.411023160766437,
          -0.411023160766437
         ],
         "type": "scatter3d"
        },
        {
         "hoverinfo": "text",
         "marker": {
          "color": "#D3D3D3",
          "size": 8
         },
         "mode": "markers",
         "text": [
          "<b>X-ray source</b><br><br><b>LAT : </b>-0.0 cm<br><b>LON : </b>-29.0 cm<br><b>VER : </b>73.0 cm"
         ],
         "visible": false,
         "x": [
          -28.514830712526646,
          -28.514830712526646
         ],
         "y": [
          73.13675881112903,
          73.13675881112903
         ],
         "z": [
          -0.411023160766437,
          -0.411023160766437
         ],
         "type": "scatter3d"
        },
        {
         "hoverinfo": "text",
         "marker": {
          "color": "#D3D3D3",
          "size": 8
         },
         "mode": "markers",
         "text": [
          "<b>X-ray source</b><br><br><b>LAT : </b>-0.0 cm<br><b>LON : </b>53.0 cm<br><b>VER : </b>58.0 cm"
         ],
         "visible": false,
         "x": [
          52.831160443047516,
          52.831160443047516
         ],
         "y": [
          58.060687228090316,
          58.060687228090316
         ],
         "z": [
          -0.274016136095063,
          -0.274016136095063
         ],
         "type": "scatter3d"
        },
        {
         "hoverinfo": "text",
         "marker": {
          "color": "#D3D3D3",
          "size": 8
         },
         "mode": "markers",
         "text": [
          "<b>X-ray source</b><br><br><b>LAT : </b>-26.0 cm<br><b>LON : </b>-0.0 cm<br><b>VER : </b>74.0 cm"
         ],
         "visible": false,
         "x": [
          -0.12898925693017751,
          -0.12898925693017751
         ],
         "y": [
          73.90532520335475,
          73.90532520335475
         ],
         "z": [
          -26.461977786211943,
          -26.461977786211943
         ],
         "type": "scatter3d"
        },
        {
         "hoverinfo": "text",
         "marker": {
          "color": "#D3D3D3",
          "size": 8
         },
         "mode": "markers",
         "text": [
          "<b>X-ray source</b><br><br><b>LAT : </b>20.0 cm<br><b>LON : </b>-0.0 cm<br><b>VER : </b>76.0 cm"
         ],
         "visible": false,
         "x": [
          -0.13252368793756839,
          -0.13252368793756839
         ],
         "y": [
          75.93040294414241,
          75.93040294414241
         ],
         "z": [
          19.91999864990724,
          19.91999864990724
         ],
         "type": "scatter3d"
        },
        {
         "hoverinfo": "text",
         "marker": {
          "color": "#D3D3D3",
          "size": 8
         },
         "mode": "markers",
         "text": [
          "<b>X-ray source</b><br><br><b>LAT : </b>-0.0 cm<br><b>LON : </b>-0.0 cm<br><b>VER : </b>78.0 cm"
         ],
         "visible": false,
         "x": [
          -0.13700639864745945,
          -0.13700639864745945
         ],
         "y": [
          78.49880438075502,
          78.49880438075502
         ],
         "z": [
          -0.411023160766437,
          -0.411023160766437
         ],
         "type": "scatter3d"
        },
        {
         "hoverinfo": "text",
         "marker": {
          "color": "#D3D3D3",
          "size": 8
         },
         "mode": "markers",
         "text": [
          "<b>X-ray source</b><br><br><b>LAT : </b>-0.0 cm<br><b>LON : </b>-0.0 cm<br><b>VER : </b>78.0 cm"
         ],
         "visible": false,
         "x": [
          -0.13700639864745945,
          -0.13700639864745945
         ],
         "y": [
          78.49880438075502,
          78.49880438075502
         ],
         "z": [
          -0.411023160766437,
          -0.411023160766437
         ],
         "type": "scatter3d"
        },
        {
         "hoverinfo": "text",
         "marker": {
          "color": "#D3D3D3",
          "size": 8
         },
         "mode": "markers",
         "text": [
          "<b>X-ray source</b><br><br><b>LAT : </b>-0.0 cm<br><b>LON : </b>-0.0 cm<br><b>VER : </b>78.0 cm"
         ],
         "visible": false,
         "x": [
          -0.13700639864745945,
          -0.13700639864745945
         ],
         "y": [
          78.49880438075502,
          78.49880438075502
         ],
         "z": [
          -0.411023160766437,
          -0.411023160766437
         ],
         "type": "scatter3d"
        },
        {
         "hoverinfo": "text",
         "marker": {
          "color": "#D3D3D3",
          "size": 8
         },
         "mode": "markers",
         "text": [
          "<b>X-ray source</b><br><br><b>LAT : </b>-0.0 cm<br><b>LON : </b>-0.0 cm<br><b>VER : </b>78.0 cm"
         ],
         "visible": false,
         "x": [
          -0.13700639864745945,
          -0.13700639864745945
         ],
         "y": [
          78.49880438075502,
          78.49880438075502
         ],
         "z": [
          -0.411023160766437,
          -0.411023160766437
         ],
         "type": "scatter3d"
        },
        {
         "hoverinfo": "text",
         "marker": {
          "color": "#D3D3D3",
          "size": 8
         },
         "mode": "markers",
         "text": [
          "<b>X-ray source</b><br><br><b>LAT : </b>-0.0 cm<br><b>LON : </b>-78.0 cm<br><b>VER : </b>0.0 cm"
         ],
         "visible": false,
         "x": [
          -78.49880438075502,
          -78.49880438075502
         ],
         "y": [
          0.13700639864745573,
          0.13700639864745573
         ],
         "z": [
          -0.411023160766437,
          -0.411023160766437
         ],
         "type": "scatter3d"
        },
        {
         "hoverinfo": "text",
         "marker": {
          "color": "#D3D3D3",
          "size": 8
         },
         "mode": "markers",
         "text": [
          "<b>X-ray source</b><br><br><b>LAT : </b>-0.0 cm<br><b>LON : </b>-78.0 cm<br><b>VER : </b>0.0 cm"
         ],
         "visible": false,
         "x": [
          -78.49880438075502,
          -78.49880438075502
         ],
         "y": [
          0.13700639864745573,
          0.13700639864745573
         ],
         "z": [
          -0.411023160766437,
          -0.411023160766437
         ],
         "type": "scatter3d"
        },
        {
         "hoverinfo": "text",
         "marker": {
          "color": "#D3D3D3",
          "size": 8
         },
         "mode": "markers",
         "text": [
          "<b>X-ray source</b><br><br><b>LAT : </b>-0.0 cm<br><b>LON : </b>-78.0 cm<br><b>VER : </b>0.0 cm"
         ],
         "visible": false,
         "x": [
          -78.49880438075502,
          -78.49880438075502
         ],
         "y": [
          0.13700639864745573,
          0.13700639864745573
         ],
         "z": [
          -0.411023160766437,
          -0.411023160766437
         ],
         "type": "scatter3d"
        },
        {
         "hoverinfo": "text",
         "marker": {
          "color": "#D3D3D3",
          "size": 8
         },
         "mode": "markers",
         "text": [
          "<b>X-ray source</b><br><br><b>LAT : </b>-0.0 cm<br><b>LON : </b>-78.0 cm<br><b>VER : </b>0.0 cm"
         ],
         "visible": false,
         "x": [
          -78.49880438075502,
          -78.49880438075502
         ],
         "y": [
          0.13700639864745573,
          0.13700639864745573
         ],
         "z": [
          -0.411023160766437,
          -0.411023160766437
         ],
         "type": "scatter3d"
        },
        {
         "hoverinfo": "text",
         "marker": {
          "color": "#D3D3D3",
          "size": 8
         },
         "mode": "markers",
         "text": [
          "<b>X-ray source</b><br><br><b>LAT : </b>-1.0 cm<br><b>LON : </b>-0.0 cm<br><b>VER : </b>78.0 cm"
         ],
         "visible": false,
         "x": [
          -0.27400570240023286,
          -0.27400570240023286
         ],
         "y": [
          78.49653272988425,
          78.49653272988425
         ],
         "z": [
          -0.6850330366223538,
          -0.6850330366223538
         ],
         "type": "scatter3d"
        },
        {
         "color": "#D3D3D3",
         "hoverinfo": "text",
         "i": [
          0,
          2,
          4,
          6,
          0,
          1,
          2,
          3,
          0,
          3,
          1,
          2
         ],
         "j": [
          1,
          3,
          5,
          7,
          1,
          5,
          3,
          7,
          3,
          7,
          2,
          6
         ],
         "k": [
          2,
          0,
          6,
          4,
          4,
          4,
          6,
          6,
          4,
          4,
          5,
          5
         ],
         "opacity": 1.0,
         "text": [
          "<b>Support table</b><br><br><b>LAT : </b>-96.0 cm<br><b>LON : </b>120.0 cm<br><b>VER : </b>14.0 cm",
          "<b>Support table</b><br><br><b>LAT : </b>-15.0 cm<br><b>LON : </b>-150.0 cm<br><b>VER : </b>14.0 cm",
          "<b>Support table</b><br><br><b>LAT : </b>28.0 cm<br><b>LON : </b>-137.0 cm<br><b>VER : </b>14.0 cm",
          "<b>Support table</b><br><br><b>LAT : </b>-53.0 cm<br><b>LON : </b>133.0 cm<br><b>VER : </b>14.0 cm",
          "<b>Support table</b><br><br><b>LAT : </b>-96.0 cm<br><b>LON : </b>120.0 cm<br><b>VER : </b>19.0 cm",
          "<b>Support table</b><br><br><b>LAT : </b>-15.0 cm<br><b>LON : </b>-150.0 cm<br><b>VER : </b>19.0 cm",
          "<b>Support table</b><br><br><b>LAT : </b>28.0 cm<br><b>LON : </b>-137.0 cm<br><b>VER : </b>19.0 cm",
          "<b>Support table</b><br><br><b>LAT : </b>-53.0 cm<br><b>LON : </b>133.0 cm<br><b>VER : </b>19.0 cm"
         ],
         "visible": true,
         "x": [
          119.8473600765709,
          -150.25858346980792,
          -137.3273600765709,
          132.7785834698079,
          119.8473600765709,
          -150.25858346980792,
          -137.3273600765709,
          132.7785834698079
         ],
         "y": [
          13.66,
          13.66,
          13.66,
          13.66,
          18.66,
          18.66,
          18.66,
          18.66
         ],
         "z": [
          -96.36883943282898,
          -15.333172835210192,
          27.768839432828983,
          -53.2668271647898,
          -96.36883943282898,
          -15.333172835210192,
          27.768839432828983,
          -53.2668271647898
         ],
         "type": "mesh3d"
        },
        {
         "color": "#D3D3D3",
         "hoverinfo": "text",
         "i": [
          0,
          2,
          4,
          6,
          0,
          1,
          2,
          3,
          0,
          3,
          1,
          2
         ],
         "j": [
          1,
          3,
          5,
          7,
          1,
          5,
          3,
          7,
          3,
          7,
          2,
          6
         ],
         "k": [
          2,
          0,
          6,
          4,
          4,
          4,
          6,
          6,
          4,
          4,
          5,
          5
         ],
         "opacity": 1.0,
         "text": [
          "<b>Support table</b><br><br><b>LAT : </b>-96.0 cm<br><b>LON : </b>127.0 cm<br><b>VER : </b>15.0 cm",
          "<b>Support table</b><br><br><b>LAT : </b>-15.0 cm<br><b>LON : </b>-143.0 cm<br><b>VER : </b>15.0 cm",
          "<b>Support table</b><br><br><b>LAT : </b>28.0 cm<br><b>LON : </b>-130.0 cm<br><b>VER : </b>15.0 cm",
          "<b>Support table</b><br><br><b>LAT : </b>-53.0 cm<br><b>LON : </b>140.0 cm<br><b>VER : </b>15.0 cm",
          "<b>Support table</b><br><br><b>LAT : </b>-96.0 cm<br><b>LON : </b>127.0 cm<br><b>VER : </b>20.0 cm",
          "<b>Support table</b><br><br><b>LAT : </b>-15.0 cm<br><b>LON : </b>-143.0 cm<br><b>VER : </b>20.0 cm",
          "<b>Support table</b><br><br><b>LAT : </b>28.0 cm<br><b>LON : </b>-130.0 cm<br><b>VER : </b>20.0 cm",
          "<b>Support table</b><br><br><b>LAT : </b>-53.0 cm<br><b>LON : </b>140.0 cm<br><b>VER : </b>20.0 cm"
         ],
         "visible": false,
         "x": [
          126.90314584046183,
          -143.13197790649585,
          -130.16314584046182,
          139.87197790649586,
          126.90314584046183,
          -143.13197790649585,
          -130.16314584046182,
          139.87197790649586
         ],
         "y": [
          15.41,
          15.41,
          15.41,
          15.41,
          20.41,
          20.41,
          20.41,
          20.41
         ],
         "z": [
          -96.43102942501491,
          -15.159681811201736,
          27.931029425014913,
          -53.34031818879828,
          -96.43102942501491,
          -15.159681811201736,
          27.931029425014913,
          -53.34031818879828
         ],
         "type": "mesh3d"
        },
        {
         "color": "#D3D3D3",
         "hoverinfo": "text",
         "i": [
          0,
          2,
          4,
          6,
          0,
          1,
          2,
          3,
          0,
          3,
          1,
          2
         ],
         "j": [
          1,
          3,
          5,
          7,
          1,
          5,
          3,
          7,
          3,
          7,
          2,
          6
         ],
         "k": [
          2,
          0,
          6,
          4,
          4,
          4,
          6,
          6,
          4,
          4,
          5,
          5
         ],
         "opacity": 1.0,
         "text": [
          "<b>Support table</b><br><br><b>LAT : </b>-96.0 cm<br><b>LON : </b>127.0 cm<br><b>VER : </b>15.0 cm",
          "<b>Support table</b><br><br><b>LAT : </b>-15.0 cm<br><b>LON : </b>-143.0 cm<br><b>VER : </b>15.0 cm",
          "<b>Support table</b><br><br><b>LAT : </b>28.0 cm<br><b>LON : </b>-130.0 cm<br><b>VER : </b>15.0 cm",
          "<b>Support table</b><br><br><b>LAT : </b>-53.0 cm<br><b>LON : </b>140.0 cm<br><b>VER : </b>15.0 cm",
          "<b>Support table</b><br><br><b>LAT : </b>-96.0 cm<br><b>LON : </b>127.0 cm<br><b>VER : </b>20.0 cm",
          "<b>Support table</b><br><br><b>LAT : </b>-15.0 cm<br><b>LON : </b>-143.0 cm<br><b>VER : </b>20.0 cm",
          "<b>Support table</b><br><br><b>LAT : </b>28.0 cm<br><b>LON : </b>-130.0 cm<br><b>VER : </b>20.0 cm",
          "<b>Support table</b><br><br><b>LAT : </b>-53.0 cm<br><b>LON : </b>140.0 cm<br><b>VER : </b>20.0 cm"
         ],
         "visible": false,
         "x": [
          126.90314584046183,
          -143.13197790649585,
          -130.16314584046182,
          139.87197790649586,
          126.90314584046183,
          -143.13197790649585,
          -130.16314584046182,
          139.87197790649586
         ],
         "y": [
          15.41,
          15.41,
          15.41,
          15.41,
          20.41,
          20.41,
          20.41,
          20.41
         ],
         "z": [
          -96.43102942501491,
          -15.159681811201736,
          27.931029425014913,
          -53.34031818879828,
          -96.43102942501491,
          -15.159681811201736,
          27.931029425014913,
          -53.34031818879828
         ],
         "type": "mesh3d"
        },
        {
         "color": "#D3D3D3",
         "hoverinfo": "text",
         "i": [
          0,
          2,
          4,
          6,
          0,
          1,
          2,
          3,
          0,
          3,
          1,
          2
         ],
         "j": [
          1,
          3,
          5,
          7,
          1,
          5,
          3,
          7,
          3,
          7,
          2,
          6
         ],
         "k": [
          2,
          0,
          6,
          4,
          4,
          4,
          6,
          6,
          4,
          4,
          5,
          5
         ],
         "opacity": 1.0,
         "text": [
          "<b>Support table</b><br><br><b>LAT : </b>-96.0 cm<br><b>LON : </b>127.0 cm<br><b>VER : </b>15.0 cm",
          "<b>Support table</b><br><br><b>LAT : </b>-15.0 cm<br><b>LON : </b>-143.0 cm<br><b>VER : </b>15.0 cm",
          "<b>Support table</b><br><br><b>LAT : </b>28.0 cm<br><b>LON : </b>-130.0 cm<br><b>VER : </b>15.0 cm",
          "<b>Support table</b><br><br><b>LAT : </b>-53.0 cm<br><b>LON : </b>140.0 cm<br><b>VER : </b>15.0 cm",
          "<b>Support table</b><br><br><b>LAT : </b>-96.0 cm<br><b>LON : </b>127.0 cm<br><b>VER : </b>20.0 cm",
          "<b>Support table</b><br><br><b>LAT : </b>-15.0 cm<br><b>LON : </b>-143.0 cm<br><b>VER : </b>20.0 cm",
          "<b>Support table</b><br><br><b>LAT : </b>28.0 cm<br><b>LON : </b>-130.0 cm<br><b>VER : </b>20.0 cm",
          "<b>Support table</b><br><br><b>LAT : </b>-53.0 cm<br><b>LON : </b>140.0 cm<br><b>VER : </b>20.0 cm"
         ],
         "visible": false,
         "x": [
          126.90314584046183,
          -143.13197790649585,
          -130.16314584046182,
          139.87197790649586,
          126.90314584046183,
          -143.13197790649585,
          -130.16314584046182,
          139.87197790649586
         ],
         "y": [
          15.41,
          15.41,
          15.41,
          15.41,
          20.41,
          20.41,
          20.41,
          20.41
         ],
         "z": [
          -96.43102942501491,
          -15.159681811201736,
          27.931029425014913,
          -53.34031818879828,
          -96.43102942501491,
          -15.159681811201736,
          27.931029425014913,
          -53.34031818879828
         ],
         "type": "mesh3d"
        },
        {
         "color": "#D3D3D3",
         "hoverinfo": "text",
         "i": [
          0,
          2,
          4,
          6,
          0,
          1,
          2,
          3,
          0,
          3,
          1,
          2
         ],
         "j": [
          1,
          3,
          5,
          7,
          1,
          5,
          3,
          7,
          3,
          7,
          2,
          6
         ],
         "k": [
          2,
          0,
          6,
          4,
          4,
          4,
          6,
          6,
          4,
          4,
          5,
          5
         ],
         "opacity": 1.0,
         "text": [
          "<b>Support table</b><br><br><b>LAT : </b>-96.0 cm<br><b>LON : </b>127.0 cm<br><b>VER : </b>15.0 cm",
          "<b>Support table</b><br><br><b>LAT : </b>-15.0 cm<br><b>LON : </b>-143.0 cm<br><b>VER : </b>15.0 cm",
          "<b>Support table</b><br><br><b>LAT : </b>28.0 cm<br><b>LON : </b>-130.0 cm<br><b>VER : </b>15.0 cm",
          "<b>Support table</b><br><br><b>LAT : </b>-53.0 cm<br><b>LON : </b>140.0 cm<br><b>VER : </b>15.0 cm",
          "<b>Support table</b><br><br><b>LAT : </b>-96.0 cm<br><b>LON : </b>127.0 cm<br><b>VER : </b>20.0 cm",
          "<b>Support table</b><br><br><b>LAT : </b>-15.0 cm<br><b>LON : </b>-143.0 cm<br><b>VER : </b>20.0 cm",
          "<b>Support table</b><br><br><b>LAT : </b>28.0 cm<br><b>LON : </b>-130.0 cm<br><b>VER : </b>20.0 cm",
          "<b>Support table</b><br><br><b>LAT : </b>-53.0 cm<br><b>LON : </b>140.0 cm<br><b>VER : </b>20.0 cm"
         ],
         "visible": false,
         "x": [
          126.90314584046183,
          -143.13197790649585,
          -130.16314584046182,
          139.87197790649586,
          126.90314584046183,
          -143.13197790649585,
          -130.16314584046182,
          139.87197790649586
         ],
         "y": [
          15.41,
          15.41,
          15.41,
          15.41,
          20.41,
          20.41,
          20.41,
          20.41
         ],
         "z": [
          -96.43102942501491,
          -15.159681811201736,
          27.931029425014913,
          -53.34031818879828,
          -96.43102942501491,
          -15.159681811201736,
          27.931029425014913,
          -53.34031818879828
         ],
         "type": "mesh3d"
        },
        {
         "color": "#D3D3D3",
         "hoverinfo": "text",
         "i": [
          0,
          2,
          4,
          6,
          0,
          1,
          2,
          3,
          0,
          3,
          1,
          2
         ],
         "j": [
          1,
          3,
          5,
          7,
          1,
          5,
          3,
          7,
          3,
          7,
          2,
          6
         ],
         "k": [
          2,
          0,
          6,
          4,
          4,
          4,
          6,
          6,
          4,
          4,
          5,
          5
         ],
         "opacity": 1.0,
         "text": [
          "<b>Support table</b><br><br><b>LAT : </b>-96.0 cm<br><b>LON : </b>127.0 cm<br><b>VER : </b>15.0 cm",
          "<b>Support table</b><br><br><b>LAT : </b>-15.0 cm<br><b>LON : </b>-143.0 cm<br><b>VER : </b>15.0 cm",
          "<b>Support table</b><br><br><b>LAT : </b>28.0 cm<br><b>LON : </b>-130.0 cm<br><b>VER : </b>15.0 cm",
          "<b>Support table</b><br><br><b>LAT : </b>-53.0 cm<br><b>LON : </b>140.0 cm<br><b>VER : </b>15.0 cm",
          "<b>Support table</b><br><br><b>LAT : </b>-96.0 cm<br><b>LON : </b>127.0 cm<br><b>VER : </b>20.0 cm",
          "<b>Support table</b><br><br><b>LAT : </b>-15.0 cm<br><b>LON : </b>-143.0 cm<br><b>VER : </b>20.0 cm",
          "<b>Support table</b><br><br><b>LAT : </b>28.0 cm<br><b>LON : </b>-130.0 cm<br><b>VER : </b>20.0 cm",
          "<b>Support table</b><br><br><b>LAT : </b>-53.0 cm<br><b>LON : </b>140.0 cm<br><b>VER : </b>20.0 cm"
         ],
         "visible": false,
         "x": [
          126.90314584046183,
          -143.13197790649585,
          -130.16314584046182,
          139.87197790649586,
          126.90314584046183,
          -143.13197790649585,
          -130.16314584046182,
          139.87197790649586
         ],
         "y": [
          15.41,
          15.41,
          15.41,
          15.41,
          20.41,
          20.41,
          20.41,
          20.41
         ],
         "z": [
          -96.43102942501491,
          -15.159681811201736,
          27.931029425014913,
          -53.34031818879828,
          -96.43102942501491,
          -15.159681811201736,
          27.931029425014913,
          -53.34031818879828
         ],
         "type": "mesh3d"
        },
        {
         "color": "#D3D3D3",
         "hoverinfo": "text",
         "i": [
          0,
          2,
          4,
          6,
          0,
          1,
          2,
          3,
          0,
          3,
          1,
          2
         ],
         "j": [
          1,
          3,
          5,
          7,
          1,
          5,
          3,
          7,
          3,
          7,
          2,
          6
         ],
         "k": [
          2,
          0,
          6,
          4,
          4,
          4,
          6,
          6,
          4,
          4,
          5,
          5
         ],
         "opacity": 1.0,
         "text": [
          "<b>Support table</b><br><br><b>LAT : </b>-92.0 cm<br><b>LON : </b>130.0 cm<br><b>VER : </b>24.0 cm",
          "<b>Support table</b><br><br><b>LAT : </b>-28.0 cm<br><b>LON : </b>-144.0 cm<br><b>VER : </b>24.0 cm",
          "<b>Support table</b><br><br><b>LAT : </b>16.0 cm<br><b>LON : </b>-134.0 cm<br><b>VER : </b>24.0 cm",
          "<b>Support table</b><br><br><b>LAT : </b>-48.0 cm<br><b>LON : </b>141.0 cm<br><b>VER : </b>24.0 cm",
          "<b>Support table</b><br><br><b>LAT : </b>-92.0 cm<br><b>LON : </b>130.0 cm<br><b>VER : </b>29.0 cm",
          "<b>Support table</b><br><br><b>LAT : </b>-28.0 cm<br><b>LON : </b>-144.0 cm<br><b>VER : </b>29.0 cm",
          "<b>Support table</b><br><br><b>LAT : </b>16.0 cm<br><b>LON : </b>-134.0 cm<br><b>VER : </b>29.0 cm",
          "<b>Support table</b><br><br><b>LAT : </b>-48.0 cm<br><b>LON : </b>141.0 cm<br><b>VER : </b>29.0 cm"
         ],
         "visible": false,
         "x": [
          130.48617146952344,
          -144.07431399721017,
          -133.80617146952343,
          140.75431399721018,
          130.48617146952344,
          -144.07431399721017,
          -133.80617146952343,
          140.75431399721018
         ],
         "y": [
          24.259999999999998,
          24.259999999999998,
          24.259999999999998,
          24.259999999999998,
          29.259999999999998,
          29.259999999999998,
          29.259999999999998,
          29.259999999999998
         ],
         "z": [
          -91.88993496618973,
          -27.54290845935286,
          16.269934966189737,
          -48.07709154064712,
          -91.88993496618973,
          -27.54290845935286,
          16.269934966189737,
          -48.07709154064712
         ],
         "type": "mesh3d"
        },
        {
         "color": "#D3D3D3",
         "hoverinfo": "text",
         "i": [
          0,
          2,
          4,
          6,
          0,
          1,
          2,
          3,
          0,
          3,
          1,
          2
         ],
         "j": [
          1,
          3,
          5,
          7,
          1,
          5,
          3,
          7,
          3,
          7,
          2,
          6
         ],
         "k": [
          2,
          0,
          6,
          4,
          4,
          4,
          6,
          6,
          4,
          4,
          5,
          5
         ],
         "opacity": 1.0,
         "text": [
          "<b>Support table</b><br><br><b>LAT : </b>-92.0 cm<br><b>LON : </b>130.0 cm<br><b>VER : </b>24.0 cm",
          "<b>Support table</b><br><br><b>LAT : </b>-28.0 cm<br><b>LON : </b>-144.0 cm<br><b>VER : </b>24.0 cm",
          "<b>Support table</b><br><br><b>LAT : </b>16.0 cm<br><b>LON : </b>-134.0 cm<br><b>VER : </b>24.0 cm",
          "<b>Support table</b><br><br><b>LAT : </b>-48.0 cm<br><b>LON : </b>141.0 cm<br><b>VER : </b>24.0 cm",
          "<b>Support table</b><br><br><b>LAT : </b>-92.0 cm<br><b>LON : </b>130.0 cm<br><b>VER : </b>29.0 cm",
          "<b>Support table</b><br><br><b>LAT : </b>-28.0 cm<br><b>LON : </b>-144.0 cm<br><b>VER : </b>29.0 cm",
          "<b>Support table</b><br><br><b>LAT : </b>16.0 cm<br><b>LON : </b>-134.0 cm<br><b>VER : </b>29.0 cm",
          "<b>Support table</b><br><br><b>LAT : </b>-48.0 cm<br><b>LON : </b>141.0 cm<br><b>VER : </b>29.0 cm"
         ],
         "visible": false,
         "x": [
          130.48617146952344,
          -144.07431399721017,
          -133.80617146952343,
          140.75431399721018,
          130.48617146952344,
          -144.07431399721017,
          -133.80617146952343,
          140.75431399721018
         ],
         "y": [
          24.259999999999998,
          24.259999999999998,
          24.259999999999998,
          24.259999999999998,
          29.259999999999998,
          29.259999999999998,
          29.259999999999998,
          29.259999999999998
         ],
         "z": [
          -91.88993496618973,
          -27.54290845935286,
          16.269934966189737,
          -48.07709154064712,
          -91.88993496618973,
          -27.54290845935286,
          16.269934966189737,
          -48.07709154064712
         ],
         "type": "mesh3d"
        },
        {
         "color": "#D3D3D3",
         "hoverinfo": "text",
         "i": [
          0,
          2,
          4,
          6,
          0,
          1,
          2,
          3,
          0,
          3,
          1,
          2
         ],
         "j": [
          1,
          3,
          5,
          7,
          1,
          5,
          3,
          7,
          3,
          7,
          2,
          6
         ],
         "k": [
          2,
          0,
          6,
          4,
          4,
          4,
          6,
          6,
          4,
          4,
          5,
          5
         ],
         "opacity": 1.0,
         "text": [
          "<b>Support table</b><br><br><b>LAT : </b>-92.0 cm<br><b>LON : </b>130.0 cm<br><b>VER : </b>24.0 cm",
          "<b>Support table</b><br><br><b>LAT : </b>-28.0 cm<br><b>LON : </b>-144.0 cm<br><b>VER : </b>24.0 cm",
          "<b>Support table</b><br><br><b>LAT : </b>16.0 cm<br><b>LON : </b>-134.0 cm<br><b>VER : </b>24.0 cm",
          "<b>Support table</b><br><br><b>LAT : </b>-48.0 cm<br><b>LON : </b>141.0 cm<br><b>VER : </b>24.0 cm",
          "<b>Support table</b><br><br><b>LAT : </b>-92.0 cm<br><b>LON : </b>130.0 cm<br><b>VER : </b>29.0 cm",
          "<b>Support table</b><br><br><b>LAT : </b>-28.0 cm<br><b>LON : </b>-144.0 cm<br><b>VER : </b>29.0 cm",
          "<b>Support table</b><br><br><b>LAT : </b>16.0 cm<br><b>LON : </b>-134.0 cm<br><b>VER : </b>29.0 cm",
          "<b>Support table</b><br><br><b>LAT : </b>-48.0 cm<br><b>LON : </b>141.0 cm<br><b>VER : </b>29.0 cm"
         ],
         "visible": false,
         "x": [
          130.48617146952344,
          -144.07431399721017,
          -133.80617146952343,
          140.75431399721018,
          130.48617146952344,
          -144.07431399721017,
          -133.80617146952343,
          140.75431399721018
         ],
         "y": [
          24.259999999999998,
          24.259999999999998,
          24.259999999999998,
          24.259999999999998,
          29.259999999999998,
          29.259999999999998,
          29.259999999999998,
          29.259999999999998
         ],
         "z": [
          -91.88993496618973,
          -27.54290845935286,
          16.269934966189737,
          -48.07709154064712,
          -91.88993496618973,
          -27.54290845935286,
          16.269934966189737,
          -48.07709154064712
         ],
         "type": "mesh3d"
        },
        {
         "color": "#D3D3D3",
         "hoverinfo": "text",
         "i": [
          0,
          2,
          4,
          6,
          0,
          1,
          2,
          3,
          0,
          3,
          1,
          2
         ],
         "j": [
          1,
          3,
          5,
          7,
          1,
          5,
          3,
          7,
          3,
          7,
          2,
          6
         ],
         "k": [
          2,
          0,
          6,
          4,
          4,
          4,
          6,
          6,
          4,
          4,
          5,
          5
         ],
         "opacity": 1.0,
         "text": [
          "<b>Support table</b><br><br><b>LAT : </b>-92.0 cm<br><b>LON : </b>130.0 cm<br><b>VER : </b>24.0 cm",
          "<b>Support table</b><br><br><b>LAT : </b>-28.0 cm<br><b>LON : </b>-144.0 cm<br><b>VER : </b>24.0 cm",
          "<b>Support table</b><br><br><b>LAT : </b>16.0 cm<br><b>LON : </b>-134.0 cm<br><b>VER : </b>24.0 cm",
          "<b>Support table</b><br><br><b>LAT : </b>-48.0 cm<br><b>LON : </b>141.0 cm<br><b>VER : </b>24.0 cm",
          "<b>Support table</b><br><br><b>LAT : </b>-92.0 cm<br><b>LON : </b>130.0 cm<br><b>VER : </b>29.0 cm",
          "<b>Support table</b><br><br><b>LAT : </b>-28.0 cm<br><b>LON : </b>-144.0 cm<br><b>VER : </b>29.0 cm",
          "<b>Support table</b><br><br><b>LAT : </b>16.0 cm<br><b>LON : </b>-134.0 cm<br><b>VER : </b>29.0 cm",
          "<b>Support table</b><br><br><b>LAT : </b>-48.0 cm<br><b>LON : </b>141.0 cm<br><b>VER : </b>29.0 cm"
         ],
         "visible": false,
         "x": [
          130.48617146952344,
          -144.07431399721017,
          -133.80617146952343,
          140.75431399721018,
          130.48617146952344,
          -144.07431399721017,
          -133.80617146952343,
          140.75431399721018
         ],
         "y": [
          24.259999999999998,
          24.259999999999998,
          24.259999999999998,
          24.259999999999998,
          29.259999999999998,
          29.259999999999998,
          29.259999999999998,
          29.259999999999998
         ],
         "z": [
          -91.88993496618973,
          -27.54290845935286,
          16.269934966189737,
          -48.07709154064712,
          -91.88993496618973,
          -27.54290845935286,
          16.269934966189737,
          -48.07709154064712
         ],
         "type": "mesh3d"
        },
        {
         "color": "#D3D3D3",
         "hoverinfo": "text",
         "i": [
          0,
          2,
          4,
          6,
          0,
          1,
          2,
          3,
          0,
          3,
          1,
          2
         ],
         "j": [
          1,
          3,
          5,
          7,
          1,
          5,
          3,
          7,
          3,
          7,
          2,
          6
         ],
         "k": [
          2,
          0,
          6,
          4,
          4,
          4,
          6,
          6,
          4,
          4,
          5,
          5
         ],
         "opacity": 1.0,
         "text": [
          "<b>Support table</b><br><br><b>LAT : </b>-92.0 cm<br><b>LON : </b>130.0 cm<br><b>VER : </b>24.0 cm",
          "<b>Support table</b><br><br><b>LAT : </b>-28.0 cm<br><b>LON : </b>-144.0 cm<br><b>VER : </b>24.0 cm",
          "<b>Support table</b><br><br><b>LAT : </b>16.0 cm<br><b>LON : </b>-134.0 cm<br><b>VER : </b>24.0 cm",
          "<b>Support table</b><br><br><b>LAT : </b>-48.0 cm<br><b>LON : </b>141.0 cm<br><b>VER : </b>24.0 cm",
          "<b>Support table</b><br><br><b>LAT : </b>-92.0 cm<br><b>LON : </b>130.0 cm<br><b>VER : </b>29.0 cm",
          "<b>Support table</b><br><br><b>LAT : </b>-28.0 cm<br><b>LON : </b>-144.0 cm<br><b>VER : </b>29.0 cm",
          "<b>Support table</b><br><br><b>LAT : </b>16.0 cm<br><b>LON : </b>-134.0 cm<br><b>VER : </b>29.0 cm",
          "<b>Support table</b><br><br><b>LAT : </b>-48.0 cm<br><b>LON : </b>141.0 cm<br><b>VER : </b>29.0 cm"
         ],
         "visible": false,
         "x": [
          130.48617146952344,
          -144.07431399721017,
          -133.80617146952343,
          140.75431399721018,
          130.48617146952344,
          -144.07431399721017,
          -133.80617146952343,
          140.75431399721018
         ],
         "y": [
          24.259999999999998,
          24.259999999999998,
          24.259999999999998,
          24.259999999999998,
          29.259999999999998,
          29.259999999999998,
          29.259999999999998,
          29.259999999999998
         ],
         "z": [
          -91.88993496618973,
          -27.54290845935286,
          16.269934966189737,
          -48.07709154064712,
          -91.88993496618973,
          -27.54290845935286,
          16.269934966189737,
          -48.07709154064712
         ],
         "type": "mesh3d"
        },
        {
         "color": "#D3D3D3",
         "hoverinfo": "text",
         "i": [
          0,
          2,
          4,
          6,
          0,
          1,
          2,
          3,
          0,
          3,
          1,
          2
         ],
         "j": [
          1,
          3,
          5,
          7,
          1,
          5,
          3,
          7,
          3,
          7,
          2,
          6
         ],
         "k": [
          2,
          0,
          6,
          4,
          4,
          4,
          6,
          6,
          4,
          4,
          5,
          5
         ],
         "opacity": 1.0,
         "text": [
          "<b>Support table</b><br><br><b>LAT : </b>-92.0 cm<br><b>LON : </b>130.0 cm<br><b>VER : </b>24.0 cm",
          "<b>Support table</b><br><br><b>LAT : </b>-28.0 cm<br><b>LON : </b>-144.0 cm<br><b>VER : </b>24.0 cm",
          "<b>Support table</b><br><br><b>LAT : </b>16.0 cm<br><b>LON : </b>-134.0 cm<br><b>VER : </b>24.0 cm",
          "<b>Support table</b><br><br><b>LAT : </b>-48.0 cm<br><b>LON : </b>141.0 cm<br><b>VER : </b>24.0 cm",
          "<b>Support table</b><br><br><b>LAT : </b>-92.0 cm<br><b>LON : </b>130.0 cm<br><b>VER : </b>29.0 cm",
          "<b>Support table</b><br><br><b>LAT : </b>-28.0 cm<br><b>LON : </b>-144.0 cm<br><b>VER : </b>29.0 cm",
          "<b>Support table</b><br><br><b>LAT : </b>16.0 cm<br><b>LON : </b>-134.0 cm<br><b>VER : </b>29.0 cm",
          "<b>Support table</b><br><br><b>LAT : </b>-48.0 cm<br><b>LON : </b>141.0 cm<br><b>VER : </b>29.0 cm"
         ],
         "visible": false,
         "x": [
          130.48617146952344,
          -144.07431399721017,
          -133.80617146952343,
          140.75431399721018,
          130.48617146952344,
          -144.07431399721017,
          -133.80617146952343,
          140.75431399721018
         ],
         "y": [
          24.259999999999998,
          24.259999999999998,
          24.259999999999998,
          24.259999999999998,
          29.259999999999998,
          29.259999999999998,
          29.259999999999998,
          29.259999999999998
         ],
         "z": [
          -91.88993496618973,
          -27.54290845935286,
          16.269934966189737,
          -48.07709154064712,
          -91.88993496618973,
          -27.54290845935286,
          16.269934966189737,
          -48.07709154064712
         ],
         "type": "mesh3d"
        },
        {
         "color": "#D3D3D3",
         "hoverinfo": "text",
         "i": [
          0,
          2,
          4,
          6,
          0,
          1,
          2,
          3,
          0,
          3,
          1,
          2
         ],
         "j": [
          1,
          3,
          5,
          7,
          1,
          5,
          3,
          7,
          3,
          7,
          2,
          6
         ],
         "k": [
          2,
          0,
          6,
          4,
          4,
          4,
          6,
          6,
          4,
          4,
          5,
          5
         ],
         "opacity": 1.0,
         "text": [
          "<b>Support table</b><br><br><b>LAT : </b>-86.0 cm<br><b>LON : </b>134.0 cm<br><b>VER : </b>24.0 cm",
          "<b>Support table</b><br><br><b>LAT : </b>-43.0 cm<br><b>LON : </b>-144.0 cm<br><b>VER : </b>24.0 cm",
          "<b>Support table</b><br><br><b>LAT : </b>1.0 cm<br><b>LON : </b>-138.0 cm<br><b>VER : </b>24.0 cm",
          "<b>Support table</b><br><br><b>LAT : </b>-41.0 cm<br><b>LON : </b>141.0 cm<br><b>VER : </b>24.0 cm",
          "<b>Support table</b><br><br><b>LAT : </b>-86.0 cm<br><b>LON : </b>134.0 cm<br><b>VER : </b>29.0 cm",
          "<b>Support table</b><br><br><b>LAT : </b>-43.0 cm<br><b>LON : </b>-144.0 cm<br><b>VER : </b>29.0 cm",
          "<b>Support table</b><br><br><b>LAT : </b>1.0 cm<br><b>LON : </b>-138.0 cm<br><b>VER : </b>29.0 cm",
          "<b>Support table</b><br><br><b>LAT : </b>-41.0 cm<br><b>LON : </b>141.0 cm<br><b>VER : </b>29.0 cm"
         ],
         "visible": false,
         "x": [
          134.2966633080048,
          -144.45116372825,
          -137.63666330800478,
          141.11116372825003,
          134.2966633080048,
          -144.45116372825,
          -137.63666330800478,
          141.11116372825003
         ],
         "y": [
          24.259999999999998,
          24.259999999999998,
          24.259999999999998,
          24.259999999999998,
          29.259999999999998,
          29.259999999999998,
          29.259999999999998,
          29.259999999999998
         ],
         "z": [
          -85.88261943136311,
          -43.17841679782646,
          1.3026194313631265,
          -41.401583202173526,
          -85.88261943136311,
          -43.17841679782646,
          1.3026194313631265,
          -41.401583202173526
         ],
         "type": "mesh3d"
        },
        {
         "color": "#D3D3D3",
         "hoverinfo": "text",
         "i": [
          0,
          2,
          4,
          6,
          0,
          1,
          2,
          3,
          0,
          3,
          1,
          2
         ],
         "j": [
          1,
          3,
          5,
          7,
          1,
          5,
          3,
          7,
          3,
          7,
          2,
          6
         ],
         "k": [
          2,
          0,
          6,
          4,
          4,
          4,
          6,
          6,
          4,
          4,
          5,
          5
         ],
         "opacity": 1.0,
         "text": [
          "<b>Support table</b><br><br><b>LAT : </b>-87.0 cm<br><b>LON : </b>135.0 cm<br><b>VER : </b>24.0 cm",
          "<b>Support table</b><br><br><b>LAT : </b>-40.0 cm<br><b>LON : </b>-143.0 cm<br><b>VER : </b>24.0 cm",
          "<b>Support table</b><br><br><b>LAT : </b>5.0 cm<br><b>LON : </b>-136.0 cm<br><b>VER : </b>24.0 cm",
          "<b>Support table</b><br><br><b>LAT : </b>-43.0 cm<br><b>LON : </b>142.0 cm<br><b>VER : </b>24.0 cm",
          "<b>Support table</b><br><br><b>LAT : </b>-87.0 cm<br><b>LON : </b>135.0 cm<br><b>VER : </b>29.0 cm",
          "<b>Support table</b><br><br><b>LAT : </b>-40.0 cm<br><b>LON : </b>-143.0 cm<br><b>VER : </b>29.0 cm",
          "<b>Support table</b><br><br><b>LAT : </b>5.0 cm<br><b>LON : </b>-136.0 cm<br><b>VER : </b>29.0 cm",
          "<b>Support table</b><br><br><b>LAT : </b>-43.0 cm<br><b>LON : </b>142.0 cm<br><b>VER : </b>29.0 cm"
         ],
         "visible": false,
         "x": [
          134.88920431978073,
          -143.09574254471153,
          -135.52920431978072,
          142.45574254471154,
          134.88920431978073,
          -143.09574254471153,
          -135.52920431978072,
          142.45574254471154
         ],
         "y": [
          24.259999999999998,
          24.259999999999998,
          24.259999999999998,
          24.259999999999998,
          29.259999999999998,
          29.259999999999998,
          29.259999999999998,
          29.259999999999998
         ],
         "z": [
          -87.20813645390051,
          -39.79116357766743,
          4.568136453900493,
          -42.84883642233258,
          -87.20813645390051,
          -39.79116357766743,
          4.568136453900493,
          -42.84883642233258
         ],
         "type": "mesh3d"
        },
        {
         "color": "#D3D3D3",
         "hoverinfo": "text",
         "i": [
          0,
          2,
          4,
          6,
          0,
          1,
          2,
          3,
          0,
          3,
          1,
          2
         ],
         "j": [
          1,
          3,
          5,
          7,
          1,
          5,
          3,
          7,
          3,
          7,
          2,
          6
         ],
         "k": [
          2,
          0,
          6,
          4,
          4,
          4,
          6,
          6,
          4,
          4,
          5,
          5
         ],
         "opacity": 1.0,
         "text": [
          "<b>Support table</b><br><br><b>LAT : </b>-87.0 cm<br><b>LON : </b>135.0 cm<br><b>VER : </b>24.0 cm",
          "<b>Support table</b><br><br><b>LAT : </b>-40.0 cm<br><b>LON : </b>-143.0 cm<br><b>VER : </b>24.0 cm",
          "<b>Support table</b><br><br><b>LAT : </b>5.0 cm<br><b>LON : </b>-136.0 cm<br><b>VER : </b>24.0 cm",
          "<b>Support table</b><br><br><b>LAT : </b>-43.0 cm<br><b>LON : </b>142.0 cm<br><b>VER : </b>24.0 cm",
          "<b>Support table</b><br><br><b>LAT : </b>-87.0 cm<br><b>LON : </b>135.0 cm<br><b>VER : </b>29.0 cm",
          "<b>Support table</b><br><br><b>LAT : </b>-40.0 cm<br><b>LON : </b>-143.0 cm<br><b>VER : </b>29.0 cm",
          "<b>Support table</b><br><br><b>LAT : </b>5.0 cm<br><b>LON : </b>-136.0 cm<br><b>VER : </b>29.0 cm",
          "<b>Support table</b><br><br><b>LAT : </b>-43.0 cm<br><b>LON : </b>142.0 cm<br><b>VER : </b>29.0 cm"
         ],
         "visible": false,
         "x": [
          134.88920431978073,
          -143.09574254471153,
          -135.52920431978072,
          142.45574254471154,
          134.88920431978073,
          -143.09574254471153,
          -135.52920431978072,
          142.45574254471154
         ],
         "y": [
          24.259999999999998,
          24.259999999999998,
          24.259999999999998,
          24.259999999999998,
          29.259999999999998,
          29.259999999999998,
          29.259999999999998,
          29.259999999999998
         ],
         "z": [
          -87.20813645390051,
          -39.79116357766743,
          4.568136453900493,
          -42.84883642233258,
          -87.20813645390051,
          -39.79116357766743,
          4.568136453900493,
          -42.84883642233258
         ],
         "type": "mesh3d"
        },
        {
         "color": "#D3D3D3",
         "hoverinfo": "text",
         "i": [
          0,
          2,
          4,
          6,
          0,
          1,
          2,
          3,
          0,
          3,
          1,
          2
         ],
         "j": [
          1,
          3,
          5,
          7,
          1,
          5,
          3,
          7,
          3,
          7,
          2,
          6
         ],
         "k": [
          2,
          0,
          6,
          4,
          4,
          4,
          6,
          6,
          4,
          4,
          5,
          5
         ],
         "opacity": 1.0,
         "text": [
          "<b>Support table</b><br><br><b>LAT : </b>-97.0 cm<br><b>LON : </b>128.0 cm<br><b>VER : </b>24.0 cm",
          "<b>Support table</b><br><br><b>LAT : </b>-15.0 cm<br><b>LON : </b>-142.0 cm<br><b>VER : </b>24.0 cm",
          "<b>Support table</b><br><br><b>LAT : </b>28.0 cm<br><b>LON : </b>-129.0 cm<br><b>VER : </b>24.0 cm",
          "<b>Support table</b><br><br><b>LAT : </b>-54.0 cm<br><b>LON : </b>141.0 cm<br><b>VER : </b>24.0 cm",
          "<b>Support table</b><br><br><b>LAT : </b>-97.0 cm<br><b>LON : </b>128.0 cm<br><b>VER : </b>29.0 cm",
          "<b>Support table</b><br><br><b>LAT : </b>-15.0 cm<br><b>LON : </b>-142.0 cm<br><b>VER : </b>29.0 cm",
          "<b>Support table</b><br><br><b>LAT : </b>28.0 cm<br><b>LON : </b>-129.0 cm<br><b>VER : </b>29.0 cm",
          "<b>Support table</b><br><br><b>LAT : </b>-54.0 cm<br><b>LON : </b>141.0 cm<br><b>VER : </b>29.0 cm"
         ],
         "visible": false,
         "x": [
          127.99900271117987,
          -141.8081160201353,
          -128.71900271117988,
          141.08811602013526,
          127.99900271117987,
          -141.8081160201353,
          -128.71900271117988,
          141.08811602013526
         ],
         "y": [
          24.259999999999998,
          24.259999999999998,
          24.259999999999998,
          24.259999999999998,
          29.259999999999998,
          29.259999999999998,
          29.259999999999998,
          29.259999999999998
         ],
         "z": [
          -96.62971876328928,
          -14.604608693835488,
          28.44971876328927,
          -53.57539130616453,
          -96.62971876328928,
          -14.604608693835488,
          28.44971876328927,
          -53.57539130616453
         ],
         "type": "mesh3d"
        },
        {
         "color": "#D3D3D3",
         "hoverinfo": "text",
         "i": [
          0,
          2,
          4,
          6,
          0,
          1,
          2,
          3,
          0,
          3,
          1,
          2
         ],
         "j": [
          1,
          3,
          5,
          7,
          1,
          5,
          3,
          7,
          3,
          7,
          2,
          6
         ],
         "k": [
          2,
          0,
          6,
          4,
          4,
          4,
          6,
          6,
          4,
          4,
          5,
          5
         ],
         "opacity": 1.0,
         "text": [
          "<b>Support table</b><br><br><b>LAT : </b>-97.0 cm<br><b>LON : </b>128.0 cm<br><b>VER : </b>24.0 cm",
          "<b>Support table</b><br><br><b>LAT : </b>-15.0 cm<br><b>LON : </b>-142.0 cm<br><b>VER : </b>24.0 cm",
          "<b>Support table</b><br><br><b>LAT : </b>28.0 cm<br><b>LON : </b>-129.0 cm<br><b>VER : </b>24.0 cm",
          "<b>Support table</b><br><br><b>LAT : </b>-54.0 cm<br><b>LON : </b>141.0 cm<br><b>VER : </b>24.0 cm",
          "<b>Support table</b><br><br><b>LAT : </b>-97.0 cm<br><b>LON : </b>128.0 cm<br><b>VER : </b>29.0 cm",
          "<b>Support table</b><br><br><b>LAT : </b>-15.0 cm<br><b>LON : </b>-142.0 cm<br><b>VER : </b>29.0 cm",
          "<b>Support table</b><br><br><b>LAT : </b>28.0 cm<br><b>LON : </b>-129.0 cm<br><b>VER : </b>29.0 cm",
          "<b>Support table</b><br><br><b>LAT : </b>-54.0 cm<br><b>LON : </b>141.0 cm<br><b>VER : </b>29.0 cm"
         ],
         "visible": false,
         "x": [
          127.99900271117987,
          -141.8081160201353,
          -128.71900271117988,
          141.08811602013526,
          127.99900271117987,
          -141.8081160201353,
          -128.71900271117988,
          141.08811602013526
         ],
         "y": [
          24.259999999999998,
          24.259999999999998,
          24.259999999999998,
          24.259999999999998,
          29.259999999999998,
          29.259999999999998,
          29.259999999999998,
          29.259999999999998
         ],
         "z": [
          -96.62971876328928,
          -14.604608693835488,
          28.44971876328927,
          -53.57539130616453,
          -96.62971876328928,
          -14.604608693835488,
          28.44971876328927,
          -53.57539130616453
         ],
         "type": "mesh3d"
        },
        {
         "color": "#D3D3D3",
         "hoverinfo": "text",
         "i": [
          0,
          2,
          4,
          6,
          0,
          1,
          2,
          3,
          0,
          3,
          1,
          2
         ],
         "j": [
          1,
          3,
          5,
          7,
          1,
          5,
          3,
          7,
          3,
          7,
          2,
          6
         ],
         "k": [
          2,
          0,
          6,
          4,
          4,
          4,
          6,
          6,
          4,
          4,
          5,
          5
         ],
         "opacity": 1.0,
         "text": [
          "<b>Support table</b><br><br><b>LAT : </b>-97.0 cm<br><b>LON : </b>128.0 cm<br><b>VER : </b>24.0 cm",
          "<b>Support table</b><br><br><b>LAT : </b>-15.0 cm<br><b>LON : </b>-142.0 cm<br><b>VER : </b>24.0 cm",
          "<b>Support table</b><br><br><b>LAT : </b>28.0 cm<br><b>LON : </b>-129.0 cm<br><b>VER : </b>24.0 cm",
          "<b>Support table</b><br><br><b>LAT : </b>-54.0 cm<br><b>LON : </b>141.0 cm<br><b>VER : </b>24.0 cm",
          "<b>Support table</b><br><br><b>LAT : </b>-97.0 cm<br><b>LON : </b>128.0 cm<br><b>VER : </b>29.0 cm",
          "<b>Support table</b><br><br><b>LAT : </b>-15.0 cm<br><b>LON : </b>-142.0 cm<br><b>VER : </b>29.0 cm",
          "<b>Support table</b><br><br><b>LAT : </b>28.0 cm<br><b>LON : </b>-129.0 cm<br><b>VER : </b>29.0 cm",
          "<b>Support table</b><br><br><b>LAT : </b>-54.0 cm<br><b>LON : </b>141.0 cm<br><b>VER : </b>29.0 cm"
         ],
         "visible": false,
         "x": [
          127.99900271117987,
          -141.8081160201353,
          -128.71900271117988,
          141.08811602013526,
          127.99900271117987,
          -141.8081160201353,
          -128.71900271117988,
          141.08811602013526
         ],
         "y": [
          24.259999999999998,
          24.259999999999998,
          24.259999999999998,
          24.259999999999998,
          29.259999999999998,
          29.259999999999998,
          29.259999999999998,
          29.259999999999998
         ],
         "z": [
          -96.62971876328928,
          -14.604608693835488,
          28.44971876328927,
          -53.57539130616453,
          -96.62971876328928,
          -14.604608693835488,
          28.44971876328927,
          -53.57539130616453
         ],
         "type": "mesh3d"
        },
        {
         "color": "#D3D3D3",
         "hoverinfo": "text",
         "i": [
          0,
          2,
          4,
          6,
          0,
          1,
          2,
          3,
          0,
          3,
          1,
          2
         ],
         "j": [
          1,
          3,
          5,
          7,
          1,
          5,
          3,
          7,
          3,
          7,
          2,
          6
         ],
         "k": [
          2,
          0,
          6,
          4,
          4,
          4,
          6,
          6,
          4,
          4,
          5,
          5
         ],
         "opacity": 1.0,
         "text": [
          "<b>Support table</b><br><br><b>LAT : </b>-97.0 cm<br><b>LON : </b>128.0 cm<br><b>VER : </b>24.0 cm",
          "<b>Support table</b><br><br><b>LAT : </b>-15.0 cm<br><b>LON : </b>-142.0 cm<br><b>VER : </b>24.0 cm",
          "<b>Support table</b><br><br><b>LAT : </b>28.0 cm<br><b>LON : </b>-129.0 cm<br><b>VER : </b>24.0 cm",
          "<b>Support table</b><br><br><b>LAT : </b>-54.0 cm<br><b>LON : </b>141.0 cm<br><b>VER : </b>24.0 cm",
          "<b>Support table</b><br><br><b>LAT : </b>-97.0 cm<br><b>LON : </b>128.0 cm<br><b>VER : </b>29.0 cm",
          "<b>Support table</b><br><br><b>LAT : </b>-15.0 cm<br><b>LON : </b>-142.0 cm<br><b>VER : </b>29.0 cm",
          "<b>Support table</b><br><br><b>LAT : </b>28.0 cm<br><b>LON : </b>-129.0 cm<br><b>VER : </b>29.0 cm",
          "<b>Support table</b><br><br><b>LAT : </b>-54.0 cm<br><b>LON : </b>141.0 cm<br><b>VER : </b>29.0 cm"
         ],
         "visible": false,
         "x": [
          127.99900271117987,
          -141.8081160201353,
          -128.71900271117988,
          141.08811602013526,
          127.99900271117987,
          -141.8081160201353,
          -128.71900271117988,
          141.08811602013526
         ],
         "y": [
          24.259999999999998,
          24.259999999999998,
          24.259999999999998,
          24.259999999999998,
          29.259999999999998,
          29.259999999999998,
          29.259999999999998,
          29.259999999999998
         ],
         "z": [
          -96.62971876328928,
          -14.604608693835488,
          28.44971876328927,
          -53.57539130616453,
          -96.62971876328928,
          -14.604608693835488,
          28.44971876328927,
          -53.57539130616453
         ],
         "type": "mesh3d"
        },
        {
         "color": "#D3D3D3",
         "hoverinfo": "text",
         "i": [
          0,
          2,
          4,
          6,
          0,
          1,
          2,
          3,
          0,
          3,
          1,
          2
         ],
         "j": [
          1,
          3,
          5,
          7,
          1,
          5,
          3,
          7,
          3,
          7,
          2,
          6
         ],
         "k": [
          2,
          0,
          6,
          4,
          4,
          4,
          6,
          6,
          4,
          4,
          5,
          5
         ],
         "opacity": 1.0,
         "text": [
          "<b>Support table</b><br><br><b>LAT : </b>-93.0 cm<br><b>LON : </b>122.0 cm<br><b>VER : </b>16.0 cm",
          "<b>Support table</b><br><br><b>LAT : </b>-25.0 cm<br><b>LON : </b>-151.0 cm<br><b>VER : </b>16.0 cm",
          "<b>Support table</b><br><br><b>LAT : </b>19.0 cm<br><b>LON : </b>-141.0 cm<br><b>VER : </b>16.0 cm",
          "<b>Support table</b><br><br><b>LAT : </b>-49.0 cm<br><b>LON : </b>133.0 cm<br><b>VER : </b>16.0 cm",
          "<b>Support table</b><br><br><b>LAT : </b>-93.0 cm<br><b>LON : </b>122.0 cm<br><b>VER : </b>21.0 cm",
          "<b>Support table</b><br><br><b>LAT : </b>-25.0 cm<br><b>LON : </b>-151.0 cm<br><b>VER : </b>21.0 cm",
          "<b>Support table</b><br><br><b>LAT : </b>19.0 cm<br><b>LON : </b>-141.0 cm<br><b>VER : </b>21.0 cm",
          "<b>Support table</b><br><br><b>LAT : </b>-49.0 cm<br><b>LON : </b>133.0 cm<br><b>VER : </b>21.0 cm"
         ],
         "visible": false,
         "x": [
          122.2972238903211,
          -151.38560162780786,
          -140.53722389032112,
          133.14560162780785,
          122.2972238903211,
          -151.38560162780786,
          -140.53722389032112,
          133.14560162780785
         ],
         "y": [
          16.48,
          16.48,
          16.48,
          16.48,
          21.48,
          21.48,
          21.48,
          21.48
         ],
         "z": [
          -92.87797923050066,
          -24.894812075583744,
          18.777979230500677,
          -49.20518792441625,
          -92.87797923050066,
          -24.894812075583744,
          18.777979230500677,
          -49.20518792441625
         ],
         "type": "mesh3d"
        },
        {
         "color": "#D3D3D3",
         "hoverinfo": "text",
         "i": [
          0,
          2,
          4,
          6,
          0,
          1,
          2,
          3,
          0,
          3,
          1,
          2
         ],
         "j": [
          1,
          3,
          5,
          7,
          1,
          5,
          3,
          7,
          3,
          7,
          2,
          6
         ],
         "k": [
          2,
          0,
          6,
          4,
          4,
          4,
          6,
          6,
          4,
          4,
          5,
          5
         ],
         "opacity": 1.0,
         "text": [
          "<b>Support table</b><br><br><b>LAT : </b>-93.0 cm<br><b>LON : </b>122.0 cm<br><b>VER : </b>14.0 cm",
          "<b>Support table</b><br><br><b>LAT : </b>-25.0 cm<br><b>LON : </b>-151.0 cm<br><b>VER : </b>14.0 cm",
          "<b>Support table</b><br><br><b>LAT : </b>19.0 cm<br><b>LON : </b>-141.0 cm<br><b>VER : </b>14.0 cm",
          "<b>Support table</b><br><br><b>LAT : </b>-49.0 cm<br><b>LON : </b>133.0 cm<br><b>VER : </b>14.0 cm",
          "<b>Support table</b><br><br><b>LAT : </b>-93.0 cm<br><b>LON : </b>122.0 cm<br><b>VER : </b>19.0 cm",
          "<b>Support table</b><br><br><b>LAT : </b>-25.0 cm<br><b>LON : </b>-151.0 cm<br><b>VER : </b>19.0 cm",
          "<b>Support table</b><br><br><b>LAT : </b>19.0 cm<br><b>LON : </b>-141.0 cm<br><b>VER : </b>19.0 cm",
          "<b>Support table</b><br><br><b>LAT : </b>-49.0 cm<br><b>LON : </b>133.0 cm<br><b>VER : </b>19.0 cm"
         ],
         "visible": false,
         "x": [
          122.32670352457647,
          -151.3798359214153,
          -140.54670352457646,
          133.15983592141527,
          122.32670352457647,
          -151.3798359214153,
          -140.54670352457646,
          133.15983592141527
         ],
         "y": [
          14.38,
          14.38,
          14.38,
          14.38,
          19.380000000000003,
          19.380000000000003,
          19.380000000000003,
          19.380000000000003
         ],
         "z": [
          -92.85210256518293,
          -24.96447287832639,
          18.712102565182917,
          -49.175527121673625,
          -92.85210256518293,
          -24.96447287832639,
          18.712102565182917,
          -49.175527121673625
         ],
         "type": "mesh3d"
        },
        {
         "color": "#D3D3D3",
         "hoverinfo": "text",
         "i": [
          0,
          2,
          4,
          6,
          0,
          1,
          2,
          3,
          0,
          3,
          1,
          2
         ],
         "j": [
          1,
          3,
          5,
          7,
          1,
          5,
          3,
          7,
          3,
          7,
          2,
          6
         ],
         "k": [
          2,
          0,
          6,
          4,
          4,
          4,
          6,
          6,
          4,
          4,
          5,
          5
         ],
         "opacity": 1.0,
         "text": [
          "<b>Support table</b><br><br><b>LAT : </b>-93.0 cm<br><b>LON : </b>122.0 cm<br><b>VER : </b>15.0 cm",
          "<b>Support table</b><br><br><b>LAT : </b>-25.0 cm<br><b>LON : </b>-151.0 cm<br><b>VER : </b>15.0 cm",
          "<b>Support table</b><br><br><b>LAT : </b>19.0 cm<br><b>LON : </b>-141.0 cm<br><b>VER : </b>15.0 cm",
          "<b>Support table</b><br><br><b>LAT : </b>-49.0 cm<br><b>LON : </b>133.0 cm<br><b>VER : </b>15.0 cm",
          "<b>Support table</b><br><br><b>LAT : </b>-93.0 cm<br><b>LON : </b>122.0 cm<br><b>VER : </b>20.0 cm",
          "<b>Support table</b><br><br><b>LAT : </b>-25.0 cm<br><b>LON : </b>-151.0 cm<br><b>VER : </b>20.0 cm",
          "<b>Support table</b><br><br><b>LAT : </b>19.0 cm<br><b>LON : </b>-141.0 cm<br><b>VER : </b>20.0 cm",
          "<b>Support table</b><br><br><b>LAT : </b>-49.0 cm<br><b>LON : </b>133.0 cm<br><b>VER : </b>20.0 cm"
         ],
         "visible": false,
         "x": [
          122.32670352457647,
          -151.3798359214153,
          -140.54670352457646,
          133.15983592141527,
          122.32670352457647,
          -151.3798359214153,
          -140.54670352457646,
          133.15983592141527
         ],
         "y": [
          14.59,
          14.59,
          14.59,
          14.59,
          19.59,
          19.59,
          19.59,
          19.59
         ],
         "z": [
          -92.85210256518293,
          -24.96447287832639,
          18.712102565182917,
          -49.175527121673625,
          -92.85210256518293,
          -24.96447287832639,
          18.712102565182917,
          -49.175527121673625
         ],
         "type": "mesh3d"
        },
        {
         "color": "#D3D3D3",
         "hoverinfo": "text",
         "i": [
          0,
          2,
          4,
          6,
          0,
          1,
          2,
          3,
          0,
          3,
          1,
          2
         ],
         "j": [
          1,
          3,
          5,
          7,
          1,
          5,
          3,
          7,
          3,
          7,
          2,
          6
         ],
         "k": [
          2,
          0,
          6,
          4,
          4,
          4,
          6,
          6,
          4,
          4,
          5,
          5
         ],
         "opacity": 1.0,
         "text": [
          "<b>Support table</b><br><br><b>LAT : </b>-93.0 cm<br><b>LON : </b>122.0 cm<br><b>VER : </b>15.0 cm",
          "<b>Support table</b><br><br><b>LAT : </b>-25.0 cm<br><b>LON : </b>-151.0 cm<br><b>VER : </b>15.0 cm",
          "<b>Support table</b><br><br><b>LAT : </b>19.0 cm<br><b>LON : </b>-141.0 cm<br><b>VER : </b>15.0 cm",
          "<b>Support table</b><br><br><b>LAT : </b>-49.0 cm<br><b>LON : </b>133.0 cm<br><b>VER : </b>15.0 cm",
          "<b>Support table</b><br><br><b>LAT : </b>-93.0 cm<br><b>LON : </b>122.0 cm<br><b>VER : </b>20.0 cm",
          "<b>Support table</b><br><br><b>LAT : </b>-25.0 cm<br><b>LON : </b>-151.0 cm<br><b>VER : </b>20.0 cm",
          "<b>Support table</b><br><br><b>LAT : </b>19.0 cm<br><b>LON : </b>-141.0 cm<br><b>VER : </b>20.0 cm",
          "<b>Support table</b><br><br><b>LAT : </b>-49.0 cm<br><b>LON : </b>133.0 cm<br><b>VER : </b>20.0 cm"
         ],
         "visible": false,
         "x": [
          122.32670352457647,
          -151.3798359214153,
          -140.54670352457646,
          133.15983592141527,
          122.32670352457647,
          -151.3798359214153,
          -140.54670352457646,
          133.15983592141527
         ],
         "y": [
          14.59,
          14.59,
          14.59,
          14.59,
          19.59,
          19.59,
          19.59,
          19.59
         ],
         "z": [
          -92.85210256518293,
          -24.96447287832639,
          18.712102565182917,
          -49.175527121673625,
          -92.85210256518293,
          -24.96447287832639,
          18.712102565182917,
          -49.175527121673625
         ],
         "type": "mesh3d"
        },
        {
         "color": "#D3D3D3",
         "hoverinfo": "text",
         "i": [
          0,
          2,
          4,
          6,
          0,
          1,
          2,
          3,
          0,
          3,
          1,
          2
         ],
         "j": [
          1,
          3,
          5,
          7,
          1,
          5,
          3,
          7,
          3,
          7,
          2,
          6
         ],
         "k": [
          2,
          0,
          6,
          4,
          4,
          4,
          6,
          6,
          4,
          4,
          5,
          5
         ],
         "opacity": 1.0,
         "text": [
          "<b>Support table</b><br><br><b>LAT : </b>-93.0 cm<br><b>LON : </b>122.0 cm<br><b>VER : </b>15.0 cm",
          "<b>Support table</b><br><br><b>LAT : </b>-25.0 cm<br><b>LON : </b>-151.0 cm<br><b>VER : </b>15.0 cm",
          "<b>Support table</b><br><br><b>LAT : </b>19.0 cm<br><b>LON : </b>-141.0 cm<br><b>VER : </b>15.0 cm",
          "<b>Support table</b><br><br><b>LAT : </b>-49.0 cm<br><b>LON : </b>133.0 cm<br><b>VER : </b>15.0 cm",
          "<b>Support table</b><br><br><b>LAT : </b>-93.0 cm<br><b>LON : </b>122.0 cm<br><b>VER : </b>20.0 cm",
          "<b>Support table</b><br><br><b>LAT : </b>-25.0 cm<br><b>LON : </b>-151.0 cm<br><b>VER : </b>20.0 cm",
          "<b>Support table</b><br><br><b>LAT : </b>19.0 cm<br><b>LON : </b>-141.0 cm<br><b>VER : </b>20.0 cm",
          "<b>Support table</b><br><br><b>LAT : </b>-49.0 cm<br><b>LON : </b>133.0 cm<br><b>VER : </b>20.0 cm"
         ],
         "visible": false,
         "x": [
          122.32670352457647,
          -151.3798359214153,
          -140.54670352457646,
          133.15983592141527,
          122.32670352457647,
          -151.3798359214153,
          -140.54670352457646,
          133.15983592141527
         ],
         "y": [
          14.59,
          14.59,
          14.59,
          14.59,
          19.59,
          19.59,
          19.59,
          19.59
         ],
         "z": [
          -92.85210256518293,
          -24.96447287832639,
          18.712102565182917,
          -49.175527121673625,
          -92.85210256518293,
          -24.96447287832639,
          18.712102565182917,
          -49.175527121673625
         ],
         "type": "mesh3d"
        },
        {
         "color": "#D3D3D3",
         "hoverinfo": "text",
         "i": [
          0,
          0,
          4,
          4,
          0,
          1,
          0,
          3,
          3,
          7,
          1,
          1
         ],
         "j": [
          1,
          2,
          5,
          6,
          1,
          5,
          3,
          7,
          2,
          2,
          2,
          6
         ],
         "k": [
          2,
          3,
          6,
          7,
          4,
          4,
          4,
          4,
          7,
          6,
          6,
          5
         ],
         "opacity": 1.0,
         "text": [
          "<b>X-ray detector</b><br><br><b>LAT : </b>20.0 cm<br><b>LON : </b>20.0 cm<br><b>VER : </b>-28.0 cm",
          "<b>X-ray detector</b><br><br><b>LAT : </b>-20.0 cm<br><b>LON : </b>20.0 cm<br><b>VER : </b>-29.0 cm",
          "<b>X-ray detector</b><br><br><b>LAT : </b>-20.0 cm<br><b>LON : </b>-20.0 cm<br><b>VER : </b>-29.0 cm",
          "<b>X-ray detector</b><br><br><b>LAT : </b>20.0 cm<br><b>LON : </b>-20.0 cm<br><b>VER : </b>-29.0 cm",
          "<b>X-ray detector</b><br><br><b>LAT : </b>20.0 cm<br><b>LON : </b>20.0 cm<br><b>VER : </b>-34.0 cm",
          "<b>X-ray detector</b><br><br><b>LAT : </b>-20.0 cm<br><b>LON : </b>20.0 cm<br><b>VER : </b>-34.0 cm",
          "<b>X-ray detector</b><br><br><b>LAT : </b>-20.0 cm<br><b>LON : </b>-20.0 cm<br><b>VER : </b>-34.0 cm",
          "<b>X-ray detector</b><br><br><b>LAT : </b>20.0 cm<br><b>LON : </b>-20.0 cm<br><b>VER : </b>-34.0 cm"
         ],
         "visible": true,
         "x": [
          20.099343876659045,
          20.100074953641375,
          -19.899681352670243,
          -19.900412429652572,
          20.119310129057926,
          20.120041206040256,
          -19.879715100271362,
          -19.880446177253692
         ],
         "y": [
          -28.42490205273046,
          -28.6343393300159,
          -28.77396538662485,
          -28.56452810933941,
          -34.14478879666599,
          -34.35422607395144,
          -34.49385213056039,
          -34.28441485327494
         ],
         "z": [
          20.149474410527134,
          -19.849977279369934,
          -19.849977279369934,
          20.149474410527134,
          20.179424123642853,
          -19.820027566254215,
          -19.820027566254215,
          20.179424123642853
         ],
         "type": "mesh3d"
        },
        {
         "color": "#D3D3D3",
         "hoverinfo": "text",
         "i": [
          0,
          0,
          4,
          4,
          0,
          1,
          0,
          3,
          3,
          7,
          1,
          1
         ],
         "j": [
          1,
          2,
          5,
          6,
          1,
          5,
          3,
          7,
          2,
          2,
          2,
          6
         ],
         "k": [
          2,
          3,
          6,
          7,
          4,
          4,
          4,
          4,
          7,
          6,
          6,
          5
         ],
         "opacity": 1.0,
         "text": [
          "<b>X-ray detector</b><br><br><b>LAT : </b>20.0 cm<br><b>LON : </b>20.0 cm<br><b>VER : </b>-28.0 cm",
          "<b>X-ray detector</b><br><br><b>LAT : </b>-20.0 cm<br><b>LON : </b>20.0 cm<br><b>VER : </b>-29.0 cm",
          "<b>X-ray detector</b><br><br><b>LAT : </b>-20.0 cm<br><b>LON : </b>-20.0 cm<br><b>VER : </b>-29.0 cm",
          "<b>X-ray detector</b><br><br><b>LAT : </b>20.0 cm<br><b>LON : </b>-20.0 cm<br><b>VER : </b>-29.0 cm",
          "<b>X-ray detector</b><br><br><b>LAT : </b>20.0 cm<br><b>LON : </b>20.0 cm<br><b>VER : </b>-34.0 cm",
          "<b>X-ray detector</b><br><br><b>LAT : </b>-20.0 cm<br><b>LON : </b>20.0 cm<br><b>VER : </b>-34.0 cm",
          "<b>X-ray detector</b><br><br><b>LAT : </b>-20.0 cm<br><b>LON : </b>-20.0 cm<br><b>VER : </b>-34.0 cm",
          "<b>X-ray detector</b><br><br><b>LAT : </b>20.0 cm<br><b>LON : </b>-20.0 cm<br><b>VER : </b>-34.0 cm"
         ],
         "visible": false,
         "x": [
          20.099343876659045,
          20.100074953641375,
          -19.899681352670243,
          -19.900412429652572,
          20.119310129057926,
          20.120041206040256,
          -19.879715100271362,
          -19.880446177253692
         ],
         "y": [
          -28.42490205273046,
          -28.6343393300159,
          -28.77396538662485,
          -28.56452810933941,
          -34.14478879666599,
          -34.35422607395144,
          -34.49385213056039,
          -34.28441485327494
         ],
         "z": [
          20.149474410527134,
          -19.849977279369934,
          -19.849977279369934,
          20.149474410527134,
          20.179424123642853,
          -19.820027566254215,
          -19.820027566254215,
          20.179424123642853
         ],
         "type": "mesh3d"
        },
        {
         "color": "#D3D3D3",
         "hoverinfo": "text",
         "i": [
          0,
          0,
          4,
          4,
          0,
          1,
          0,
          3,
          3,
          7,
          1,
          1
         ],
         "j": [
          1,
          2,
          5,
          6,
          1,
          5,
          3,
          7,
          2,
          2,
          2,
          6
         ],
         "k": [
          2,
          3,
          6,
          7,
          4,
          4,
          4,
          4,
          7,
          6,
          6,
          5
         ],
         "opacity": 1.0,
         "text": [
          "<b>X-ray detector</b><br><br><b>LAT : </b>20.0 cm<br><b>LON : </b>20.0 cm<br><b>VER : </b>-28.0 cm",
          "<b>X-ray detector</b><br><br><b>LAT : </b>-20.0 cm<br><b>LON : </b>20.0 cm<br><b>VER : </b>-29.0 cm",
          "<b>X-ray detector</b><br><br><b>LAT : </b>-20.0 cm<br><b>LON : </b>-20.0 cm<br><b>VER : </b>-29.0 cm",
          "<b>X-ray detector</b><br><br><b>LAT : </b>20.0 cm<br><b>LON : </b>-20.0 cm<br><b>VER : </b>-29.0 cm",
          "<b>X-ray detector</b><br><br><b>LAT : </b>20.0 cm<br><b>LON : </b>20.0 cm<br><b>VER : </b>-34.0 cm",
          "<b>X-ray detector</b><br><br><b>LAT : </b>-20.0 cm<br><b>LON : </b>20.0 cm<br><b>VER : </b>-34.0 cm",
          "<b>X-ray detector</b><br><br><b>LAT : </b>-20.0 cm<br><b>LON : </b>-20.0 cm<br><b>VER : </b>-34.0 cm",
          "<b>X-ray detector</b><br><br><b>LAT : </b>20.0 cm<br><b>LON : </b>-20.0 cm<br><b>VER : </b>-34.0 cm"
         ],
         "visible": false,
         "x": [
          20.099343876659045,
          20.100074953641375,
          -19.899681352670243,
          -19.900412429652572,
          20.119310129057926,
          20.120041206040256,
          -19.879715100271362,
          -19.880446177253692
         ],
         "y": [
          -28.42490205273046,
          -28.6343393300159,
          -28.77396538662485,
          -28.56452810933941,
          -34.14478879666599,
          -34.35422607395144,
          -34.49385213056039,
          -34.28441485327494
         ],
         "z": [
          20.149474410527134,
          -19.849977279369934,
          -19.849977279369934,
          20.149474410527134,
          20.179424123642853,
          -19.820027566254215,
          -19.820027566254215,
          20.179424123642853
         ],
         "type": "mesh3d"
        },
        {
         "color": "#D3D3D3",
         "hoverinfo": "text",
         "i": [
          0,
          0,
          4,
          4,
          0,
          1,
          0,
          3,
          3,
          7,
          1,
          1
         ],
         "j": [
          1,
          2,
          5,
          6,
          1,
          5,
          3,
          7,
          2,
          2,
          2,
          6
         ],
         "k": [
          2,
          3,
          6,
          7,
          4,
          4,
          4,
          4,
          7,
          6,
          6,
          5
         ],
         "opacity": 1.0,
         "text": [
          "<b>X-ray detector</b><br><br><b>LAT : </b>20.0 cm<br><b>LON : </b>20.0 cm<br><b>VER : </b>-28.0 cm",
          "<b>X-ray detector</b><br><br><b>LAT : </b>-20.0 cm<br><b>LON : </b>20.0 cm<br><b>VER : </b>-29.0 cm",
          "<b>X-ray detector</b><br><br><b>LAT : </b>-20.0 cm<br><b>LON : </b>-20.0 cm<br><b>VER : </b>-29.0 cm",
          "<b>X-ray detector</b><br><br><b>LAT : </b>20.0 cm<br><b>LON : </b>-20.0 cm<br><b>VER : </b>-29.0 cm",
          "<b>X-ray detector</b><br><br><b>LAT : </b>20.0 cm<br><b>LON : </b>20.0 cm<br><b>VER : </b>-34.0 cm",
          "<b>X-ray detector</b><br><br><b>LAT : </b>-20.0 cm<br><b>LON : </b>20.0 cm<br><b>VER : </b>-34.0 cm",
          "<b>X-ray detector</b><br><br><b>LAT : </b>-20.0 cm<br><b>LON : </b>-20.0 cm<br><b>VER : </b>-34.0 cm",
          "<b>X-ray detector</b><br><br><b>LAT : </b>20.0 cm<br><b>LON : </b>-20.0 cm<br><b>VER : </b>-34.0 cm"
         ],
         "visible": false,
         "x": [
          20.099343876659045,
          20.100074953641375,
          -19.899681352670243,
          -19.900412429652572,
          20.119310129057926,
          20.120041206040256,
          -19.879715100271362,
          -19.880446177253692
         ],
         "y": [
          -28.42490205273046,
          -28.6343393300159,
          -28.77396538662485,
          -28.56452810933941,
          -34.14478879666599,
          -34.35422607395144,
          -34.49385213056039,
          -34.28441485327494
         ],
         "z": [
          20.149474410527134,
          -19.849977279369934,
          -19.849977279369934,
          20.149474410527134,
          20.179424123642853,
          -19.820027566254215,
          -19.820027566254215,
          20.179424123642853
         ],
         "type": "mesh3d"
        },
        {
         "color": "#D3D3D3",
         "hoverinfo": "text",
         "i": [
          0,
          0,
          4,
          4,
          0,
          1,
          0,
          3,
          3,
          7,
          1,
          1
         ],
         "j": [
          1,
          2,
          5,
          6,
          1,
          5,
          3,
          7,
          2,
          2,
          2,
          6
         ],
         "k": [
          2,
          3,
          6,
          7,
          4,
          4,
          4,
          4,
          7,
          6,
          6,
          5
         ],
         "opacity": 1.0,
         "text": [
          "<b>X-ray detector</b><br><br><b>LAT : </b>20.0 cm<br><b>LON : </b>20.0 cm<br><b>VER : </b>-28.0 cm",
          "<b>X-ray detector</b><br><br><b>LAT : </b>-20.0 cm<br><b>LON : </b>20.0 cm<br><b>VER : </b>-29.0 cm",
          "<b>X-ray detector</b><br><br><b>LAT : </b>-20.0 cm<br><b>LON : </b>-20.0 cm<br><b>VER : </b>-29.0 cm",
          "<b>X-ray detector</b><br><br><b>LAT : </b>20.0 cm<br><b>LON : </b>-20.0 cm<br><b>VER : </b>-29.0 cm",
          "<b>X-ray detector</b><br><br><b>LAT : </b>20.0 cm<br><b>LON : </b>20.0 cm<br><b>VER : </b>-34.0 cm",
          "<b>X-ray detector</b><br><br><b>LAT : </b>-20.0 cm<br><b>LON : </b>20.0 cm<br><b>VER : </b>-34.0 cm",
          "<b>X-ray detector</b><br><br><b>LAT : </b>-20.0 cm<br><b>LON : </b>-20.0 cm<br><b>VER : </b>-34.0 cm",
          "<b>X-ray detector</b><br><br><b>LAT : </b>20.0 cm<br><b>LON : </b>-20.0 cm<br><b>VER : </b>-34.0 cm"
         ],
         "visible": false,
         "x": [
          20.099343876659045,
          20.100074953641375,
          -19.899681352670243,
          -19.900412429652572,
          20.119310129057926,
          20.120041206040256,
          -19.879715100271362,
          -19.880446177253692
         ],
         "y": [
          -28.42490205273046,
          -28.6343393300159,
          -28.77396538662485,
          -28.56452810933941,
          -34.14478879666599,
          -34.35422607395144,
          -34.49385213056039,
          -34.28441485327494
         ],
         "z": [
          20.149474410527134,
          -19.849977279369934,
          -19.849977279369934,
          20.149474410527134,
          20.179424123642853,
          -19.820027566254215,
          -19.820027566254215,
          20.179424123642853
         ],
         "type": "mesh3d"
        },
        {
         "color": "#D3D3D3",
         "hoverinfo": "text",
         "i": [
          0,
          0,
          4,
          4,
          0,
          1,
          0,
          3,
          3,
          7,
          1,
          1
         ],
         "j": [
          1,
          2,
          5,
          6,
          1,
          5,
          3,
          7,
          2,
          2,
          2,
          6
         ],
         "k": [
          2,
          3,
          6,
          7,
          4,
          4,
          4,
          4,
          7,
          6,
          6,
          5
         ],
         "opacity": 1.0,
         "text": [
          "<b>X-ray detector</b><br><br><b>LAT : </b>20.0 cm<br><b>LON : </b>20.0 cm<br><b>VER : </b>-28.0 cm",
          "<b>X-ray detector</b><br><br><b>LAT : </b>-20.0 cm<br><b>LON : </b>20.0 cm<br><b>VER : </b>-29.0 cm",
          "<b>X-ray detector</b><br><br><b>LAT : </b>-20.0 cm<br><b>LON : </b>-20.0 cm<br><b>VER : </b>-29.0 cm",
          "<b>X-ray detector</b><br><br><b>LAT : </b>20.0 cm<br><b>LON : </b>-20.0 cm<br><b>VER : </b>-29.0 cm",
          "<b>X-ray detector</b><br><br><b>LAT : </b>20.0 cm<br><b>LON : </b>20.0 cm<br><b>VER : </b>-34.0 cm",
          "<b>X-ray detector</b><br><br><b>LAT : </b>-20.0 cm<br><b>LON : </b>20.0 cm<br><b>VER : </b>-34.0 cm",
          "<b>X-ray detector</b><br><br><b>LAT : </b>-20.0 cm<br><b>LON : </b>-20.0 cm<br><b>VER : </b>-34.0 cm",
          "<b>X-ray detector</b><br><br><b>LAT : </b>20.0 cm<br><b>LON : </b>-20.0 cm<br><b>VER : </b>-34.0 cm"
         ],
         "visible": false,
         "x": [
          20.099343876659045,
          20.100074953641375,
          -19.899681352670243,
          -19.900412429652572,
          20.119310129057926,
          20.120041206040256,
          -19.879715100271362,
          -19.880446177253692
         ],
         "y": [
          -28.42490205273046,
          -28.6343393300159,
          -28.77396538662485,
          -28.56452810933941,
          -34.14478879666599,
          -34.35422607395144,
          -34.49385213056039,
          -34.28441485327494
         ],
         "z": [
          20.149474410527134,
          -19.849977279369934,
          -19.849977279369934,
          20.149474410527134,
          20.179424123642853,
          -19.820027566254215,
          -19.820027566254215,
          20.179424123642853
         ],
         "type": "mesh3d"
        },
        {
         "color": "#D3D3D3",
         "hoverinfo": "text",
         "i": [
          0,
          0,
          4,
          4,
          0,
          1,
          0,
          3,
          3,
          7,
          1,
          1
         ],
         "j": [
          1,
          2,
          5,
          6,
          1,
          5,
          3,
          7,
          2,
          2,
          2,
          6
         ],
         "k": [
          2,
          3,
          6,
          7,
          4,
          4,
          4,
          4,
          7,
          6,
          6,
          5
         ],
         "opacity": 1.0,
         "text": [
          "<b>X-ray detector</b><br><br><b>LAT : </b>20.0 cm<br><b>LON : </b>20.0 cm<br><b>VER : </b>-28.0 cm",
          "<b>X-ray detector</b><br><br><b>LAT : </b>-20.0 cm<br><b>LON : </b>20.0 cm<br><b>VER : </b>-29.0 cm",
          "<b>X-ray detector</b><br><br><b>LAT : </b>-20.0 cm<br><b>LON : </b>-20.0 cm<br><b>VER : </b>-29.0 cm",
          "<b>X-ray detector</b><br><br><b>LAT : </b>20.0 cm<br><b>LON : </b>-20.0 cm<br><b>VER : </b>-29.0 cm",
          "<b>X-ray detector</b><br><br><b>LAT : </b>20.0 cm<br><b>LON : </b>20.0 cm<br><b>VER : </b>-34.0 cm",
          "<b>X-ray detector</b><br><br><b>LAT : </b>-20.0 cm<br><b>LON : </b>20.0 cm<br><b>VER : </b>-34.0 cm",
          "<b>X-ray detector</b><br><br><b>LAT : </b>-20.0 cm<br><b>LON : </b>-20.0 cm<br><b>VER : </b>-34.0 cm",
          "<b>X-ray detector</b><br><br><b>LAT : </b>20.0 cm<br><b>LON : </b>-20.0 cm<br><b>VER : </b>-34.0 cm"
         ],
         "visible": false,
         "x": [
          20.099343876659045,
          20.100074953641375,
          -19.899681352670243,
          -19.900412429652572,
          20.119310129057926,
          20.120041206040256,
          -19.879715100271362,
          -19.880446177253692
         ],
         "y": [
          -28.42490205273046,
          -28.6343393300159,
          -28.77396538662485,
          -28.56452810933941,
          -34.14478879666599,
          -34.35422607395144,
          -34.49385213056039,
          -34.28441485327494
         ],
         "z": [
          20.149474410527134,
          -19.849977279369934,
          -19.849977279369934,
          20.149474410527134,
          20.179424123642853,
          -19.820027566254215,
          -19.820027566254215,
          20.179424123642853
         ],
         "type": "mesh3d"
        },
        {
         "color": "#D3D3D3",
         "hoverinfo": "text",
         "i": [
          0,
          0,
          4,
          4,
          0,
          1,
          0,
          3,
          3,
          7,
          1,
          1
         ],
         "j": [
          1,
          2,
          5,
          6,
          1,
          5,
          3,
          7,
          2,
          2,
          2,
          6
         ],
         "k": [
          2,
          3,
          6,
          7,
          4,
          4,
          4,
          4,
          7,
          6,
          6,
          5
         ],
         "opacity": 1.0,
         "text": [
          "<b>X-ray detector</b><br><br><b>LAT : </b>20.0 cm<br><b>LON : </b>20.0 cm<br><b>VER : </b>-28.0 cm",
          "<b>X-ray detector</b><br><br><b>LAT : </b>-20.0 cm<br><b>LON : </b>20.0 cm<br><b>VER : </b>-29.0 cm",
          "<b>X-ray detector</b><br><br><b>LAT : </b>-20.0 cm<br><b>LON : </b>-20.0 cm<br><b>VER : </b>-29.0 cm",
          "<b>X-ray detector</b><br><br><b>LAT : </b>20.0 cm<br><b>LON : </b>-20.0 cm<br><b>VER : </b>-29.0 cm",
          "<b>X-ray detector</b><br><br><b>LAT : </b>20.0 cm<br><b>LON : </b>20.0 cm<br><b>VER : </b>-34.0 cm",
          "<b>X-ray detector</b><br><br><b>LAT : </b>-20.0 cm<br><b>LON : </b>20.0 cm<br><b>VER : </b>-34.0 cm",
          "<b>X-ray detector</b><br><br><b>LAT : </b>-20.0 cm<br><b>LON : </b>-20.0 cm<br><b>VER : </b>-34.0 cm",
          "<b>X-ray detector</b><br><br><b>LAT : </b>20.0 cm<br><b>LON : </b>-20.0 cm<br><b>VER : </b>-34.0 cm"
         ],
         "visible": false,
         "x": [
          20.099343876659045,
          20.100074953641375,
          -19.899681352670243,
          -19.900412429652572,
          20.119310129057926,
          20.120041206040256,
          -19.879715100271362,
          -19.880446177253692
         ],
         "y": [
          -28.42490205273046,
          -28.6343393300159,
          -28.77396538662485,
          -28.56452810933941,
          -34.14478879666599,
          -34.35422607395144,
          -34.49385213056039,
          -34.28441485327494
         ],
         "z": [
          20.149474410527134,
          -19.849977279369934,
          -19.849977279369934,
          20.149474410527134,
          20.179424123642853,
          -19.820027566254215,
          -19.820027566254215,
          20.179424123642853
         ],
         "type": "mesh3d"
        },
        {
         "color": "#D3D3D3",
         "hoverinfo": "text",
         "i": [
          0,
          0,
          4,
          4,
          0,
          1,
          0,
          3,
          3,
          7,
          1,
          1
         ],
         "j": [
          1,
          2,
          5,
          6,
          1,
          5,
          3,
          7,
          2,
          2,
          2,
          6
         ],
         "k": [
          2,
          3,
          6,
          7,
          4,
          4,
          4,
          4,
          7,
          6,
          6,
          5
         ],
         "opacity": 1.0,
         "text": [
          "<b>X-ray detector</b><br><br><b>LAT : </b>20.0 cm<br><b>LON : </b>20.0 cm<br><b>VER : </b>-28.0 cm",
          "<b>X-ray detector</b><br><br><b>LAT : </b>-20.0 cm<br><b>LON : </b>20.0 cm<br><b>VER : </b>-29.0 cm",
          "<b>X-ray detector</b><br><br><b>LAT : </b>-20.0 cm<br><b>LON : </b>-20.0 cm<br><b>VER : </b>-29.0 cm",
          "<b>X-ray detector</b><br><br><b>LAT : </b>20.0 cm<br><b>LON : </b>-20.0 cm<br><b>VER : </b>-29.0 cm",
          "<b>X-ray detector</b><br><br><b>LAT : </b>20.0 cm<br><b>LON : </b>20.0 cm<br><b>VER : </b>-34.0 cm",
          "<b>X-ray detector</b><br><br><b>LAT : </b>-20.0 cm<br><b>LON : </b>20.0 cm<br><b>VER : </b>-34.0 cm",
          "<b>X-ray detector</b><br><br><b>LAT : </b>-20.0 cm<br><b>LON : </b>-20.0 cm<br><b>VER : </b>-34.0 cm",
          "<b>X-ray detector</b><br><br><b>LAT : </b>20.0 cm<br><b>LON : </b>-20.0 cm<br><b>VER : </b>-34.0 cm"
         ],
         "visible": false,
         "x": [
          20.099343876659045,
          20.100074953641375,
          -19.899681352670243,
          -19.900412429652572,
          20.119310129057926,
          20.120041206040256,
          -19.879715100271362,
          -19.880446177253692
         ],
         "y": [
          -28.42490205273046,
          -28.6343393300159,
          -28.77396538662485,
          -28.56452810933941,
          -34.14478879666599,
          -34.35422607395144,
          -34.49385213056039,
          -34.28441485327494
         ],
         "z": [
          20.149474410527134,
          -19.849977279369934,
          -19.849977279369934,
          20.149474410527134,
          20.179424123642853,
          -19.820027566254215,
          -19.820027566254215,
          20.179424123642853
         ],
         "type": "mesh3d"
        },
        {
         "color": "#D3D3D3",
         "hoverinfo": "text",
         "i": [
          0,
          0,
          4,
          4,
          0,
          1,
          0,
          3,
          3,
          7,
          1,
          1
         ],
         "j": [
          1,
          2,
          5,
          6,
          1,
          5,
          3,
          7,
          2,
          2,
          2,
          6
         ],
         "k": [
          2,
          3,
          6,
          7,
          4,
          4,
          4,
          4,
          7,
          6,
          6,
          5
         ],
         "opacity": 1.0,
         "text": [
          "<b>X-ray detector</b><br><br><b>LAT : </b>20.0 cm<br><b>LON : </b>20.0 cm<br><b>VER : </b>-28.0 cm",
          "<b>X-ray detector</b><br><br><b>LAT : </b>-20.0 cm<br><b>LON : </b>20.0 cm<br><b>VER : </b>-29.0 cm",
          "<b>X-ray detector</b><br><br><b>LAT : </b>-20.0 cm<br><b>LON : </b>-20.0 cm<br><b>VER : </b>-29.0 cm",
          "<b>X-ray detector</b><br><br><b>LAT : </b>20.0 cm<br><b>LON : </b>-20.0 cm<br><b>VER : </b>-29.0 cm",
          "<b>X-ray detector</b><br><br><b>LAT : </b>20.0 cm<br><b>LON : </b>20.0 cm<br><b>VER : </b>-34.0 cm",
          "<b>X-ray detector</b><br><br><b>LAT : </b>-20.0 cm<br><b>LON : </b>20.0 cm<br><b>VER : </b>-34.0 cm",
          "<b>X-ray detector</b><br><br><b>LAT : </b>-20.0 cm<br><b>LON : </b>-20.0 cm<br><b>VER : </b>-34.0 cm",
          "<b>X-ray detector</b><br><br><b>LAT : </b>20.0 cm<br><b>LON : </b>-20.0 cm<br><b>VER : </b>-34.0 cm"
         ],
         "visible": false,
         "x": [
          20.099343876659045,
          20.100074953641375,
          -19.899681352670243,
          -19.900412429652572,
          20.119310129057926,
          20.120041206040256,
          -19.879715100271362,
          -19.880446177253692
         ],
         "y": [
          -28.42490205273046,
          -28.6343393300159,
          -28.77396538662485,
          -28.56452810933941,
          -34.14478879666599,
          -34.35422607395144,
          -34.49385213056039,
          -34.28441485327494
         ],
         "z": [
          20.149474410527134,
          -19.849977279369934,
          -19.849977279369934,
          20.149474410527134,
          20.179424123642853,
          -19.820027566254215,
          -19.820027566254215,
          20.179424123642853
         ],
         "type": "mesh3d"
        },
        {
         "color": "#D3D3D3",
         "hoverinfo": "text",
         "i": [
          0,
          0,
          4,
          4,
          0,
          1,
          0,
          3,
          3,
          7,
          1,
          1
         ],
         "j": [
          1,
          2,
          5,
          6,
          1,
          5,
          3,
          7,
          2,
          2,
          2,
          6
         ],
         "k": [
          2,
          3,
          6,
          7,
          4,
          4,
          4,
          4,
          7,
          6,
          6,
          5
         ],
         "opacity": 1.0,
         "text": [
          "<b>X-ray detector</b><br><br><b>LAT : </b>20.0 cm<br><b>LON : </b>20.0 cm<br><b>VER : </b>-28.0 cm",
          "<b>X-ray detector</b><br><br><b>LAT : </b>-20.0 cm<br><b>LON : </b>20.0 cm<br><b>VER : </b>-29.0 cm",
          "<b>X-ray detector</b><br><br><b>LAT : </b>-20.0 cm<br><b>LON : </b>-20.0 cm<br><b>VER : </b>-29.0 cm",
          "<b>X-ray detector</b><br><br><b>LAT : </b>20.0 cm<br><b>LON : </b>-20.0 cm<br><b>VER : </b>-29.0 cm",
          "<b>X-ray detector</b><br><br><b>LAT : </b>20.0 cm<br><b>LON : </b>20.0 cm<br><b>VER : </b>-34.0 cm",
          "<b>X-ray detector</b><br><br><b>LAT : </b>-20.0 cm<br><b>LON : </b>20.0 cm<br><b>VER : </b>-34.0 cm",
          "<b>X-ray detector</b><br><br><b>LAT : </b>-20.0 cm<br><b>LON : </b>-20.0 cm<br><b>VER : </b>-34.0 cm",
          "<b>X-ray detector</b><br><br><b>LAT : </b>20.0 cm<br><b>LON : </b>-20.0 cm<br><b>VER : </b>-34.0 cm"
         ],
         "visible": false,
         "x": [
          20.099343876659045,
          20.100074953641375,
          -19.899681352670243,
          -19.900412429652572,
          20.119310129057926,
          20.120041206040256,
          -19.879715100271362,
          -19.880446177253692
         ],
         "y": [
          -28.42490205273046,
          -28.6343393300159,
          -28.77396538662485,
          -28.56452810933941,
          -34.14478879666599,
          -34.35422607395144,
          -34.49385213056039,
          -34.28441485327494
         ],
         "z": [
          20.149474410527134,
          -19.849977279369934,
          -19.849977279369934,
          20.149474410527134,
          20.179424123642853,
          -19.820027566254215,
          -19.820027566254215,
          20.179424123642853
         ],
         "type": "mesh3d"
        },
        {
         "color": "#D3D3D3",
         "hoverinfo": "text",
         "i": [
          0,
          0,
          4,
          4,
          0,
          1,
          0,
          3,
          3,
          7,
          1,
          1
         ],
         "j": [
          1,
          2,
          5,
          6,
          1,
          5,
          3,
          7,
          2,
          2,
          2,
          6
         ],
         "k": [
          2,
          3,
          6,
          7,
          4,
          4,
          4,
          4,
          7,
          6,
          6,
          5
         ],
         "opacity": 1.0,
         "text": [
          "<b>X-ray detector</b><br><br><b>LAT : </b>20.0 cm<br><b>LON : </b>29.0 cm<br><b>VER : </b>-19.0 cm",
          "<b>X-ray detector</b><br><br><b>LAT : </b>-20.0 cm<br><b>LON : </b>29.0 cm<br><b>VER : </b>-19.0 cm",
          "<b>X-ray detector</b><br><br><b>LAT : </b>-20.0 cm<br><b>LON : </b>-8.0 cm<br><b>VER : </b>-34.0 cm",
          "<b>X-ray detector</b><br><br><b>LAT : </b>20.0 cm<br><b>LON : </b>-8.0 cm<br><b>VER : </b>-34.0 cm",
          "<b>X-ray detector</b><br><br><b>LAT : </b>20.0 cm<br><b>LON : </b>31.0 cm<br><b>VER : </b>-25.0 cm",
          "<b>X-ray detector</b><br><br><b>LAT : </b>-20.0 cm<br><b>LON : </b>31.0 cm<br><b>VER : </b>-25.0 cm",
          "<b>X-ray detector</b><br><br><b>LAT : </b>-20.0 cm<br><b>LON : </b>-6.0 cm<br><b>VER : </b>-39.0 cm",
          "<b>X-ray detector</b><br><br><b>LAT : </b>20.0 cm<br><b>LON : </b>-6.0 cm<br><b>VER : </b>-39.0 cm"
         ],
         "visible": false,
         "x": [
          28.98462792751016,
          29.06070673968917,
          -8.206942363732791,
          -8.283021175911797,
          31.0623964838879,
          31.138475296066908,
          -6.129173807355051,
          -6.20525261953406
         ],
         "y": [
          -19.283413206258626,
          -19.47854526904618,
          -34.00859448796531,
          -33.81346242517776,
          -24.612613975681022,
          -24.80774603846858,
          -39.33779525738771,
          -39.14266319460015
         ],
         "z": [
          20.149474410527134,
          -19.849977279369934,
          -19.849977279369934,
          20.149474410527134,
          20.179424123642853,
          -19.820027566254215,
          -19.820027566254215,
          20.179424123642853
         ],
         "type": "mesh3d"
        },
        {
         "color": "#D3D3D3",
         "hoverinfo": "text",
         "i": [
          0,
          0,
          4,
          4,
          0,
          1,
          0,
          3,
          3,
          7,
          1,
          1
         ],
         "j": [
          1,
          2,
          5,
          6,
          1,
          5,
          3,
          7,
          2,
          2,
          2,
          6
         ],
         "k": [
          2,
          3,
          6,
          7,
          4,
          4,
          4,
          4,
          7,
          6,
          6,
          5
         ],
         "opacity": 1.0,
         "text": [
          "<b>X-ray detector</b><br><br><b>LAT : </b>20.0 cm<br><b>LON : </b>-4.0 cm<br><b>VER : </b>-35.0 cm",
          "<b>X-ray detector</b><br><br><b>LAT : </b>-20.0 cm<br><b>LON : </b>-5.0 cm<br><b>VER : </b>-35.0 cm",
          "<b>X-ray detector</b><br><br><b>LAT : </b>-20.0 cm<br><b>LON : </b>-34.0 cm<br><b>VER : </b>-8.0 cm",
          "<b>X-ray detector</b><br><br><b>LAT : </b>20.0 cm<br><b>LON : </b>-34.0 cm<br><b>VER : </b>-8.0 cm",
          "<b>X-ray detector</b><br><br><b>LAT : </b>20.0 cm<br><b>LON : </b>-8.0 cm<br><b>VER : </b>-39.0 cm",
          "<b>X-ray detector</b><br><br><b>LAT : </b>-20.0 cm<br><b>LON : </b>-8.0 cm<br><b>VER : </b>-39.0 cm",
          "<b>X-ray detector</b><br><br><b>LAT : </b>-20.0 cm<br><b>LON : </b>-38.0 cm<br><b>VER : </b>-12.0 cm",
          "<b>X-ray detector</b><br><br><b>LAT : </b>20.0 cm<br><b>LON : </b>-38.0 cm<br><b>VER : </b>-12.0 cm"
         ],
         "visible": false,
         "x": [
          -4.408433678787642,
          -4.502403762097487,
          -34.08764756124188,
          -33.99367747793203,
          -8.258041802790592,
          -8.352011886100438,
          -37.93725568524483,
          -37.84328560193499
         ],
         "y": [
          -34.56193482596294,
          -34.66520659910016,
          -7.744706058709232,
          -7.641434285572012,
          -38.79259891443016,
          -38.895870687567374,
          -11.975370147176449,
          -11.872098374039227
         ],
         "z": [
          20.099710783631206,
          -19.900045522680408,
          -19.900045522680408,
          20.099710783631206,
          20.119677309726285,
          -19.88007899658533,
          -19.88007899658533,
          20.119677309726285
         ],
         "type": "mesh3d"
        },
        {
         "color": "#D3D3D3",
         "hoverinfo": "text",
         "i": [
          0,
          0,
          4,
          4,
          0,
          1,
          0,
          3,
          3,
          7,
          1,
          1
         ],
         "j": [
          1,
          2,
          5,
          6,
          1,
          5,
          3,
          7,
          2,
          2,
          2,
          6
         ],
         "k": [
          2,
          3,
          6,
          7,
          4,
          4,
          4,
          4,
          7,
          6,
          6,
          5
         ],
         "opacity": 1.0,
         "text": [
          "<b>X-ray detector</b><br><br><b>LAT : </b>28.0 cm<br><b>LON : </b>20.0 cm<br><b>VER : </b>-20.0 cm",
          "<b>X-ray detector</b><br><br><b>LAT : </b>-9.0 cm<br><b>LON : </b>20.0 cm<br><b>VER : </b>-34.0 cm",
          "<b>X-ray detector</b><br><br><b>LAT : </b>-9.0 cm<br><b>LON : </b>-20.0 cm<br><b>VER : </b>-34.0 cm",
          "<b>X-ray detector</b><br><br><b>LAT : </b>28.0 cm<br><b>LON : </b>-20.0 cm<br><b>VER : </b>-20.0 cm",
          "<b>X-ray detector</b><br><br><b>LAT : </b>30.0 cm<br><b>LON : </b>20.0 cm<br><b>VER : </b>-26.0 cm",
          "<b>X-ray detector</b><br><br><b>LAT : </b>-7.0 cm<br><b>LON : </b>20.0 cm<br><b>VER : </b>-39.0 cm",
          "<b>X-ray detector</b><br><br><b>LAT : </b>-7.0 cm<br><b>LON : </b>-20.0 cm<br><b>VER : </b>-39.0 cm",
          "<b>X-ray detector</b><br><br><b>LAT : </b>30.0 cm<br><b>LON : </b>-20.0 cm<br><b>VER : </b>-26.0 cm"
         ],
         "visible": false,
         "x": [
          20.035197512014058,
          20.058731188675484,
          -19.94120788785602,
          -19.964741564517446,
          20.044596474429863,
          20.06813015109129,
          -19.931808925440215,
          -19.95534260210164
         ],
         "y": [
          -20.149215103630333,
          -33.633004903541256,
          -33.70281803817719,
          -20.219028238266265,
          -25.534418417811086,
          -39.01820821772201,
          -39.08802135235795,
          -25.60423155244702
         ],
         "z": [
          28.470335287140905,
          -9.188486505340613,
          -9.188486505340613,
          28.470335287140905,
          30.39852016532093,
          -7.260301627160585,
          -7.260301627160585,
          30.39852016532093
         ],
         "type": "mesh3d"
        },
        {
         "color": "#D3D3D3",
         "hoverinfo": "text",
         "i": [
          0,
          0,
          4,
          4,
          0,
          1,
          0,
          3,
          3,
          7,
          1,
          1
         ],
         "j": [
          1,
          2,
          5,
          6,
          1,
          5,
          3,
          7,
          2,
          2,
          2,
          6
         ],
         "k": [
          2,
          3,
          6,
          7,
          4,
          4,
          4,
          4,
          7,
          6,
          6,
          5
         ],
         "opacity": 1.0,
         "text": [
          "<b>X-ray detector</b><br><br><b>LAT : </b>12.0 cm<br><b>LON : </b>20.0 cm<br><b>VER : </b>-33.0 cm",
          "<b>X-ray detector</b><br><br><b>LAT : </b>-27.0 cm<br><b>LON : </b>20.0 cm<br><b>VER : </b>-23.0 cm",
          "<b>X-ray detector</b><br><br><b>LAT : </b>-27.0 cm<br><b>LON : </b>-20.0 cm<br><b>VER : </b>-23.0 cm",
          "<b>X-ray detector</b><br><br><b>LAT : </b>12.0 cm<br><b>LON : </b>-20.0 cm<br><b>VER : </b>-33.0 cm",
          "<b>X-ray detector</b><br><br><b>LAT : </b>11.0 cm<br><b>LON : </b>20.0 cm<br><b>VER : </b>-38.0 cm",
          "<b>X-ray detector</b><br><br><b>LAT : </b>-28.0 cm<br><b>LON : </b>20.0 cm<br><b>VER : </b>-28.0 cm",
          "<b>X-ray detector</b><br><br><b>LAT : </b>-28.0 cm<br><b>LON : </b>-20.0 cm<br><b>VER : </b>-28.0 cm",
          "<b>X-ray detector</b><br><br><b>LAT : </b>11.0 cm<br><b>LON : </b>-20.0 cm<br><b>VER : </b>-38.0 cm"
         ],
         "visible": false,
         "x": [
          20.05710987264615,
          20.039394235095912,
          -19.960544841435592,
          -19.942829203885353,
          20.066766375767205,
          20.04905073821697,
          -19.950888338314535,
          -19.9331727007643
         ],
         "y": [
          -32.70406018940703,
          -22.553757865828945,
          -22.623571000464878,
          -32.77387332404296,
          -38.23682330839422,
          -28.086520984816136,
          -28.15633411945207,
          -38.30663644303015
         ],
         "z": [
          12.087877840392098,
          -26.602832270642978,
          -26.602832270642978,
          12.087877840392098,
          10.63638239736701,
          -28.054327713668066,
          -28.054327713668066,
          10.63638239736701
         ],
         "type": "mesh3d"
        },
        {
         "color": "#D3D3D3",
         "hoverinfo": "text",
         "i": [
          0,
          0,
          4,
          4,
          0,
          1,
          0,
          3,
          3,
          7,
          1,
          1
         ],
         "j": [
          1,
          2,
          5,
          6,
          1,
          5,
          3,
          7,
          2,
          2,
          2,
          6
         ],
         "k": [
          2,
          3,
          6,
          7,
          4,
          4,
          4,
          4,
          7,
          6,
          6,
          5
         ],
         "opacity": 1.0,
         "text": [
          "<b>X-ray detector</b><br><br><b>LAT : </b>20.0 cm<br><b>LON : </b>20.0 cm<br><b>VER : </b>-28.0 cm",
          "<b>X-ray detector</b><br><br><b>LAT : </b>-20.0 cm<br><b>LON : </b>20.0 cm<br><b>VER : </b>-29.0 cm",
          "<b>X-ray detector</b><br><br><b>LAT : </b>-20.0 cm<br><b>LON : </b>-20.0 cm<br><b>VER : </b>-29.0 cm",
          "<b>X-ray detector</b><br><br><b>LAT : </b>20.0 cm<br><b>LON : </b>-20.0 cm<br><b>VER : </b>-29.0 cm",
          "<b>X-ray detector</b><br><br><b>LAT : </b>20.0 cm<br><b>LON : </b>20.0 cm<br><b>VER : </b>-34.0 cm",
          "<b>X-ray detector</b><br><br><b>LAT : </b>-20.0 cm<br><b>LON : </b>20.0 cm<br><b>VER : </b>-34.0 cm",
          "<b>X-ray detector</b><br><br><b>LAT : </b>-20.0 cm<br><b>LON : </b>-20.0 cm<br><b>VER : </b>-34.0 cm",
          "<b>X-ray detector</b><br><br><b>LAT : </b>20.0 cm<br><b>LON : </b>-20.0 cm<br><b>VER : </b>-34.0 cm"
         ],
         "visible": false,
         "x": [
          20.049702475764946,
          20.050068014812858,
          -19.949871061718646,
          -19.95023660076656,
          20.059685617169578,
          20.06005115621749,
          -19.939887920314014,
          -19.940253459361927
         ],
         "y": [
          -28.45993871414372,
          -28.669376948407425,
          -28.739190083043358,
          -28.529751848779654,
          -34.17985159386243,
          -34.38928982812614,
          -34.459102962762074,
          -34.24966472849836
         ],
         "z": [
          20.149474410527134,
          -19.849977279369934,
          -19.849977279369934,
          20.149474410527134,
          20.179424123642853,
          -19.820027566254215,
          -19.820027566254215,
          20.179424123642853
         ],
         "type": "mesh3d"
        },
        {
         "color": "#D3D3D3",
         "hoverinfo": "text",
         "i": [
          0,
          0,
          4,
          4,
          0,
          1,
          0,
          3,
          3,
          7,
          1,
          1
         ],
         "j": [
          1,
          2,
          5,
          6,
          1,
          5,
          3,
          7,
          2,
          2,
          2,
          6
         ],
         "k": [
          2,
          3,
          6,
          7,
          4,
          4,
          4,
          4,
          7,
          6,
          6,
          5
         ],
         "opacity": 1.0,
         "text": [
          "<b>X-ray detector</b><br><br><b>LAT : </b>20.0 cm<br><b>LON : </b>20.0 cm<br><b>VER : </b>-28.0 cm",
          "<b>X-ray detector</b><br><br><b>LAT : </b>-20.0 cm<br><b>LON : </b>20.0 cm<br><b>VER : </b>-29.0 cm",
          "<b>X-ray detector</b><br><br><b>LAT : </b>-20.0 cm<br><b>LON : </b>-20.0 cm<br><b>VER : </b>-29.0 cm",
          "<b>X-ray detector</b><br><br><b>LAT : </b>20.0 cm<br><b>LON : </b>-20.0 cm<br><b>VER : </b>-29.0 cm",
          "<b>X-ray detector</b><br><br><b>LAT : </b>20.0 cm<br><b>LON : </b>20.0 cm<br><b>VER : </b>-34.0 cm",
          "<b>X-ray detector</b><br><br><b>LAT : </b>-20.0 cm<br><b>LON : </b>20.0 cm<br><b>VER : </b>-34.0 cm",
          "<b>X-ray detector</b><br><br><b>LAT : </b>-20.0 cm<br><b>LON : </b>-20.0 cm<br><b>VER : </b>-34.0 cm",
          "<b>X-ray detector</b><br><br><b>LAT : </b>20.0 cm<br><b>LON : </b>-20.0 cm<br><b>VER : </b>-34.0 cm"
         ],
         "visible": false,
         "x": [
          20.049702475764946,
          20.050068014812858,
          -19.949871061718646,
          -19.95023660076656,
          20.059685617169578,
          20.06005115621749,
          -19.939887920314014,
          -19.940253459361927
         ],
         "y": [
          -28.45993871414372,
          -28.669376948407425,
          -28.739190083043358,
          -28.529751848779654,
          -34.17985159386243,
          -34.38928982812614,
          -34.459102962762074,
          -34.24966472849836
         ],
         "z": [
          20.149474410527134,
          -19.849977279369934,
          -19.849977279369934,
          20.149474410527134,
          20.179424123642853,
          -19.820027566254215,
          -19.820027566254215,
          20.179424123642853
         ],
         "type": "mesh3d"
        },
        {
         "color": "#D3D3D3",
         "hoverinfo": "text",
         "i": [
          0,
          0,
          4,
          4,
          0,
          1,
          0,
          3,
          3,
          7,
          1,
          1
         ],
         "j": [
          1,
          2,
          5,
          6,
          1,
          5,
          3,
          7,
          2,
          2,
          2,
          6
         ],
         "k": [
          2,
          3,
          6,
          7,
          4,
          4,
          4,
          4,
          7,
          6,
          6,
          5
         ],
         "opacity": 1.0,
         "text": [
          "<b>X-ray detector</b><br><br><b>LAT : </b>20.0 cm<br><b>LON : </b>20.0 cm<br><b>VER : </b>-28.0 cm",
          "<b>X-ray detector</b><br><br><b>LAT : </b>-20.0 cm<br><b>LON : </b>20.0 cm<br><b>VER : </b>-29.0 cm",
          "<b>X-ray detector</b><br><br><b>LAT : </b>-20.0 cm<br><b>LON : </b>-20.0 cm<br><b>VER : </b>-29.0 cm",
          "<b>X-ray detector</b><br><br><b>LAT : </b>20.0 cm<br><b>LON : </b>-20.0 cm<br><b>VER : </b>-29.0 cm",
          "<b>X-ray detector</b><br><br><b>LAT : </b>20.0 cm<br><b>LON : </b>20.0 cm<br><b>VER : </b>-34.0 cm",
          "<b>X-ray detector</b><br><br><b>LAT : </b>-20.0 cm<br><b>LON : </b>20.0 cm<br><b>VER : </b>-34.0 cm",
          "<b>X-ray detector</b><br><br><b>LAT : </b>-20.0 cm<br><b>LON : </b>-20.0 cm<br><b>VER : </b>-34.0 cm",
          "<b>X-ray detector</b><br><br><b>LAT : </b>20.0 cm<br><b>LON : </b>-20.0 cm<br><b>VER : </b>-34.0 cm"
         ],
         "visible": false,
         "x": [
          20.049702475764946,
          20.050068014812858,
          -19.949871061718646,
          -19.95023660076656,
          20.059685617169578,
          20.06005115621749,
          -19.939887920314014,
          -19.940253459361927
         ],
         "y": [
          -28.45993871414372,
          -28.669376948407425,
          -28.739190083043358,
          -28.529751848779654,
          -34.17985159386243,
          -34.38928982812614,
          -34.459102962762074,
          -34.24966472849836
         ],
         "z": [
          20.149474410527134,
          -19.849977279369934,
          -19.849977279369934,
          20.149474410527134,
          20.179424123642853,
          -19.820027566254215,
          -19.820027566254215,
          20.179424123642853
         ],
         "type": "mesh3d"
        },
        {
         "color": "#D3D3D3",
         "hoverinfo": "text",
         "i": [
          0,
          0,
          4,
          4,
          0,
          1,
          0,
          3,
          3,
          7,
          1,
          1
         ],
         "j": [
          1,
          2,
          5,
          6,
          1,
          5,
          3,
          7,
          2,
          2,
          2,
          6
         ],
         "k": [
          2,
          3,
          6,
          7,
          4,
          4,
          4,
          4,
          7,
          6,
          6,
          5
         ],
         "opacity": 1.0,
         "text": [
          "<b>X-ray detector</b><br><br><b>LAT : </b>20.0 cm<br><b>LON : </b>20.0 cm<br><b>VER : </b>-28.0 cm",
          "<b>X-ray detector</b><br><br><b>LAT : </b>-20.0 cm<br><b>LON : </b>20.0 cm<br><b>VER : </b>-29.0 cm",
          "<b>X-ray detector</b><br><br><b>LAT : </b>-20.0 cm<br><b>LON : </b>-20.0 cm<br><b>VER : </b>-29.0 cm",
          "<b>X-ray detector</b><br><br><b>LAT : </b>20.0 cm<br><b>LON : </b>-20.0 cm<br><b>VER : </b>-29.0 cm",
          "<b>X-ray detector</b><br><br><b>LAT : </b>20.0 cm<br><b>LON : </b>20.0 cm<br><b>VER : </b>-34.0 cm",
          "<b>X-ray detector</b><br><br><b>LAT : </b>-20.0 cm<br><b>LON : </b>20.0 cm<br><b>VER : </b>-34.0 cm",
          "<b>X-ray detector</b><br><br><b>LAT : </b>-20.0 cm<br><b>LON : </b>-20.0 cm<br><b>VER : </b>-34.0 cm",
          "<b>X-ray detector</b><br><br><b>LAT : </b>20.0 cm<br><b>LON : </b>-20.0 cm<br><b>VER : </b>-34.0 cm"
         ],
         "visible": false,
         "x": [
          20.049702475764946,
          20.050068014812858,
          -19.949871061718646,
          -19.95023660076656,
          20.059685617169578,
          20.06005115621749,
          -19.939887920314014,
          -19.940253459361927
         ],
         "y": [
          -28.45993871414372,
          -28.669376948407425,
          -28.739190083043358,
          -28.529751848779654,
          -34.17985159386243,
          -34.38928982812614,
          -34.459102962762074,
          -34.24966472849836
         ],
         "z": [
          20.149474410527134,
          -19.849977279369934,
          -19.849977279369934,
          20.149474410527134,
          20.179424123642853,
          -19.820027566254215,
          -19.820027566254215,
          20.179424123642853
         ],
         "type": "mesh3d"
        },
        {
         "color": "#D3D3D3",
         "hoverinfo": "text",
         "i": [
          0,
          0,
          4,
          4,
          0,
          1,
          0,
          3,
          3,
          7,
          1,
          1
         ],
         "j": [
          1,
          2,
          5,
          6,
          1,
          5,
          3,
          7,
          2,
          2,
          2,
          6
         ],
         "k": [
          2,
          3,
          6,
          7,
          4,
          4,
          4,
          4,
          7,
          6,
          6,
          5
         ],
         "opacity": 1.0,
         "text": [
          "<b>X-ray detector</b><br><br><b>LAT : </b>20.0 cm<br><b>LON : </b>30.0 cm<br><b>VER : </b>20.0 cm",
          "<b>X-ray detector</b><br><br><b>LAT : </b>-20.0 cm<br><b>LON : </b>30.0 cm<br><b>VER : </b>20.0 cm",
          "<b>X-ray detector</b><br><br><b>LAT : </b>-20.0 cm<br><b>LON : </b>30.0 cm<br><b>VER : </b>-20.0 cm",
          "<b>X-ray detector</b><br><br><b>LAT : </b>20.0 cm<br><b>LON : </b>30.0 cm<br><b>VER : </b>-20.0 cm",
          "<b>X-ray detector</b><br><br><b>LAT : </b>20.0 cm<br><b>LON : </b>36.0 cm<br><b>VER : </b>20.0 cm",
          "<b>X-ray detector</b><br><br><b>LAT : </b>-20.0 cm<br><b>LON : </b>36.0 cm<br><b>VER : </b>20.0 cm",
          "<b>X-ray detector</b><br><br><b>LAT : </b>-20.0 cm<br><b>LON : </b>36.0 cm<br><b>VER : </b>-20.0 cm",
          "<b>X-ray detector</b><br><br><b>LAT : </b>20.0 cm<br><b>LON : </b>36.0 cm<br><b>VER : </b>-20.0 cm"
         ],
         "visible": false,
         "x": [
          29.729733571797567,
          29.93917180606127,
          29.869358671425342,
          29.659920437161638,
          35.689642796119855,
          35.89908103038357,
          35.82926789574764,
          35.61982966148393
         ],
         "y": [
          19.948142235436915,
          19.947776696389003,
          -20.0521623801425,
          -20.05179684109459,
          19.937740220966358,
          19.937374681918445,
          -20.06256439461306,
          -20.062198855565146
         ],
         "z": [
          20.155757567124837,
          -19.84369412277223,
          -19.84369412277223,
          20.155757567124837,
          20.1869639115601,
          -19.81248777833697,
          -19.81248777833697,
          20.1869639115601
         ],
         "type": "mesh3d"
        },
        {
         "color": "#D3D3D3",
         "hoverinfo": "text",
         "i": [
          0,
          0,
          4,
          4,
          0,
          1,
          0,
          3,
          3,
          7,
          1,
          1
         ],
         "j": [
          1,
          2,
          5,
          6,
          1,
          5,
          3,
          7,
          2,
          2,
          2,
          6
         ],
         "k": [
          2,
          3,
          6,
          7,
          4,
          4,
          4,
          4,
          7,
          6,
          6,
          5
         ],
         "opacity": 1.0,
         "text": [
          "<b>X-ray detector</b><br><br><b>LAT : </b>20.0 cm<br><b>LON : </b>30.0 cm<br><b>VER : </b>20.0 cm",
          "<b>X-ray detector</b><br><br><b>LAT : </b>-20.0 cm<br><b>LON : </b>30.0 cm<br><b>VER : </b>20.0 cm",
          "<b>X-ray detector</b><br><br><b>LAT : </b>-20.0 cm<br><b>LON : </b>30.0 cm<br><b>VER : </b>-20.0 cm",
          "<b>X-ray detector</b><br><br><b>LAT : </b>20.0 cm<br><b>LON : </b>30.0 cm<br><b>VER : </b>-20.0 cm",
          "<b>X-ray detector</b><br><br><b>LAT : </b>20.0 cm<br><b>LON : </b>36.0 cm<br><b>VER : </b>20.0 cm",
          "<b>X-ray detector</b><br><br><b>LAT : </b>-20.0 cm<br><b>LON : </b>36.0 cm<br><b>VER : </b>20.0 cm",
          "<b>X-ray detector</b><br><br><b>LAT : </b>-20.0 cm<br><b>LON : </b>36.0 cm<br><b>VER : </b>-20.0 cm",
          "<b>X-ray detector</b><br><br><b>LAT : </b>20.0 cm<br><b>LON : </b>36.0 cm<br><b>VER : </b>-20.0 cm"
         ],
         "visible": false,
         "x": [
          29.729733571797567,
          29.93917180606127,
          29.869358671425342,
          29.659920437161638,
          35.689642796119855,
          35.89908103038357,
          35.82926789574764,
          35.61982966148393
         ],
         "y": [
          19.948142235436915,
          19.947776696389003,
          -20.0521623801425,
          -20.05179684109459,
          19.937740220966358,
          19.937374681918445,
          -20.06256439461306,
          -20.062198855565146
         ],
         "z": [
          20.155757567124837,
          -19.84369412277223,
          -19.84369412277223,
          20.155757567124837,
          20.1869639115601,
          -19.81248777833697,
          -19.81248777833697,
          20.1869639115601
         ],
         "type": "mesh3d"
        },
        {
         "color": "#D3D3D3",
         "hoverinfo": "text",
         "i": [
          0,
          0,
          4,
          4,
          0,
          1,
          0,
          3,
          3,
          7,
          1,
          1
         ],
         "j": [
          1,
          2,
          5,
          6,
          1,
          5,
          3,
          7,
          2,
          2,
          2,
          6
         ],
         "k": [
          2,
          3,
          6,
          7,
          4,
          4,
          4,
          4,
          7,
          6,
          6,
          5
         ],
         "opacity": 1.0,
         "text": [
          "<b>X-ray detector</b><br><br><b>LAT : </b>20.0 cm<br><b>LON : </b>30.0 cm<br><b>VER : </b>20.0 cm",
          "<b>X-ray detector</b><br><br><b>LAT : </b>-20.0 cm<br><b>LON : </b>30.0 cm<br><b>VER : </b>20.0 cm",
          "<b>X-ray detector</b><br><br><b>LAT : </b>-20.0 cm<br><b>LON : </b>30.0 cm<br><b>VER : </b>-20.0 cm",
          "<b>X-ray detector</b><br><br><b>LAT : </b>20.0 cm<br><b>LON : </b>30.0 cm<br><b>VER : </b>-20.0 cm",
          "<b>X-ray detector</b><br><br><b>LAT : </b>20.0 cm<br><b>LON : </b>36.0 cm<br><b>VER : </b>20.0 cm",
          "<b>X-ray detector</b><br><br><b>LAT : </b>-20.0 cm<br><b>LON : </b>36.0 cm<br><b>VER : </b>20.0 cm",
          "<b>X-ray detector</b><br><br><b>LAT : </b>-20.0 cm<br><b>LON : </b>36.0 cm<br><b>VER : </b>-20.0 cm",
          "<b>X-ray detector</b><br><br><b>LAT : </b>20.0 cm<br><b>LON : </b>36.0 cm<br><b>VER : </b>-20.0 cm"
         ],
         "visible": false,
         "x": [
          29.729733571797567,
          29.93917180606127,
          29.869358671425342,
          29.659920437161638,
          35.689642796119855,
          35.89908103038357,
          35.82926789574764,
          35.61982966148393
         ],
         "y": [
          19.948142235436915,
          19.947776696389003,
          -20.0521623801425,
          -20.05179684109459,
          19.937740220966358,
          19.937374681918445,
          -20.06256439461306,
          -20.062198855565146
         ],
         "z": [
          20.155757567124837,
          -19.84369412277223,
          -19.84369412277223,
          20.155757567124837,
          20.1869639115601,
          -19.81248777833697,
          -19.81248777833697,
          20.1869639115601
         ],
         "type": "mesh3d"
        },
        {
         "color": "#D3D3D3",
         "hoverinfo": "text",
         "i": [
          0,
          0,
          4,
          4,
          0,
          1,
          0,
          3,
          3,
          7,
          1,
          1
         ],
         "j": [
          1,
          2,
          5,
          6,
          1,
          5,
          3,
          7,
          2,
          2,
          2,
          6
         ],
         "k": [
          2,
          3,
          6,
          7,
          4,
          4,
          4,
          4,
          7,
          6,
          6,
          5
         ],
         "opacity": 1.0,
         "text": [
          "<b>X-ray detector</b><br><br><b>LAT : </b>20.0 cm<br><b>LON : </b>30.0 cm<br><b>VER : </b>20.0 cm",
          "<b>X-ray detector</b><br><br><b>LAT : </b>-20.0 cm<br><b>LON : </b>30.0 cm<br><b>VER : </b>20.0 cm",
          "<b>X-ray detector</b><br><br><b>LAT : </b>-20.0 cm<br><b>LON : </b>30.0 cm<br><b>VER : </b>-20.0 cm",
          "<b>X-ray detector</b><br><br><b>LAT : </b>20.0 cm<br><b>LON : </b>30.0 cm<br><b>VER : </b>-20.0 cm",
          "<b>X-ray detector</b><br><br><b>LAT : </b>20.0 cm<br><b>LON : </b>36.0 cm<br><b>VER : </b>20.0 cm",
          "<b>X-ray detector</b><br><br><b>LAT : </b>-20.0 cm<br><b>LON : </b>36.0 cm<br><b>VER : </b>20.0 cm",
          "<b>X-ray detector</b><br><br><b>LAT : </b>-20.0 cm<br><b>LON : </b>36.0 cm<br><b>VER : </b>-20.0 cm",
          "<b>X-ray detector</b><br><br><b>LAT : </b>20.0 cm<br><b>LON : </b>36.0 cm<br><b>VER : </b>-20.0 cm"
         ],
         "visible": false,
         "x": [
          29.729733571797567,
          29.93917180606127,
          29.869358671425342,
          29.659920437161638,
          35.689642796119855,
          35.89908103038357,
          35.82926789574764,
          35.61982966148393
         ],
         "y": [
          19.948142235436915,
          19.947776696389003,
          -20.0521623801425,
          -20.05179684109459,
          19.937740220966358,
          19.937374681918445,
          -20.06256439461306,
          -20.062198855565146
         ],
         "z": [
          20.155757567124837,
          -19.84369412277223,
          -19.84369412277223,
          20.155757567124837,
          20.1869639115601,
          -19.81248777833697,
          -19.81248777833697,
          20.1869639115601
         ],
         "type": "mesh3d"
        },
        {
         "color": "#D3D3D3",
         "hoverinfo": "text",
         "i": [
          0,
          0,
          4,
          4,
          0,
          1,
          0,
          3,
          3,
          7,
          1,
          1
         ],
         "j": [
          1,
          2,
          5,
          6,
          1,
          5,
          3,
          7,
          2,
          2,
          2,
          6
         ],
         "k": [
          2,
          3,
          6,
          7,
          4,
          4,
          4,
          4,
          7,
          6,
          6,
          5
         ],
         "opacity": 1.0,
         "text": [
          "<b>X-ray detector</b><br><br><b>LAT : </b>20.0 cm<br><b>LON : </b>20.0 cm<br><b>VER : </b>-30.0 cm",
          "<b>X-ray detector</b><br><br><b>LAT : </b>-20.0 cm<br><b>LON : </b>20.0 cm<br><b>VER : </b>-30.0 cm",
          "<b>X-ray detector</b><br><br><b>LAT : </b>-20.0 cm<br><b>LON : </b>-20.0 cm<br><b>VER : </b>-30.0 cm",
          "<b>X-ray detector</b><br><br><b>LAT : </b>20.0 cm<br><b>LON : </b>-20.0 cm<br><b>VER : </b>-30.0 cm",
          "<b>X-ray detector</b><br><br><b>LAT : </b>20.0 cm<br><b>LON : </b>20.0 cm<br><b>VER : </b>-36.0 cm",
          "<b>X-ray detector</b><br><br><b>LAT : </b>-20.0 cm<br><b>LON : </b>20.0 cm<br><b>VER : </b>-36.0 cm",
          "<b>X-ray detector</b><br><br><b>LAT : </b>-20.0 cm<br><b>LON : </b>-20.0 cm<br><b>VER : </b>-36.0 cm",
          "<b>X-ray detector</b><br><br><b>LAT : </b>20.0 cm<br><b>LON : </b>-20.0 cm<br><b>VER : </b>-36.0 cm"
         ],
         "visible": false,
         "x": [
          20.10328637864309,
          20.104504830382588,
          -19.89525147592903,
          -19.896469927668527,
          20.1240898689145,
          20.125308320653993,
          -19.874447985657625,
          -19.87566643739712
         ],
         "y": [
          -29.55434108745625,
          -29.903400380789584,
          -30.04302643739853,
          -29.693967144065198,
          -35.51407783994173,
          -35.86313713327506,
          -36.00276318988401,
          -35.65370389655068
         ],
         "z": [
          20.25928921913497,
          -19.739187703431885,
          -19.739187703431885,
          20.25928921913497,
          20.311299370705278,
          -19.687177551861573,
          -19.687177551861573,
          20.311299370705278
         ],
         "type": "mesh3d"
        },
        {
         "color": "slateblue",
         "hoverinfo": "text",
         "i": [
          0,
          2,
          4,
          6,
          0,
          1,
          2,
          3,
          0,
          3,
          1,
          2
         ],
         "j": [
          1,
          3,
          5,
          7,
          1,
          5,
          3,
          7,
          3,
          7,
          2,
          6
         ],
         "k": [
          2,
          0,
          6,
          4,
          4,
          4,
          6,
          6,
          4,
          4,
          5,
          5
         ],
         "opacity": 1.0,
         "text": [
          "<b>Support pad</b><br><br><b>LAT : </b>-96.0 cm<br><b>LON : </b>120.0 cm<br><b>VER : </b>14.0 cm",
          "<b>Support pad</b><br><br><b>LAT : </b>-15.0 cm<br><b>LON : </b>-150.0 cm<br><b>VER : </b>14.0 cm",
          "<b>Support pad</b><br><br><b>LAT : </b>28.0 cm<br><b>LON : </b>-137.0 cm<br><b>VER : </b>14.0 cm",
          "<b>Support pad</b><br><br><b>LAT : </b>-53.0 cm<br><b>LON : </b>133.0 cm<br><b>VER : </b>14.0 cm",
          "<b>Support pad</b><br><br><b>LAT : </b>-96.0 cm<br><b>LON : </b>120.0 cm<br><b>VER : </b>10.0 cm",
          "<b>Support pad</b><br><br><b>LAT : </b>-15.0 cm<br><b>LON : </b>-150.0 cm<br><b>VER : </b>10.0 cm",
          "<b>Support pad</b><br><br><b>LAT : </b>28.0 cm<br><b>LON : </b>-137.0 cm<br><b>VER : </b>10.0 cm",
          "<b>Support pad</b><br><br><b>LAT : </b>-53.0 cm<br><b>LON : </b>133.0 cm<br><b>VER : </b>10.0 cm"
         ],
         "visible": true,
         "x": [
          119.8473600765709,
          -150.25858346980792,
          -137.3273600765709,
          132.7785834698079,
          119.8473600765709,
          -150.25858346980792,
          -137.3273600765709,
          132.7785834698079
         ],
         "y": [
          13.66,
          13.66,
          13.66,
          13.66,
          9.66,
          9.66,
          9.66,
          9.66
         ],
         "z": [
          -96.36883943282898,
          -15.333172835210192,
          27.768839432828983,
          -53.2668271647898,
          -96.36883943282898,
          -15.333172835210192,
          27.768839432828983,
          -53.2668271647898
         ],
         "type": "mesh3d"
        },
        {
         "color": "slateblue",
         "hoverinfo": "text",
         "i": [
          0,
          2,
          4,
          6,
          0,
          1,
          2,
          3,
          0,
          3,
          1,
          2
         ],
         "j": [
          1,
          3,
          5,
          7,
          1,
          5,
          3,
          7,
          3,
          7,
          2,
          6
         ],
         "k": [
          2,
          0,
          6,
          4,
          4,
          4,
          6,
          6,
          4,
          4,
          5,
          5
         ],
         "opacity": 1.0,
         "text": [
          "<b>Support pad</b><br><br><b>LAT : </b>-96.0 cm<br><b>LON : </b>127.0 cm<br><b>VER : </b>15.0 cm",
          "<b>Support pad</b><br><br><b>LAT : </b>-15.0 cm<br><b>LON : </b>-143.0 cm<br><b>VER : </b>15.0 cm",
          "<b>Support pad</b><br><br><b>LAT : </b>28.0 cm<br><b>LON : </b>-130.0 cm<br><b>VER : </b>15.0 cm",
          "<b>Support pad</b><br><br><b>LAT : </b>-53.0 cm<br><b>LON : </b>140.0 cm<br><b>VER : </b>15.0 cm",
          "<b>Support pad</b><br><br><b>LAT : </b>-96.0 cm<br><b>LON : </b>127.0 cm<br><b>VER : </b>11.0 cm",
          "<b>Support pad</b><br><br><b>LAT : </b>-15.0 cm<br><b>LON : </b>-143.0 cm<br><b>VER : </b>11.0 cm",
          "<b>Support pad</b><br><br><b>LAT : </b>28.0 cm<br><b>LON : </b>-130.0 cm<br><b>VER : </b>11.0 cm",
          "<b>Support pad</b><br><br><b>LAT : </b>-53.0 cm<br><b>LON : </b>140.0 cm<br><b>VER : </b>11.0 cm"
         ],
         "visible": false,
         "x": [
          126.90314584046183,
          -143.13197790649585,
          -130.16314584046182,
          139.87197790649586,
          126.90314584046183,
          -143.13197790649585,
          -130.16314584046182,
          139.87197790649586
         ],
         "y": [
          15.41,
          15.41,
          15.41,
          15.41,
          11.41,
          11.41,
          11.41,
          11.41
         ],
         "z": [
          -96.43102942501491,
          -15.159681811201736,
          27.931029425014913,
          -53.34031818879828,
          -96.43102942501491,
          -15.159681811201736,
          27.931029425014913,
          -53.34031818879828
         ],
         "type": "mesh3d"
        },
        {
         "color": "slateblue",
         "hoverinfo": "text",
         "i": [
          0,
          2,
          4,
          6,
          0,
          1,
          2,
          3,
          0,
          3,
          1,
          2
         ],
         "j": [
          1,
          3,
          5,
          7,
          1,
          5,
          3,
          7,
          3,
          7,
          2,
          6
         ],
         "k": [
          2,
          0,
          6,
          4,
          4,
          4,
          6,
          6,
          4,
          4,
          5,
          5
         ],
         "opacity": 1.0,
         "text": [
          "<b>Support pad</b><br><br><b>LAT : </b>-96.0 cm<br><b>LON : </b>127.0 cm<br><b>VER : </b>15.0 cm",
          "<b>Support pad</b><br><br><b>LAT : </b>-15.0 cm<br><b>LON : </b>-143.0 cm<br><b>VER : </b>15.0 cm",
          "<b>Support pad</b><br><br><b>LAT : </b>28.0 cm<br><b>LON : </b>-130.0 cm<br><b>VER : </b>15.0 cm",
          "<b>Support pad</b><br><br><b>LAT : </b>-53.0 cm<br><b>LON : </b>140.0 cm<br><b>VER : </b>15.0 cm",
          "<b>Support pad</b><br><br><b>LAT : </b>-96.0 cm<br><b>LON : </b>127.0 cm<br><b>VER : </b>11.0 cm",
          "<b>Support pad</b><br><br><b>LAT : </b>-15.0 cm<br><b>LON : </b>-143.0 cm<br><b>VER : </b>11.0 cm",
          "<b>Support pad</b><br><br><b>LAT : </b>28.0 cm<br><b>LON : </b>-130.0 cm<br><b>VER : </b>11.0 cm",
          "<b>Support pad</b><br><br><b>LAT : </b>-53.0 cm<br><b>LON : </b>140.0 cm<br><b>VER : </b>11.0 cm"
         ],
         "visible": false,
         "x": [
          126.90314584046183,
          -143.13197790649585,
          -130.16314584046182,
          139.87197790649586,
          126.90314584046183,
          -143.13197790649585,
          -130.16314584046182,
          139.87197790649586
         ],
         "y": [
          15.41,
          15.41,
          15.41,
          15.41,
          11.41,
          11.41,
          11.41,
          11.41
         ],
         "z": [
          -96.43102942501491,
          -15.159681811201736,
          27.931029425014913,
          -53.34031818879828,
          -96.43102942501491,
          -15.159681811201736,
          27.931029425014913,
          -53.34031818879828
         ],
         "type": "mesh3d"
        },
        {
         "color": "slateblue",
         "hoverinfo": "text",
         "i": [
          0,
          2,
          4,
          6,
          0,
          1,
          2,
          3,
          0,
          3,
          1,
          2
         ],
         "j": [
          1,
          3,
          5,
          7,
          1,
          5,
          3,
          7,
          3,
          7,
          2,
          6
         ],
         "k": [
          2,
          0,
          6,
          4,
          4,
          4,
          6,
          6,
          4,
          4,
          5,
          5
         ],
         "opacity": 1.0,
         "text": [
          "<b>Support pad</b><br><br><b>LAT : </b>-96.0 cm<br><b>LON : </b>127.0 cm<br><b>VER : </b>15.0 cm",
          "<b>Support pad</b><br><br><b>LAT : </b>-15.0 cm<br><b>LON : </b>-143.0 cm<br><b>VER : </b>15.0 cm",
          "<b>Support pad</b><br><br><b>LAT : </b>28.0 cm<br><b>LON : </b>-130.0 cm<br><b>VER : </b>15.0 cm",
          "<b>Support pad</b><br><br><b>LAT : </b>-53.0 cm<br><b>LON : </b>140.0 cm<br><b>VER : </b>15.0 cm",
          "<b>Support pad</b><br><br><b>LAT : </b>-96.0 cm<br><b>LON : </b>127.0 cm<br><b>VER : </b>11.0 cm",
          "<b>Support pad</b><br><br><b>LAT : </b>-15.0 cm<br><b>LON : </b>-143.0 cm<br><b>VER : </b>11.0 cm",
          "<b>Support pad</b><br><br><b>LAT : </b>28.0 cm<br><b>LON : </b>-130.0 cm<br><b>VER : </b>11.0 cm",
          "<b>Support pad</b><br><br><b>LAT : </b>-53.0 cm<br><b>LON : </b>140.0 cm<br><b>VER : </b>11.0 cm"
         ],
         "visible": false,
         "x": [
          126.90314584046183,
          -143.13197790649585,
          -130.16314584046182,
          139.87197790649586,
          126.90314584046183,
          -143.13197790649585,
          -130.16314584046182,
          139.87197790649586
         ],
         "y": [
          15.41,
          15.41,
          15.41,
          15.41,
          11.41,
          11.41,
          11.41,
          11.41
         ],
         "z": [
          -96.43102942501491,
          -15.159681811201736,
          27.931029425014913,
          -53.34031818879828,
          -96.43102942501491,
          -15.159681811201736,
          27.931029425014913,
          -53.34031818879828
         ],
         "type": "mesh3d"
        },
        {
         "color": "slateblue",
         "hoverinfo": "text",
         "i": [
          0,
          2,
          4,
          6,
          0,
          1,
          2,
          3,
          0,
          3,
          1,
          2
         ],
         "j": [
          1,
          3,
          5,
          7,
          1,
          5,
          3,
          7,
          3,
          7,
          2,
          6
         ],
         "k": [
          2,
          0,
          6,
          4,
          4,
          4,
          6,
          6,
          4,
          4,
          5,
          5
         ],
         "opacity": 1.0,
         "text": [
          "<b>Support pad</b><br><br><b>LAT : </b>-96.0 cm<br><b>LON : </b>127.0 cm<br><b>VER : </b>15.0 cm",
          "<b>Support pad</b><br><br><b>LAT : </b>-15.0 cm<br><b>LON : </b>-143.0 cm<br><b>VER : </b>15.0 cm",
          "<b>Support pad</b><br><br><b>LAT : </b>28.0 cm<br><b>LON : </b>-130.0 cm<br><b>VER : </b>15.0 cm",
          "<b>Support pad</b><br><br><b>LAT : </b>-53.0 cm<br><b>LON : </b>140.0 cm<br><b>VER : </b>15.0 cm",
          "<b>Support pad</b><br><br><b>LAT : </b>-96.0 cm<br><b>LON : </b>127.0 cm<br><b>VER : </b>11.0 cm",
          "<b>Support pad</b><br><br><b>LAT : </b>-15.0 cm<br><b>LON : </b>-143.0 cm<br><b>VER : </b>11.0 cm",
          "<b>Support pad</b><br><br><b>LAT : </b>28.0 cm<br><b>LON : </b>-130.0 cm<br><b>VER : </b>11.0 cm",
          "<b>Support pad</b><br><br><b>LAT : </b>-53.0 cm<br><b>LON : </b>140.0 cm<br><b>VER : </b>11.0 cm"
         ],
         "visible": false,
         "x": [
          126.90314584046183,
          -143.13197790649585,
          -130.16314584046182,
          139.87197790649586,
          126.90314584046183,
          -143.13197790649585,
          -130.16314584046182,
          139.87197790649586
         ],
         "y": [
          15.41,
          15.41,
          15.41,
          15.41,
          11.41,
          11.41,
          11.41,
          11.41
         ],
         "z": [
          -96.43102942501491,
          -15.159681811201736,
          27.931029425014913,
          -53.34031818879828,
          -96.43102942501491,
          -15.159681811201736,
          27.931029425014913,
          -53.34031818879828
         ],
         "type": "mesh3d"
        },
        {
         "color": "slateblue",
         "hoverinfo": "text",
         "i": [
          0,
          2,
          4,
          6,
          0,
          1,
          2,
          3,
          0,
          3,
          1,
          2
         ],
         "j": [
          1,
          3,
          5,
          7,
          1,
          5,
          3,
          7,
          3,
          7,
          2,
          6
         ],
         "k": [
          2,
          0,
          6,
          4,
          4,
          4,
          6,
          6,
          4,
          4,
          5,
          5
         ],
         "opacity": 1.0,
         "text": [
          "<b>Support pad</b><br><br><b>LAT : </b>-96.0 cm<br><b>LON : </b>127.0 cm<br><b>VER : </b>15.0 cm",
          "<b>Support pad</b><br><br><b>LAT : </b>-15.0 cm<br><b>LON : </b>-143.0 cm<br><b>VER : </b>15.0 cm",
          "<b>Support pad</b><br><br><b>LAT : </b>28.0 cm<br><b>LON : </b>-130.0 cm<br><b>VER : </b>15.0 cm",
          "<b>Support pad</b><br><br><b>LAT : </b>-53.0 cm<br><b>LON : </b>140.0 cm<br><b>VER : </b>15.0 cm",
          "<b>Support pad</b><br><br><b>LAT : </b>-96.0 cm<br><b>LON : </b>127.0 cm<br><b>VER : </b>11.0 cm",
          "<b>Support pad</b><br><br><b>LAT : </b>-15.0 cm<br><b>LON : </b>-143.0 cm<br><b>VER : </b>11.0 cm",
          "<b>Support pad</b><br><br><b>LAT : </b>28.0 cm<br><b>LON : </b>-130.0 cm<br><b>VER : </b>11.0 cm",
          "<b>Support pad</b><br><br><b>LAT : </b>-53.0 cm<br><b>LON : </b>140.0 cm<br><b>VER : </b>11.0 cm"
         ],
         "visible": false,
         "x": [
          126.90314584046183,
          -143.13197790649585,
          -130.16314584046182,
          139.87197790649586,
          126.90314584046183,
          -143.13197790649585,
          -130.16314584046182,
          139.87197790649586
         ],
         "y": [
          15.41,
          15.41,
          15.41,
          15.41,
          11.41,
          11.41,
          11.41,
          11.41
         ],
         "z": [
          -96.43102942501491,
          -15.159681811201736,
          27.931029425014913,
          -53.34031818879828,
          -96.43102942501491,
          -15.159681811201736,
          27.931029425014913,
          -53.34031818879828
         ],
         "type": "mesh3d"
        },
        {
         "color": "slateblue",
         "hoverinfo": "text",
         "i": [
          0,
          2,
          4,
          6,
          0,
          1,
          2,
          3,
          0,
          3,
          1,
          2
         ],
         "j": [
          1,
          3,
          5,
          7,
          1,
          5,
          3,
          7,
          3,
          7,
          2,
          6
         ],
         "k": [
          2,
          0,
          6,
          4,
          4,
          4,
          6,
          6,
          4,
          4,
          5,
          5
         ],
         "opacity": 1.0,
         "text": [
          "<b>Support pad</b><br><br><b>LAT : </b>-92.0 cm<br><b>LON : </b>130.0 cm<br><b>VER : </b>24.0 cm",
          "<b>Support pad</b><br><br><b>LAT : </b>-28.0 cm<br><b>LON : </b>-144.0 cm<br><b>VER : </b>24.0 cm",
          "<b>Support pad</b><br><br><b>LAT : </b>16.0 cm<br><b>LON : </b>-134.0 cm<br><b>VER : </b>24.0 cm",
          "<b>Support pad</b><br><br><b>LAT : </b>-48.0 cm<br><b>LON : </b>141.0 cm<br><b>VER : </b>24.0 cm",
          "<b>Support pad</b><br><br><b>LAT : </b>-92.0 cm<br><b>LON : </b>130.0 cm<br><b>VER : </b>20.0 cm",
          "<b>Support pad</b><br><br><b>LAT : </b>-28.0 cm<br><b>LON : </b>-144.0 cm<br><b>VER : </b>20.0 cm",
          "<b>Support pad</b><br><br><b>LAT : </b>16.0 cm<br><b>LON : </b>-134.0 cm<br><b>VER : </b>20.0 cm",
          "<b>Support pad</b><br><br><b>LAT : </b>-48.0 cm<br><b>LON : </b>141.0 cm<br><b>VER : </b>20.0 cm"
         ],
         "visible": false,
         "x": [
          130.48617146952344,
          -144.07431399721017,
          -133.80617146952343,
          140.75431399721018,
          130.48617146952344,
          -144.07431399721017,
          -133.80617146952343,
          140.75431399721018
         ],
         "y": [
          24.259999999999998,
          24.259999999999998,
          24.259999999999998,
          24.259999999999998,
          20.259999999999998,
          20.259999999999998,
          20.259999999999998,
          20.259999999999998
         ],
         "z": [
          -91.88993496618973,
          -27.54290845935286,
          16.269934966189737,
          -48.07709154064712,
          -91.88993496618973,
          -27.54290845935286,
          16.269934966189737,
          -48.07709154064712
         ],
         "type": "mesh3d"
        },
        {
         "color": "slateblue",
         "hoverinfo": "text",
         "i": [
          0,
          2,
          4,
          6,
          0,
          1,
          2,
          3,
          0,
          3,
          1,
          2
         ],
         "j": [
          1,
          3,
          5,
          7,
          1,
          5,
          3,
          7,
          3,
          7,
          2,
          6
         ],
         "k": [
          2,
          0,
          6,
          4,
          4,
          4,
          6,
          6,
          4,
          4,
          5,
          5
         ],
         "opacity": 1.0,
         "text": [
          "<b>Support pad</b><br><br><b>LAT : </b>-92.0 cm<br><b>LON : </b>130.0 cm<br><b>VER : </b>24.0 cm",
          "<b>Support pad</b><br><br><b>LAT : </b>-28.0 cm<br><b>LON : </b>-144.0 cm<br><b>VER : </b>24.0 cm",
          "<b>Support pad</b><br><br><b>LAT : </b>16.0 cm<br><b>LON : </b>-134.0 cm<br><b>VER : </b>24.0 cm",
          "<b>Support pad</b><br><br><b>LAT : </b>-48.0 cm<br><b>LON : </b>141.0 cm<br><b>VER : </b>24.0 cm",
          "<b>Support pad</b><br><br><b>LAT : </b>-92.0 cm<br><b>LON : </b>130.0 cm<br><b>VER : </b>20.0 cm",
          "<b>Support pad</b><br><br><b>LAT : </b>-28.0 cm<br><b>LON : </b>-144.0 cm<br><b>VER : </b>20.0 cm",
          "<b>Support pad</b><br><br><b>LAT : </b>16.0 cm<br><b>LON : </b>-134.0 cm<br><b>VER : </b>20.0 cm",
          "<b>Support pad</b><br><br><b>LAT : </b>-48.0 cm<br><b>LON : </b>141.0 cm<br><b>VER : </b>20.0 cm"
         ],
         "visible": false,
         "x": [
          130.48617146952344,
          -144.07431399721017,
          -133.80617146952343,
          140.75431399721018,
          130.48617146952344,
          -144.07431399721017,
          -133.80617146952343,
          140.75431399721018
         ],
         "y": [
          24.259999999999998,
          24.259999999999998,
          24.259999999999998,
          24.259999999999998,
          20.259999999999998,
          20.259999999999998,
          20.259999999999998,
          20.259999999999998
         ],
         "z": [
          -91.88993496618973,
          -27.54290845935286,
          16.269934966189737,
          -48.07709154064712,
          -91.88993496618973,
          -27.54290845935286,
          16.269934966189737,
          -48.07709154064712
         ],
         "type": "mesh3d"
        },
        {
         "color": "slateblue",
         "hoverinfo": "text",
         "i": [
          0,
          2,
          4,
          6,
          0,
          1,
          2,
          3,
          0,
          3,
          1,
          2
         ],
         "j": [
          1,
          3,
          5,
          7,
          1,
          5,
          3,
          7,
          3,
          7,
          2,
          6
         ],
         "k": [
          2,
          0,
          6,
          4,
          4,
          4,
          6,
          6,
          4,
          4,
          5,
          5
         ],
         "opacity": 1.0,
         "text": [
          "<b>Support pad</b><br><br><b>LAT : </b>-92.0 cm<br><b>LON : </b>130.0 cm<br><b>VER : </b>24.0 cm",
          "<b>Support pad</b><br><br><b>LAT : </b>-28.0 cm<br><b>LON : </b>-144.0 cm<br><b>VER : </b>24.0 cm",
          "<b>Support pad</b><br><br><b>LAT : </b>16.0 cm<br><b>LON : </b>-134.0 cm<br><b>VER : </b>24.0 cm",
          "<b>Support pad</b><br><br><b>LAT : </b>-48.0 cm<br><b>LON : </b>141.0 cm<br><b>VER : </b>24.0 cm",
          "<b>Support pad</b><br><br><b>LAT : </b>-92.0 cm<br><b>LON : </b>130.0 cm<br><b>VER : </b>20.0 cm",
          "<b>Support pad</b><br><br><b>LAT : </b>-28.0 cm<br><b>LON : </b>-144.0 cm<br><b>VER : </b>20.0 cm",
          "<b>Support pad</b><br><br><b>LAT : </b>16.0 cm<br><b>LON : </b>-134.0 cm<br><b>VER : </b>20.0 cm",
          "<b>Support pad</b><br><br><b>LAT : </b>-48.0 cm<br><b>LON : </b>141.0 cm<br><b>VER : </b>20.0 cm"
         ],
         "visible": false,
         "x": [
          130.48617146952344,
          -144.07431399721017,
          -133.80617146952343,
          140.75431399721018,
          130.48617146952344,
          -144.07431399721017,
          -133.80617146952343,
          140.75431399721018
         ],
         "y": [
          24.259999999999998,
          24.259999999999998,
          24.259999999999998,
          24.259999999999998,
          20.259999999999998,
          20.259999999999998,
          20.259999999999998,
          20.259999999999998
         ],
         "z": [
          -91.88993496618973,
          -27.54290845935286,
          16.269934966189737,
          -48.07709154064712,
          -91.88993496618973,
          -27.54290845935286,
          16.269934966189737,
          -48.07709154064712
         ],
         "type": "mesh3d"
        },
        {
         "color": "slateblue",
         "hoverinfo": "text",
         "i": [
          0,
          2,
          4,
          6,
          0,
          1,
          2,
          3,
          0,
          3,
          1,
          2
         ],
         "j": [
          1,
          3,
          5,
          7,
          1,
          5,
          3,
          7,
          3,
          7,
          2,
          6
         ],
         "k": [
          2,
          0,
          6,
          4,
          4,
          4,
          6,
          6,
          4,
          4,
          5,
          5
         ],
         "opacity": 1.0,
         "text": [
          "<b>Support pad</b><br><br><b>LAT : </b>-92.0 cm<br><b>LON : </b>130.0 cm<br><b>VER : </b>24.0 cm",
          "<b>Support pad</b><br><br><b>LAT : </b>-28.0 cm<br><b>LON : </b>-144.0 cm<br><b>VER : </b>24.0 cm",
          "<b>Support pad</b><br><br><b>LAT : </b>16.0 cm<br><b>LON : </b>-134.0 cm<br><b>VER : </b>24.0 cm",
          "<b>Support pad</b><br><br><b>LAT : </b>-48.0 cm<br><b>LON : </b>141.0 cm<br><b>VER : </b>24.0 cm",
          "<b>Support pad</b><br><br><b>LAT : </b>-92.0 cm<br><b>LON : </b>130.0 cm<br><b>VER : </b>20.0 cm",
          "<b>Support pad</b><br><br><b>LAT : </b>-28.0 cm<br><b>LON : </b>-144.0 cm<br><b>VER : </b>20.0 cm",
          "<b>Support pad</b><br><br><b>LAT : </b>16.0 cm<br><b>LON : </b>-134.0 cm<br><b>VER : </b>20.0 cm",
          "<b>Support pad</b><br><br><b>LAT : </b>-48.0 cm<br><b>LON : </b>141.0 cm<br><b>VER : </b>20.0 cm"
         ],
         "visible": false,
         "x": [
          130.48617146952344,
          -144.07431399721017,
          -133.80617146952343,
          140.75431399721018,
          130.48617146952344,
          -144.07431399721017,
          -133.80617146952343,
          140.75431399721018
         ],
         "y": [
          24.259999999999998,
          24.259999999999998,
          24.259999999999998,
          24.259999999999998,
          20.259999999999998,
          20.259999999999998,
          20.259999999999998,
          20.259999999999998
         ],
         "z": [
          -91.88993496618973,
          -27.54290845935286,
          16.269934966189737,
          -48.07709154064712,
          -91.88993496618973,
          -27.54290845935286,
          16.269934966189737,
          -48.07709154064712
         ],
         "type": "mesh3d"
        },
        {
         "color": "slateblue",
         "hoverinfo": "text",
         "i": [
          0,
          2,
          4,
          6,
          0,
          1,
          2,
          3,
          0,
          3,
          1,
          2
         ],
         "j": [
          1,
          3,
          5,
          7,
          1,
          5,
          3,
          7,
          3,
          7,
          2,
          6
         ],
         "k": [
          2,
          0,
          6,
          4,
          4,
          4,
          6,
          6,
          4,
          4,
          5,
          5
         ],
         "opacity": 1.0,
         "text": [
          "<b>Support pad</b><br><br><b>LAT : </b>-92.0 cm<br><b>LON : </b>130.0 cm<br><b>VER : </b>24.0 cm",
          "<b>Support pad</b><br><br><b>LAT : </b>-28.0 cm<br><b>LON : </b>-144.0 cm<br><b>VER : </b>24.0 cm",
          "<b>Support pad</b><br><br><b>LAT : </b>16.0 cm<br><b>LON : </b>-134.0 cm<br><b>VER : </b>24.0 cm",
          "<b>Support pad</b><br><br><b>LAT : </b>-48.0 cm<br><b>LON : </b>141.0 cm<br><b>VER : </b>24.0 cm",
          "<b>Support pad</b><br><br><b>LAT : </b>-92.0 cm<br><b>LON : </b>130.0 cm<br><b>VER : </b>20.0 cm",
          "<b>Support pad</b><br><br><b>LAT : </b>-28.0 cm<br><b>LON : </b>-144.0 cm<br><b>VER : </b>20.0 cm",
          "<b>Support pad</b><br><br><b>LAT : </b>16.0 cm<br><b>LON : </b>-134.0 cm<br><b>VER : </b>20.0 cm",
          "<b>Support pad</b><br><br><b>LAT : </b>-48.0 cm<br><b>LON : </b>141.0 cm<br><b>VER : </b>20.0 cm"
         ],
         "visible": false,
         "x": [
          130.48617146952344,
          -144.07431399721017,
          -133.80617146952343,
          140.75431399721018,
          130.48617146952344,
          -144.07431399721017,
          -133.80617146952343,
          140.75431399721018
         ],
         "y": [
          24.259999999999998,
          24.259999999999998,
          24.259999999999998,
          24.259999999999998,
          20.259999999999998,
          20.259999999999998,
          20.259999999999998,
          20.259999999999998
         ],
         "z": [
          -91.88993496618973,
          -27.54290845935286,
          16.269934966189737,
          -48.07709154064712,
          -91.88993496618973,
          -27.54290845935286,
          16.269934966189737,
          -48.07709154064712
         ],
         "type": "mesh3d"
        },
        {
         "color": "slateblue",
         "hoverinfo": "text",
         "i": [
          0,
          2,
          4,
          6,
          0,
          1,
          2,
          3,
          0,
          3,
          1,
          2
         ],
         "j": [
          1,
          3,
          5,
          7,
          1,
          5,
          3,
          7,
          3,
          7,
          2,
          6
         ],
         "k": [
          2,
          0,
          6,
          4,
          4,
          4,
          6,
          6,
          4,
          4,
          5,
          5
         ],
         "opacity": 1.0,
         "text": [
          "<b>Support pad</b><br><br><b>LAT : </b>-92.0 cm<br><b>LON : </b>130.0 cm<br><b>VER : </b>24.0 cm",
          "<b>Support pad</b><br><br><b>LAT : </b>-28.0 cm<br><b>LON : </b>-144.0 cm<br><b>VER : </b>24.0 cm",
          "<b>Support pad</b><br><br><b>LAT : </b>16.0 cm<br><b>LON : </b>-134.0 cm<br><b>VER : </b>24.0 cm",
          "<b>Support pad</b><br><br><b>LAT : </b>-48.0 cm<br><b>LON : </b>141.0 cm<br><b>VER : </b>24.0 cm",
          "<b>Support pad</b><br><br><b>LAT : </b>-92.0 cm<br><b>LON : </b>130.0 cm<br><b>VER : </b>20.0 cm",
          "<b>Support pad</b><br><br><b>LAT : </b>-28.0 cm<br><b>LON : </b>-144.0 cm<br><b>VER : </b>20.0 cm",
          "<b>Support pad</b><br><br><b>LAT : </b>16.0 cm<br><b>LON : </b>-134.0 cm<br><b>VER : </b>20.0 cm",
          "<b>Support pad</b><br><br><b>LAT : </b>-48.0 cm<br><b>LON : </b>141.0 cm<br><b>VER : </b>20.0 cm"
         ],
         "visible": false,
         "x": [
          130.48617146952344,
          -144.07431399721017,
          -133.80617146952343,
          140.75431399721018,
          130.48617146952344,
          -144.07431399721017,
          -133.80617146952343,
          140.75431399721018
         ],
         "y": [
          24.259999999999998,
          24.259999999999998,
          24.259999999999998,
          24.259999999999998,
          20.259999999999998,
          20.259999999999998,
          20.259999999999998,
          20.259999999999998
         ],
         "z": [
          -91.88993496618973,
          -27.54290845935286,
          16.269934966189737,
          -48.07709154064712,
          -91.88993496618973,
          -27.54290845935286,
          16.269934966189737,
          -48.07709154064712
         ],
         "type": "mesh3d"
        },
        {
         "color": "slateblue",
         "hoverinfo": "text",
         "i": [
          0,
          2,
          4,
          6,
          0,
          1,
          2,
          3,
          0,
          3,
          1,
          2
         ],
         "j": [
          1,
          3,
          5,
          7,
          1,
          5,
          3,
          7,
          3,
          7,
          2,
          6
         ],
         "k": [
          2,
          0,
          6,
          4,
          4,
          4,
          6,
          6,
          4,
          4,
          5,
          5
         ],
         "opacity": 1.0,
         "text": [
          "<b>Support pad</b><br><br><b>LAT : </b>-86.0 cm<br><b>LON : </b>134.0 cm<br><b>VER : </b>24.0 cm",
          "<b>Support pad</b><br><br><b>LAT : </b>-43.0 cm<br><b>LON : </b>-144.0 cm<br><b>VER : </b>24.0 cm",
          "<b>Support pad</b><br><br><b>LAT : </b>1.0 cm<br><b>LON : </b>-138.0 cm<br><b>VER : </b>24.0 cm",
          "<b>Support pad</b><br><br><b>LAT : </b>-41.0 cm<br><b>LON : </b>141.0 cm<br><b>VER : </b>24.0 cm",
          "<b>Support pad</b><br><br><b>LAT : </b>-86.0 cm<br><b>LON : </b>134.0 cm<br><b>VER : </b>20.0 cm",
          "<b>Support pad</b><br><br><b>LAT : </b>-43.0 cm<br><b>LON : </b>-144.0 cm<br><b>VER : </b>20.0 cm",
          "<b>Support pad</b><br><br><b>LAT : </b>1.0 cm<br><b>LON : </b>-138.0 cm<br><b>VER : </b>20.0 cm",
          "<b>Support pad</b><br><br><b>LAT : </b>-41.0 cm<br><b>LON : </b>141.0 cm<br><b>VER : </b>20.0 cm"
         ],
         "visible": false,
         "x": [
          134.2966633080048,
          -144.45116372825,
          -137.63666330800478,
          141.11116372825003,
          134.2966633080048,
          -144.45116372825,
          -137.63666330800478,
          141.11116372825003
         ],
         "y": [
          24.259999999999998,
          24.259999999999998,
          24.259999999999998,
          24.259999999999998,
          20.259999999999998,
          20.259999999999998,
          20.259999999999998,
          20.259999999999998
         ],
         "z": [
          -85.88261943136311,
          -43.17841679782646,
          1.3026194313631265,
          -41.401583202173526,
          -85.88261943136311,
          -43.17841679782646,
          1.3026194313631265,
          -41.401583202173526
         ],
         "type": "mesh3d"
        },
        {
         "color": "slateblue",
         "hoverinfo": "text",
         "i": [
          0,
          2,
          4,
          6,
          0,
          1,
          2,
          3,
          0,
          3,
          1,
          2
         ],
         "j": [
          1,
          3,
          5,
          7,
          1,
          5,
          3,
          7,
          3,
          7,
          2,
          6
         ],
         "k": [
          2,
          0,
          6,
          4,
          4,
          4,
          6,
          6,
          4,
          4,
          5,
          5
         ],
         "opacity": 1.0,
         "text": [
          "<b>Support pad</b><br><br><b>LAT : </b>-87.0 cm<br><b>LON : </b>135.0 cm<br><b>VER : </b>24.0 cm",
          "<b>Support pad</b><br><br><b>LAT : </b>-40.0 cm<br><b>LON : </b>-143.0 cm<br><b>VER : </b>24.0 cm",
          "<b>Support pad</b><br><br><b>LAT : </b>5.0 cm<br><b>LON : </b>-136.0 cm<br><b>VER : </b>24.0 cm",
          "<b>Support pad</b><br><br><b>LAT : </b>-43.0 cm<br><b>LON : </b>142.0 cm<br><b>VER : </b>24.0 cm",
          "<b>Support pad</b><br><br><b>LAT : </b>-87.0 cm<br><b>LON : </b>135.0 cm<br><b>VER : </b>20.0 cm",
          "<b>Support pad</b><br><br><b>LAT : </b>-40.0 cm<br><b>LON : </b>-143.0 cm<br><b>VER : </b>20.0 cm",
          "<b>Support pad</b><br><br><b>LAT : </b>5.0 cm<br><b>LON : </b>-136.0 cm<br><b>VER : </b>20.0 cm",
          "<b>Support pad</b><br><br><b>LAT : </b>-43.0 cm<br><b>LON : </b>142.0 cm<br><b>VER : </b>20.0 cm"
         ],
         "visible": false,
         "x": [
          134.88920431978073,
          -143.09574254471153,
          -135.52920431978072,
          142.45574254471154,
          134.88920431978073,
          -143.09574254471153,
          -135.52920431978072,
          142.45574254471154
         ],
         "y": [
          24.259999999999998,
          24.259999999999998,
          24.259999999999998,
          24.259999999999998,
          20.259999999999998,
          20.259999999999998,
          20.259999999999998,
          20.259999999999998
         ],
         "z": [
          -87.20813645390051,
          -39.79116357766743,
          4.568136453900493,
          -42.84883642233258,
          -87.20813645390051,
          -39.79116357766743,
          4.568136453900493,
          -42.84883642233258
         ],
         "type": "mesh3d"
        },
        {
         "color": "slateblue",
         "hoverinfo": "text",
         "i": [
          0,
          2,
          4,
          6,
          0,
          1,
          2,
          3,
          0,
          3,
          1,
          2
         ],
         "j": [
          1,
          3,
          5,
          7,
          1,
          5,
          3,
          7,
          3,
          7,
          2,
          6
         ],
         "k": [
          2,
          0,
          6,
          4,
          4,
          4,
          6,
          6,
          4,
          4,
          5,
          5
         ],
         "opacity": 1.0,
         "text": [
          "<b>Support pad</b><br><br><b>LAT : </b>-87.0 cm<br><b>LON : </b>135.0 cm<br><b>VER : </b>24.0 cm",
          "<b>Support pad</b><br><br><b>LAT : </b>-40.0 cm<br><b>LON : </b>-143.0 cm<br><b>VER : </b>24.0 cm",
          "<b>Support pad</b><br><br><b>LAT : </b>5.0 cm<br><b>LON : </b>-136.0 cm<br><b>VER : </b>24.0 cm",
          "<b>Support pad</b><br><br><b>LAT : </b>-43.0 cm<br><b>LON : </b>142.0 cm<br><b>VER : </b>24.0 cm",
          "<b>Support pad</b><br><br><b>LAT : </b>-87.0 cm<br><b>LON : </b>135.0 cm<br><b>VER : </b>20.0 cm",
          "<b>Support pad</b><br><br><b>LAT : </b>-40.0 cm<br><b>LON : </b>-143.0 cm<br><b>VER : </b>20.0 cm",
          "<b>Support pad</b><br><br><b>LAT : </b>5.0 cm<br><b>LON : </b>-136.0 cm<br><b>VER : </b>20.0 cm",
          "<b>Support pad</b><br><br><b>LAT : </b>-43.0 cm<br><b>LON : </b>142.0 cm<br><b>VER : </b>20.0 cm"
         ],
         "visible": false,
         "x": [
          134.88920431978073,
          -143.09574254471153,
          -135.52920431978072,
          142.45574254471154,
          134.88920431978073,
          -143.09574254471153,
          -135.52920431978072,
          142.45574254471154
         ],
         "y": [
          24.259999999999998,
          24.259999999999998,
          24.259999999999998,
          24.259999999999998,
          20.259999999999998,
          20.259999999999998,
          20.259999999999998,
          20.259999999999998
         ],
         "z": [
          -87.20813645390051,
          -39.79116357766743,
          4.568136453900493,
          -42.84883642233258,
          -87.20813645390051,
          -39.79116357766743,
          4.568136453900493,
          -42.84883642233258
         ],
         "type": "mesh3d"
        },
        {
         "color": "slateblue",
         "hoverinfo": "text",
         "i": [
          0,
          2,
          4,
          6,
          0,
          1,
          2,
          3,
          0,
          3,
          1,
          2
         ],
         "j": [
          1,
          3,
          5,
          7,
          1,
          5,
          3,
          7,
          3,
          7,
          2,
          6
         ],
         "k": [
          2,
          0,
          6,
          4,
          4,
          4,
          6,
          6,
          4,
          4,
          5,
          5
         ],
         "opacity": 1.0,
         "text": [
          "<b>Support pad</b><br><br><b>LAT : </b>-97.0 cm<br><b>LON : </b>128.0 cm<br><b>VER : </b>24.0 cm",
          "<b>Support pad</b><br><br><b>LAT : </b>-15.0 cm<br><b>LON : </b>-142.0 cm<br><b>VER : </b>24.0 cm",
          "<b>Support pad</b><br><br><b>LAT : </b>28.0 cm<br><b>LON : </b>-129.0 cm<br><b>VER : </b>24.0 cm",
          "<b>Support pad</b><br><br><b>LAT : </b>-54.0 cm<br><b>LON : </b>141.0 cm<br><b>VER : </b>24.0 cm",
          "<b>Support pad</b><br><br><b>LAT : </b>-97.0 cm<br><b>LON : </b>128.0 cm<br><b>VER : </b>20.0 cm",
          "<b>Support pad</b><br><br><b>LAT : </b>-15.0 cm<br><b>LON : </b>-142.0 cm<br><b>VER : </b>20.0 cm",
          "<b>Support pad</b><br><br><b>LAT : </b>28.0 cm<br><b>LON : </b>-129.0 cm<br><b>VER : </b>20.0 cm",
          "<b>Support pad</b><br><br><b>LAT : </b>-54.0 cm<br><b>LON : </b>141.0 cm<br><b>VER : </b>20.0 cm"
         ],
         "visible": false,
         "x": [
          127.99900271117987,
          -141.8081160201353,
          -128.71900271117988,
          141.08811602013526,
          127.99900271117987,
          -141.8081160201353,
          -128.71900271117988,
          141.08811602013526
         ],
         "y": [
          24.259999999999998,
          24.259999999999998,
          24.259999999999998,
          24.259999999999998,
          20.259999999999998,
          20.259999999999998,
          20.259999999999998,
          20.259999999999998
         ],
         "z": [
          -96.62971876328928,
          -14.604608693835488,
          28.44971876328927,
          -53.57539130616453,
          -96.62971876328928,
          -14.604608693835488,
          28.44971876328927,
          -53.57539130616453
         ],
         "type": "mesh3d"
        },
        {
         "color": "slateblue",
         "hoverinfo": "text",
         "i": [
          0,
          2,
          4,
          6,
          0,
          1,
          2,
          3,
          0,
          3,
          1,
          2
         ],
         "j": [
          1,
          3,
          5,
          7,
          1,
          5,
          3,
          7,
          3,
          7,
          2,
          6
         ],
         "k": [
          2,
          0,
          6,
          4,
          4,
          4,
          6,
          6,
          4,
          4,
          5,
          5
         ],
         "opacity": 1.0,
         "text": [
          "<b>Support pad</b><br><br><b>LAT : </b>-97.0 cm<br><b>LON : </b>128.0 cm<br><b>VER : </b>24.0 cm",
          "<b>Support pad</b><br><br><b>LAT : </b>-15.0 cm<br><b>LON : </b>-142.0 cm<br><b>VER : </b>24.0 cm",
          "<b>Support pad</b><br><br><b>LAT : </b>28.0 cm<br><b>LON : </b>-129.0 cm<br><b>VER : </b>24.0 cm",
          "<b>Support pad</b><br><br><b>LAT : </b>-54.0 cm<br><b>LON : </b>141.0 cm<br><b>VER : </b>24.0 cm",
          "<b>Support pad</b><br><br><b>LAT : </b>-97.0 cm<br><b>LON : </b>128.0 cm<br><b>VER : </b>20.0 cm",
          "<b>Support pad</b><br><br><b>LAT : </b>-15.0 cm<br><b>LON : </b>-142.0 cm<br><b>VER : </b>20.0 cm",
          "<b>Support pad</b><br><br><b>LAT : </b>28.0 cm<br><b>LON : </b>-129.0 cm<br><b>VER : </b>20.0 cm",
          "<b>Support pad</b><br><br><b>LAT : </b>-54.0 cm<br><b>LON : </b>141.0 cm<br><b>VER : </b>20.0 cm"
         ],
         "visible": false,
         "x": [
          127.99900271117987,
          -141.8081160201353,
          -128.71900271117988,
          141.08811602013526,
          127.99900271117987,
          -141.8081160201353,
          -128.71900271117988,
          141.08811602013526
         ],
         "y": [
          24.259999999999998,
          24.259999999999998,
          24.259999999999998,
          24.259999999999998,
          20.259999999999998,
          20.259999999999998,
          20.259999999999998,
          20.259999999999998
         ],
         "z": [
          -96.62971876328928,
          -14.604608693835488,
          28.44971876328927,
          -53.57539130616453,
          -96.62971876328928,
          -14.604608693835488,
          28.44971876328927,
          -53.57539130616453
         ],
         "type": "mesh3d"
        },
        {
         "color": "slateblue",
         "hoverinfo": "text",
         "i": [
          0,
          2,
          4,
          6,
          0,
          1,
          2,
          3,
          0,
          3,
          1,
          2
         ],
         "j": [
          1,
          3,
          5,
          7,
          1,
          5,
          3,
          7,
          3,
          7,
          2,
          6
         ],
         "k": [
          2,
          0,
          6,
          4,
          4,
          4,
          6,
          6,
          4,
          4,
          5,
          5
         ],
         "opacity": 1.0,
         "text": [
          "<b>Support pad</b><br><br><b>LAT : </b>-97.0 cm<br><b>LON : </b>128.0 cm<br><b>VER : </b>24.0 cm",
          "<b>Support pad</b><br><br><b>LAT : </b>-15.0 cm<br><b>LON : </b>-142.0 cm<br><b>VER : </b>24.0 cm",
          "<b>Support pad</b><br><br><b>LAT : </b>28.0 cm<br><b>LON : </b>-129.0 cm<br><b>VER : </b>24.0 cm",
          "<b>Support pad</b><br><br><b>LAT : </b>-54.0 cm<br><b>LON : </b>141.0 cm<br><b>VER : </b>24.0 cm",
          "<b>Support pad</b><br><br><b>LAT : </b>-97.0 cm<br><b>LON : </b>128.0 cm<br><b>VER : </b>20.0 cm",
          "<b>Support pad</b><br><br><b>LAT : </b>-15.0 cm<br><b>LON : </b>-142.0 cm<br><b>VER : </b>20.0 cm",
          "<b>Support pad</b><br><br><b>LAT : </b>28.0 cm<br><b>LON : </b>-129.0 cm<br><b>VER : </b>20.0 cm",
          "<b>Support pad</b><br><br><b>LAT : </b>-54.0 cm<br><b>LON : </b>141.0 cm<br><b>VER : </b>20.0 cm"
         ],
         "visible": false,
         "x": [
          127.99900271117987,
          -141.8081160201353,
          -128.71900271117988,
          141.08811602013526,
          127.99900271117987,
          -141.8081160201353,
          -128.71900271117988,
          141.08811602013526
         ],
         "y": [
          24.259999999999998,
          24.259999999999998,
          24.259999999999998,
          24.259999999999998,
          20.259999999999998,
          20.259999999999998,
          20.259999999999998,
          20.259999999999998
         ],
         "z": [
          -96.62971876328928,
          -14.604608693835488,
          28.44971876328927,
          -53.57539130616453,
          -96.62971876328928,
          -14.604608693835488,
          28.44971876328927,
          -53.57539130616453
         ],
         "type": "mesh3d"
        },
        {
         "color": "slateblue",
         "hoverinfo": "text",
         "i": [
          0,
          2,
          4,
          6,
          0,
          1,
          2,
          3,
          0,
          3,
          1,
          2
         ],
         "j": [
          1,
          3,
          5,
          7,
          1,
          5,
          3,
          7,
          3,
          7,
          2,
          6
         ],
         "k": [
          2,
          0,
          6,
          4,
          4,
          4,
          6,
          6,
          4,
          4,
          5,
          5
         ],
         "opacity": 1.0,
         "text": [
          "<b>Support pad</b><br><br><b>LAT : </b>-97.0 cm<br><b>LON : </b>128.0 cm<br><b>VER : </b>24.0 cm",
          "<b>Support pad</b><br><br><b>LAT : </b>-15.0 cm<br><b>LON : </b>-142.0 cm<br><b>VER : </b>24.0 cm",
          "<b>Support pad</b><br><br><b>LAT : </b>28.0 cm<br><b>LON : </b>-129.0 cm<br><b>VER : </b>24.0 cm",
          "<b>Support pad</b><br><br><b>LAT : </b>-54.0 cm<br><b>LON : </b>141.0 cm<br><b>VER : </b>24.0 cm",
          "<b>Support pad</b><br><br><b>LAT : </b>-97.0 cm<br><b>LON : </b>128.0 cm<br><b>VER : </b>20.0 cm",
          "<b>Support pad</b><br><br><b>LAT : </b>-15.0 cm<br><b>LON : </b>-142.0 cm<br><b>VER : </b>20.0 cm",
          "<b>Support pad</b><br><br><b>LAT : </b>28.0 cm<br><b>LON : </b>-129.0 cm<br><b>VER : </b>20.0 cm",
          "<b>Support pad</b><br><br><b>LAT : </b>-54.0 cm<br><b>LON : </b>141.0 cm<br><b>VER : </b>20.0 cm"
         ],
         "visible": false,
         "x": [
          127.99900271117987,
          -141.8081160201353,
          -128.71900271117988,
          141.08811602013526,
          127.99900271117987,
          -141.8081160201353,
          -128.71900271117988,
          141.08811602013526
         ],
         "y": [
          24.259999999999998,
          24.259999999999998,
          24.259999999999998,
          24.259999999999998,
          20.259999999999998,
          20.259999999999998,
          20.259999999999998,
          20.259999999999998
         ],
         "z": [
          -96.62971876328928,
          -14.604608693835488,
          28.44971876328927,
          -53.57539130616453,
          -96.62971876328928,
          -14.604608693835488,
          28.44971876328927,
          -53.57539130616453
         ],
         "type": "mesh3d"
        },
        {
         "color": "slateblue",
         "hoverinfo": "text",
         "i": [
          0,
          2,
          4,
          6,
          0,
          1,
          2,
          3,
          0,
          3,
          1,
          2
         ],
         "j": [
          1,
          3,
          5,
          7,
          1,
          5,
          3,
          7,
          3,
          7,
          2,
          6
         ],
         "k": [
          2,
          0,
          6,
          4,
          4,
          4,
          6,
          6,
          4,
          4,
          5,
          5
         ],
         "opacity": 1.0,
         "text": [
          "<b>Support pad</b><br><br><b>LAT : </b>-93.0 cm<br><b>LON : </b>122.0 cm<br><b>VER : </b>16.0 cm",
          "<b>Support pad</b><br><br><b>LAT : </b>-25.0 cm<br><b>LON : </b>-151.0 cm<br><b>VER : </b>16.0 cm",
          "<b>Support pad</b><br><br><b>LAT : </b>19.0 cm<br><b>LON : </b>-141.0 cm<br><b>VER : </b>16.0 cm",
          "<b>Support pad</b><br><br><b>LAT : </b>-49.0 cm<br><b>LON : </b>133.0 cm<br><b>VER : </b>16.0 cm",
          "<b>Support pad</b><br><br><b>LAT : </b>-93.0 cm<br><b>LON : </b>122.0 cm<br><b>VER : </b>12.0 cm",
          "<b>Support pad</b><br><br><b>LAT : </b>-25.0 cm<br><b>LON : </b>-151.0 cm<br><b>VER : </b>12.0 cm",
          "<b>Support pad</b><br><br><b>LAT : </b>19.0 cm<br><b>LON : </b>-141.0 cm<br><b>VER : </b>12.0 cm",
          "<b>Support pad</b><br><br><b>LAT : </b>-49.0 cm<br><b>LON : </b>133.0 cm<br><b>VER : </b>12.0 cm"
         ],
         "visible": false,
         "x": [
          122.2972238903211,
          -151.38560162780786,
          -140.53722389032112,
          133.14560162780785,
          122.2972238903211,
          -151.38560162780786,
          -140.53722389032112,
          133.14560162780785
         ],
         "y": [
          16.48,
          16.48,
          16.48,
          16.48,
          12.48,
          12.48,
          12.48,
          12.48
         ],
         "z": [
          -92.87797923050066,
          -24.894812075583744,
          18.777979230500677,
          -49.20518792441625,
          -92.87797923050066,
          -24.894812075583744,
          18.777979230500677,
          -49.20518792441625
         ],
         "type": "mesh3d"
        },
        {
         "color": "slateblue",
         "hoverinfo": "text",
         "i": [
          0,
          2,
          4,
          6,
          0,
          1,
          2,
          3,
          0,
          3,
          1,
          2
         ],
         "j": [
          1,
          3,
          5,
          7,
          1,
          5,
          3,
          7,
          3,
          7,
          2,
          6
         ],
         "k": [
          2,
          0,
          6,
          4,
          4,
          4,
          6,
          6,
          4,
          4,
          5,
          5
         ],
         "opacity": 1.0,
         "text": [
          "<b>Support pad</b><br><br><b>LAT : </b>-93.0 cm<br><b>LON : </b>122.0 cm<br><b>VER : </b>14.0 cm",
          "<b>Support pad</b><br><br><b>LAT : </b>-25.0 cm<br><b>LON : </b>-151.0 cm<br><b>VER : </b>14.0 cm",
          "<b>Support pad</b><br><br><b>LAT : </b>19.0 cm<br><b>LON : </b>-141.0 cm<br><b>VER : </b>14.0 cm",
          "<b>Support pad</b><br><br><b>LAT : </b>-49.0 cm<br><b>LON : </b>133.0 cm<br><b>VER : </b>14.0 cm",
          "<b>Support pad</b><br><br><b>LAT : </b>-93.0 cm<br><b>LON : </b>122.0 cm<br><b>VER : </b>10.0 cm",
          "<b>Support pad</b><br><br><b>LAT : </b>-25.0 cm<br><b>LON : </b>-151.0 cm<br><b>VER : </b>10.0 cm",
          "<b>Support pad</b><br><br><b>LAT : </b>19.0 cm<br><b>LON : </b>-141.0 cm<br><b>VER : </b>10.0 cm",
          "<b>Support pad</b><br><br><b>LAT : </b>-49.0 cm<br><b>LON : </b>133.0 cm<br><b>VER : </b>10.0 cm"
         ],
         "visible": false,
         "x": [
          122.32670352457647,
          -151.3798359214153,
          -140.54670352457646,
          133.15983592141527,
          122.32670352457647,
          -151.3798359214153,
          -140.54670352457646,
          133.15983592141527
         ],
         "y": [
          14.38,
          14.38,
          14.38,
          14.38,
          10.38,
          10.38,
          10.38,
          10.38
         ],
         "z": [
          -92.85210256518293,
          -24.96447287832639,
          18.712102565182917,
          -49.175527121673625,
          -92.85210256518293,
          -24.96447287832639,
          18.712102565182917,
          -49.175527121673625
         ],
         "type": "mesh3d"
        },
        {
         "color": "slateblue",
         "hoverinfo": "text",
         "i": [
          0,
          2,
          4,
          6,
          0,
          1,
          2,
          3,
          0,
          3,
          1,
          2
         ],
         "j": [
          1,
          3,
          5,
          7,
          1,
          5,
          3,
          7,
          3,
          7,
          2,
          6
         ],
         "k": [
          2,
          0,
          6,
          4,
          4,
          4,
          6,
          6,
          4,
          4,
          5,
          5
         ],
         "opacity": 1.0,
         "text": [
          "<b>Support pad</b><br><br><b>LAT : </b>-93.0 cm<br><b>LON : </b>122.0 cm<br><b>VER : </b>15.0 cm",
          "<b>Support pad</b><br><br><b>LAT : </b>-25.0 cm<br><b>LON : </b>-151.0 cm<br><b>VER : </b>15.0 cm",
          "<b>Support pad</b><br><br><b>LAT : </b>19.0 cm<br><b>LON : </b>-141.0 cm<br><b>VER : </b>15.0 cm",
          "<b>Support pad</b><br><br><b>LAT : </b>-49.0 cm<br><b>LON : </b>133.0 cm<br><b>VER : </b>15.0 cm",
          "<b>Support pad</b><br><br><b>LAT : </b>-93.0 cm<br><b>LON : </b>122.0 cm<br><b>VER : </b>11.0 cm",
          "<b>Support pad</b><br><br><b>LAT : </b>-25.0 cm<br><b>LON : </b>-151.0 cm<br><b>VER : </b>11.0 cm",
          "<b>Support pad</b><br><br><b>LAT : </b>19.0 cm<br><b>LON : </b>-141.0 cm<br><b>VER : </b>11.0 cm",
          "<b>Support pad</b><br><br><b>LAT : </b>-49.0 cm<br><b>LON : </b>133.0 cm<br><b>VER : </b>11.0 cm"
         ],
         "visible": false,
         "x": [
          122.32670352457647,
          -151.3798359214153,
          -140.54670352457646,
          133.15983592141527,
          122.32670352457647,
          -151.3798359214153,
          -140.54670352457646,
          133.15983592141527
         ],
         "y": [
          14.59,
          14.59,
          14.59,
          14.59,
          10.59,
          10.59,
          10.59,
          10.59
         ],
         "z": [
          -92.85210256518293,
          -24.96447287832639,
          18.712102565182917,
          -49.175527121673625,
          -92.85210256518293,
          -24.96447287832639,
          18.712102565182917,
          -49.175527121673625
         ],
         "type": "mesh3d"
        },
        {
         "color": "slateblue",
         "hoverinfo": "text",
         "i": [
          0,
          2,
          4,
          6,
          0,
          1,
          2,
          3,
          0,
          3,
          1,
          2
         ],
         "j": [
          1,
          3,
          5,
          7,
          1,
          5,
          3,
          7,
          3,
          7,
          2,
          6
         ],
         "k": [
          2,
          0,
          6,
          4,
          4,
          4,
          6,
          6,
          4,
          4,
          5,
          5
         ],
         "opacity": 1.0,
         "text": [
          "<b>Support pad</b><br><br><b>LAT : </b>-93.0 cm<br><b>LON : </b>122.0 cm<br><b>VER : </b>15.0 cm",
          "<b>Support pad</b><br><br><b>LAT : </b>-25.0 cm<br><b>LON : </b>-151.0 cm<br><b>VER : </b>15.0 cm",
          "<b>Support pad</b><br><br><b>LAT : </b>19.0 cm<br><b>LON : </b>-141.0 cm<br><b>VER : </b>15.0 cm",
          "<b>Support pad</b><br><br><b>LAT : </b>-49.0 cm<br><b>LON : </b>133.0 cm<br><b>VER : </b>15.0 cm",
          "<b>Support pad</b><br><br><b>LAT : </b>-93.0 cm<br><b>LON : </b>122.0 cm<br><b>VER : </b>11.0 cm",
          "<b>Support pad</b><br><br><b>LAT : </b>-25.0 cm<br><b>LON : </b>-151.0 cm<br><b>VER : </b>11.0 cm",
          "<b>Support pad</b><br><br><b>LAT : </b>19.0 cm<br><b>LON : </b>-141.0 cm<br><b>VER : </b>11.0 cm",
          "<b>Support pad</b><br><br><b>LAT : </b>-49.0 cm<br><b>LON : </b>133.0 cm<br><b>VER : </b>11.0 cm"
         ],
         "visible": false,
         "x": [
          122.32670352457647,
          -151.3798359214153,
          -140.54670352457646,
          133.15983592141527,
          122.32670352457647,
          -151.3798359214153,
          -140.54670352457646,
          133.15983592141527
         ],
         "y": [
          14.59,
          14.59,
          14.59,
          14.59,
          10.59,
          10.59,
          10.59,
          10.59
         ],
         "z": [
          -92.85210256518293,
          -24.96447287832639,
          18.712102565182917,
          -49.175527121673625,
          -92.85210256518293,
          -24.96447287832639,
          18.712102565182917,
          -49.175527121673625
         ],
         "type": "mesh3d"
        },
        {
         "color": "slateblue",
         "hoverinfo": "text",
         "i": [
          0,
          2,
          4,
          6,
          0,
          1,
          2,
          3,
          0,
          3,
          1,
          2
         ],
         "j": [
          1,
          3,
          5,
          7,
          1,
          5,
          3,
          7,
          3,
          7,
          2,
          6
         ],
         "k": [
          2,
          0,
          6,
          4,
          4,
          4,
          6,
          6,
          4,
          4,
          5,
          5
         ],
         "opacity": 1.0,
         "text": [
          "<b>Support pad</b><br><br><b>LAT : </b>-93.0 cm<br><b>LON : </b>122.0 cm<br><b>VER : </b>15.0 cm",
          "<b>Support pad</b><br><br><b>LAT : </b>-25.0 cm<br><b>LON : </b>-151.0 cm<br><b>VER : </b>15.0 cm",
          "<b>Support pad</b><br><br><b>LAT : </b>19.0 cm<br><b>LON : </b>-141.0 cm<br><b>VER : </b>15.0 cm",
          "<b>Support pad</b><br><br><b>LAT : </b>-49.0 cm<br><b>LON : </b>133.0 cm<br><b>VER : </b>15.0 cm",
          "<b>Support pad</b><br><br><b>LAT : </b>-93.0 cm<br><b>LON : </b>122.0 cm<br><b>VER : </b>11.0 cm",
          "<b>Support pad</b><br><br><b>LAT : </b>-25.0 cm<br><b>LON : </b>-151.0 cm<br><b>VER : </b>11.0 cm",
          "<b>Support pad</b><br><br><b>LAT : </b>19.0 cm<br><b>LON : </b>-141.0 cm<br><b>VER : </b>11.0 cm",
          "<b>Support pad</b><br><br><b>LAT : </b>-49.0 cm<br><b>LON : </b>133.0 cm<br><b>VER : </b>11.0 cm"
         ],
         "visible": false,
         "x": [
          122.32670352457647,
          -151.3798359214153,
          -140.54670352457646,
          133.15983592141527,
          122.32670352457647,
          -151.3798359214153,
          -140.54670352457646,
          133.15983592141527
         ],
         "y": [
          14.59,
          14.59,
          14.59,
          14.59,
          10.59,
          10.59,
          10.59,
          10.59
         ],
         "z": [
          -92.85210256518293,
          -24.96447287832639,
          18.712102565182917,
          -49.175527121673625,
          -92.85210256518293,
          -24.96447287832639,
          18.712102565182917,
          -49.175527121673625
         ],
         "type": "mesh3d"
        },
        {
         "color": "red",
         "hoverinfo": "text",
         "i": [
          0,
          0,
          0,
          0,
          1,
          1
         ],
         "j": [
          1,
          1,
          3,
          3,
          2,
          3
         ],
         "k": [
          2,
          4,
          2,
          4,
          3,
          4
         ],
         "opacity": 0.4,
         "text": [
          "<b>X-ray beam vertex</b><br><br><b>LAT : </b>-0.0 cm<br><b>LON : </b>-0.0 cm<br><b>VER : </b>78.0 cm",
          "<b>X-ray beam vertex</b><br><br><b>LAT : </b>17.0 cm<br><b>LON : </b>17.0 cm<br><b>VER : </b>-28.0 cm",
          "<b>X-ray beam vertex</b><br><br><b>LAT : </b>-16.0 cm<br><b>LON : </b>17.0 cm<br><b>VER : </b>-29.0 cm",
          "<b>X-ray beam vertex</b><br><br><b>LAT : </b>-16.0 cm<br><b>LON : </b>-17.0 cm<br><b>VER : </b>-29.0 cm",
          "<b>X-ray beam vertex</b><br><br><b>LAT : </b>17.0 cm<br><b>LON : </b>-17.0 cm<br><b>VER : </b>-29.0 cm"
         ],
         "visible": true,
         "x": [
          -0.2740123799496683,
          16.72242617167292,
          16.723033806306784,
          -16.52276364768412,
          -16.52337128231798
         ],
         "y": [
          78.49844569911527,
          -28.454371724694493,
          -28.62844551771029,
          -28.744495714660818,
          -28.57042192164502
         ],
         "z": [
          -0.411023160766437,
          16.772520701607576,
          -16.473023570450376,
          -16.473023570450376,
          16.772520701607576
         ],
         "type": "mesh3d"
        },
        {
         "color": "red",
         "hoverinfo": "text",
         "i": [
          0,
          0,
          0,
          0,
          1,
          1
         ],
         "j": [
          1,
          1,
          3,
          3,
          2,
          3
         ],
         "k": [
          2,
          4,
          2,
          4,
          3,
          4
         ],
         "opacity": 0.4,
         "text": [
          "<b>X-ray beam vertex</b><br><br><b>LAT : </b>-0.0 cm<br><b>LON : </b>-0.0 cm<br><b>VER : </b>78.0 cm",
          "<b>X-ray beam vertex</b><br><br><b>LAT : </b>17.0 cm<br><b>LON : </b>17.0 cm<br><b>VER : </b>-28.0 cm",
          "<b>X-ray beam vertex</b><br><br><b>LAT : </b>-16.0 cm<br><b>LON : </b>17.0 cm<br><b>VER : </b>-29.0 cm",
          "<b>X-ray beam vertex</b><br><br><b>LAT : </b>-16.0 cm<br><b>LON : </b>-17.0 cm<br><b>VER : </b>-29.0 cm",
          "<b>X-ray beam vertex</b><br><br><b>LAT : </b>17.0 cm<br><b>LON : </b>-17.0 cm<br><b>VER : </b>-29.0 cm"
         ],
         "visible": false,
         "x": [
          -0.2740123799496683,
          16.72242617167292,
          16.723033806306784,
          -16.52276364768412,
          -16.52337128231798
         ],
         "y": [
          78.49844569911527,
          -28.454371724694493,
          -28.62844551771029,
          -28.744495714660818,
          -28.57042192164502
         ],
         "z": [
          -0.411023160766437,
          16.772520701607576,
          -16.473023570450376,
          -16.473023570450376,
          16.772520701607576
         ],
         "type": "mesh3d"
        },
        {
         "color": "red",
         "hoverinfo": "text",
         "i": [
          0,
          0,
          0,
          0,
          1,
          1
         ],
         "j": [
          1,
          1,
          3,
          3,
          2,
          3
         ],
         "k": [
          2,
          4,
          2,
          4,
          3,
          4
         ],
         "opacity": 0.4,
         "text": [
          "<b>X-ray beam vertex</b><br><br><b>LAT : </b>-0.0 cm<br><b>LON : </b>-0.0 cm<br><b>VER : </b>78.0 cm",
          "<b>X-ray beam vertex</b><br><br><b>LAT : </b>17.0 cm<br><b>LON : </b>17.0 cm<br><b>VER : </b>-28.0 cm",
          "<b>X-ray beam vertex</b><br><br><b>LAT : </b>-16.0 cm<br><b>LON : </b>17.0 cm<br><b>VER : </b>-29.0 cm",
          "<b>X-ray beam vertex</b><br><br><b>LAT : </b>-16.0 cm<br><b>LON : </b>-17.0 cm<br><b>VER : </b>-29.0 cm",
          "<b>X-ray beam vertex</b><br><br><b>LAT : </b>17.0 cm<br><b>LON : </b>-17.0 cm<br><b>VER : </b>-29.0 cm"
         ],
         "visible": false,
         "x": [
          -0.2740123799496683,
          16.72242617167292,
          16.723033806306784,
          -16.52276364768412,
          -16.52337128231798
         ],
         "y": [
          78.49844569911527,
          -28.454371724694493,
          -28.62844551771029,
          -28.744495714660818,
          -28.57042192164502
         ],
         "z": [
          -0.411023160766437,
          16.772520701607576,
          -16.473023570450376,
          -16.473023570450376,
          16.772520701607576
         ],
         "type": "mesh3d"
        },
        {
         "color": "red",
         "hoverinfo": "text",
         "i": [
          0,
          0,
          0,
          0,
          1,
          1
         ],
         "j": [
          1,
          1,
          3,
          3,
          2,
          3
         ],
         "k": [
          2,
          4,
          2,
          4,
          3,
          4
         ],
         "opacity": 0.4,
         "text": [
          "<b>X-ray beam vertex</b><br><br><b>LAT : </b>-0.0 cm<br><b>LON : </b>-0.0 cm<br><b>VER : </b>78.0 cm",
          "<b>X-ray beam vertex</b><br><br><b>LAT : </b>17.0 cm<br><b>LON : </b>17.0 cm<br><b>VER : </b>-28.0 cm",
          "<b>X-ray beam vertex</b><br><br><b>LAT : </b>-16.0 cm<br><b>LON : </b>17.0 cm<br><b>VER : </b>-29.0 cm",
          "<b>X-ray beam vertex</b><br><br><b>LAT : </b>-16.0 cm<br><b>LON : </b>-17.0 cm<br><b>VER : </b>-29.0 cm",
          "<b>X-ray beam vertex</b><br><br><b>LAT : </b>17.0 cm<br><b>LON : </b>-17.0 cm<br><b>VER : </b>-29.0 cm"
         ],
         "visible": false,
         "x": [
          -0.2740123799496683,
          16.72242617167292,
          16.723033806306784,
          -16.52276364768412,
          -16.52337128231798
         ],
         "y": [
          78.49844569911527,
          -28.454371724694493,
          -28.62844551771029,
          -28.744495714660818,
          -28.57042192164502
         ],
         "z": [
          -0.411023160766437,
          16.772520701607576,
          -16.473023570450376,
          -16.473023570450376,
          16.772520701607576
         ],
         "type": "mesh3d"
        },
        {
         "color": "red",
         "hoverinfo": "text",
         "i": [
          0,
          0,
          0,
          0,
          1,
          1
         ],
         "j": [
          1,
          1,
          3,
          3,
          2,
          3
         ],
         "k": [
          2,
          4,
          2,
          4,
          3,
          4
         ],
         "opacity": 0.4,
         "text": [
          "<b>X-ray beam vertex</b><br><br><b>LAT : </b>-0.0 cm<br><b>LON : </b>-0.0 cm<br><b>VER : </b>78.0 cm",
          "<b>X-ray beam vertex</b><br><br><b>LAT : </b>17.0 cm<br><b>LON : </b>17.0 cm<br><b>VER : </b>-28.0 cm",
          "<b>X-ray beam vertex</b><br><br><b>LAT : </b>-16.0 cm<br><b>LON : </b>17.0 cm<br><b>VER : </b>-29.0 cm",
          "<b>X-ray beam vertex</b><br><br><b>LAT : </b>-16.0 cm<br><b>LON : </b>-17.0 cm<br><b>VER : </b>-29.0 cm",
          "<b>X-ray beam vertex</b><br><br><b>LAT : </b>17.0 cm<br><b>LON : </b>-17.0 cm<br><b>VER : </b>-29.0 cm"
         ],
         "visible": false,
         "x": [
          -0.2740123799496683,
          16.72242617167292,
          16.723033806306784,
          -16.52276364768412,
          -16.52337128231798
         ],
         "y": [
          78.49844569911527,
          -28.454371724694493,
          -28.62844551771029,
          -28.744495714660818,
          -28.57042192164502
         ],
         "z": [
          -0.411023160766437,
          16.772520701607576,
          -16.473023570450376,
          -16.473023570450376,
          16.772520701607576
         ],
         "type": "mesh3d"
        },
        {
         "color": "red",
         "hoverinfo": "text",
         "i": [
          0,
          0,
          0,
          0,
          1,
          1
         ],
         "j": [
          1,
          1,
          3,
          3,
          2,
          3
         ],
         "k": [
          2,
          4,
          2,
          4,
          3,
          4
         ],
         "opacity": 0.4,
         "text": [
          "<b>X-ray beam vertex</b><br><br><b>LAT : </b>-0.0 cm<br><b>LON : </b>-0.0 cm<br><b>VER : </b>78.0 cm",
          "<b>X-ray beam vertex</b><br><br><b>LAT : </b>17.0 cm<br><b>LON : </b>17.0 cm<br><b>VER : </b>-28.0 cm",
          "<b>X-ray beam vertex</b><br><br><b>LAT : </b>-16.0 cm<br><b>LON : </b>17.0 cm<br><b>VER : </b>-29.0 cm",
          "<b>X-ray beam vertex</b><br><br><b>LAT : </b>-16.0 cm<br><b>LON : </b>-17.0 cm<br><b>VER : </b>-29.0 cm",
          "<b>X-ray beam vertex</b><br><br><b>LAT : </b>17.0 cm<br><b>LON : </b>-17.0 cm<br><b>VER : </b>-29.0 cm"
         ],
         "visible": false,
         "x": [
          -0.2740123799496683,
          16.72242617167292,
          16.723033806306784,
          -16.52276364768412,
          -16.52337128231798
         ],
         "y": [
          78.49844569911527,
          -28.454371724694493,
          -28.62844551771029,
          -28.744495714660818,
          -28.57042192164502
         ],
         "z": [
          -0.411023160766437,
          16.772520701607576,
          -16.473023570450376,
          -16.473023570450376,
          16.772520701607576
         ],
         "type": "mesh3d"
        },
        {
         "color": "red",
         "hoverinfo": "text",
         "i": [
          0,
          0,
          0,
          0,
          1,
          1
         ],
         "j": [
          1,
          1,
          3,
          3,
          2,
          3
         ],
         "k": [
          2,
          4,
          2,
          4,
          3,
          4
         ],
         "opacity": 0.4,
         "text": [
          "<b>X-ray beam vertex</b><br><br><b>LAT : </b>-0.0 cm<br><b>LON : </b>-0.0 cm<br><b>VER : </b>78.0 cm",
          "<b>X-ray beam vertex</b><br><br><b>LAT : </b>17.0 cm<br><b>LON : </b>17.0 cm<br><b>VER : </b>-28.0 cm",
          "<b>X-ray beam vertex</b><br><br><b>LAT : </b>-16.0 cm<br><b>LON : </b>17.0 cm<br><b>VER : </b>-29.0 cm",
          "<b>X-ray beam vertex</b><br><br><b>LAT : </b>-16.0 cm<br><b>LON : </b>-17.0 cm<br><b>VER : </b>-29.0 cm",
          "<b>X-ray beam vertex</b><br><br><b>LAT : </b>17.0 cm<br><b>LON : </b>-17.0 cm<br><b>VER : </b>-29.0 cm"
         ],
         "visible": false,
         "x": [
          -0.2740123799496683,
          16.72242617167292,
          16.723033806306784,
          -16.52276364768412,
          -16.52337128231798
         ],
         "y": [
          78.49844569911527,
          -28.454371724694493,
          -28.62844551771029,
          -28.744495714660818,
          -28.57042192164502
         ],
         "z": [
          -0.411023160766437,
          16.772520701607576,
          -16.473023570450376,
          -16.473023570450376,
          16.772520701607576
         ],
         "type": "mesh3d"
        },
        {
         "color": "red",
         "hoverinfo": "text",
         "i": [
          0,
          0,
          0,
          0,
          1,
          1
         ],
         "j": [
          1,
          1,
          3,
          3,
          2,
          3
         ],
         "k": [
          2,
          4,
          2,
          4,
          3,
          4
         ],
         "opacity": 0.4,
         "text": [
          "<b>X-ray beam vertex</b><br><br><b>LAT : </b>-0.0 cm<br><b>LON : </b>-0.0 cm<br><b>VER : </b>78.0 cm",
          "<b>X-ray beam vertex</b><br><br><b>LAT : </b>17.0 cm<br><b>LON : </b>17.0 cm<br><b>VER : </b>-28.0 cm",
          "<b>X-ray beam vertex</b><br><br><b>LAT : </b>-16.0 cm<br><b>LON : </b>17.0 cm<br><b>VER : </b>-29.0 cm",
          "<b>X-ray beam vertex</b><br><br><b>LAT : </b>-16.0 cm<br><b>LON : </b>-17.0 cm<br><b>VER : </b>-29.0 cm",
          "<b>X-ray beam vertex</b><br><br><b>LAT : </b>17.0 cm<br><b>LON : </b>-17.0 cm<br><b>VER : </b>-29.0 cm"
         ],
         "visible": false,
         "x": [
          -0.2740123799496683,
          16.72242617167292,
          16.723033806306784,
          -16.52276364768412,
          -16.52337128231798
         ],
         "y": [
          78.49844569911527,
          -28.454371724694493,
          -28.62844551771029,
          -28.744495714660818,
          -28.57042192164502
         ],
         "z": [
          -0.411023160766437,
          16.772520701607576,
          -16.473023570450376,
          -16.473023570450376,
          16.772520701607576
         ],
         "type": "mesh3d"
        },
        {
         "color": "red",
         "hoverinfo": "text",
         "i": [
          0,
          0,
          0,
          0,
          1,
          1
         ],
         "j": [
          1,
          1,
          3,
          3,
          2,
          3
         ],
         "k": [
          2,
          4,
          2,
          4,
          3,
          4
         ],
         "opacity": 0.4,
         "text": [
          "<b>X-ray beam vertex</b><br><br><b>LAT : </b>-0.0 cm<br><b>LON : </b>-0.0 cm<br><b>VER : </b>78.0 cm",
          "<b>X-ray beam vertex</b><br><br><b>LAT : </b>8.0 cm<br><b>LON : </b>8.0 cm<br><b>VER : </b>-29.0 cm",
          "<b>X-ray beam vertex</b><br><br><b>LAT : </b>-8.0 cm<br><b>LON : </b>8.0 cm<br><b>VER : </b>-29.0 cm",
          "<b>X-ray beam vertex</b><br><br><b>LAT : </b>-8.0 cm<br><b>LON : </b>-8.0 cm<br><b>VER : </b>-29.0 cm",
          "<b>X-ray beam vertex</b><br><br><b>LAT : </b>8.0 cm<br><b>LON : </b>-8.0 cm<br><b>VER : </b>-29.0 cm"
         ],
         "visible": false,
         "x": [
          -0.2740123799496683,
          8.326130788221336,
          8.326431498461092,
          -8.126468264232534,
          -8.12676897447229
         ],
         "y": [
          78.49844569911527,
          -28.527644481770597,
          -28.613791269850037,
          -28.671222957584714,
          -28.585076169505275
         ],
         "z": [
          -0.411023160766437,
          8.376135798752056,
          -8.076638667594857,
          -8.076638667594857,
          8.376135798752056
         ],
         "type": "mesh3d"
        },
        {
         "color": "red",
         "hoverinfo": "text",
         "i": [
          0,
          0,
          0,
          0,
          1,
          1
         ],
         "j": [
          1,
          1,
          3,
          3,
          2,
          3
         ],
         "k": [
          2,
          4,
          2,
          4,
          3,
          4
         ],
         "opacity": 0.4,
         "text": [
          "<b>X-ray beam vertex</b><br><br><b>LAT : </b>-0.0 cm<br><b>LON : </b>-0.0 cm<br><b>VER : </b>78.0 cm",
          "<b>X-ray beam vertex</b><br><br><b>LAT : </b>13.0 cm<br><b>LON : </b>12.0 cm<br><b>VER : </b>-28.0 cm",
          "<b>X-ray beam vertex</b><br><br><b>LAT : </b>-12.0 cm<br><b>LON : </b>12.0 cm<br><b>VER : </b>-29.0 cm",
          "<b>X-ray beam vertex</b><br><br><b>LAT : </b>-12.0 cm<br><b>LON : </b>-12.0 cm<br><b>VER : </b>-29.0 cm",
          "<b>X-ray beam vertex</b><br><br><b>LAT : </b>13.0 cm<br><b>LON : </b>-12.0 cm<br><b>VER : </b>-29.0 cm"
         ],
         "visible": false,
         "x": [
          -0.2740123799496683,
          12.485529424256214,
          12.485982180231371,
          -12.285866900267411,
          -12.286319656242568
         ],
         "y": [
          78.49844569911527,
          -28.491346258337256,
          -28.621050764160135,
          -28.707521181018056,
          -28.577816675195177
         ],
         "z": [
          -0.411023160766437,
          12.535578781355227,
          -12.236081650198027,
          -12.236081650198027,
          12.535578781355227
         ],
         "type": "mesh3d"
        },
        {
         "color": "red",
         "hoverinfo": "text",
         "i": [
          0,
          0,
          0,
          0,
          1,
          1
         ],
         "j": [
          1,
          1,
          3,
          3,
          2,
          3
         ],
         "k": [
          2,
          4,
          2,
          4,
          3,
          4
         ],
         "opacity": 0.4,
         "text": [
          "<b>X-ray beam vertex</b><br><br><b>LAT : </b>-0.0 cm<br><b>LON : </b>-0.0 cm<br><b>VER : </b>78.0 cm",
          "<b>X-ray beam vertex</b><br><br><b>LAT : </b>13.0 cm<br><b>LON : </b>12.0 cm<br><b>VER : </b>-28.0 cm",
          "<b>X-ray beam vertex</b><br><br><b>LAT : </b>-12.0 cm<br><b>LON : </b>12.0 cm<br><b>VER : </b>-29.0 cm",
          "<b>X-ray beam vertex</b><br><br><b>LAT : </b>-12.0 cm<br><b>LON : </b>-12.0 cm<br><b>VER : </b>-29.0 cm",
          "<b>X-ray beam vertex</b><br><br><b>LAT : </b>13.0 cm<br><b>LON : </b>-12.0 cm<br><b>VER : </b>-29.0 cm"
         ],
         "visible": false,
         "x": [
          -0.2740123799496683,
          12.485529424256214,
          12.485982180231371,
          -12.285866900267411,
          -12.286319656242568
         ],
         "y": [
          78.49844569911527,
          -28.491346258337256,
          -28.621050764160135,
          -28.707521181018056,
          -28.577816675195177
         ],
         "z": [
          -0.411023160766437,
          12.535578781355227,
          -12.236081650198027,
          -12.236081650198027,
          12.535578781355227
         ],
         "type": "mesh3d"
        },
        {
         "color": "red",
         "hoverinfo": "text",
         "i": [
          0,
          0,
          0,
          0,
          1,
          1
         ],
         "j": [
          1,
          1,
          3,
          3,
          2,
          3
         ],
         "k": [
          2,
          4,
          2,
          4,
          3,
          4
         ],
         "opacity": 0.4,
         "text": [
          "<b>X-ray beam vertex</b><br><br><b>LAT : </b>-0.0 cm<br><b>LON : </b>-29.0 cm<br><b>VER : </b>73.0 cm",
          "<b>X-ray beam vertex</b><br><br><b>LAT : </b>13.0 cm<br><b>LON : </b>22.0 cm<br><b>VER : </b>-22.0 cm",
          "<b>X-ray beam vertex</b><br><br><b>LAT : </b>-12.0 cm<br><b>LON : </b>22.0 cm<br><b>VER : </b>-22.0 cm",
          "<b>X-ray beam vertex</b><br><br><b>LAT : </b>-12.0 cm<br><b>LON : </b>-1.0 cm<br><b>VER : </b>-31.0 cm",
          "<b>X-ray beam vertex</b><br><br><b>LAT : </b>13.0 cm<br><b>LON : </b>-1.0 cm<br><b>VER : </b>-31.0 cm"
         ],
         "visible": false,
         "x": [
          -28.514830712526646,
          21.946588144521073,
          21.99387302826063,
          -1.1689025807437008,
          -1.216187464483259
         ],
         "y": [
          73.13675881112903,
          -22.069969699055594,
          -22.191249154379634,
          -31.222037995168346,
          -31.10075853984431
         ],
         "z": [
          -0.411023160766437,
          12.580078171360238,
          -12.280581040203039,
          -12.280581040203039,
          12.580078171360238
         ],
         "type": "mesh3d"
        },
        {
         "color": "red",
         "hoverinfo": "text",
         "i": [
          0,
          0,
          0,
          0,
          1,
          1
         ],
         "j": [
          1,
          1,
          3,
          3,
          2,
          3
         ],
         "k": [
          2,
          4,
          2,
          4,
          3,
          4
         ],
         "opacity": 0.4,
         "text": [
          "<b>X-ray beam vertex</b><br><br><b>LAT : </b>-0.0 cm<br><b>LON : </b>53.0 cm<br><b>VER : </b>58.0 cm",
          "<b>X-ray beam vertex</b><br><br><b>LAT : </b>13.0 cm<br><b>LON : </b>-10.0 cm<br><b>VER : </b>-30.0 cm",
          "<b>X-ray beam vertex</b><br><br><b>LAT : </b>-12.0 cm<br><b>LON : </b>-10.0 cm<br><b>VER : </b>-30.0 cm",
          "<b>X-ray beam vertex</b><br><br><b>LAT : </b>-12.0 cm<br><b>LON : </b>-28.0 cm<br><b>VER : </b>-13.0 cm",
          "<b>X-ray beam vertex</b><br><br><b>LAT : </b>13.0 cm<br><b>LON : </b>-28.0 cm<br><b>VER : </b>-13.0 cm"
         ],
         "visible": false,
         "x": [
          52.831160443047516,
          -10.001481534936145,
          -10.060034293846508,
          -28.49459970509338,
          -28.436046946183012
         ],
         "y": [
          58.060687228090316,
          -29.50822806477398,
          -29.57257670661578,
          -12.798412819898193,
          -12.734064178056391
         ],
         "z": [
          -0.274016136095063,
          12.561756707706783,
          -12.362091446755985,
          -12.362091446755985,
          12.561756707706783
         ],
         "type": "mesh3d"
        },
        {
         "color": "red",
         "hoverinfo": "text",
         "i": [
          0,
          0,
          0,
          0,
          1,
          1
         ],
         "j": [
          1,
          1,
          3,
          3,
          2,
          3
         ],
         "k": [
          2,
          4,
          2,
          4,
          3,
          4
         ],
         "opacity": 0.4,
         "text": [
          "<b>X-ray beam vertex</b><br><br><b>LAT : </b>-26.0 cm<br><b>LON : </b>-0.0 cm<br><b>VER : </b>74.0 cm",
          "<b>X-ray beam vertex</b><br><br><b>LAT : </b>21.0 cm<br><b>LON : </b>12.0 cm<br><b>VER : </b>-23.0 cm",
          "<b>X-ray beam vertex</b><br><br><b>LAT : </b>-2.0 cm<br><b>LON : </b>12.0 cm<br><b>VER : </b>-31.0 cm",
          "<b>X-ray beam vertex</b><br><br><b>LAT : </b>-2.0 cm<br><b>LON : </b>-12.0 cm<br><b>VER : </b>-31.0 cm",
          "<b>X-ray beam vertex</b><br><br><b>LAT : </b>21.0 cm<br><b>LON : </b>-12.0 cm<br><b>VER : </b>-23.0 cm"
         ],
         "visible": false,
         "x": [
          -0.12898925693017751,
          12.48165571170861,
          12.496296011959682,
          -12.38766608755057,
          -12.402306387801643
         ],
         "y": [
          73.90532520335475,
          -22.710168378112964,
          -31.09843401263755,
          -31.141864763694564,
          -22.753599129169977
         ],
         "z": [
          -26.461977786211943,
          21.354700909451523,
          -2.07285212765123,
          -2.07285212765123,
          21.354700909451523
         ],
         "type": "mesh3d"
        },
        {
         "color": "red",
         "hoverinfo": "text",
         "i": [
          0,
          0,
          0,
          0,
          1,
          1
         ],
         "j": [
          1,
          1,
          3,
          3,
          2,
          3
         ],
         "k": [
          2,
          4,
          2,
          4,
          3,
          4
         ],
         "opacity": 0.4,
         "text": [
          "<b>X-ray beam vertex</b><br><br><b>LAT : </b>20.0 cm<br><b>LON : </b>-0.0 cm<br><b>VER : </b>76.0 cm",
          "<b>X-ray beam vertex</b><br><br><b>LAT : </b>5.0 cm<br><b>LON : </b>12.0 cm<br><b>VER : </b>-31.0 cm",
          "<b>X-ray beam vertex</b><br><br><b>LAT : </b>-19.0 cm<br><b>LON : </b>12.0 cm<br><b>VER : </b>-24.0 cm",
          "<b>X-ray beam vertex</b><br><br><b>LAT : </b>-19.0 cm<br><b>LON : </b>-12.0 cm<br><b>VER : </b>-25.0 cm",
          "<b>X-ray beam vertex</b><br><br><b>LAT : </b>5.0 cm<br><b>LON : </b>-12.0 cm<br><b>VER : </b>-31.0 cm"
         ],
         "visible": false,
         "x": [
          -0.13252368793756839,
          12.495774014420407,
          12.484753116300405,
          -12.399208983209848,
          -12.388188085089846
         ],
         "y": [
          75.93040294414241,
          -30.79935175715641,
          -24.484848681658487,
          -24.5282794327155,
          -30.842782508213425
         ],
         "z": [
          19.91999864990724,
          4.777268164912021,
          -19.292222595162897,
          -19.292222595162897,
          4.777268164912021
         ],
         "type": "mesh3d"
        },
        {
         "color": "red",
         "hoverinfo": "text",
         "i": [
          0,
          0,
          0,
          0,
          1,
          1
         ],
         "j": [
          1,
          1,
          3,
          3,
          2,
          3
         ],
         "k": [
          2,
          4,
          2,
          4,
          3,
          4
         ],
         "opacity": 0.4,
         "text": [
          "<b>X-ray beam vertex</b><br><br><b>LAT : </b>-0.0 cm<br><b>LON : </b>-0.0 cm<br><b>VER : </b>78.0 cm",
          "<b>X-ray beam vertex</b><br><br><b>LAT : </b>12.0 cm<br><b>LON : </b>12.0 cm<br><b>VER : </b>-29.0 cm",
          "<b>X-ray beam vertex</b><br><br><b>LAT : </b>-12.0 cm<br><b>LON : </b>12.0 cm<br><b>VER : </b>-29.0 cm",
          "<b>X-ray beam vertex</b><br><br><b>LAT : </b>-12.0 cm<br><b>LON : </b>-12.0 cm<br><b>VER : </b>-29.0 cm",
          "<b>X-ray beam vertex</b><br><br><b>LAT : </b>12.0 cm<br><b>LON : </b>-12.0 cm<br><b>VER : </b>-29.0 cm"
         ],
         "visible": false,
         "x": [
          -0.13700639864745945,
          12.38978414333684,
          12.390009680929401,
          -12.289952729290539,
          -12.2901782668831
         ],
         "y": [
          78.49880438075502,
          -28.513415351288003,
          -28.642638741828705,
          -28.685713445899076,
          -28.55649005535837
         ],
         "z": [
          -0.411023160766437,
          12.489579411911846,
          -12.190082280754647,
          -12.190082280754647,
          12.489579411911846
         ],
         "type": "mesh3d"
        },
        {
         "color": "red",
         "hoverinfo": "text",
         "i": [
          0,
          0,
          0,
          0,
          1,
          1
         ],
         "j": [
          1,
          1,
          3,
          3,
          2,
          3
         ],
         "k": [
          2,
          4,
          2,
          4,
          3,
          4
         ],
         "opacity": 0.4,
         "text": [
          "<b>X-ray beam vertex</b><br><br><b>LAT : </b>-0.0 cm<br><b>LON : </b>-0.0 cm<br><b>VER : </b>78.0 cm",
          "<b>X-ray beam vertex</b><br><br><b>LAT : </b>11.0 cm<br><b>LON : </b>11.0 cm<br><b>VER : </b>-29.0 cm",
          "<b>X-ray beam vertex</b><br><br><b>LAT : </b>-11.0 cm<br><b>LON : </b>11.0 cm<br><b>VER : </b>-29.0 cm",
          "<b>X-ray beam vertex</b><br><br><b>LAT : </b>-11.0 cm<br><b>LON : </b>-11.0 cm<br><b>VER : </b>-29.0 cm",
          "<b>X-ray beam vertex</b><br><br><b>LAT : </b>11.0 cm<br><b>LON : </b>-11.0 cm<br><b>VER : </b>-29.0 cm"
         ],
         "visible": false,
         "x": [
          -0.13700639864745945,
          11.093797960722373,
          11.093999811384629,
          -10.993966546676072,
          -10.994168397338328
         ],
         "y": [
          78.49880438075502,
          -28.522463095640347,
          -28.638114888600768,
          -28.67666570154673,
          -28.56101390858631
         ],
         "z": [
          -0.411023160766437,
          11.193597177159182,
          -10.89410004600198,
          -10.89410004600198,
          11.193597177159182
         ],
         "type": "mesh3d"
        },
        {
         "color": "red",
         "hoverinfo": "text",
         "i": [
          0,
          0,
          0,
          0,
          1,
          1
         ],
         "j": [
          1,
          1,
          3,
          3,
          2,
          3
         ],
         "k": [
          2,
          4,
          2,
          4,
          3,
          4
         ],
         "opacity": 0.4,
         "text": [
          "<b>X-ray beam vertex</b><br><br><b>LAT : </b>-0.0 cm<br><b>LON : </b>-0.0 cm<br><b>VER : </b>78.0 cm",
          "<b>X-ray beam vertex</b><br><br><b>LAT : </b>17.0 cm<br><b>LON : </b>17.0 cm<br><b>VER : </b>-28.0 cm",
          "<b>X-ray beam vertex</b><br><br><b>LAT : </b>-16.0 cm<br><b>LON : </b>17.0 cm<br><b>VER : </b>-29.0 cm",
          "<b>X-ray beam vertex</b><br><br><b>LAT : </b>-16.0 cm<br><b>LON : </b>-17.0 cm<br><b>VER : </b>-29.0 cm",
          "<b>X-ray beam vertex</b><br><br><b>LAT : </b>17.0 cm<br><b>LON : </b>-17.0 cm<br><b>VER : </b>-29.0 cm"
         ],
         "visible": false,
         "x": [
          -0.13700639864745945,
          16.6727384798629,
          16.67304229764257,
          -16.572907065816597,
          -16.573210883596268
         ],
         "y": [
          78.49880438075502,
          -28.483514510963072,
          -28.65758909937135,
          -28.715614286224007,
          -28.54153969781573
         ],
         "z": [
          -0.411023160766437,
          16.772520701607576,
          -16.473023570450376,
          -16.473023570450376,
          16.772520701607576
         ],
         "type": "mesh3d"
        },
        {
         "color": "red",
         "hoverinfo": "text",
         "i": [
          0,
          0,
          0,
          0,
          1,
          1
         ],
         "j": [
          1,
          1,
          3,
          3,
          2,
          3
         ],
         "k": [
          2,
          4,
          2,
          4,
          3,
          4
         ],
         "opacity": 0.4,
         "text": [
          "<b>X-ray beam vertex</b><br><br><b>LAT : </b>-0.0 cm<br><b>LON : </b>-0.0 cm<br><b>VER : </b>78.0 cm",
          "<b>X-ray beam vertex</b><br><br><b>LAT : </b>8.0 cm<br><b>LON : </b>8.0 cm<br><b>VER : </b>-29.0 cm",
          "<b>X-ray beam vertex</b><br><br><b>LAT : </b>-8.0 cm<br><b>LON : </b>8.0 cm<br><b>VER : </b>-29.0 cm",
          "<b>X-ray beam vertex</b><br><br><b>LAT : </b>-8.0 cm<br><b>LON : </b>-8.0 cm<br><b>VER : </b>-29.0 cm",
          "<b>X-ray beam vertex</b><br><br><b>LAT : </b>8.0 cm<br><b>LON : </b>-8.0 cm<br><b>VER : </b>-29.0 cm"
         ],
         "visible": false,
         "x": [
          -0.13700639864745945,
          7.842332626794174,
          7.842475049945716,
          -7.7425012127478725,
          -7.742643635899415
         ],
         "y": [
          78.49880438075502,
          -28.545162741289776,
          -28.626765113314775,
          -28.6539660558973,
          -28.572363683872304
         ],
         "z": [
          -0.411023160766437,
          7.942141747916673,
          -7.6426446167594735,
          -7.6426446167594735,
          7.942141747916673
         ],
         "type": "mesh3d"
        },
        {
         "color": "red",
         "hoverinfo": "text",
         "i": [
          0,
          0,
          0,
          0,
          1,
          1
         ],
         "j": [
          1,
          1,
          3,
          3,
          2,
          3
         ],
         "k": [
          2,
          4,
          2,
          4,
          3,
          4
         ],
         "opacity": 0.4,
         "text": [
          "<b>X-ray beam vertex</b><br><br><b>LAT : </b>-0.0 cm<br><b>LON : </b>-78.0 cm<br><b>VER : </b>0.0 cm",
          "<b>X-ray beam vertex</b><br><br><b>LAT : </b>8.0 cm<br><b>LON : </b>30.0 cm<br><b>VER : </b>8.0 cm",
          "<b>X-ray beam vertex</b><br><br><b>LAT : </b>-8.0 cm<br><b>LON : </b>30.0 cm<br><b>VER : </b>8.0 cm",
          "<b>X-ray beam vertex</b><br><br><b>LAT : </b>-8.0 cm<br><b>LON : </b>30.0 cm<br><b>VER : </b>-8.0 cm",
          "<b>X-ray beam vertex</b><br><br><b>LAT : </b>8.0 cm<br><b>LON : </b>30.0 cm<br><b>VER : </b>-8.0 cm"
         ],
         "visible": false,
         "x": [
          -78.49880438075502,
          29.772144695809505,
          29.85434920275801,
          29.826947547413404,
          29.744743040464904
         ],
         "y": [
          0.13700639864745573,
          7.798049708454669,
          7.797906234378363,
          -7.902069853160253,
          -7.901926379083947
         ],
         "z": [
          -0.411023160766437,
          8.005924116318603,
          -7.6938606719659965,
          -7.6938606719659965,
          8.005924116318603
         ],
         "type": "mesh3d"
        },
        {
         "color": "red",
         "hoverinfo": "text",
         "i": [
          0,
          0,
          0,
          0,
          1,
          1
         ],
         "j": [
          1,
          1,
          3,
          3,
          2,
          3
         ],
         "k": [
          2,
          4,
          2,
          4,
          3,
          4
         ],
         "opacity": 0.4,
         "text": [
          "<b>X-ray beam vertex</b><br><br><b>LAT : </b>-0.0 cm<br><b>LON : </b>-78.0 cm<br><b>VER : </b>0.0 cm",
          "<b>X-ray beam vertex</b><br><br><b>LAT : </b>8.0 cm<br><b>LON : </b>30.0 cm<br><b>VER : </b>8.0 cm",
          "<b>X-ray beam vertex</b><br><br><b>LAT : </b>-8.0 cm<br><b>LON : </b>30.0 cm<br><b>VER : </b>8.0 cm",
          "<b>X-ray beam vertex</b><br><br><b>LAT : </b>-8.0 cm<br><b>LON : </b>30.0 cm<br><b>VER : </b>-8.0 cm",
          "<b>X-ray beam vertex</b><br><br><b>LAT : </b>8.0 cm<br><b>LON : </b>30.0 cm<br><b>VER : </b>-8.0 cm"
         ],
         "visible": false,
         "x": [
          -78.49880438075502,
          29.772144695809505,
          29.85434920275801,
          29.826947547413404,
          29.744743040464904
         ],
         "y": [
          0.13700639864745573,
          7.798049708454669,
          7.797906234378363,
          -7.902069853160253,
          -7.901926379083947
         ],
         "z": [
          -0.411023160766437,
          8.005924116318603,
          -7.6938606719659965,
          -7.6938606719659965,
          8.005924116318603
         ],
         "type": "mesh3d"
        },
        {
         "color": "red",
         "hoverinfo": "text",
         "i": [
          0,
          0,
          0,
          0,
          1,
          1
         ],
         "j": [
          1,
          1,
          3,
          3,
          2,
          3
         ],
         "k": [
          2,
          4,
          2,
          4,
          3,
          4
         ],
         "opacity": 0.4,
         "text": [
          "<b>X-ray beam vertex</b><br><br><b>LAT : </b>-0.0 cm<br><b>LON : </b>-78.0 cm<br><b>VER : </b>0.0 cm",
          "<b>X-ray beam vertex</b><br><br><b>LAT : </b>8.0 cm<br><b>LON : </b>30.0 cm<br><b>VER : </b>8.0 cm",
          "<b>X-ray beam vertex</b><br><br><b>LAT : </b>-8.0 cm<br><b>LON : </b>30.0 cm<br><b>VER : </b>8.0 cm",
          "<b>X-ray beam vertex</b><br><br><b>LAT : </b>-8.0 cm<br><b>LON : </b>30.0 cm<br><b>VER : </b>-8.0 cm",
          "<b>X-ray beam vertex</b><br><br><b>LAT : </b>8.0 cm<br><b>LON : </b>30.0 cm<br><b>VER : </b>-8.0 cm"
         ],
         "visible": false,
         "x": [
          -78.49880438075502,
          29.772144695809505,
          29.85434920275801,
          29.826947547413404,
          29.744743040464904
         ],
         "y": [
          0.13700639864745573,
          7.798049708454669,
          7.797906234378363,
          -7.902069853160253,
          -7.901926379083947
         ],
         "z": [
          -0.411023160766437,
          8.005924116318603,
          -7.6938606719659965,
          -7.6938606719659965,
          8.005924116318603
         ],
         "type": "mesh3d"
        },
        {
         "color": "red",
         "hoverinfo": "text",
         "i": [
          0,
          0,
          0,
          0,
          1,
          1
         ],
         "j": [
          1,
          1,
          3,
          3,
          2,
          3
         ],
         "k": [
          2,
          4,
          2,
          4,
          3,
          4
         ],
         "opacity": 0.4,
         "text": [
          "<b>X-ray beam vertex</b><br><br><b>LAT : </b>-0.0 cm<br><b>LON : </b>-78.0 cm<br><b>VER : </b>0.0 cm",
          "<b>X-ray beam vertex</b><br><br><b>LAT : </b>8.0 cm<br><b>LON : </b>30.0 cm<br><b>VER : </b>8.0 cm",
          "<b>X-ray beam vertex</b><br><br><b>LAT : </b>-8.0 cm<br><b>LON : </b>30.0 cm<br><b>VER : </b>8.0 cm",
          "<b>X-ray beam vertex</b><br><br><b>LAT : </b>-8.0 cm<br><b>LON : </b>30.0 cm<br><b>VER : </b>-8.0 cm",
          "<b>X-ray beam vertex</b><br><br><b>LAT : </b>8.0 cm<br><b>LON : </b>30.0 cm<br><b>VER : </b>-8.0 cm"
         ],
         "visible": false,
         "x": [
          -78.49880438075502,
          29.772144695809505,
          29.85434920275801,
          29.826947547413404,
          29.744743040464904
         ],
         "y": [
          0.13700639864745573,
          7.798049708454669,
          7.797906234378363,
          -7.902069853160253,
          -7.901926379083947
         ],
         "z": [
          -0.411023160766437,
          8.005924116318603,
          -7.6938606719659965,
          -7.6938606719659965,
          8.005924116318603
         ],
         "type": "mesh3d"
        },
        {
         "color": "red",
         "hoverinfo": "text",
         "i": [
          0,
          0,
          0,
          0,
          1,
          1
         ],
         "j": [
          1,
          1,
          3,
          3,
          2,
          3
         ],
         "k": [
          2,
          4,
          2,
          4,
          3,
          4
         ],
         "opacity": 0.4,
         "text": [
          "<b>X-ray beam vertex</b><br><br><b>LAT : </b>-1.0 cm<br><b>LON : </b>-0.0 cm<br><b>VER : </b>78.0 cm",
          "<b>X-ray beam vertex</b><br><br><b>LAT : </b>8.0 cm<br><b>LON : </b>8.0 cm<br><b>VER : </b>-30.0 cm",
          "<b>X-ray beam vertex</b><br><br><b>LAT : </b>-8.0 cm<br><b>LON : </b>8.0 cm<br><b>VER : </b>-30.0 cm",
          "<b>X-ray beam vertex</b><br><br><b>LAT : </b>-8.0 cm<br><b>LON : </b>-8.0 cm<br><b>VER : </b>-30.0 cm",
          "<b>X-ray beam vertex</b><br><br><b>LAT : </b>8.0 cm<br><b>LON : </b>-8.0 cm<br><b>VER : </b>-30.0 cm"
         ],
         "visible": false,
         "x": [
          -0.27400570240023286,
          7.953730505316809,
          7.954208747624562,
          -7.745695602602747,
          -7.7461738449104995
         ],
         "y": [
          78.49653272988425,
          -29.702779262501217,
          -29.839785035134554,
          -29.894588262353565,
          -29.757582489720228
         ],
         "z": [
          -0.6850330366223538,
          8.109751853905287,
          -7.589650338202201,
          -7.589650338202201,
          8.109751853905287
         ],
         "type": "mesh3d"
        },
        {
         "hoverinfo": "skip",
         "line": {
          "color": "red",
          "width": 4
         },
         "mode": "lines",
         "visible": true,
         "x": [
          -0.2740123799496683,
          16.72242617167292,
          16.723033806306784,
          -0.2740123799496683,
          16.723033806306784,
          -16.52276364768412,
          -0.2740123799496683,
          -16.52276364768412,
          -16.52337128231798,
          -0.2740123799496683,
          16.72242617167292,
          -16.52337128231798,
          -0.2740123799496683
         ],
         "y": [
          78.49844569911527,
          -28.454371724694493,
          -28.62844551771029,
          78.49844569911527,
          -28.62844551771029,
          -28.744495714660818,
          78.49844569911527,
          -28.744495714660818,
          -28.57042192164502,
          78.49844569911527,
          -28.454371724694493,
          -28.57042192164502,
          78.49844569911527
         ],
         "z": [
          -0.411023160766437,
          16.772520701607576,
          -16.473023570450376,
          -0.411023160766437,
          -16.473023570450376,
          -16.473023570450376,
          -0.411023160766437,
          -16.473023570450376,
          16.772520701607576,
          -0.411023160766437,
          16.772520701607576,
          16.772520701607576,
          -0.411023160766437
         ],
         "type": "scatter3d"
        },
        {
         "hoverinfo": "skip",
         "line": {
          "color": "red",
          "width": 4
         },
         "mode": "lines",
         "visible": false,
         "x": [
          -0.2740123799496683,
          16.72242617167292,
          16.723033806306784,
          -0.2740123799496683,
          16.723033806306784,
          -16.52276364768412,
          -0.2740123799496683,
          -16.52276364768412,
          -16.52337128231798,
          -0.2740123799496683,
          16.72242617167292,
          -16.52337128231798,
          -0.2740123799496683
         ],
         "y": [
          78.49844569911527,
          -28.454371724694493,
          -28.62844551771029,
          78.49844569911527,
          -28.62844551771029,
          -28.744495714660818,
          78.49844569911527,
          -28.744495714660818,
          -28.57042192164502,
          78.49844569911527,
          -28.454371724694493,
          -28.57042192164502,
          78.49844569911527
         ],
         "z": [
          -0.411023160766437,
          16.772520701607576,
          -16.473023570450376,
          -0.411023160766437,
          -16.473023570450376,
          -16.473023570450376,
          -0.411023160766437,
          -16.473023570450376,
          16.772520701607576,
          -0.411023160766437,
          16.772520701607576,
          16.772520701607576,
          -0.411023160766437
         ],
         "type": "scatter3d"
        },
        {
         "hoverinfo": "skip",
         "line": {
          "color": "red",
          "width": 4
         },
         "mode": "lines",
         "visible": false,
         "x": [
          -0.2740123799496683,
          16.72242617167292,
          16.723033806306784,
          -0.2740123799496683,
          16.723033806306784,
          -16.52276364768412,
          -0.2740123799496683,
          -16.52276364768412,
          -16.52337128231798,
          -0.2740123799496683,
          16.72242617167292,
          -16.52337128231798,
          -0.2740123799496683
         ],
         "y": [
          78.49844569911527,
          -28.454371724694493,
          -28.62844551771029,
          78.49844569911527,
          -28.62844551771029,
          -28.744495714660818,
          78.49844569911527,
          -28.744495714660818,
          -28.57042192164502,
          78.49844569911527,
          -28.454371724694493,
          -28.57042192164502,
          78.49844569911527
         ],
         "z": [
          -0.411023160766437,
          16.772520701607576,
          -16.473023570450376,
          -0.411023160766437,
          -16.473023570450376,
          -16.473023570450376,
          -0.411023160766437,
          -16.473023570450376,
          16.772520701607576,
          -0.411023160766437,
          16.772520701607576,
          16.772520701607576,
          -0.411023160766437
         ],
         "type": "scatter3d"
        },
        {
         "hoverinfo": "skip",
         "line": {
          "color": "red",
          "width": 4
         },
         "mode": "lines",
         "visible": false,
         "x": [
          -0.2740123799496683,
          16.72242617167292,
          16.723033806306784,
          -0.2740123799496683,
          16.723033806306784,
          -16.52276364768412,
          -0.2740123799496683,
          -16.52276364768412,
          -16.52337128231798,
          -0.2740123799496683,
          16.72242617167292,
          -16.52337128231798,
          -0.2740123799496683
         ],
         "y": [
          78.49844569911527,
          -28.454371724694493,
          -28.62844551771029,
          78.49844569911527,
          -28.62844551771029,
          -28.744495714660818,
          78.49844569911527,
          -28.744495714660818,
          -28.57042192164502,
          78.49844569911527,
          -28.454371724694493,
          -28.57042192164502,
          78.49844569911527
         ],
         "z": [
          -0.411023160766437,
          16.772520701607576,
          -16.473023570450376,
          -0.411023160766437,
          -16.473023570450376,
          -16.473023570450376,
          -0.411023160766437,
          -16.473023570450376,
          16.772520701607576,
          -0.411023160766437,
          16.772520701607576,
          16.772520701607576,
          -0.411023160766437
         ],
         "type": "scatter3d"
        },
        {
         "hoverinfo": "skip",
         "line": {
          "color": "red",
          "width": 4
         },
         "mode": "lines",
         "visible": false,
         "x": [
          -0.2740123799496683,
          16.72242617167292,
          16.723033806306784,
          -0.2740123799496683,
          16.723033806306784,
          -16.52276364768412,
          -0.2740123799496683,
          -16.52276364768412,
          -16.52337128231798,
          -0.2740123799496683,
          16.72242617167292,
          -16.52337128231798,
          -0.2740123799496683
         ],
         "y": [
          78.49844569911527,
          -28.454371724694493,
          -28.62844551771029,
          78.49844569911527,
          -28.62844551771029,
          -28.744495714660818,
          78.49844569911527,
          -28.744495714660818,
          -28.57042192164502,
          78.49844569911527,
          -28.454371724694493,
          -28.57042192164502,
          78.49844569911527
         ],
         "z": [
          -0.411023160766437,
          16.772520701607576,
          -16.473023570450376,
          -0.411023160766437,
          -16.473023570450376,
          -16.473023570450376,
          -0.411023160766437,
          -16.473023570450376,
          16.772520701607576,
          -0.411023160766437,
          16.772520701607576,
          16.772520701607576,
          -0.411023160766437
         ],
         "type": "scatter3d"
        },
        {
         "hoverinfo": "skip",
         "line": {
          "color": "red",
          "width": 4
         },
         "mode": "lines",
         "visible": false,
         "x": [
          -0.2740123799496683,
          16.72242617167292,
          16.723033806306784,
          -0.2740123799496683,
          16.723033806306784,
          -16.52276364768412,
          -0.2740123799496683,
          -16.52276364768412,
          -16.52337128231798,
          -0.2740123799496683,
          16.72242617167292,
          -16.52337128231798,
          -0.2740123799496683
         ],
         "y": [
          78.49844569911527,
          -28.454371724694493,
          -28.62844551771029,
          78.49844569911527,
          -28.62844551771029,
          -28.744495714660818,
          78.49844569911527,
          -28.744495714660818,
          -28.57042192164502,
          78.49844569911527,
          -28.454371724694493,
          -28.57042192164502,
          78.49844569911527
         ],
         "z": [
          -0.411023160766437,
          16.772520701607576,
          -16.473023570450376,
          -0.411023160766437,
          -16.473023570450376,
          -16.473023570450376,
          -0.411023160766437,
          -16.473023570450376,
          16.772520701607576,
          -0.411023160766437,
          16.772520701607576,
          16.772520701607576,
          -0.411023160766437
         ],
         "type": "scatter3d"
        },
        {
         "hoverinfo": "skip",
         "line": {
          "color": "red",
          "width": 4
         },
         "mode": "lines",
         "visible": false,
         "x": [
          -0.2740123799496683,
          16.72242617167292,
          16.723033806306784,
          -0.2740123799496683,
          16.723033806306784,
          -16.52276364768412,
          -0.2740123799496683,
          -16.52276364768412,
          -16.52337128231798,
          -0.2740123799496683,
          16.72242617167292,
          -16.52337128231798,
          -0.2740123799496683
         ],
         "y": [
          78.49844569911527,
          -28.454371724694493,
          -28.62844551771029,
          78.49844569911527,
          -28.62844551771029,
          -28.744495714660818,
          78.49844569911527,
          -28.744495714660818,
          -28.57042192164502,
          78.49844569911527,
          -28.454371724694493,
          -28.57042192164502,
          78.49844569911527
         ],
         "z": [
          -0.411023160766437,
          16.772520701607576,
          -16.473023570450376,
          -0.411023160766437,
          -16.473023570450376,
          -16.473023570450376,
          -0.411023160766437,
          -16.473023570450376,
          16.772520701607576,
          -0.411023160766437,
          16.772520701607576,
          16.772520701607576,
          -0.411023160766437
         ],
         "type": "scatter3d"
        },
        {
         "hoverinfo": "skip",
         "line": {
          "color": "red",
          "width": 4
         },
         "mode": "lines",
         "visible": false,
         "x": [
          -0.2740123799496683,
          16.72242617167292,
          16.723033806306784,
          -0.2740123799496683,
          16.723033806306784,
          -16.52276364768412,
          -0.2740123799496683,
          -16.52276364768412,
          -16.52337128231798,
          -0.2740123799496683,
          16.72242617167292,
          -16.52337128231798,
          -0.2740123799496683
         ],
         "y": [
          78.49844569911527,
          -28.454371724694493,
          -28.62844551771029,
          78.49844569911527,
          -28.62844551771029,
          -28.744495714660818,
          78.49844569911527,
          -28.744495714660818,
          -28.57042192164502,
          78.49844569911527,
          -28.454371724694493,
          -28.57042192164502,
          78.49844569911527
         ],
         "z": [
          -0.411023160766437,
          16.772520701607576,
          -16.473023570450376,
          -0.411023160766437,
          -16.473023570450376,
          -16.473023570450376,
          -0.411023160766437,
          -16.473023570450376,
          16.772520701607576,
          -0.411023160766437,
          16.772520701607576,
          16.772520701607576,
          -0.411023160766437
         ],
         "type": "scatter3d"
        },
        {
         "hoverinfo": "skip",
         "line": {
          "color": "red",
          "width": 4
         },
         "mode": "lines",
         "visible": false,
         "x": [
          -0.2740123799496683,
          8.326130788221336,
          8.326431498461092,
          -0.2740123799496683,
          8.326431498461092,
          -8.126468264232534,
          -0.2740123799496683,
          -8.126468264232534,
          -8.12676897447229,
          -0.2740123799496683,
          8.326130788221336,
          -8.12676897447229,
          -0.2740123799496683
         ],
         "y": [
          78.49844569911527,
          -28.527644481770597,
          -28.613791269850037,
          78.49844569911527,
          -28.613791269850037,
          -28.671222957584714,
          78.49844569911527,
          -28.671222957584714,
          -28.585076169505275,
          78.49844569911527,
          -28.527644481770597,
          -28.585076169505275,
          78.49844569911527
         ],
         "z": [
          -0.411023160766437,
          8.376135798752056,
          -8.076638667594857,
          -0.411023160766437,
          -8.076638667594857,
          -8.076638667594857,
          -0.411023160766437,
          -8.076638667594857,
          8.376135798752056,
          -0.411023160766437,
          8.376135798752056,
          8.376135798752056,
          -0.411023160766437
         ],
         "type": "scatter3d"
        },
        {
         "hoverinfo": "skip",
         "line": {
          "color": "red",
          "width": 4
         },
         "mode": "lines",
         "visible": false,
         "x": [
          -0.2740123799496683,
          12.485529424256214,
          12.485982180231371,
          -0.2740123799496683,
          12.485982180231371,
          -12.285866900267411,
          -0.2740123799496683,
          -12.285866900267411,
          -12.286319656242568,
          -0.2740123799496683,
          12.485529424256214,
          -12.286319656242568,
          -0.2740123799496683
         ],
         "y": [
          78.49844569911527,
          -28.491346258337256,
          -28.621050764160135,
          78.49844569911527,
          -28.621050764160135,
          -28.707521181018056,
          78.49844569911527,
          -28.707521181018056,
          -28.577816675195177,
          78.49844569911527,
          -28.491346258337256,
          -28.577816675195177,
          78.49844569911527
         ],
         "z": [
          -0.411023160766437,
          12.535578781355227,
          -12.236081650198027,
          -0.411023160766437,
          -12.236081650198027,
          -12.236081650198027,
          -0.411023160766437,
          -12.236081650198027,
          12.535578781355227,
          -0.411023160766437,
          12.535578781355227,
          12.535578781355227,
          -0.411023160766437
         ],
         "type": "scatter3d"
        },
        {
         "hoverinfo": "skip",
         "line": {
          "color": "red",
          "width": 4
         },
         "mode": "lines",
         "visible": false,
         "x": [
          -0.2740123799496683,
          12.485529424256214,
          12.485982180231371,
          -0.2740123799496683,
          12.485982180231371,
          -12.285866900267411,
          -0.2740123799496683,
          -12.285866900267411,
          -12.286319656242568,
          -0.2740123799496683,
          12.485529424256214,
          -12.286319656242568,
          -0.2740123799496683
         ],
         "y": [
          78.49844569911527,
          -28.491346258337256,
          -28.621050764160135,
          78.49844569911527,
          -28.621050764160135,
          -28.707521181018056,
          78.49844569911527,
          -28.707521181018056,
          -28.577816675195177,
          78.49844569911527,
          -28.491346258337256,
          -28.577816675195177,
          78.49844569911527
         ],
         "z": [
          -0.411023160766437,
          12.535578781355227,
          -12.236081650198027,
          -0.411023160766437,
          -12.236081650198027,
          -12.236081650198027,
          -0.411023160766437,
          -12.236081650198027,
          12.535578781355227,
          -0.411023160766437,
          12.535578781355227,
          12.535578781355227,
          -0.411023160766437
         ],
         "type": "scatter3d"
        },
        {
         "hoverinfo": "skip",
         "line": {
          "color": "red",
          "width": 4
         },
         "mode": "lines",
         "visible": false,
         "x": [
          -28.514830712526646,
          21.946588144521073,
          21.99387302826063,
          -28.514830712526646,
          21.99387302826063,
          -1.1689025807437008,
          -28.514830712526646,
          -1.1689025807437008,
          -1.216187464483259,
          -28.514830712526646,
          21.946588144521073,
          -1.216187464483259,
          -28.514830712526646
         ],
         "y": [
          73.13675881112903,
          -22.069969699055594,
          -22.191249154379634,
          73.13675881112903,
          -22.191249154379634,
          -31.222037995168346,
          73.13675881112903,
          -31.222037995168346,
          -31.10075853984431,
          73.13675881112903,
          -22.069969699055594,
          -31.10075853984431,
          73.13675881112903
         ],
         "z": [
          -0.411023160766437,
          12.580078171360238,
          -12.280581040203039,
          -0.411023160766437,
          -12.280581040203039,
          -12.280581040203039,
          -0.411023160766437,
          -12.280581040203039,
          12.580078171360238,
          -0.411023160766437,
          12.580078171360238,
          12.580078171360238,
          -0.411023160766437
         ],
         "type": "scatter3d"
        },
        {
         "hoverinfo": "skip",
         "line": {
          "color": "red",
          "width": 4
         },
         "mode": "lines",
         "visible": false,
         "x": [
          52.831160443047516,
          -10.001481534936145,
          -10.060034293846508,
          52.831160443047516,
          -10.060034293846508,
          -28.49459970509338,
          52.831160443047516,
          -28.49459970509338,
          -28.436046946183012,
          52.831160443047516,
          -10.001481534936145,
          -28.436046946183012,
          52.831160443047516
         ],
         "y": [
          58.060687228090316,
          -29.50822806477398,
          -29.57257670661578,
          58.060687228090316,
          -29.57257670661578,
          -12.798412819898193,
          58.060687228090316,
          -12.798412819898193,
          -12.734064178056391,
          58.060687228090316,
          -29.50822806477398,
          -12.734064178056391,
          58.060687228090316
         ],
         "z": [
          -0.274016136095063,
          12.561756707706783,
          -12.362091446755985,
          -0.274016136095063,
          -12.362091446755985,
          -12.362091446755985,
          -0.274016136095063,
          -12.362091446755985,
          12.561756707706783,
          -0.274016136095063,
          12.561756707706783,
          12.561756707706783,
          -0.274016136095063
         ],
         "type": "scatter3d"
        },
        {
         "hoverinfo": "skip",
         "line": {
          "color": "red",
          "width": 4
         },
         "mode": "lines",
         "visible": false,
         "x": [
          -0.12898925693017751,
          12.48165571170861,
          12.496296011959682,
          -0.12898925693017751,
          12.496296011959682,
          -12.38766608755057,
          -0.12898925693017751,
          -12.38766608755057,
          -12.402306387801643,
          -0.12898925693017751,
          12.48165571170861,
          -12.402306387801643,
          -0.12898925693017751
         ],
         "y": [
          73.90532520335475,
          -22.710168378112964,
          -31.09843401263755,
          73.90532520335475,
          -31.09843401263755,
          -31.141864763694564,
          73.90532520335475,
          -31.141864763694564,
          -22.753599129169977,
          73.90532520335475,
          -22.710168378112964,
          -22.753599129169977,
          73.90532520335475
         ],
         "z": [
          -26.461977786211943,
          21.354700909451523,
          -2.07285212765123,
          -26.461977786211943,
          -2.07285212765123,
          -2.07285212765123,
          -26.461977786211943,
          -2.07285212765123,
          21.354700909451523,
          -26.461977786211943,
          21.354700909451523,
          21.354700909451523,
          -26.461977786211943
         ],
         "type": "scatter3d"
        },
        {
         "hoverinfo": "skip",
         "line": {
          "color": "red",
          "width": 4
         },
         "mode": "lines",
         "visible": false,
         "x": [
          -0.13252368793756839,
          12.495774014420407,
          12.484753116300405,
          -0.13252368793756839,
          12.484753116300405,
          -12.399208983209848,
          -0.13252368793756839,
          -12.399208983209848,
          -12.388188085089846,
          -0.13252368793756839,
          12.495774014420407,
          -12.388188085089846,
          -0.13252368793756839
         ],
         "y": [
          75.93040294414241,
          -30.79935175715641,
          -24.484848681658487,
          75.93040294414241,
          -24.484848681658487,
          -24.5282794327155,
          75.93040294414241,
          -24.5282794327155,
          -30.842782508213425,
          75.93040294414241,
          -30.79935175715641,
          -30.842782508213425,
          75.93040294414241
         ],
         "z": [
          19.91999864990724,
          4.777268164912021,
          -19.292222595162897,
          19.91999864990724,
          -19.292222595162897,
          -19.292222595162897,
          19.91999864990724,
          -19.292222595162897,
          4.777268164912021,
          19.91999864990724,
          4.777268164912021,
          4.777268164912021,
          19.91999864990724
         ],
         "type": "scatter3d"
        },
        {
         "hoverinfo": "skip",
         "line": {
          "color": "red",
          "width": 4
         },
         "mode": "lines",
         "visible": false,
         "x": [
          -0.13700639864745945,
          12.38978414333684,
          12.390009680929401,
          -0.13700639864745945,
          12.390009680929401,
          -12.289952729290539,
          -0.13700639864745945,
          -12.289952729290539,
          -12.2901782668831,
          -0.13700639864745945,
          12.38978414333684,
          -12.2901782668831,
          -0.13700639864745945
         ],
         "y": [
          78.49880438075502,
          -28.513415351288003,
          -28.642638741828705,
          78.49880438075502,
          -28.642638741828705,
          -28.685713445899076,
          78.49880438075502,
          -28.685713445899076,
          -28.55649005535837,
          78.49880438075502,
          -28.513415351288003,
          -28.55649005535837,
          78.49880438075502
         ],
         "z": [
          -0.411023160766437,
          12.489579411911846,
          -12.190082280754647,
          -0.411023160766437,
          -12.190082280754647,
          -12.190082280754647,
          -0.411023160766437,
          -12.190082280754647,
          12.489579411911846,
          -0.411023160766437,
          12.489579411911846,
          12.489579411911846,
          -0.411023160766437
         ],
         "type": "scatter3d"
        },
        {
         "hoverinfo": "skip",
         "line": {
          "color": "red",
          "width": 4
         },
         "mode": "lines",
         "visible": false,
         "x": [
          -0.13700639864745945,
          11.093797960722373,
          11.093999811384629,
          -0.13700639864745945,
          11.093999811384629,
          -10.993966546676072,
          -0.13700639864745945,
          -10.993966546676072,
          -10.994168397338328,
          -0.13700639864745945,
          11.093797960722373,
          -10.994168397338328,
          -0.13700639864745945
         ],
         "y": [
          78.49880438075502,
          -28.522463095640347,
          -28.638114888600768,
          78.49880438075502,
          -28.638114888600768,
          -28.67666570154673,
          78.49880438075502,
          -28.67666570154673,
          -28.56101390858631,
          78.49880438075502,
          -28.522463095640347,
          -28.56101390858631,
          78.49880438075502
         ],
         "z": [
          -0.411023160766437,
          11.193597177159182,
          -10.89410004600198,
          -0.411023160766437,
          -10.89410004600198,
          -10.89410004600198,
          -0.411023160766437,
          -10.89410004600198,
          11.193597177159182,
          -0.411023160766437,
          11.193597177159182,
          11.193597177159182,
          -0.411023160766437
         ],
         "type": "scatter3d"
        },
        {
         "hoverinfo": "skip",
         "line": {
          "color": "red",
          "width": 4
         },
         "mode": "lines",
         "visible": false,
         "x": [
          -0.13700639864745945,
          16.6727384798629,
          16.67304229764257,
          -0.13700639864745945,
          16.67304229764257,
          -16.572907065816597,
          -0.13700639864745945,
          -16.572907065816597,
          -16.573210883596268,
          -0.13700639864745945,
          16.6727384798629,
          -16.573210883596268,
          -0.13700639864745945
         ],
         "y": [
          78.49880438075502,
          -28.483514510963072,
          -28.65758909937135,
          78.49880438075502,
          -28.65758909937135,
          -28.715614286224007,
          78.49880438075502,
          -28.715614286224007,
          -28.54153969781573,
          78.49880438075502,
          -28.483514510963072,
          -28.54153969781573,
          78.49880438075502
         ],
         "z": [
          -0.411023160766437,
          16.772520701607576,
          -16.473023570450376,
          -0.411023160766437,
          -16.473023570450376,
          -16.473023570450376,
          -0.411023160766437,
          -16.473023570450376,
          16.772520701607576,
          -0.411023160766437,
          16.772520701607576,
          16.772520701607576,
          -0.411023160766437
         ],
         "type": "scatter3d"
        },
        {
         "hoverinfo": "skip",
         "line": {
          "color": "red",
          "width": 4
         },
         "mode": "lines",
         "visible": false,
         "x": [
          -0.13700639864745945,
          7.842332626794174,
          7.842475049945716,
          -0.13700639864745945,
          7.842475049945716,
          -7.7425012127478725,
          -0.13700639864745945,
          -7.7425012127478725,
          -7.742643635899415,
          -0.13700639864745945,
          7.842332626794174,
          -7.742643635899415,
          -0.13700639864745945
         ],
         "y": [
          78.49880438075502,
          -28.545162741289776,
          -28.626765113314775,
          78.49880438075502,
          -28.626765113314775,
          -28.6539660558973,
          78.49880438075502,
          -28.6539660558973,
          -28.572363683872304,
          78.49880438075502,
          -28.545162741289776,
          -28.572363683872304,
          78.49880438075502
         ],
         "z": [
          -0.411023160766437,
          7.942141747916673,
          -7.6426446167594735,
          -0.411023160766437,
          -7.6426446167594735,
          -7.6426446167594735,
          -0.411023160766437,
          -7.6426446167594735,
          7.942141747916673,
          -0.411023160766437,
          7.942141747916673,
          7.942141747916673,
          -0.411023160766437
         ],
         "type": "scatter3d"
        },
        {
         "hoverinfo": "skip",
         "line": {
          "color": "red",
          "width": 4
         },
         "mode": "lines",
         "visible": false,
         "x": [
          -78.49880438075502,
          29.772144695809505,
          29.85434920275801,
          -78.49880438075502,
          29.85434920275801,
          29.826947547413404,
          -78.49880438075502,
          29.826947547413404,
          29.744743040464904,
          -78.49880438075502,
          29.772144695809505,
          29.744743040464904,
          -78.49880438075502
         ],
         "y": [
          0.13700639864745573,
          7.798049708454669,
          7.797906234378363,
          0.13700639864745573,
          7.797906234378363,
          -7.902069853160253,
          0.13700639864745573,
          -7.902069853160253,
          -7.901926379083947,
          0.13700639864745573,
          7.798049708454669,
          -7.901926379083947,
          0.13700639864745573
         ],
         "z": [
          -0.411023160766437,
          8.005924116318603,
          -7.6938606719659965,
          -0.411023160766437,
          -7.6938606719659965,
          -7.6938606719659965,
          -0.411023160766437,
          -7.6938606719659965,
          8.005924116318603,
          -0.411023160766437,
          8.005924116318603,
          8.005924116318603,
          -0.411023160766437
         ],
         "type": "scatter3d"
        },
        {
         "hoverinfo": "skip",
         "line": {
          "color": "red",
          "width": 4
         },
         "mode": "lines",
         "visible": false,
         "x": [
          -78.49880438075502,
          29.772144695809505,
          29.85434920275801,
          -78.49880438075502,
          29.85434920275801,
          29.826947547413404,
          -78.49880438075502,
          29.826947547413404,
          29.744743040464904,
          -78.49880438075502,
          29.772144695809505,
          29.744743040464904,
          -78.49880438075502
         ],
         "y": [
          0.13700639864745573,
          7.798049708454669,
          7.797906234378363,
          0.13700639864745573,
          7.797906234378363,
          -7.902069853160253,
          0.13700639864745573,
          -7.902069853160253,
          -7.901926379083947,
          0.13700639864745573,
          7.798049708454669,
          -7.901926379083947,
          0.13700639864745573
         ],
         "z": [
          -0.411023160766437,
          8.005924116318603,
          -7.6938606719659965,
          -0.411023160766437,
          -7.6938606719659965,
          -7.6938606719659965,
          -0.411023160766437,
          -7.6938606719659965,
          8.005924116318603,
          -0.411023160766437,
          8.005924116318603,
          8.005924116318603,
          -0.411023160766437
         ],
         "type": "scatter3d"
        },
        {
         "hoverinfo": "skip",
         "line": {
          "color": "red",
          "width": 4
         },
         "mode": "lines",
         "visible": false,
         "x": [
          -78.49880438075502,
          29.772144695809505,
          29.85434920275801,
          -78.49880438075502,
          29.85434920275801,
          29.826947547413404,
          -78.49880438075502,
          29.826947547413404,
          29.744743040464904,
          -78.49880438075502,
          29.772144695809505,
          29.744743040464904,
          -78.49880438075502
         ],
         "y": [
          0.13700639864745573,
          7.798049708454669,
          7.797906234378363,
          0.13700639864745573,
          7.797906234378363,
          -7.902069853160253,
          0.13700639864745573,
          -7.902069853160253,
          -7.901926379083947,
          0.13700639864745573,
          7.798049708454669,
          -7.901926379083947,
          0.13700639864745573
         ],
         "z": [
          -0.411023160766437,
          8.005924116318603,
          -7.6938606719659965,
          -0.411023160766437,
          -7.6938606719659965,
          -7.6938606719659965,
          -0.411023160766437,
          -7.6938606719659965,
          8.005924116318603,
          -0.411023160766437,
          8.005924116318603,
          8.005924116318603,
          -0.411023160766437
         ],
         "type": "scatter3d"
        },
        {
         "hoverinfo": "skip",
         "line": {
          "color": "red",
          "width": 4
         },
         "mode": "lines",
         "visible": false,
         "x": [
          -78.49880438075502,
          29.772144695809505,
          29.85434920275801,
          -78.49880438075502,
          29.85434920275801,
          29.826947547413404,
          -78.49880438075502,
          29.826947547413404,
          29.744743040464904,
          -78.49880438075502,
          29.772144695809505,
          29.744743040464904,
          -78.49880438075502
         ],
         "y": [
          0.13700639864745573,
          7.798049708454669,
          7.797906234378363,
          0.13700639864745573,
          7.797906234378363,
          -7.902069853160253,
          0.13700639864745573,
          -7.902069853160253,
          -7.901926379083947,
          0.13700639864745573,
          7.798049708454669,
          -7.901926379083947,
          0.13700639864745573
         ],
         "z": [
          -0.411023160766437,
          8.005924116318603,
          -7.6938606719659965,
          -0.411023160766437,
          -7.6938606719659965,
          -7.6938606719659965,
          -0.411023160766437,
          -7.6938606719659965,
          8.005924116318603,
          -0.411023160766437,
          8.005924116318603,
          8.005924116318603,
          -0.411023160766437
         ],
         "type": "scatter3d"
        },
        {
         "hoverinfo": "skip",
         "line": {
          "color": "red",
          "width": 4
         },
         "mode": "lines",
         "visible": false,
         "x": [
          -0.27400570240023286,
          7.953730505316809,
          7.954208747624562,
          -0.27400570240023286,
          7.954208747624562,
          -7.745695602602747,
          -0.27400570240023286,
          -7.745695602602747,
          -7.7461738449104995,
          -0.27400570240023286,
          7.953730505316809,
          -7.7461738449104995,
          -0.27400570240023286
         ],
         "y": [
          78.49653272988425,
          -29.702779262501217,
          -29.839785035134554,
          78.49653272988425,
          -29.839785035134554,
          -29.894588262353565,
          78.49653272988425,
          -29.894588262353565,
          -29.757582489720228,
          78.49653272988425,
          -29.702779262501217,
          -29.757582489720228,
          78.49653272988425
         ],
         "z": [
          -0.6850330366223538,
          8.109751853905287,
          -7.589650338202201,
          -0.6850330366223538,
          -7.589650338202201,
          -7.589650338202201,
          -0.6850330366223538,
          -7.589650338202201,
          8.109751853905287,
          -0.6850330366223538,
          8.109751853905287,
          8.109751853905287,
          -0.6850330366223538
         ],
         "type": "scatter3d"
        },
        {
         "hoverinfo": "skip",
         "line": {
          "color": "#3f3f3f",
          "width": 4
         },
         "mode": "lines",
         "visible": true,
         "x": [
          119.8473600765709,
          119.8473600765709,
          -150.25858346980792,
          -150.25858346980792,
          119.8473600765709,
          132.7785834698079,
          132.7785834698079,
          119.8473600765709,
          132.7785834698079,
          -137.3273600765709,
          -150.25858346980792,
          -150.25858346980792,
          -137.3273600765709,
          132.7785834698079,
          -137.3273600765709,
          -137.3273600765709
         ],
         "y": [
          13.66,
          18.66,
          18.66,
          13.66,
          13.66,
          13.66,
          18.66,
          18.66,
          18.66,
          18.66,
          18.66,
          13.66,
          13.66,
          13.66,
          13.66,
          18.66
         ],
         "z": [
          -96.36883943282898,
          -96.36883943282898,
          -15.333172835210192,
          -15.333172835210192,
          -96.36883943282898,
          -53.2668271647898,
          -53.2668271647898,
          -96.36883943282898,
          -53.2668271647898,
          27.768839432828983,
          -15.333172835210192,
          -15.333172835210192,
          27.768839432828983,
          -53.2668271647898,
          27.768839432828983,
          27.768839432828983
         ],
         "type": "scatter3d"
        },
        {
         "hoverinfo": "skip",
         "line": {
          "color": "#3f3f3f",
          "width": 4
         },
         "mode": "lines",
         "visible": false,
         "x": [
          126.90314584046183,
          126.90314584046183,
          -143.13197790649585,
          -143.13197790649585,
          126.90314584046183,
          139.87197790649586,
          139.87197790649586,
          126.90314584046183,
          139.87197790649586,
          -130.16314584046182,
          -143.13197790649585,
          -143.13197790649585,
          -130.16314584046182,
          139.87197790649586,
          -130.16314584046182,
          -130.16314584046182
         ],
         "y": [
          15.41,
          20.41,
          20.41,
          15.41,
          15.41,
          15.41,
          20.41,
          20.41,
          20.41,
          20.41,
          20.41,
          15.41,
          15.41,
          15.41,
          15.41,
          20.41
         ],
         "z": [
          -96.43102942501491,
          -96.43102942501491,
          -15.159681811201736,
          -15.159681811201736,
          -96.43102942501491,
          -53.34031818879828,
          -53.34031818879828,
          -96.43102942501491,
          -53.34031818879828,
          27.931029425014913,
          -15.159681811201736,
          -15.159681811201736,
          27.931029425014913,
          -53.34031818879828,
          27.931029425014913,
          27.931029425014913
         ],
         "type": "scatter3d"
        },
        {
         "hoverinfo": "skip",
         "line": {
          "color": "#3f3f3f",
          "width": 4
         },
         "mode": "lines",
         "visible": false,
         "x": [
          126.90314584046183,
          126.90314584046183,
          -143.13197790649585,
          -143.13197790649585,
          126.90314584046183,
          139.87197790649586,
          139.87197790649586,
          126.90314584046183,
          139.87197790649586,
          -130.16314584046182,
          -143.13197790649585,
          -143.13197790649585,
          -130.16314584046182,
          139.87197790649586,
          -130.16314584046182,
          -130.16314584046182
         ],
         "y": [
          15.41,
          20.41,
          20.41,
          15.41,
          15.41,
          15.41,
          20.41,
          20.41,
          20.41,
          20.41,
          20.41,
          15.41,
          15.41,
          15.41,
          15.41,
          20.41
         ],
         "z": [
          -96.43102942501491,
          -96.43102942501491,
          -15.159681811201736,
          -15.159681811201736,
          -96.43102942501491,
          -53.34031818879828,
          -53.34031818879828,
          -96.43102942501491,
          -53.34031818879828,
          27.931029425014913,
          -15.159681811201736,
          -15.159681811201736,
          27.931029425014913,
          -53.34031818879828,
          27.931029425014913,
          27.931029425014913
         ],
         "type": "scatter3d"
        },
        {
         "hoverinfo": "skip",
         "line": {
          "color": "#3f3f3f",
          "width": 4
         },
         "mode": "lines",
         "visible": false,
         "x": [
          126.90314584046183,
          126.90314584046183,
          -143.13197790649585,
          -143.13197790649585,
          126.90314584046183,
          139.87197790649586,
          139.87197790649586,
          126.90314584046183,
          139.87197790649586,
          -130.16314584046182,
          -143.13197790649585,
          -143.13197790649585,
          -130.16314584046182,
          139.87197790649586,
          -130.16314584046182,
          -130.16314584046182
         ],
         "y": [
          15.41,
          20.41,
          20.41,
          15.41,
          15.41,
          15.41,
          20.41,
          20.41,
          20.41,
          20.41,
          20.41,
          15.41,
          15.41,
          15.41,
          15.41,
          20.41
         ],
         "z": [
          -96.43102942501491,
          -96.43102942501491,
          -15.159681811201736,
          -15.159681811201736,
          -96.43102942501491,
          -53.34031818879828,
          -53.34031818879828,
          -96.43102942501491,
          -53.34031818879828,
          27.931029425014913,
          -15.159681811201736,
          -15.159681811201736,
          27.931029425014913,
          -53.34031818879828,
          27.931029425014913,
          27.931029425014913
         ],
         "type": "scatter3d"
        },
        {
         "hoverinfo": "skip",
         "line": {
          "color": "#3f3f3f",
          "width": 4
         },
         "mode": "lines",
         "visible": false,
         "x": [
          126.90314584046183,
          126.90314584046183,
          -143.13197790649585,
          -143.13197790649585,
          126.90314584046183,
          139.87197790649586,
          139.87197790649586,
          126.90314584046183,
          139.87197790649586,
          -130.16314584046182,
          -143.13197790649585,
          -143.13197790649585,
          -130.16314584046182,
          139.87197790649586,
          -130.16314584046182,
          -130.16314584046182
         ],
         "y": [
          15.41,
          20.41,
          20.41,
          15.41,
          15.41,
          15.41,
          20.41,
          20.41,
          20.41,
          20.41,
          20.41,
          15.41,
          15.41,
          15.41,
          15.41,
          20.41
         ],
         "z": [
          -96.43102942501491,
          -96.43102942501491,
          -15.159681811201736,
          -15.159681811201736,
          -96.43102942501491,
          -53.34031818879828,
          -53.34031818879828,
          -96.43102942501491,
          -53.34031818879828,
          27.931029425014913,
          -15.159681811201736,
          -15.159681811201736,
          27.931029425014913,
          -53.34031818879828,
          27.931029425014913,
          27.931029425014913
         ],
         "type": "scatter3d"
        },
        {
         "hoverinfo": "skip",
         "line": {
          "color": "#3f3f3f",
          "width": 4
         },
         "mode": "lines",
         "visible": false,
         "x": [
          126.90314584046183,
          126.90314584046183,
          -143.13197790649585,
          -143.13197790649585,
          126.90314584046183,
          139.87197790649586,
          139.87197790649586,
          126.90314584046183,
          139.87197790649586,
          -130.16314584046182,
          -143.13197790649585,
          -143.13197790649585,
          -130.16314584046182,
          139.87197790649586,
          -130.16314584046182,
          -130.16314584046182
         ],
         "y": [
          15.41,
          20.41,
          20.41,
          15.41,
          15.41,
          15.41,
          20.41,
          20.41,
          20.41,
          20.41,
          20.41,
          15.41,
          15.41,
          15.41,
          15.41,
          20.41
         ],
         "z": [
          -96.43102942501491,
          -96.43102942501491,
          -15.159681811201736,
          -15.159681811201736,
          -96.43102942501491,
          -53.34031818879828,
          -53.34031818879828,
          -96.43102942501491,
          -53.34031818879828,
          27.931029425014913,
          -15.159681811201736,
          -15.159681811201736,
          27.931029425014913,
          -53.34031818879828,
          27.931029425014913,
          27.931029425014913
         ],
         "type": "scatter3d"
        },
        {
         "hoverinfo": "skip",
         "line": {
          "color": "#3f3f3f",
          "width": 4
         },
         "mode": "lines",
         "visible": false,
         "x": [
          130.48617146952344,
          130.48617146952344,
          -144.07431399721017,
          -144.07431399721017,
          130.48617146952344,
          140.75431399721018,
          140.75431399721018,
          130.48617146952344,
          140.75431399721018,
          -133.80617146952343,
          -144.07431399721017,
          -144.07431399721017,
          -133.80617146952343,
          140.75431399721018,
          -133.80617146952343,
          -133.80617146952343
         ],
         "y": [
          24.259999999999998,
          29.259999999999998,
          29.259999999999998,
          24.259999999999998,
          24.259999999999998,
          24.259999999999998,
          29.259999999999998,
          29.259999999999998,
          29.259999999999998,
          29.259999999999998,
          29.259999999999998,
          24.259999999999998,
          24.259999999999998,
          24.259999999999998,
          24.259999999999998,
          29.259999999999998
         ],
         "z": [
          -91.88993496618973,
          -91.88993496618973,
          -27.54290845935286,
          -27.54290845935286,
          -91.88993496618973,
          -48.07709154064712,
          -48.07709154064712,
          -91.88993496618973,
          -48.07709154064712,
          16.269934966189737,
          -27.54290845935286,
          -27.54290845935286,
          16.269934966189737,
          -48.07709154064712,
          16.269934966189737,
          16.269934966189737
         ],
         "type": "scatter3d"
        },
        {
         "hoverinfo": "skip",
         "line": {
          "color": "#3f3f3f",
          "width": 4
         },
         "mode": "lines",
         "visible": false,
         "x": [
          130.48617146952344,
          130.48617146952344,
          -144.07431399721017,
          -144.07431399721017,
          130.48617146952344,
          140.75431399721018,
          140.75431399721018,
          130.48617146952344,
          140.75431399721018,
          -133.80617146952343,
          -144.07431399721017,
          -144.07431399721017,
          -133.80617146952343,
          140.75431399721018,
          -133.80617146952343,
          -133.80617146952343
         ],
         "y": [
          24.259999999999998,
          29.259999999999998,
          29.259999999999998,
          24.259999999999998,
          24.259999999999998,
          24.259999999999998,
          29.259999999999998,
          29.259999999999998,
          29.259999999999998,
          29.259999999999998,
          29.259999999999998,
          24.259999999999998,
          24.259999999999998,
          24.259999999999998,
          24.259999999999998,
          29.259999999999998
         ],
         "z": [
          -91.88993496618973,
          -91.88993496618973,
          -27.54290845935286,
          -27.54290845935286,
          -91.88993496618973,
          -48.07709154064712,
          -48.07709154064712,
          -91.88993496618973,
          -48.07709154064712,
          16.269934966189737,
          -27.54290845935286,
          -27.54290845935286,
          16.269934966189737,
          -48.07709154064712,
          16.269934966189737,
          16.269934966189737
         ],
         "type": "scatter3d"
        },
        {
         "hoverinfo": "skip",
         "line": {
          "color": "#3f3f3f",
          "width": 4
         },
         "mode": "lines",
         "visible": false,
         "x": [
          130.48617146952344,
          130.48617146952344,
          -144.07431399721017,
          -144.07431399721017,
          130.48617146952344,
          140.75431399721018,
          140.75431399721018,
          130.48617146952344,
          140.75431399721018,
          -133.80617146952343,
          -144.07431399721017,
          -144.07431399721017,
          -133.80617146952343,
          140.75431399721018,
          -133.80617146952343,
          -133.80617146952343
         ],
         "y": [
          24.259999999999998,
          29.259999999999998,
          29.259999999999998,
          24.259999999999998,
          24.259999999999998,
          24.259999999999998,
          29.259999999999998,
          29.259999999999998,
          29.259999999999998,
          29.259999999999998,
          29.259999999999998,
          24.259999999999998,
          24.259999999999998,
          24.259999999999998,
          24.259999999999998,
          29.259999999999998
         ],
         "z": [
          -91.88993496618973,
          -91.88993496618973,
          -27.54290845935286,
          -27.54290845935286,
          -91.88993496618973,
          -48.07709154064712,
          -48.07709154064712,
          -91.88993496618973,
          -48.07709154064712,
          16.269934966189737,
          -27.54290845935286,
          -27.54290845935286,
          16.269934966189737,
          -48.07709154064712,
          16.269934966189737,
          16.269934966189737
         ],
         "type": "scatter3d"
        },
        {
         "hoverinfo": "skip",
         "line": {
          "color": "#3f3f3f",
          "width": 4
         },
         "mode": "lines",
         "visible": false,
         "x": [
          130.48617146952344,
          130.48617146952344,
          -144.07431399721017,
          -144.07431399721017,
          130.48617146952344,
          140.75431399721018,
          140.75431399721018,
          130.48617146952344,
          140.75431399721018,
          -133.80617146952343,
          -144.07431399721017,
          -144.07431399721017,
          -133.80617146952343,
          140.75431399721018,
          -133.80617146952343,
          -133.80617146952343
         ],
         "y": [
          24.259999999999998,
          29.259999999999998,
          29.259999999999998,
          24.259999999999998,
          24.259999999999998,
          24.259999999999998,
          29.259999999999998,
          29.259999999999998,
          29.259999999999998,
          29.259999999999998,
          29.259999999999998,
          24.259999999999998,
          24.259999999999998,
          24.259999999999998,
          24.259999999999998,
          29.259999999999998
         ],
         "z": [
          -91.88993496618973,
          -91.88993496618973,
          -27.54290845935286,
          -27.54290845935286,
          -91.88993496618973,
          -48.07709154064712,
          -48.07709154064712,
          -91.88993496618973,
          -48.07709154064712,
          16.269934966189737,
          -27.54290845935286,
          -27.54290845935286,
          16.269934966189737,
          -48.07709154064712,
          16.269934966189737,
          16.269934966189737
         ],
         "type": "scatter3d"
        },
        {
         "hoverinfo": "skip",
         "line": {
          "color": "#3f3f3f",
          "width": 4
         },
         "mode": "lines",
         "visible": false,
         "x": [
          130.48617146952344,
          130.48617146952344,
          -144.07431399721017,
          -144.07431399721017,
          130.48617146952344,
          140.75431399721018,
          140.75431399721018,
          130.48617146952344,
          140.75431399721018,
          -133.80617146952343,
          -144.07431399721017,
          -144.07431399721017,
          -133.80617146952343,
          140.75431399721018,
          -133.80617146952343,
          -133.80617146952343
         ],
         "y": [
          24.259999999999998,
          29.259999999999998,
          29.259999999999998,
          24.259999999999998,
          24.259999999999998,
          24.259999999999998,
          29.259999999999998,
          29.259999999999998,
          29.259999999999998,
          29.259999999999998,
          29.259999999999998,
          24.259999999999998,
          24.259999999999998,
          24.259999999999998,
          24.259999999999998,
          29.259999999999998
         ],
         "z": [
          -91.88993496618973,
          -91.88993496618973,
          -27.54290845935286,
          -27.54290845935286,
          -91.88993496618973,
          -48.07709154064712,
          -48.07709154064712,
          -91.88993496618973,
          -48.07709154064712,
          16.269934966189737,
          -27.54290845935286,
          -27.54290845935286,
          16.269934966189737,
          -48.07709154064712,
          16.269934966189737,
          16.269934966189737
         ],
         "type": "scatter3d"
        },
        {
         "hoverinfo": "skip",
         "line": {
          "color": "#3f3f3f",
          "width": 4
         },
         "mode": "lines",
         "visible": false,
         "x": [
          130.48617146952344,
          130.48617146952344,
          -144.07431399721017,
          -144.07431399721017,
          130.48617146952344,
          140.75431399721018,
          140.75431399721018,
          130.48617146952344,
          140.75431399721018,
          -133.80617146952343,
          -144.07431399721017,
          -144.07431399721017,
          -133.80617146952343,
          140.75431399721018,
          -133.80617146952343,
          -133.80617146952343
         ],
         "y": [
          24.259999999999998,
          29.259999999999998,
          29.259999999999998,
          24.259999999999998,
          24.259999999999998,
          24.259999999999998,
          29.259999999999998,
          29.259999999999998,
          29.259999999999998,
          29.259999999999998,
          29.259999999999998,
          24.259999999999998,
          24.259999999999998,
          24.259999999999998,
          24.259999999999998,
          29.259999999999998
         ],
         "z": [
          -91.88993496618973,
          -91.88993496618973,
          -27.54290845935286,
          -27.54290845935286,
          -91.88993496618973,
          -48.07709154064712,
          -48.07709154064712,
          -91.88993496618973,
          -48.07709154064712,
          16.269934966189737,
          -27.54290845935286,
          -27.54290845935286,
          16.269934966189737,
          -48.07709154064712,
          16.269934966189737,
          16.269934966189737
         ],
         "type": "scatter3d"
        },
        {
         "hoverinfo": "skip",
         "line": {
          "color": "#3f3f3f",
          "width": 4
         },
         "mode": "lines",
         "visible": false,
         "x": [
          134.2966633080048,
          134.2966633080048,
          -144.45116372825,
          -144.45116372825,
          134.2966633080048,
          141.11116372825003,
          141.11116372825003,
          134.2966633080048,
          141.11116372825003,
          -137.63666330800478,
          -144.45116372825,
          -144.45116372825,
          -137.63666330800478,
          141.11116372825003,
          -137.63666330800478,
          -137.63666330800478
         ],
         "y": [
          24.259999999999998,
          29.259999999999998,
          29.259999999999998,
          24.259999999999998,
          24.259999999999998,
          24.259999999999998,
          29.259999999999998,
          29.259999999999998,
          29.259999999999998,
          29.259999999999998,
          29.259999999999998,
          24.259999999999998,
          24.259999999999998,
          24.259999999999998,
          24.259999999999998,
          29.259999999999998
         ],
         "z": [
          -85.88261943136311,
          -85.88261943136311,
          -43.17841679782646,
          -43.17841679782646,
          -85.88261943136311,
          -41.401583202173526,
          -41.401583202173526,
          -85.88261943136311,
          -41.401583202173526,
          1.3026194313631265,
          -43.17841679782646,
          -43.17841679782646,
          1.3026194313631265,
          -41.401583202173526,
          1.3026194313631265,
          1.3026194313631265
         ],
         "type": "scatter3d"
        },
        {
         "hoverinfo": "skip",
         "line": {
          "color": "#3f3f3f",
          "width": 4
         },
         "mode": "lines",
         "visible": false,
         "x": [
          134.88920431978073,
          134.88920431978073,
          -143.09574254471153,
          -143.09574254471153,
          134.88920431978073,
          142.45574254471154,
          142.45574254471154,
          134.88920431978073,
          142.45574254471154,
          -135.52920431978072,
          -143.09574254471153,
          -143.09574254471153,
          -135.52920431978072,
          142.45574254471154,
          -135.52920431978072,
          -135.52920431978072
         ],
         "y": [
          24.259999999999998,
          29.259999999999998,
          29.259999999999998,
          24.259999999999998,
          24.259999999999998,
          24.259999999999998,
          29.259999999999998,
          29.259999999999998,
          29.259999999999998,
          29.259999999999998,
          29.259999999999998,
          24.259999999999998,
          24.259999999999998,
          24.259999999999998,
          24.259999999999998,
          29.259999999999998
         ],
         "z": [
          -87.20813645390051,
          -87.20813645390051,
          -39.79116357766743,
          -39.79116357766743,
          -87.20813645390051,
          -42.84883642233258,
          -42.84883642233258,
          -87.20813645390051,
          -42.84883642233258,
          4.568136453900493,
          -39.79116357766743,
          -39.79116357766743,
          4.568136453900493,
          -42.84883642233258,
          4.568136453900493,
          4.568136453900493
         ],
         "type": "scatter3d"
        },
        {
         "hoverinfo": "skip",
         "line": {
          "color": "#3f3f3f",
          "width": 4
         },
         "mode": "lines",
         "visible": false,
         "x": [
          134.88920431978073,
          134.88920431978073,
          -143.09574254471153,
          -143.09574254471153,
          134.88920431978073,
          142.45574254471154,
          142.45574254471154,
          134.88920431978073,
          142.45574254471154,
          -135.52920431978072,
          -143.09574254471153,
          -143.09574254471153,
          -135.52920431978072,
          142.45574254471154,
          -135.52920431978072,
          -135.52920431978072
         ],
         "y": [
          24.259999999999998,
          29.259999999999998,
          29.259999999999998,
          24.259999999999998,
          24.259999999999998,
          24.259999999999998,
          29.259999999999998,
          29.259999999999998,
          29.259999999999998,
          29.259999999999998,
          29.259999999999998,
          24.259999999999998,
          24.259999999999998,
          24.259999999999998,
          24.259999999999998,
          29.259999999999998
         ],
         "z": [
          -87.20813645390051,
          -87.20813645390051,
          -39.79116357766743,
          -39.79116357766743,
          -87.20813645390051,
          -42.84883642233258,
          -42.84883642233258,
          -87.20813645390051,
          -42.84883642233258,
          4.568136453900493,
          -39.79116357766743,
          -39.79116357766743,
          4.568136453900493,
          -42.84883642233258,
          4.568136453900493,
          4.568136453900493
         ],
         "type": "scatter3d"
        },
        {
         "hoverinfo": "skip",
         "line": {
          "color": "#3f3f3f",
          "width": 4
         },
         "mode": "lines",
         "visible": false,
         "x": [
          127.99900271117987,
          127.99900271117987,
          -141.8081160201353,
          -141.8081160201353,
          127.99900271117987,
          141.08811602013526,
          141.08811602013526,
          127.99900271117987,
          141.08811602013526,
          -128.71900271117988,
          -141.8081160201353,
          -141.8081160201353,
          -128.71900271117988,
          141.08811602013526,
          -128.71900271117988,
          -128.71900271117988
         ],
         "y": [
          24.259999999999998,
          29.259999999999998,
          29.259999999999998,
          24.259999999999998,
          24.259999999999998,
          24.259999999999998,
          29.259999999999998,
          29.259999999999998,
          29.259999999999998,
          29.259999999999998,
          29.259999999999998,
          24.259999999999998,
          24.259999999999998,
          24.259999999999998,
          24.259999999999998,
          29.259999999999998
         ],
         "z": [
          -96.62971876328928,
          -96.62971876328928,
          -14.604608693835488,
          -14.604608693835488,
          -96.62971876328928,
          -53.57539130616453,
          -53.57539130616453,
          -96.62971876328928,
          -53.57539130616453,
          28.44971876328927,
          -14.604608693835488,
          -14.604608693835488,
          28.44971876328927,
          -53.57539130616453,
          28.44971876328927,
          28.44971876328927
         ],
         "type": "scatter3d"
        },
        {
         "hoverinfo": "skip",
         "line": {
          "color": "#3f3f3f",
          "width": 4
         },
         "mode": "lines",
         "visible": false,
         "x": [
          127.99900271117987,
          127.99900271117987,
          -141.8081160201353,
          -141.8081160201353,
          127.99900271117987,
          141.08811602013526,
          141.08811602013526,
          127.99900271117987,
          141.08811602013526,
          -128.71900271117988,
          -141.8081160201353,
          -141.8081160201353,
          -128.71900271117988,
          141.08811602013526,
          -128.71900271117988,
          -128.71900271117988
         ],
         "y": [
          24.259999999999998,
          29.259999999999998,
          29.259999999999998,
          24.259999999999998,
          24.259999999999998,
          24.259999999999998,
          29.259999999999998,
          29.259999999999998,
          29.259999999999998,
          29.259999999999998,
          29.259999999999998,
          24.259999999999998,
          24.259999999999998,
          24.259999999999998,
          24.259999999999998,
          29.259999999999998
         ],
         "z": [
          -96.62971876328928,
          -96.62971876328928,
          -14.604608693835488,
          -14.604608693835488,
          -96.62971876328928,
          -53.57539130616453,
          -53.57539130616453,
          -96.62971876328928,
          -53.57539130616453,
          28.44971876328927,
          -14.604608693835488,
          -14.604608693835488,
          28.44971876328927,
          -53.57539130616453,
          28.44971876328927,
          28.44971876328927
         ],
         "type": "scatter3d"
        },
        {
         "hoverinfo": "skip",
         "line": {
          "color": "#3f3f3f",
          "width": 4
         },
         "mode": "lines",
         "visible": false,
         "x": [
          127.99900271117987,
          127.99900271117987,
          -141.8081160201353,
          -141.8081160201353,
          127.99900271117987,
          141.08811602013526,
          141.08811602013526,
          127.99900271117987,
          141.08811602013526,
          -128.71900271117988,
          -141.8081160201353,
          -141.8081160201353,
          -128.71900271117988,
          141.08811602013526,
          -128.71900271117988,
          -128.71900271117988
         ],
         "y": [
          24.259999999999998,
          29.259999999999998,
          29.259999999999998,
          24.259999999999998,
          24.259999999999998,
          24.259999999999998,
          29.259999999999998,
          29.259999999999998,
          29.259999999999998,
          29.259999999999998,
          29.259999999999998,
          24.259999999999998,
          24.259999999999998,
          24.259999999999998,
          24.259999999999998,
          29.259999999999998
         ],
         "z": [
          -96.62971876328928,
          -96.62971876328928,
          -14.604608693835488,
          -14.604608693835488,
          -96.62971876328928,
          -53.57539130616453,
          -53.57539130616453,
          -96.62971876328928,
          -53.57539130616453,
          28.44971876328927,
          -14.604608693835488,
          -14.604608693835488,
          28.44971876328927,
          -53.57539130616453,
          28.44971876328927,
          28.44971876328927
         ],
         "type": "scatter3d"
        },
        {
         "hoverinfo": "skip",
         "line": {
          "color": "#3f3f3f",
          "width": 4
         },
         "mode": "lines",
         "visible": false,
         "x": [
          127.99900271117987,
          127.99900271117987,
          -141.8081160201353,
          -141.8081160201353,
          127.99900271117987,
          141.08811602013526,
          141.08811602013526,
          127.99900271117987,
          141.08811602013526,
          -128.71900271117988,
          -141.8081160201353,
          -141.8081160201353,
          -128.71900271117988,
          141.08811602013526,
          -128.71900271117988,
          -128.71900271117988
         ],
         "y": [
          24.259999999999998,
          29.259999999999998,
          29.259999999999998,
          24.259999999999998,
          24.259999999999998,
          24.259999999999998,
          29.259999999999998,
          29.259999999999998,
          29.259999999999998,
          29.259999999999998,
          29.259999999999998,
          24.259999999999998,
          24.259999999999998,
          24.259999999999998,
          24.259999999999998,
          29.259999999999998
         ],
         "z": [
          -96.62971876328928,
          -96.62971876328928,
          -14.604608693835488,
          -14.604608693835488,
          -96.62971876328928,
          -53.57539130616453,
          -53.57539130616453,
          -96.62971876328928,
          -53.57539130616453,
          28.44971876328927,
          -14.604608693835488,
          -14.604608693835488,
          28.44971876328927,
          -53.57539130616453,
          28.44971876328927,
          28.44971876328927
         ],
         "type": "scatter3d"
        },
        {
         "hoverinfo": "skip",
         "line": {
          "color": "#3f3f3f",
          "width": 4
         },
         "mode": "lines",
         "visible": false,
         "x": [
          122.2972238903211,
          122.2972238903211,
          -151.38560162780786,
          -151.38560162780786,
          122.2972238903211,
          133.14560162780785,
          133.14560162780785,
          122.2972238903211,
          133.14560162780785,
          -140.53722389032112,
          -151.38560162780786,
          -151.38560162780786,
          -140.53722389032112,
          133.14560162780785,
          -140.53722389032112,
          -140.53722389032112
         ],
         "y": [
          16.48,
          21.48,
          21.48,
          16.48,
          16.48,
          16.48,
          21.48,
          21.48,
          21.48,
          21.48,
          21.48,
          16.48,
          16.48,
          16.48,
          16.48,
          21.48
         ],
         "z": [
          -92.87797923050066,
          -92.87797923050066,
          -24.894812075583744,
          -24.894812075583744,
          -92.87797923050066,
          -49.20518792441625,
          -49.20518792441625,
          -92.87797923050066,
          -49.20518792441625,
          18.777979230500677,
          -24.894812075583744,
          -24.894812075583744,
          18.777979230500677,
          -49.20518792441625,
          18.777979230500677,
          18.777979230500677
         ],
         "type": "scatter3d"
        },
        {
         "hoverinfo": "skip",
         "line": {
          "color": "#3f3f3f",
          "width": 4
         },
         "mode": "lines",
         "visible": false,
         "x": [
          122.32670352457647,
          122.32670352457647,
          -151.3798359214153,
          -151.3798359214153,
          122.32670352457647,
          133.15983592141527,
          133.15983592141527,
          122.32670352457647,
          133.15983592141527,
          -140.54670352457646,
          -151.3798359214153,
          -151.3798359214153,
          -140.54670352457646,
          133.15983592141527,
          -140.54670352457646,
          -140.54670352457646
         ],
         "y": [
          14.38,
          19.380000000000003,
          19.380000000000003,
          14.38,
          14.38,
          14.38,
          19.380000000000003,
          19.380000000000003,
          19.380000000000003,
          19.380000000000003,
          19.380000000000003,
          14.38,
          14.38,
          14.38,
          14.38,
          19.380000000000003
         ],
         "z": [
          -92.85210256518293,
          -92.85210256518293,
          -24.96447287832639,
          -24.96447287832639,
          -92.85210256518293,
          -49.175527121673625,
          -49.175527121673625,
          -92.85210256518293,
          -49.175527121673625,
          18.712102565182917,
          -24.96447287832639,
          -24.96447287832639,
          18.712102565182917,
          -49.175527121673625,
          18.712102565182917,
          18.712102565182917
         ],
         "type": "scatter3d"
        },
        {
         "hoverinfo": "skip",
         "line": {
          "color": "#3f3f3f",
          "width": 4
         },
         "mode": "lines",
         "visible": false,
         "x": [
          122.32670352457647,
          122.32670352457647,
          -151.3798359214153,
          -151.3798359214153,
          122.32670352457647,
          133.15983592141527,
          133.15983592141527,
          122.32670352457647,
          133.15983592141527,
          -140.54670352457646,
          -151.3798359214153,
          -151.3798359214153,
          -140.54670352457646,
          133.15983592141527,
          -140.54670352457646,
          -140.54670352457646
         ],
         "y": [
          14.59,
          19.59,
          19.59,
          14.59,
          14.59,
          14.59,
          19.59,
          19.59,
          19.59,
          19.59,
          19.59,
          14.59,
          14.59,
          14.59,
          14.59,
          19.59
         ],
         "z": [
          -92.85210256518293,
          -92.85210256518293,
          -24.96447287832639,
          -24.96447287832639,
          -92.85210256518293,
          -49.175527121673625,
          -49.175527121673625,
          -92.85210256518293,
          -49.175527121673625,
          18.712102565182917,
          -24.96447287832639,
          -24.96447287832639,
          18.712102565182917,
          -49.175527121673625,
          18.712102565182917,
          18.712102565182917
         ],
         "type": "scatter3d"
        },
        {
         "hoverinfo": "skip",
         "line": {
          "color": "#3f3f3f",
          "width": 4
         },
         "mode": "lines",
         "visible": false,
         "x": [
          122.32670352457647,
          122.32670352457647,
          -151.3798359214153,
          -151.3798359214153,
          122.32670352457647,
          133.15983592141527,
          133.15983592141527,
          122.32670352457647,
          133.15983592141527,
          -140.54670352457646,
          -151.3798359214153,
          -151.3798359214153,
          -140.54670352457646,
          133.15983592141527,
          -140.54670352457646,
          -140.54670352457646
         ],
         "y": [
          14.59,
          19.59,
          19.59,
          14.59,
          14.59,
          14.59,
          19.59,
          19.59,
          19.59,
          19.59,
          19.59,
          14.59,
          14.59,
          14.59,
          14.59,
          19.59
         ],
         "z": [
          -92.85210256518293,
          -92.85210256518293,
          -24.96447287832639,
          -24.96447287832639,
          -92.85210256518293,
          -49.175527121673625,
          -49.175527121673625,
          -92.85210256518293,
          -49.175527121673625,
          18.712102565182917,
          -24.96447287832639,
          -24.96447287832639,
          18.712102565182917,
          -49.175527121673625,
          18.712102565182917,
          18.712102565182917
         ],
         "type": "scatter3d"
        },
        {
         "hoverinfo": "skip",
         "line": {
          "color": "#3f3f3f",
          "width": 4
         },
         "mode": "lines",
         "visible": false,
         "x": [
          122.32670352457647,
          122.32670352457647,
          -151.3798359214153,
          -151.3798359214153,
          122.32670352457647,
          133.15983592141527,
          133.15983592141527,
          122.32670352457647,
          133.15983592141527,
          -140.54670352457646,
          -151.3798359214153,
          -151.3798359214153,
          -140.54670352457646,
          133.15983592141527,
          -140.54670352457646,
          -140.54670352457646
         ],
         "y": [
          14.59,
          19.59,
          19.59,
          14.59,
          14.59,
          14.59,
          19.59,
          19.59,
          19.59,
          19.59,
          19.59,
          14.59,
          14.59,
          14.59,
          14.59,
          19.59
         ],
         "z": [
          -92.85210256518293,
          -92.85210256518293,
          -24.96447287832639,
          -24.96447287832639,
          -92.85210256518293,
          -49.175527121673625,
          -49.175527121673625,
          -92.85210256518293,
          -49.175527121673625,
          18.712102565182917,
          -24.96447287832639,
          -24.96447287832639,
          18.712102565182917,
          -49.175527121673625,
          18.712102565182917,
          18.712102565182917
         ],
         "type": "scatter3d"
        },
        {
         "hoverinfo": "skip",
         "line": {
          "color": "#3f3f3f",
          "width": 4
         },
         "mode": "lines",
         "visible": true,
         "x": [
          119.8473600765709,
          119.8473600765709,
          -150.25858346980792,
          -150.25858346980792,
          119.8473600765709,
          132.7785834698079,
          132.7785834698079,
          119.8473600765709,
          132.7785834698079,
          -137.3273600765709,
          -150.25858346980792,
          -150.25858346980792,
          -137.3273600765709,
          132.7785834698079,
          -137.3273600765709,
          -137.3273600765709
         ],
         "y": [
          13.66,
          9.66,
          9.66,
          13.66,
          13.66,
          13.66,
          9.66,
          9.66,
          9.66,
          9.66,
          9.66,
          13.66,
          13.66,
          13.66,
          13.66,
          9.66
         ],
         "z": [
          -96.36883943282898,
          -96.36883943282898,
          -15.333172835210192,
          -15.333172835210192,
          -96.36883943282898,
          -53.2668271647898,
          -53.2668271647898,
          -96.36883943282898,
          -53.2668271647898,
          27.768839432828983,
          -15.333172835210192,
          -15.333172835210192,
          27.768839432828983,
          -53.2668271647898,
          27.768839432828983,
          27.768839432828983
         ],
         "type": "scatter3d"
        },
        {
         "hoverinfo": "skip",
         "line": {
          "color": "#3f3f3f",
          "width": 4
         },
         "mode": "lines",
         "visible": false,
         "x": [
          126.90314584046183,
          126.90314584046183,
          -143.13197790649585,
          -143.13197790649585,
          126.90314584046183,
          139.87197790649586,
          139.87197790649586,
          126.90314584046183,
          139.87197790649586,
          -130.16314584046182,
          -143.13197790649585,
          -143.13197790649585,
          -130.16314584046182,
          139.87197790649586,
          -130.16314584046182,
          -130.16314584046182
         ],
         "y": [
          15.41,
          11.41,
          11.41,
          15.41,
          15.41,
          15.41,
          11.41,
          11.41,
          11.41,
          11.41,
          11.41,
          15.41,
          15.41,
          15.41,
          15.41,
          11.41
         ],
         "z": [
          -96.43102942501491,
          -96.43102942501491,
          -15.159681811201736,
          -15.159681811201736,
          -96.43102942501491,
          -53.34031818879828,
          -53.34031818879828,
          -96.43102942501491,
          -53.34031818879828,
          27.931029425014913,
          -15.159681811201736,
          -15.159681811201736,
          27.931029425014913,
          -53.34031818879828,
          27.931029425014913,
          27.931029425014913
         ],
         "type": "scatter3d"
        },
        {
         "hoverinfo": "skip",
         "line": {
          "color": "#3f3f3f",
          "width": 4
         },
         "mode": "lines",
         "visible": false,
         "x": [
          126.90314584046183,
          126.90314584046183,
          -143.13197790649585,
          -143.13197790649585,
          126.90314584046183,
          139.87197790649586,
          139.87197790649586,
          126.90314584046183,
          139.87197790649586,
          -130.16314584046182,
          -143.13197790649585,
          -143.13197790649585,
          -130.16314584046182,
          139.87197790649586,
          -130.16314584046182,
          -130.16314584046182
         ],
         "y": [
          15.41,
          11.41,
          11.41,
          15.41,
          15.41,
          15.41,
          11.41,
          11.41,
          11.41,
          11.41,
          11.41,
          15.41,
          15.41,
          15.41,
          15.41,
          11.41
         ],
         "z": [
          -96.43102942501491,
          -96.43102942501491,
          -15.159681811201736,
          -15.159681811201736,
          -96.43102942501491,
          -53.34031818879828,
          -53.34031818879828,
          -96.43102942501491,
          -53.34031818879828,
          27.931029425014913,
          -15.159681811201736,
          -15.159681811201736,
          27.931029425014913,
          -53.34031818879828,
          27.931029425014913,
          27.931029425014913
         ],
         "type": "scatter3d"
        },
        {
         "hoverinfo": "skip",
         "line": {
          "color": "#3f3f3f",
          "width": 4
         },
         "mode": "lines",
         "visible": false,
         "x": [
          126.90314584046183,
          126.90314584046183,
          -143.13197790649585,
          -143.13197790649585,
          126.90314584046183,
          139.87197790649586,
          139.87197790649586,
          126.90314584046183,
          139.87197790649586,
          -130.16314584046182,
          -143.13197790649585,
          -143.13197790649585,
          -130.16314584046182,
          139.87197790649586,
          -130.16314584046182,
          -130.16314584046182
         ],
         "y": [
          15.41,
          11.41,
          11.41,
          15.41,
          15.41,
          15.41,
          11.41,
          11.41,
          11.41,
          11.41,
          11.41,
          15.41,
          15.41,
          15.41,
          15.41,
          11.41
         ],
         "z": [
          -96.43102942501491,
          -96.43102942501491,
          -15.159681811201736,
          -15.159681811201736,
          -96.43102942501491,
          -53.34031818879828,
          -53.34031818879828,
          -96.43102942501491,
          -53.34031818879828,
          27.931029425014913,
          -15.159681811201736,
          -15.159681811201736,
          27.931029425014913,
          -53.34031818879828,
          27.931029425014913,
          27.931029425014913
         ],
         "type": "scatter3d"
        },
        {
         "hoverinfo": "skip",
         "line": {
          "color": "#3f3f3f",
          "width": 4
         },
         "mode": "lines",
         "visible": false,
         "x": [
          126.90314584046183,
          126.90314584046183,
          -143.13197790649585,
          -143.13197790649585,
          126.90314584046183,
          139.87197790649586,
          139.87197790649586,
          126.90314584046183,
          139.87197790649586,
          -130.16314584046182,
          -143.13197790649585,
          -143.13197790649585,
          -130.16314584046182,
          139.87197790649586,
          -130.16314584046182,
          -130.16314584046182
         ],
         "y": [
          15.41,
          11.41,
          11.41,
          15.41,
          15.41,
          15.41,
          11.41,
          11.41,
          11.41,
          11.41,
          11.41,
          15.41,
          15.41,
          15.41,
          15.41,
          11.41
         ],
         "z": [
          -96.43102942501491,
          -96.43102942501491,
          -15.159681811201736,
          -15.159681811201736,
          -96.43102942501491,
          -53.34031818879828,
          -53.34031818879828,
          -96.43102942501491,
          -53.34031818879828,
          27.931029425014913,
          -15.159681811201736,
          -15.159681811201736,
          27.931029425014913,
          -53.34031818879828,
          27.931029425014913,
          27.931029425014913
         ],
         "type": "scatter3d"
        },
        {
         "hoverinfo": "skip",
         "line": {
          "color": "#3f3f3f",
          "width": 4
         },
         "mode": "lines",
         "visible": false,
         "x": [
          126.90314584046183,
          126.90314584046183,
          -143.13197790649585,
          -143.13197790649585,
          126.90314584046183,
          139.87197790649586,
          139.87197790649586,
          126.90314584046183,
          139.87197790649586,
          -130.16314584046182,
          -143.13197790649585,
          -143.13197790649585,
          -130.16314584046182,
          139.87197790649586,
          -130.16314584046182,
          -130.16314584046182
         ],
         "y": [
          15.41,
          11.41,
          11.41,
          15.41,
          15.41,
          15.41,
          11.41,
          11.41,
          11.41,
          11.41,
          11.41,
          15.41,
          15.41,
          15.41,
          15.41,
          11.41
         ],
         "z": [
          -96.43102942501491,
          -96.43102942501491,
          -15.159681811201736,
          -15.159681811201736,
          -96.43102942501491,
          -53.34031818879828,
          -53.34031818879828,
          -96.43102942501491,
          -53.34031818879828,
          27.931029425014913,
          -15.159681811201736,
          -15.159681811201736,
          27.931029425014913,
          -53.34031818879828,
          27.931029425014913,
          27.931029425014913
         ],
         "type": "scatter3d"
        },
        {
         "hoverinfo": "skip",
         "line": {
          "color": "#3f3f3f",
          "width": 4
         },
         "mode": "lines",
         "visible": false,
         "x": [
          130.48617146952344,
          130.48617146952344,
          -144.07431399721017,
          -144.07431399721017,
          130.48617146952344,
          140.75431399721018,
          140.75431399721018,
          130.48617146952344,
          140.75431399721018,
          -133.80617146952343,
          -144.07431399721017,
          -144.07431399721017,
          -133.80617146952343,
          140.75431399721018,
          -133.80617146952343,
          -133.80617146952343
         ],
         "y": [
          24.259999999999998,
          20.259999999999998,
          20.259999999999998,
          24.259999999999998,
          24.259999999999998,
          24.259999999999998,
          20.259999999999998,
          20.259999999999998,
          20.259999999999998,
          20.259999999999998,
          20.259999999999998,
          24.259999999999998,
          24.259999999999998,
          24.259999999999998,
          24.259999999999998,
          20.259999999999998
         ],
         "z": [
          -91.88993496618973,
          -91.88993496618973,
          -27.54290845935286,
          -27.54290845935286,
          -91.88993496618973,
          -48.07709154064712,
          -48.07709154064712,
          -91.88993496618973,
          -48.07709154064712,
          16.269934966189737,
          -27.54290845935286,
          -27.54290845935286,
          16.269934966189737,
          -48.07709154064712,
          16.269934966189737,
          16.269934966189737
         ],
         "type": "scatter3d"
        },
        {
         "hoverinfo": "skip",
         "line": {
          "color": "#3f3f3f",
          "width": 4
         },
         "mode": "lines",
         "visible": false,
         "x": [
          130.48617146952344,
          130.48617146952344,
          -144.07431399721017,
          -144.07431399721017,
          130.48617146952344,
          140.75431399721018,
          140.75431399721018,
          130.48617146952344,
          140.75431399721018,
          -133.80617146952343,
          -144.07431399721017,
          -144.07431399721017,
          -133.80617146952343,
          140.75431399721018,
          -133.80617146952343,
          -133.80617146952343
         ],
         "y": [
          24.259999999999998,
          20.259999999999998,
          20.259999999999998,
          24.259999999999998,
          24.259999999999998,
          24.259999999999998,
          20.259999999999998,
          20.259999999999998,
          20.259999999999998,
          20.259999999999998,
          20.259999999999998,
          24.259999999999998,
          24.259999999999998,
          24.259999999999998,
          24.259999999999998,
          20.259999999999998
         ],
         "z": [
          -91.88993496618973,
          -91.88993496618973,
          -27.54290845935286,
          -27.54290845935286,
          -91.88993496618973,
          -48.07709154064712,
          -48.07709154064712,
          -91.88993496618973,
          -48.07709154064712,
          16.269934966189737,
          -27.54290845935286,
          -27.54290845935286,
          16.269934966189737,
          -48.07709154064712,
          16.269934966189737,
          16.269934966189737
         ],
         "type": "scatter3d"
        },
        {
         "hoverinfo": "skip",
         "line": {
          "color": "#3f3f3f",
          "width": 4
         },
         "mode": "lines",
         "visible": false,
         "x": [
          130.48617146952344,
          130.48617146952344,
          -144.07431399721017,
          -144.07431399721017,
          130.48617146952344,
          140.75431399721018,
          140.75431399721018,
          130.48617146952344,
          140.75431399721018,
          -133.80617146952343,
          -144.07431399721017,
          -144.07431399721017,
          -133.80617146952343,
          140.75431399721018,
          -133.80617146952343,
          -133.80617146952343
         ],
         "y": [
          24.259999999999998,
          20.259999999999998,
          20.259999999999998,
          24.259999999999998,
          24.259999999999998,
          24.259999999999998,
          20.259999999999998,
          20.259999999999998,
          20.259999999999998,
          20.259999999999998,
          20.259999999999998,
          24.259999999999998,
          24.259999999999998,
          24.259999999999998,
          24.259999999999998,
          20.259999999999998
         ],
         "z": [
          -91.88993496618973,
          -91.88993496618973,
          -27.54290845935286,
          -27.54290845935286,
          -91.88993496618973,
          -48.07709154064712,
          -48.07709154064712,
          -91.88993496618973,
          -48.07709154064712,
          16.269934966189737,
          -27.54290845935286,
          -27.54290845935286,
          16.269934966189737,
          -48.07709154064712,
          16.269934966189737,
          16.269934966189737
         ],
         "type": "scatter3d"
        },
        {
         "hoverinfo": "skip",
         "line": {
          "color": "#3f3f3f",
          "width": 4
         },
         "mode": "lines",
         "visible": false,
         "x": [
          130.48617146952344,
          130.48617146952344,
          -144.07431399721017,
          -144.07431399721017,
          130.48617146952344,
          140.75431399721018,
          140.75431399721018,
          130.48617146952344,
          140.75431399721018,
          -133.80617146952343,
          -144.07431399721017,
          -144.07431399721017,
          -133.80617146952343,
          140.75431399721018,
          -133.80617146952343,
          -133.80617146952343
         ],
         "y": [
          24.259999999999998,
          20.259999999999998,
          20.259999999999998,
          24.259999999999998,
          24.259999999999998,
          24.259999999999998,
          20.259999999999998,
          20.259999999999998,
          20.259999999999998,
          20.259999999999998,
          20.259999999999998,
          24.259999999999998,
          24.259999999999998,
          24.259999999999998,
          24.259999999999998,
          20.259999999999998
         ],
         "z": [
          -91.88993496618973,
          -91.88993496618973,
          -27.54290845935286,
          -27.54290845935286,
          -91.88993496618973,
          -48.07709154064712,
          -48.07709154064712,
          -91.88993496618973,
          -48.07709154064712,
          16.269934966189737,
          -27.54290845935286,
          -27.54290845935286,
          16.269934966189737,
          -48.07709154064712,
          16.269934966189737,
          16.269934966189737
         ],
         "type": "scatter3d"
        },
        {
         "hoverinfo": "skip",
         "line": {
          "color": "#3f3f3f",
          "width": 4
         },
         "mode": "lines",
         "visible": false,
         "x": [
          130.48617146952344,
          130.48617146952344,
          -144.07431399721017,
          -144.07431399721017,
          130.48617146952344,
          140.75431399721018,
          140.75431399721018,
          130.48617146952344,
          140.75431399721018,
          -133.80617146952343,
          -144.07431399721017,
          -144.07431399721017,
          -133.80617146952343,
          140.75431399721018,
          -133.80617146952343,
          -133.80617146952343
         ],
         "y": [
          24.259999999999998,
          20.259999999999998,
          20.259999999999998,
          24.259999999999998,
          24.259999999999998,
          24.259999999999998,
          20.259999999999998,
          20.259999999999998,
          20.259999999999998,
          20.259999999999998,
          20.259999999999998,
          24.259999999999998,
          24.259999999999998,
          24.259999999999998,
          24.259999999999998,
          20.259999999999998
         ],
         "z": [
          -91.88993496618973,
          -91.88993496618973,
          -27.54290845935286,
          -27.54290845935286,
          -91.88993496618973,
          -48.07709154064712,
          -48.07709154064712,
          -91.88993496618973,
          -48.07709154064712,
          16.269934966189737,
          -27.54290845935286,
          -27.54290845935286,
          16.269934966189737,
          -48.07709154064712,
          16.269934966189737,
          16.269934966189737
         ],
         "type": "scatter3d"
        },
        {
         "hoverinfo": "skip",
         "line": {
          "color": "#3f3f3f",
          "width": 4
         },
         "mode": "lines",
         "visible": false,
         "x": [
          130.48617146952344,
          130.48617146952344,
          -144.07431399721017,
          -144.07431399721017,
          130.48617146952344,
          140.75431399721018,
          140.75431399721018,
          130.48617146952344,
          140.75431399721018,
          -133.80617146952343,
          -144.07431399721017,
          -144.07431399721017,
          -133.80617146952343,
          140.75431399721018,
          -133.80617146952343,
          -133.80617146952343
         ],
         "y": [
          24.259999999999998,
          20.259999999999998,
          20.259999999999998,
          24.259999999999998,
          24.259999999999998,
          24.259999999999998,
          20.259999999999998,
          20.259999999999998,
          20.259999999999998,
          20.259999999999998,
          20.259999999999998,
          24.259999999999998,
          24.259999999999998,
          24.259999999999998,
          24.259999999999998,
          20.259999999999998
         ],
         "z": [
          -91.88993496618973,
          -91.88993496618973,
          -27.54290845935286,
          -27.54290845935286,
          -91.88993496618973,
          -48.07709154064712,
          -48.07709154064712,
          -91.88993496618973,
          -48.07709154064712,
          16.269934966189737,
          -27.54290845935286,
          -27.54290845935286,
          16.269934966189737,
          -48.07709154064712,
          16.269934966189737,
          16.269934966189737
         ],
         "type": "scatter3d"
        },
        {
         "hoverinfo": "skip",
         "line": {
          "color": "#3f3f3f",
          "width": 4
         },
         "mode": "lines",
         "visible": false,
         "x": [
          134.2966633080048,
          134.2966633080048,
          -144.45116372825,
          -144.45116372825,
          134.2966633080048,
          141.11116372825003,
          141.11116372825003,
          134.2966633080048,
          141.11116372825003,
          -137.63666330800478,
          -144.45116372825,
          -144.45116372825,
          -137.63666330800478,
          141.11116372825003,
          -137.63666330800478,
          -137.63666330800478
         ],
         "y": [
          24.259999999999998,
          20.259999999999998,
          20.259999999999998,
          24.259999999999998,
          24.259999999999998,
          24.259999999999998,
          20.259999999999998,
          20.259999999999998,
          20.259999999999998,
          20.259999999999998,
          20.259999999999998,
          24.259999999999998,
          24.259999999999998,
          24.259999999999998,
          24.259999999999998,
          20.259999999999998
         ],
         "z": [
          -85.88261943136311,
          -85.88261943136311,
          -43.17841679782646,
          -43.17841679782646,
          -85.88261943136311,
          -41.401583202173526,
          -41.401583202173526,
          -85.88261943136311,
          -41.401583202173526,
          1.3026194313631265,
          -43.17841679782646,
          -43.17841679782646,
          1.3026194313631265,
          -41.401583202173526,
          1.3026194313631265,
          1.3026194313631265
         ],
         "type": "scatter3d"
        },
        {
         "hoverinfo": "skip",
         "line": {
          "color": "#3f3f3f",
          "width": 4
         },
         "mode": "lines",
         "visible": false,
         "x": [
          134.88920431978073,
          134.88920431978073,
          -143.09574254471153,
          -143.09574254471153,
          134.88920431978073,
          142.45574254471154,
          142.45574254471154,
          134.88920431978073,
          142.45574254471154,
          -135.52920431978072,
          -143.09574254471153,
          -143.09574254471153,
          -135.52920431978072,
          142.45574254471154,
          -135.52920431978072,
          -135.52920431978072
         ],
         "y": [
          24.259999999999998,
          20.259999999999998,
          20.259999999999998,
          24.259999999999998,
          24.259999999999998,
          24.259999999999998,
          20.259999999999998,
          20.259999999999998,
          20.259999999999998,
          20.259999999999998,
          20.259999999999998,
          24.259999999999998,
          24.259999999999998,
          24.259999999999998,
          24.259999999999998,
          20.259999999999998
         ],
         "z": [
          -87.20813645390051,
          -87.20813645390051,
          -39.79116357766743,
          -39.79116357766743,
          -87.20813645390051,
          -42.84883642233258,
          -42.84883642233258,
          -87.20813645390051,
          -42.84883642233258,
          4.568136453900493,
          -39.79116357766743,
          -39.79116357766743,
          4.568136453900493,
          -42.84883642233258,
          4.568136453900493,
          4.568136453900493
         ],
         "type": "scatter3d"
        },
        {
         "hoverinfo": "skip",
         "line": {
          "color": "#3f3f3f",
          "width": 4
         },
         "mode": "lines",
         "visible": false,
         "x": [
          134.88920431978073,
          134.88920431978073,
          -143.09574254471153,
          -143.09574254471153,
          134.88920431978073,
          142.45574254471154,
          142.45574254471154,
          134.88920431978073,
          142.45574254471154,
          -135.52920431978072,
          -143.09574254471153,
          -143.09574254471153,
          -135.52920431978072,
          142.45574254471154,
          -135.52920431978072,
          -135.52920431978072
         ],
         "y": [
          24.259999999999998,
          20.259999999999998,
          20.259999999999998,
          24.259999999999998,
          24.259999999999998,
          24.259999999999998,
          20.259999999999998,
          20.259999999999998,
          20.259999999999998,
          20.259999999999998,
          20.259999999999998,
          24.259999999999998,
          24.259999999999998,
          24.259999999999998,
          24.259999999999998,
          20.259999999999998
         ],
         "z": [
          -87.20813645390051,
          -87.20813645390051,
          -39.79116357766743,
          -39.79116357766743,
          -87.20813645390051,
          -42.84883642233258,
          -42.84883642233258,
          -87.20813645390051,
          -42.84883642233258,
          4.568136453900493,
          -39.79116357766743,
          -39.79116357766743,
          4.568136453900493,
          -42.84883642233258,
          4.568136453900493,
          4.568136453900493
         ],
         "type": "scatter3d"
        },
        {
         "hoverinfo": "skip",
         "line": {
          "color": "#3f3f3f",
          "width": 4
         },
         "mode": "lines",
         "visible": false,
         "x": [
          127.99900271117987,
          127.99900271117987,
          -141.8081160201353,
          -141.8081160201353,
          127.99900271117987,
          141.08811602013526,
          141.08811602013526,
          127.99900271117987,
          141.08811602013526,
          -128.71900271117988,
          -141.8081160201353,
          -141.8081160201353,
          -128.71900271117988,
          141.08811602013526,
          -128.71900271117988,
          -128.71900271117988
         ],
         "y": [
          24.259999999999998,
          20.259999999999998,
          20.259999999999998,
          24.259999999999998,
          24.259999999999998,
          24.259999999999998,
          20.259999999999998,
          20.259999999999998,
          20.259999999999998,
          20.259999999999998,
          20.259999999999998,
          24.259999999999998,
          24.259999999999998,
          24.259999999999998,
          24.259999999999998,
          20.259999999999998
         ],
         "z": [
          -96.62971876328928,
          -96.62971876328928,
          -14.604608693835488,
          -14.604608693835488,
          -96.62971876328928,
          -53.57539130616453,
          -53.57539130616453,
          -96.62971876328928,
          -53.57539130616453,
          28.44971876328927,
          -14.604608693835488,
          -14.604608693835488,
          28.44971876328927,
          -53.57539130616453,
          28.44971876328927,
          28.44971876328927
         ],
         "type": "scatter3d"
        },
        {
         "hoverinfo": "skip",
         "line": {
          "color": "#3f3f3f",
          "width": 4
         },
         "mode": "lines",
         "visible": false,
         "x": [
          127.99900271117987,
          127.99900271117987,
          -141.8081160201353,
          -141.8081160201353,
          127.99900271117987,
          141.08811602013526,
          141.08811602013526,
          127.99900271117987,
          141.08811602013526,
          -128.71900271117988,
          -141.8081160201353,
          -141.8081160201353,
          -128.71900271117988,
          141.08811602013526,
          -128.71900271117988,
          -128.71900271117988
         ],
         "y": [
          24.259999999999998,
          20.259999999999998,
          20.259999999999998,
          24.259999999999998,
          24.259999999999998,
          24.259999999999998,
          20.259999999999998,
          20.259999999999998,
          20.259999999999998,
          20.259999999999998,
          20.259999999999998,
          24.259999999999998,
          24.259999999999998,
          24.259999999999998,
          24.259999999999998,
          20.259999999999998
         ],
         "z": [
          -96.62971876328928,
          -96.62971876328928,
          -14.604608693835488,
          -14.604608693835488,
          -96.62971876328928,
          -53.57539130616453,
          -53.57539130616453,
          -96.62971876328928,
          -53.57539130616453,
          28.44971876328927,
          -14.604608693835488,
          -14.604608693835488,
          28.44971876328927,
          -53.57539130616453,
          28.44971876328927,
          28.44971876328927
         ],
         "type": "scatter3d"
        },
        {
         "hoverinfo": "skip",
         "line": {
          "color": "#3f3f3f",
          "width": 4
         },
         "mode": "lines",
         "visible": false,
         "x": [
          127.99900271117987,
          127.99900271117987,
          -141.8081160201353,
          -141.8081160201353,
          127.99900271117987,
          141.08811602013526,
          141.08811602013526,
          127.99900271117987,
          141.08811602013526,
          -128.71900271117988,
          -141.8081160201353,
          -141.8081160201353,
          -128.71900271117988,
          141.08811602013526,
          -128.71900271117988,
          -128.71900271117988
         ],
         "y": [
          24.259999999999998,
          20.259999999999998,
          20.259999999999998,
          24.259999999999998,
          24.259999999999998,
          24.259999999999998,
          20.259999999999998,
          20.259999999999998,
          20.259999999999998,
          20.259999999999998,
          20.259999999999998,
          24.259999999999998,
          24.259999999999998,
          24.259999999999998,
          24.259999999999998,
          20.259999999999998
         ],
         "z": [
          -96.62971876328928,
          -96.62971876328928,
          -14.604608693835488,
          -14.604608693835488,
          -96.62971876328928,
          -53.57539130616453,
          -53.57539130616453,
          -96.62971876328928,
          -53.57539130616453,
          28.44971876328927,
          -14.604608693835488,
          -14.604608693835488,
          28.44971876328927,
          -53.57539130616453,
          28.44971876328927,
          28.44971876328927
         ],
         "type": "scatter3d"
        },
        {
         "hoverinfo": "skip",
         "line": {
          "color": "#3f3f3f",
          "width": 4
         },
         "mode": "lines",
         "visible": false,
         "x": [
          127.99900271117987,
          127.99900271117987,
          -141.8081160201353,
          -141.8081160201353,
          127.99900271117987,
          141.08811602013526,
          141.08811602013526,
          127.99900271117987,
          141.08811602013526,
          -128.71900271117988,
          -141.8081160201353,
          -141.8081160201353,
          -128.71900271117988,
          141.08811602013526,
          -128.71900271117988,
          -128.71900271117988
         ],
         "y": [
          24.259999999999998,
          20.259999999999998,
          20.259999999999998,
          24.259999999999998,
          24.259999999999998,
          24.259999999999998,
          20.259999999999998,
          20.259999999999998,
          20.259999999999998,
          20.259999999999998,
          20.259999999999998,
          24.259999999999998,
          24.259999999999998,
          24.259999999999998,
          24.259999999999998,
          20.259999999999998
         ],
         "z": [
          -96.62971876328928,
          -96.62971876328928,
          -14.604608693835488,
          -14.604608693835488,
          -96.62971876328928,
          -53.57539130616453,
          -53.57539130616453,
          -96.62971876328928,
          -53.57539130616453,
          28.44971876328927,
          -14.604608693835488,
          -14.604608693835488,
          28.44971876328927,
          -53.57539130616453,
          28.44971876328927,
          28.44971876328927
         ],
         "type": "scatter3d"
        },
        {
         "hoverinfo": "skip",
         "line": {
          "color": "#3f3f3f",
          "width": 4
         },
         "mode": "lines",
         "visible": false,
         "x": [
          122.2972238903211,
          122.2972238903211,
          -151.38560162780786,
          -151.38560162780786,
          122.2972238903211,
          133.14560162780785,
          133.14560162780785,
          122.2972238903211,
          133.14560162780785,
          -140.53722389032112,
          -151.38560162780786,
          -151.38560162780786,
          -140.53722389032112,
          133.14560162780785,
          -140.53722389032112,
          -140.53722389032112
         ],
         "y": [
          16.48,
          12.48,
          12.48,
          16.48,
          16.48,
          16.48,
          12.48,
          12.48,
          12.48,
          12.48,
          12.48,
          16.48,
          16.48,
          16.48,
          16.48,
          12.48
         ],
         "z": [
          -92.87797923050066,
          -92.87797923050066,
          -24.894812075583744,
          -24.894812075583744,
          -92.87797923050066,
          -49.20518792441625,
          -49.20518792441625,
          -92.87797923050066,
          -49.20518792441625,
          18.777979230500677,
          -24.894812075583744,
          -24.894812075583744,
          18.777979230500677,
          -49.20518792441625,
          18.777979230500677,
          18.777979230500677
         ],
         "type": "scatter3d"
        },
        {
         "hoverinfo": "skip",
         "line": {
          "color": "#3f3f3f",
          "width": 4
         },
         "mode": "lines",
         "visible": false,
         "x": [
          122.32670352457647,
          122.32670352457647,
          -151.3798359214153,
          -151.3798359214153,
          122.32670352457647,
          133.15983592141527,
          133.15983592141527,
          122.32670352457647,
          133.15983592141527,
          -140.54670352457646,
          -151.3798359214153,
          -151.3798359214153,
          -140.54670352457646,
          133.15983592141527,
          -140.54670352457646,
          -140.54670352457646
         ],
         "y": [
          14.38,
          10.38,
          10.38,
          14.38,
          14.38,
          14.38,
          10.38,
          10.38,
          10.38,
          10.38,
          10.38,
          14.38,
          14.38,
          14.38,
          14.38,
          10.38
         ],
         "z": [
          -92.85210256518293,
          -92.85210256518293,
          -24.96447287832639,
          -24.96447287832639,
          -92.85210256518293,
          -49.175527121673625,
          -49.175527121673625,
          -92.85210256518293,
          -49.175527121673625,
          18.712102565182917,
          -24.96447287832639,
          -24.96447287832639,
          18.712102565182917,
          -49.175527121673625,
          18.712102565182917,
          18.712102565182917
         ],
         "type": "scatter3d"
        },
        {
         "hoverinfo": "skip",
         "line": {
          "color": "#3f3f3f",
          "width": 4
         },
         "mode": "lines",
         "visible": false,
         "x": [
          122.32670352457647,
          122.32670352457647,
          -151.3798359214153,
          -151.3798359214153,
          122.32670352457647,
          133.15983592141527,
          133.15983592141527,
          122.32670352457647,
          133.15983592141527,
          -140.54670352457646,
          -151.3798359214153,
          -151.3798359214153,
          -140.54670352457646,
          133.15983592141527,
          -140.54670352457646,
          -140.54670352457646
         ],
         "y": [
          14.59,
          10.59,
          10.59,
          14.59,
          14.59,
          14.59,
          10.59,
          10.59,
          10.59,
          10.59,
          10.59,
          14.59,
          14.59,
          14.59,
          14.59,
          10.59
         ],
         "z": [
          -92.85210256518293,
          -92.85210256518293,
          -24.96447287832639,
          -24.96447287832639,
          -92.85210256518293,
          -49.175527121673625,
          -49.175527121673625,
          -92.85210256518293,
          -49.175527121673625,
          18.712102565182917,
          -24.96447287832639,
          -24.96447287832639,
          18.712102565182917,
          -49.175527121673625,
          18.712102565182917,
          18.712102565182917
         ],
         "type": "scatter3d"
        },
        {
         "hoverinfo": "skip",
         "line": {
          "color": "#3f3f3f",
          "width": 4
         },
         "mode": "lines",
         "visible": false,
         "x": [
          122.32670352457647,
          122.32670352457647,
          -151.3798359214153,
          -151.3798359214153,
          122.32670352457647,
          133.15983592141527,
          133.15983592141527,
          122.32670352457647,
          133.15983592141527,
          -140.54670352457646,
          -151.3798359214153,
          -151.3798359214153,
          -140.54670352457646,
          133.15983592141527,
          -140.54670352457646,
          -140.54670352457646
         ],
         "y": [
          14.59,
          10.59,
          10.59,
          14.59,
          14.59,
          14.59,
          10.59,
          10.59,
          10.59,
          10.59,
          10.59,
          14.59,
          14.59,
          14.59,
          14.59,
          10.59
         ],
         "z": [
          -92.85210256518293,
          -92.85210256518293,
          -24.96447287832639,
          -24.96447287832639,
          -92.85210256518293,
          -49.175527121673625,
          -49.175527121673625,
          -92.85210256518293,
          -49.175527121673625,
          18.712102565182917,
          -24.96447287832639,
          -24.96447287832639,
          18.712102565182917,
          -49.175527121673625,
          18.712102565182917,
          18.712102565182917
         ],
         "type": "scatter3d"
        },
        {
         "hoverinfo": "skip",
         "line": {
          "color": "#3f3f3f",
          "width": 4
         },
         "mode": "lines",
         "visible": false,
         "x": [
          122.32670352457647,
          122.32670352457647,
          -151.3798359214153,
          -151.3798359214153,
          122.32670352457647,
          133.15983592141527,
          133.15983592141527,
          122.32670352457647,
          133.15983592141527,
          -140.54670352457646,
          -151.3798359214153,
          -151.3798359214153,
          -140.54670352457646,
          133.15983592141527,
          -140.54670352457646,
          -140.54670352457646
         ],
         "y": [
          14.59,
          10.59,
          10.59,
          14.59,
          14.59,
          14.59,
          10.59,
          10.59,
          10.59,
          10.59,
          10.59,
          14.59,
          14.59,
          14.59,
          14.59,
          10.59
         ],
         "z": [
          -92.85210256518293,
          -92.85210256518293,
          -24.96447287832639,
          -24.96447287832639,
          -92.85210256518293,
          -49.175527121673625,
          -49.175527121673625,
          -92.85210256518293,
          -49.175527121673625,
          18.712102565182917,
          -24.96447287832639,
          -24.96447287832639,
          18.712102565182917,
          -49.175527121673625,
          18.712102565182917,
          18.712102565182917
         ],
         "type": "scatter3d"
        },
        {
         "hoverinfo": "skip",
         "line": {
          "color": "darkslategray",
          "width": 4
         },
         "mode": "lines",
         "visible": true,
         "x": [
          20.099343876659045,
          20.119310129057926,
          20.099343876659045,
          20.100074953641375,
          20.120041206040256,
          20.100074953641375,
          -19.899681352670243,
          -19.879715100271362,
          -19.899681352670243,
          -19.900412429652572,
          -19.880446177253692,
          -19.900412429652572,
          20.099343876659045,
          20.119310129057926,
          20.120041206040256,
          -19.879715100271362,
          -19.880446177253692,
          20.119310129057926
         ],
         "y": [
          -28.42490205273046,
          -34.14478879666599,
          -28.42490205273046,
          -28.6343393300159,
          -34.35422607395144,
          -28.6343393300159,
          -28.77396538662485,
          -34.49385213056039,
          -28.77396538662485,
          -28.56452810933941,
          -34.28441485327494,
          -28.56452810933941,
          -28.42490205273046,
          -34.14478879666599,
          -34.35422607395144,
          -34.49385213056039,
          -34.28441485327494,
          -34.14478879666599
         ],
         "z": [
          20.149474410527134,
          20.179424123642853,
          20.149474410527134,
          -19.849977279369934,
          -19.820027566254215,
          -19.849977279369934,
          -19.849977279369934,
          -19.820027566254215,
          -19.849977279369934,
          20.149474410527134,
          20.179424123642853,
          20.149474410527134,
          20.149474410527134,
          20.179424123642853,
          -19.820027566254215,
          -19.820027566254215,
          20.179424123642853,
          20.179424123642853
         ],
         "type": "scatter3d"
        },
        {
         "hoverinfo": "skip",
         "line": {
          "color": "darkslategray",
          "width": 4
         },
         "mode": "lines",
         "visible": false,
         "x": [
          20.099343876659045,
          20.119310129057926,
          20.099343876659045,
          20.100074953641375,
          20.120041206040256,
          20.100074953641375,
          -19.899681352670243,
          -19.879715100271362,
          -19.899681352670243,
          -19.900412429652572,
          -19.880446177253692,
          -19.900412429652572,
          20.099343876659045,
          20.119310129057926,
          20.120041206040256,
          -19.879715100271362,
          -19.880446177253692,
          20.119310129057926
         ],
         "y": [
          -28.42490205273046,
          -34.14478879666599,
          -28.42490205273046,
          -28.6343393300159,
          -34.35422607395144,
          -28.6343393300159,
          -28.77396538662485,
          -34.49385213056039,
          -28.77396538662485,
          -28.56452810933941,
          -34.28441485327494,
          -28.56452810933941,
          -28.42490205273046,
          -34.14478879666599,
          -34.35422607395144,
          -34.49385213056039,
          -34.28441485327494,
          -34.14478879666599
         ],
         "z": [
          20.149474410527134,
          20.179424123642853,
          20.149474410527134,
          -19.849977279369934,
          -19.820027566254215,
          -19.849977279369934,
          -19.849977279369934,
          -19.820027566254215,
          -19.849977279369934,
          20.149474410527134,
          20.179424123642853,
          20.149474410527134,
          20.149474410527134,
          20.179424123642853,
          -19.820027566254215,
          -19.820027566254215,
          20.179424123642853,
          20.179424123642853
         ],
         "type": "scatter3d"
        },
        {
         "hoverinfo": "skip",
         "line": {
          "color": "darkslategray",
          "width": 4
         },
         "mode": "lines",
         "visible": false,
         "x": [
          20.099343876659045,
          20.119310129057926,
          20.099343876659045,
          20.100074953641375,
          20.120041206040256,
          20.100074953641375,
          -19.899681352670243,
          -19.879715100271362,
          -19.899681352670243,
          -19.900412429652572,
          -19.880446177253692,
          -19.900412429652572,
          20.099343876659045,
          20.119310129057926,
          20.120041206040256,
          -19.879715100271362,
          -19.880446177253692,
          20.119310129057926
         ],
         "y": [
          -28.42490205273046,
          -34.14478879666599,
          -28.42490205273046,
          -28.6343393300159,
          -34.35422607395144,
          -28.6343393300159,
          -28.77396538662485,
          -34.49385213056039,
          -28.77396538662485,
          -28.56452810933941,
          -34.28441485327494,
          -28.56452810933941,
          -28.42490205273046,
          -34.14478879666599,
          -34.35422607395144,
          -34.49385213056039,
          -34.28441485327494,
          -34.14478879666599
         ],
         "z": [
          20.149474410527134,
          20.179424123642853,
          20.149474410527134,
          -19.849977279369934,
          -19.820027566254215,
          -19.849977279369934,
          -19.849977279369934,
          -19.820027566254215,
          -19.849977279369934,
          20.149474410527134,
          20.179424123642853,
          20.149474410527134,
          20.149474410527134,
          20.179424123642853,
          -19.820027566254215,
          -19.820027566254215,
          20.179424123642853,
          20.179424123642853
         ],
         "type": "scatter3d"
        },
        {
         "hoverinfo": "skip",
         "line": {
          "color": "darkslategray",
          "width": 4
         },
         "mode": "lines",
         "visible": false,
         "x": [
          20.099343876659045,
          20.119310129057926,
          20.099343876659045,
          20.100074953641375,
          20.120041206040256,
          20.100074953641375,
          -19.899681352670243,
          -19.879715100271362,
          -19.899681352670243,
          -19.900412429652572,
          -19.880446177253692,
          -19.900412429652572,
          20.099343876659045,
          20.119310129057926,
          20.120041206040256,
          -19.879715100271362,
          -19.880446177253692,
          20.119310129057926
         ],
         "y": [
          -28.42490205273046,
          -34.14478879666599,
          -28.42490205273046,
          -28.6343393300159,
          -34.35422607395144,
          -28.6343393300159,
          -28.77396538662485,
          -34.49385213056039,
          -28.77396538662485,
          -28.56452810933941,
          -34.28441485327494,
          -28.56452810933941,
          -28.42490205273046,
          -34.14478879666599,
          -34.35422607395144,
          -34.49385213056039,
          -34.28441485327494,
          -34.14478879666599
         ],
         "z": [
          20.149474410527134,
          20.179424123642853,
          20.149474410527134,
          -19.849977279369934,
          -19.820027566254215,
          -19.849977279369934,
          -19.849977279369934,
          -19.820027566254215,
          -19.849977279369934,
          20.149474410527134,
          20.179424123642853,
          20.149474410527134,
          20.149474410527134,
          20.179424123642853,
          -19.820027566254215,
          -19.820027566254215,
          20.179424123642853,
          20.179424123642853
         ],
         "type": "scatter3d"
        },
        {
         "hoverinfo": "skip",
         "line": {
          "color": "darkslategray",
          "width": 4
         },
         "mode": "lines",
         "visible": false,
         "x": [
          20.099343876659045,
          20.119310129057926,
          20.099343876659045,
          20.100074953641375,
          20.120041206040256,
          20.100074953641375,
          -19.899681352670243,
          -19.879715100271362,
          -19.899681352670243,
          -19.900412429652572,
          -19.880446177253692,
          -19.900412429652572,
          20.099343876659045,
          20.119310129057926,
          20.120041206040256,
          -19.879715100271362,
          -19.880446177253692,
          20.119310129057926
         ],
         "y": [
          -28.42490205273046,
          -34.14478879666599,
          -28.42490205273046,
          -28.6343393300159,
          -34.35422607395144,
          -28.6343393300159,
          -28.77396538662485,
          -34.49385213056039,
          -28.77396538662485,
          -28.56452810933941,
          -34.28441485327494,
          -28.56452810933941,
          -28.42490205273046,
          -34.14478879666599,
          -34.35422607395144,
          -34.49385213056039,
          -34.28441485327494,
          -34.14478879666599
         ],
         "z": [
          20.149474410527134,
          20.179424123642853,
          20.149474410527134,
          -19.849977279369934,
          -19.820027566254215,
          -19.849977279369934,
          -19.849977279369934,
          -19.820027566254215,
          -19.849977279369934,
          20.149474410527134,
          20.179424123642853,
          20.149474410527134,
          20.149474410527134,
          20.179424123642853,
          -19.820027566254215,
          -19.820027566254215,
          20.179424123642853,
          20.179424123642853
         ],
         "type": "scatter3d"
        },
        {
         "hoverinfo": "skip",
         "line": {
          "color": "darkslategray",
          "width": 4
         },
         "mode": "lines",
         "visible": false,
         "x": [
          20.099343876659045,
          20.119310129057926,
          20.099343876659045,
          20.100074953641375,
          20.120041206040256,
          20.100074953641375,
          -19.899681352670243,
          -19.879715100271362,
          -19.899681352670243,
          -19.900412429652572,
          -19.880446177253692,
          -19.900412429652572,
          20.099343876659045,
          20.119310129057926,
          20.120041206040256,
          -19.879715100271362,
          -19.880446177253692,
          20.119310129057926
         ],
         "y": [
          -28.42490205273046,
          -34.14478879666599,
          -28.42490205273046,
          -28.6343393300159,
          -34.35422607395144,
          -28.6343393300159,
          -28.77396538662485,
          -34.49385213056039,
          -28.77396538662485,
          -28.56452810933941,
          -34.28441485327494,
          -28.56452810933941,
          -28.42490205273046,
          -34.14478879666599,
          -34.35422607395144,
          -34.49385213056039,
          -34.28441485327494,
          -34.14478879666599
         ],
         "z": [
          20.149474410527134,
          20.179424123642853,
          20.149474410527134,
          -19.849977279369934,
          -19.820027566254215,
          -19.849977279369934,
          -19.849977279369934,
          -19.820027566254215,
          -19.849977279369934,
          20.149474410527134,
          20.179424123642853,
          20.149474410527134,
          20.149474410527134,
          20.179424123642853,
          -19.820027566254215,
          -19.820027566254215,
          20.179424123642853,
          20.179424123642853
         ],
         "type": "scatter3d"
        },
        {
         "hoverinfo": "skip",
         "line": {
          "color": "darkslategray",
          "width": 4
         },
         "mode": "lines",
         "visible": false,
         "x": [
          20.099343876659045,
          20.119310129057926,
          20.099343876659045,
          20.100074953641375,
          20.120041206040256,
          20.100074953641375,
          -19.899681352670243,
          -19.879715100271362,
          -19.899681352670243,
          -19.900412429652572,
          -19.880446177253692,
          -19.900412429652572,
          20.099343876659045,
          20.119310129057926,
          20.120041206040256,
          -19.879715100271362,
          -19.880446177253692,
          20.119310129057926
         ],
         "y": [
          -28.42490205273046,
          -34.14478879666599,
          -28.42490205273046,
          -28.6343393300159,
          -34.35422607395144,
          -28.6343393300159,
          -28.77396538662485,
          -34.49385213056039,
          -28.77396538662485,
          -28.56452810933941,
          -34.28441485327494,
          -28.56452810933941,
          -28.42490205273046,
          -34.14478879666599,
          -34.35422607395144,
          -34.49385213056039,
          -34.28441485327494,
          -34.14478879666599
         ],
         "z": [
          20.149474410527134,
          20.179424123642853,
          20.149474410527134,
          -19.849977279369934,
          -19.820027566254215,
          -19.849977279369934,
          -19.849977279369934,
          -19.820027566254215,
          -19.849977279369934,
          20.149474410527134,
          20.179424123642853,
          20.149474410527134,
          20.149474410527134,
          20.179424123642853,
          -19.820027566254215,
          -19.820027566254215,
          20.179424123642853,
          20.179424123642853
         ],
         "type": "scatter3d"
        },
        {
         "hoverinfo": "skip",
         "line": {
          "color": "darkslategray",
          "width": 4
         },
         "mode": "lines",
         "visible": false,
         "x": [
          20.099343876659045,
          20.119310129057926,
          20.099343876659045,
          20.100074953641375,
          20.120041206040256,
          20.100074953641375,
          -19.899681352670243,
          -19.879715100271362,
          -19.899681352670243,
          -19.900412429652572,
          -19.880446177253692,
          -19.900412429652572,
          20.099343876659045,
          20.119310129057926,
          20.120041206040256,
          -19.879715100271362,
          -19.880446177253692,
          20.119310129057926
         ],
         "y": [
          -28.42490205273046,
          -34.14478879666599,
          -28.42490205273046,
          -28.6343393300159,
          -34.35422607395144,
          -28.6343393300159,
          -28.77396538662485,
          -34.49385213056039,
          -28.77396538662485,
          -28.56452810933941,
          -34.28441485327494,
          -28.56452810933941,
          -28.42490205273046,
          -34.14478879666599,
          -34.35422607395144,
          -34.49385213056039,
          -34.28441485327494,
          -34.14478879666599
         ],
         "z": [
          20.149474410527134,
          20.179424123642853,
          20.149474410527134,
          -19.849977279369934,
          -19.820027566254215,
          -19.849977279369934,
          -19.849977279369934,
          -19.820027566254215,
          -19.849977279369934,
          20.149474410527134,
          20.179424123642853,
          20.149474410527134,
          20.149474410527134,
          20.179424123642853,
          -19.820027566254215,
          -19.820027566254215,
          20.179424123642853,
          20.179424123642853
         ],
         "type": "scatter3d"
        },
        {
         "hoverinfo": "skip",
         "line": {
          "color": "darkslategray",
          "width": 4
         },
         "mode": "lines",
         "visible": false,
         "x": [
          20.099343876659045,
          20.119310129057926,
          20.099343876659045,
          20.100074953641375,
          20.120041206040256,
          20.100074953641375,
          -19.899681352670243,
          -19.879715100271362,
          -19.899681352670243,
          -19.900412429652572,
          -19.880446177253692,
          -19.900412429652572,
          20.099343876659045,
          20.119310129057926,
          20.120041206040256,
          -19.879715100271362,
          -19.880446177253692,
          20.119310129057926
         ],
         "y": [
          -28.42490205273046,
          -34.14478879666599,
          -28.42490205273046,
          -28.6343393300159,
          -34.35422607395144,
          -28.6343393300159,
          -28.77396538662485,
          -34.49385213056039,
          -28.77396538662485,
          -28.56452810933941,
          -34.28441485327494,
          -28.56452810933941,
          -28.42490205273046,
          -34.14478879666599,
          -34.35422607395144,
          -34.49385213056039,
          -34.28441485327494,
          -34.14478879666599
         ],
         "z": [
          20.149474410527134,
          20.179424123642853,
          20.149474410527134,
          -19.849977279369934,
          -19.820027566254215,
          -19.849977279369934,
          -19.849977279369934,
          -19.820027566254215,
          -19.849977279369934,
          20.149474410527134,
          20.179424123642853,
          20.149474410527134,
          20.149474410527134,
          20.179424123642853,
          -19.820027566254215,
          -19.820027566254215,
          20.179424123642853,
          20.179424123642853
         ],
         "type": "scatter3d"
        },
        {
         "hoverinfo": "skip",
         "line": {
          "color": "darkslategray",
          "width": 4
         },
         "mode": "lines",
         "visible": false,
         "x": [
          20.099343876659045,
          20.119310129057926,
          20.099343876659045,
          20.100074953641375,
          20.120041206040256,
          20.100074953641375,
          -19.899681352670243,
          -19.879715100271362,
          -19.899681352670243,
          -19.900412429652572,
          -19.880446177253692,
          -19.900412429652572,
          20.099343876659045,
          20.119310129057926,
          20.120041206040256,
          -19.879715100271362,
          -19.880446177253692,
          20.119310129057926
         ],
         "y": [
          -28.42490205273046,
          -34.14478879666599,
          -28.42490205273046,
          -28.6343393300159,
          -34.35422607395144,
          -28.6343393300159,
          -28.77396538662485,
          -34.49385213056039,
          -28.77396538662485,
          -28.56452810933941,
          -34.28441485327494,
          -28.56452810933941,
          -28.42490205273046,
          -34.14478879666599,
          -34.35422607395144,
          -34.49385213056039,
          -34.28441485327494,
          -34.14478879666599
         ],
         "z": [
          20.149474410527134,
          20.179424123642853,
          20.149474410527134,
          -19.849977279369934,
          -19.820027566254215,
          -19.849977279369934,
          -19.849977279369934,
          -19.820027566254215,
          -19.849977279369934,
          20.149474410527134,
          20.179424123642853,
          20.149474410527134,
          20.149474410527134,
          20.179424123642853,
          -19.820027566254215,
          -19.820027566254215,
          20.179424123642853,
          20.179424123642853
         ],
         "type": "scatter3d"
        },
        {
         "hoverinfo": "skip",
         "line": {
          "color": "darkslategray",
          "width": 4
         },
         "mode": "lines",
         "visible": false,
         "x": [
          20.099343876659045,
          20.119310129057926,
          20.099343876659045,
          20.100074953641375,
          20.120041206040256,
          20.100074953641375,
          -19.899681352670243,
          -19.879715100271362,
          -19.899681352670243,
          -19.900412429652572,
          -19.880446177253692,
          -19.900412429652572,
          20.099343876659045,
          20.119310129057926,
          20.120041206040256,
          -19.879715100271362,
          -19.880446177253692,
          20.119310129057926
         ],
         "y": [
          -28.42490205273046,
          -34.14478879666599,
          -28.42490205273046,
          -28.6343393300159,
          -34.35422607395144,
          -28.6343393300159,
          -28.77396538662485,
          -34.49385213056039,
          -28.77396538662485,
          -28.56452810933941,
          -34.28441485327494,
          -28.56452810933941,
          -28.42490205273046,
          -34.14478879666599,
          -34.35422607395144,
          -34.49385213056039,
          -34.28441485327494,
          -34.14478879666599
         ],
         "z": [
          20.149474410527134,
          20.179424123642853,
          20.149474410527134,
          -19.849977279369934,
          -19.820027566254215,
          -19.849977279369934,
          -19.849977279369934,
          -19.820027566254215,
          -19.849977279369934,
          20.149474410527134,
          20.179424123642853,
          20.149474410527134,
          20.149474410527134,
          20.179424123642853,
          -19.820027566254215,
          -19.820027566254215,
          20.179424123642853,
          20.179424123642853
         ],
         "type": "scatter3d"
        },
        {
         "hoverinfo": "skip",
         "line": {
          "color": "darkslategray",
          "width": 4
         },
         "mode": "lines",
         "visible": false,
         "x": [
          28.98462792751016,
          31.0623964838879,
          28.98462792751016,
          29.06070673968917,
          31.138475296066908,
          29.06070673968917,
          -8.206942363732791,
          -6.129173807355051,
          -8.206942363732791,
          -8.283021175911797,
          -6.20525261953406,
          -8.283021175911797,
          28.98462792751016,
          31.0623964838879,
          31.138475296066908,
          -6.129173807355051,
          -6.20525261953406,
          31.0623964838879
         ],
         "y": [
          -19.283413206258626,
          -24.612613975681022,
          -19.283413206258626,
          -19.47854526904618,
          -24.80774603846858,
          -19.47854526904618,
          -34.00859448796531,
          -39.33779525738771,
          -34.00859448796531,
          -33.81346242517776,
          -39.14266319460015,
          -33.81346242517776,
          -19.283413206258626,
          -24.612613975681022,
          -24.80774603846858,
          -39.33779525738771,
          -39.14266319460015,
          -24.612613975681022
         ],
         "z": [
          20.149474410527134,
          20.179424123642853,
          20.149474410527134,
          -19.849977279369934,
          -19.820027566254215,
          -19.849977279369934,
          -19.849977279369934,
          -19.820027566254215,
          -19.849977279369934,
          20.149474410527134,
          20.179424123642853,
          20.149474410527134,
          20.149474410527134,
          20.179424123642853,
          -19.820027566254215,
          -19.820027566254215,
          20.179424123642853,
          20.179424123642853
         ],
         "type": "scatter3d"
        },
        {
         "hoverinfo": "skip",
         "line": {
          "color": "darkslategray",
          "width": 4
         },
         "mode": "lines",
         "visible": false,
         "x": [
          -4.408433678787642,
          -8.258041802790592,
          -4.408433678787642,
          -4.502403762097487,
          -8.352011886100438,
          -4.502403762097487,
          -34.08764756124188,
          -37.93725568524483,
          -34.08764756124188,
          -33.99367747793203,
          -37.84328560193499,
          -33.99367747793203,
          -4.408433678787642,
          -8.258041802790592,
          -8.352011886100438,
          -37.93725568524483,
          -37.84328560193499,
          -8.258041802790592
         ],
         "y": [
          -34.56193482596294,
          -38.79259891443016,
          -34.56193482596294,
          -34.66520659910016,
          -38.895870687567374,
          -34.66520659910016,
          -7.744706058709232,
          -11.975370147176449,
          -7.744706058709232,
          -7.641434285572012,
          -11.872098374039227,
          -7.641434285572012,
          -34.56193482596294,
          -38.79259891443016,
          -38.895870687567374,
          -11.975370147176449,
          -11.872098374039227,
          -38.79259891443016
         ],
         "z": [
          20.099710783631206,
          20.119677309726285,
          20.099710783631206,
          -19.900045522680408,
          -19.88007899658533,
          -19.900045522680408,
          -19.900045522680408,
          -19.88007899658533,
          -19.900045522680408,
          20.099710783631206,
          20.119677309726285,
          20.099710783631206,
          20.099710783631206,
          20.119677309726285,
          -19.88007899658533,
          -19.88007899658533,
          20.119677309726285,
          20.119677309726285
         ],
         "type": "scatter3d"
        },
        {
         "hoverinfo": "skip",
         "line": {
          "color": "darkslategray",
          "width": 4
         },
         "mode": "lines",
         "visible": false,
         "x": [
          20.035197512014058,
          20.044596474429863,
          20.035197512014058,
          20.058731188675484,
          20.06813015109129,
          20.058731188675484,
          -19.94120788785602,
          -19.931808925440215,
          -19.94120788785602,
          -19.964741564517446,
          -19.95534260210164,
          -19.964741564517446,
          20.035197512014058,
          20.044596474429863,
          20.06813015109129,
          -19.931808925440215,
          -19.95534260210164,
          20.044596474429863
         ],
         "y": [
          -20.149215103630333,
          -25.534418417811086,
          -20.149215103630333,
          -33.633004903541256,
          -39.01820821772201,
          -33.633004903541256,
          -33.70281803817719,
          -39.08802135235795,
          -33.70281803817719,
          -20.219028238266265,
          -25.60423155244702,
          -20.219028238266265,
          -20.149215103630333,
          -25.534418417811086,
          -39.01820821772201,
          -39.08802135235795,
          -25.60423155244702,
          -25.534418417811086
         ],
         "z": [
          28.470335287140905,
          30.39852016532093,
          28.470335287140905,
          -9.188486505340613,
          -7.260301627160585,
          -9.188486505340613,
          -9.188486505340613,
          -7.260301627160585,
          -9.188486505340613,
          28.470335287140905,
          30.39852016532093,
          28.470335287140905,
          28.470335287140905,
          30.39852016532093,
          -7.260301627160585,
          -7.260301627160585,
          30.39852016532093,
          30.39852016532093
         ],
         "type": "scatter3d"
        },
        {
         "hoverinfo": "skip",
         "line": {
          "color": "darkslategray",
          "width": 4
         },
         "mode": "lines",
         "visible": false,
         "x": [
          20.05710987264615,
          20.066766375767205,
          20.05710987264615,
          20.039394235095912,
          20.04905073821697,
          20.039394235095912,
          -19.960544841435592,
          -19.950888338314535,
          -19.960544841435592,
          -19.942829203885353,
          -19.9331727007643,
          -19.942829203885353,
          20.05710987264615,
          20.066766375767205,
          20.04905073821697,
          -19.950888338314535,
          -19.9331727007643,
          20.066766375767205
         ],
         "y": [
          -32.70406018940703,
          -38.23682330839422,
          -32.70406018940703,
          -22.553757865828945,
          -28.086520984816136,
          -22.553757865828945,
          -22.623571000464878,
          -28.15633411945207,
          -22.623571000464878,
          -32.77387332404296,
          -38.30663644303015,
          -32.77387332404296,
          -32.70406018940703,
          -38.23682330839422,
          -28.086520984816136,
          -28.15633411945207,
          -38.30663644303015,
          -38.23682330839422
         ],
         "z": [
          12.087877840392098,
          10.63638239736701,
          12.087877840392098,
          -26.602832270642978,
          -28.054327713668066,
          -26.602832270642978,
          -26.602832270642978,
          -28.054327713668066,
          -26.602832270642978,
          12.087877840392098,
          10.63638239736701,
          12.087877840392098,
          12.087877840392098,
          10.63638239736701,
          -28.054327713668066,
          -28.054327713668066,
          10.63638239736701,
          10.63638239736701
         ],
         "type": "scatter3d"
        },
        {
         "hoverinfo": "skip",
         "line": {
          "color": "darkslategray",
          "width": 4
         },
         "mode": "lines",
         "visible": false,
         "x": [
          20.049702475764946,
          20.059685617169578,
          20.049702475764946,
          20.050068014812858,
          20.06005115621749,
          20.050068014812858,
          -19.949871061718646,
          -19.939887920314014,
          -19.949871061718646,
          -19.95023660076656,
          -19.940253459361927,
          -19.95023660076656,
          20.049702475764946,
          20.059685617169578,
          20.06005115621749,
          -19.939887920314014,
          -19.940253459361927,
          20.059685617169578
         ],
         "y": [
          -28.45993871414372,
          -34.17985159386243,
          -28.45993871414372,
          -28.669376948407425,
          -34.38928982812614,
          -28.669376948407425,
          -28.739190083043358,
          -34.459102962762074,
          -28.739190083043358,
          -28.529751848779654,
          -34.24966472849836,
          -28.529751848779654,
          -28.45993871414372,
          -34.17985159386243,
          -34.38928982812614,
          -34.459102962762074,
          -34.24966472849836,
          -34.17985159386243
         ],
         "z": [
          20.149474410527134,
          20.179424123642853,
          20.149474410527134,
          -19.849977279369934,
          -19.820027566254215,
          -19.849977279369934,
          -19.849977279369934,
          -19.820027566254215,
          -19.849977279369934,
          20.149474410527134,
          20.179424123642853,
          20.149474410527134,
          20.149474410527134,
          20.179424123642853,
          -19.820027566254215,
          -19.820027566254215,
          20.179424123642853,
          20.179424123642853
         ],
         "type": "scatter3d"
        },
        {
         "hoverinfo": "skip",
         "line": {
          "color": "darkslategray",
          "width": 4
         },
         "mode": "lines",
         "visible": false,
         "x": [
          20.049702475764946,
          20.059685617169578,
          20.049702475764946,
          20.050068014812858,
          20.06005115621749,
          20.050068014812858,
          -19.949871061718646,
          -19.939887920314014,
          -19.949871061718646,
          -19.95023660076656,
          -19.940253459361927,
          -19.95023660076656,
          20.049702475764946,
          20.059685617169578,
          20.06005115621749,
          -19.939887920314014,
          -19.940253459361927,
          20.059685617169578
         ],
         "y": [
          -28.45993871414372,
          -34.17985159386243,
          -28.45993871414372,
          -28.669376948407425,
          -34.38928982812614,
          -28.669376948407425,
          -28.739190083043358,
          -34.459102962762074,
          -28.739190083043358,
          -28.529751848779654,
          -34.24966472849836,
          -28.529751848779654,
          -28.45993871414372,
          -34.17985159386243,
          -34.38928982812614,
          -34.459102962762074,
          -34.24966472849836,
          -34.17985159386243
         ],
         "z": [
          20.149474410527134,
          20.179424123642853,
          20.149474410527134,
          -19.849977279369934,
          -19.820027566254215,
          -19.849977279369934,
          -19.849977279369934,
          -19.820027566254215,
          -19.849977279369934,
          20.149474410527134,
          20.179424123642853,
          20.149474410527134,
          20.149474410527134,
          20.179424123642853,
          -19.820027566254215,
          -19.820027566254215,
          20.179424123642853,
          20.179424123642853
         ],
         "type": "scatter3d"
        },
        {
         "hoverinfo": "skip",
         "line": {
          "color": "darkslategray",
          "width": 4
         },
         "mode": "lines",
         "visible": false,
         "x": [
          20.049702475764946,
          20.059685617169578,
          20.049702475764946,
          20.050068014812858,
          20.06005115621749,
          20.050068014812858,
          -19.949871061718646,
          -19.939887920314014,
          -19.949871061718646,
          -19.95023660076656,
          -19.940253459361927,
          -19.95023660076656,
          20.049702475764946,
          20.059685617169578,
          20.06005115621749,
          -19.939887920314014,
          -19.940253459361927,
          20.059685617169578
         ],
         "y": [
          -28.45993871414372,
          -34.17985159386243,
          -28.45993871414372,
          -28.669376948407425,
          -34.38928982812614,
          -28.669376948407425,
          -28.739190083043358,
          -34.459102962762074,
          -28.739190083043358,
          -28.529751848779654,
          -34.24966472849836,
          -28.529751848779654,
          -28.45993871414372,
          -34.17985159386243,
          -34.38928982812614,
          -34.459102962762074,
          -34.24966472849836,
          -34.17985159386243
         ],
         "z": [
          20.149474410527134,
          20.179424123642853,
          20.149474410527134,
          -19.849977279369934,
          -19.820027566254215,
          -19.849977279369934,
          -19.849977279369934,
          -19.820027566254215,
          -19.849977279369934,
          20.149474410527134,
          20.179424123642853,
          20.149474410527134,
          20.149474410527134,
          20.179424123642853,
          -19.820027566254215,
          -19.820027566254215,
          20.179424123642853,
          20.179424123642853
         ],
         "type": "scatter3d"
        },
        {
         "hoverinfo": "skip",
         "line": {
          "color": "darkslategray",
          "width": 4
         },
         "mode": "lines",
         "visible": false,
         "x": [
          20.049702475764946,
          20.059685617169578,
          20.049702475764946,
          20.050068014812858,
          20.06005115621749,
          20.050068014812858,
          -19.949871061718646,
          -19.939887920314014,
          -19.949871061718646,
          -19.95023660076656,
          -19.940253459361927,
          -19.95023660076656,
          20.049702475764946,
          20.059685617169578,
          20.06005115621749,
          -19.939887920314014,
          -19.940253459361927,
          20.059685617169578
         ],
         "y": [
          -28.45993871414372,
          -34.17985159386243,
          -28.45993871414372,
          -28.669376948407425,
          -34.38928982812614,
          -28.669376948407425,
          -28.739190083043358,
          -34.459102962762074,
          -28.739190083043358,
          -28.529751848779654,
          -34.24966472849836,
          -28.529751848779654,
          -28.45993871414372,
          -34.17985159386243,
          -34.38928982812614,
          -34.459102962762074,
          -34.24966472849836,
          -34.17985159386243
         ],
         "z": [
          20.149474410527134,
          20.179424123642853,
          20.149474410527134,
          -19.849977279369934,
          -19.820027566254215,
          -19.849977279369934,
          -19.849977279369934,
          -19.820027566254215,
          -19.849977279369934,
          20.149474410527134,
          20.179424123642853,
          20.149474410527134,
          20.149474410527134,
          20.179424123642853,
          -19.820027566254215,
          -19.820027566254215,
          20.179424123642853,
          20.179424123642853
         ],
         "type": "scatter3d"
        },
        {
         "hoverinfo": "skip",
         "line": {
          "color": "darkslategray",
          "width": 4
         },
         "mode": "lines",
         "visible": false,
         "x": [
          29.729733571797567,
          35.689642796119855,
          29.729733571797567,
          29.93917180606127,
          35.89908103038357,
          29.93917180606127,
          29.869358671425342,
          35.82926789574764,
          29.869358671425342,
          29.659920437161638,
          35.61982966148393,
          29.659920437161638,
          29.729733571797567,
          35.689642796119855,
          35.89908103038357,
          35.82926789574764,
          35.61982966148393,
          35.689642796119855
         ],
         "y": [
          19.948142235436915,
          19.937740220966358,
          19.948142235436915,
          19.947776696389003,
          19.937374681918445,
          19.947776696389003,
          -20.0521623801425,
          -20.06256439461306,
          -20.0521623801425,
          -20.05179684109459,
          -20.062198855565146,
          -20.05179684109459,
          19.948142235436915,
          19.937740220966358,
          19.937374681918445,
          -20.06256439461306,
          -20.062198855565146,
          19.937740220966358
         ],
         "z": [
          20.155757567124837,
          20.1869639115601,
          20.155757567124837,
          -19.84369412277223,
          -19.81248777833697,
          -19.84369412277223,
          -19.84369412277223,
          -19.81248777833697,
          -19.84369412277223,
          20.155757567124837,
          20.1869639115601,
          20.155757567124837,
          20.155757567124837,
          20.1869639115601,
          -19.81248777833697,
          -19.81248777833697,
          20.1869639115601,
          20.1869639115601
         ],
         "type": "scatter3d"
        },
        {
         "hoverinfo": "skip",
         "line": {
          "color": "darkslategray",
          "width": 4
         },
         "mode": "lines",
         "visible": false,
         "x": [
          29.729733571797567,
          35.689642796119855,
          29.729733571797567,
          29.93917180606127,
          35.89908103038357,
          29.93917180606127,
          29.869358671425342,
          35.82926789574764,
          29.869358671425342,
          29.659920437161638,
          35.61982966148393,
          29.659920437161638,
          29.729733571797567,
          35.689642796119855,
          35.89908103038357,
          35.82926789574764,
          35.61982966148393,
          35.689642796119855
         ],
         "y": [
          19.948142235436915,
          19.937740220966358,
          19.948142235436915,
          19.947776696389003,
          19.937374681918445,
          19.947776696389003,
          -20.0521623801425,
          -20.06256439461306,
          -20.0521623801425,
          -20.05179684109459,
          -20.062198855565146,
          -20.05179684109459,
          19.948142235436915,
          19.937740220966358,
          19.937374681918445,
          -20.06256439461306,
          -20.062198855565146,
          19.937740220966358
         ],
         "z": [
          20.155757567124837,
          20.1869639115601,
          20.155757567124837,
          -19.84369412277223,
          -19.81248777833697,
          -19.84369412277223,
          -19.84369412277223,
          -19.81248777833697,
          -19.84369412277223,
          20.155757567124837,
          20.1869639115601,
          20.155757567124837,
          20.155757567124837,
          20.1869639115601,
          -19.81248777833697,
          -19.81248777833697,
          20.1869639115601,
          20.1869639115601
         ],
         "type": "scatter3d"
        },
        {
         "hoverinfo": "skip",
         "line": {
          "color": "darkslategray",
          "width": 4
         },
         "mode": "lines",
         "visible": false,
         "x": [
          29.729733571797567,
          35.689642796119855,
          29.729733571797567,
          29.93917180606127,
          35.89908103038357,
          29.93917180606127,
          29.869358671425342,
          35.82926789574764,
          29.869358671425342,
          29.659920437161638,
          35.61982966148393,
          29.659920437161638,
          29.729733571797567,
          35.689642796119855,
          35.89908103038357,
          35.82926789574764,
          35.61982966148393,
          35.689642796119855
         ],
         "y": [
          19.948142235436915,
          19.937740220966358,
          19.948142235436915,
          19.947776696389003,
          19.937374681918445,
          19.947776696389003,
          -20.0521623801425,
          -20.06256439461306,
          -20.0521623801425,
          -20.05179684109459,
          -20.062198855565146,
          -20.05179684109459,
          19.948142235436915,
          19.937740220966358,
          19.937374681918445,
          -20.06256439461306,
          -20.062198855565146,
          19.937740220966358
         ],
         "z": [
          20.155757567124837,
          20.1869639115601,
          20.155757567124837,
          -19.84369412277223,
          -19.81248777833697,
          -19.84369412277223,
          -19.84369412277223,
          -19.81248777833697,
          -19.84369412277223,
          20.155757567124837,
          20.1869639115601,
          20.155757567124837,
          20.155757567124837,
          20.1869639115601,
          -19.81248777833697,
          -19.81248777833697,
          20.1869639115601,
          20.1869639115601
         ],
         "type": "scatter3d"
        },
        {
         "hoverinfo": "skip",
         "line": {
          "color": "darkslategray",
          "width": 4
         },
         "mode": "lines",
         "visible": false,
         "x": [
          29.729733571797567,
          35.689642796119855,
          29.729733571797567,
          29.93917180606127,
          35.89908103038357,
          29.93917180606127,
          29.869358671425342,
          35.82926789574764,
          29.869358671425342,
          29.659920437161638,
          35.61982966148393,
          29.659920437161638,
          29.729733571797567,
          35.689642796119855,
          35.89908103038357,
          35.82926789574764,
          35.61982966148393,
          35.689642796119855
         ],
         "y": [
          19.948142235436915,
          19.937740220966358,
          19.948142235436915,
          19.947776696389003,
          19.937374681918445,
          19.947776696389003,
          -20.0521623801425,
          -20.06256439461306,
          -20.0521623801425,
          -20.05179684109459,
          -20.062198855565146,
          -20.05179684109459,
          19.948142235436915,
          19.937740220966358,
          19.937374681918445,
          -20.06256439461306,
          -20.062198855565146,
          19.937740220966358
         ],
         "z": [
          20.155757567124837,
          20.1869639115601,
          20.155757567124837,
          -19.84369412277223,
          -19.81248777833697,
          -19.84369412277223,
          -19.84369412277223,
          -19.81248777833697,
          -19.84369412277223,
          20.155757567124837,
          20.1869639115601,
          20.155757567124837,
          20.155757567124837,
          20.1869639115601,
          -19.81248777833697,
          -19.81248777833697,
          20.1869639115601,
          20.1869639115601
         ],
         "type": "scatter3d"
        },
        {
         "hoverinfo": "skip",
         "line": {
          "color": "darkslategray",
          "width": 4
         },
         "mode": "lines",
         "visible": false,
         "x": [
          20.10328637864309,
          20.1240898689145,
          20.10328637864309,
          20.104504830382588,
          20.125308320653993,
          20.104504830382588,
          -19.89525147592903,
          -19.874447985657625,
          -19.89525147592903,
          -19.896469927668527,
          -19.87566643739712,
          -19.896469927668527,
          20.10328637864309,
          20.1240898689145,
          20.125308320653993,
          -19.874447985657625,
          -19.87566643739712,
          20.1240898689145
         ],
         "y": [
          -29.55434108745625,
          -35.51407783994173,
          -29.55434108745625,
          -29.903400380789584,
          -35.86313713327506,
          -29.903400380789584,
          -30.04302643739853,
          -36.00276318988401,
          -30.04302643739853,
          -29.693967144065198,
          -35.65370389655068,
          -29.693967144065198,
          -29.55434108745625,
          -35.51407783994173,
          -35.86313713327506,
          -36.00276318988401,
          -35.65370389655068,
          -35.51407783994173
         ],
         "z": [
          20.25928921913497,
          20.311299370705278,
          20.25928921913497,
          -19.739187703431885,
          -19.687177551861573,
          -19.739187703431885,
          -19.739187703431885,
          -19.687177551861573,
          -19.739187703431885,
          20.25928921913497,
          20.311299370705278,
          20.25928921913497,
          20.25928921913497,
          20.311299370705278,
          -19.687177551861573,
          -19.687177551861573,
          20.311299370705278,
          20.311299370705278
         ],
         "type": "scatter3d"
        }
       ],
       "layout": {
        "dragmode": "orbit",
        "font": {
         "color": "rgb(52, 49, 49)",
         "family": "Arial",
         "size": 14
        },
        "height": 800,
        "hoverlabel": {
         "font": {
          "family": "Arial",
          "size": 14
         }
        },
        "margin": {
         "b": 5,
         "l": 5,
         "r": 5,
         "t": 40
        },
        "paper_bgcolor": "rgb(252, 252, 252)",
        "scene": {
         "aspectmode": "cube",
         "camera": {
          "center": {
           "x": 0,
           "y": 0,
           "z": 0
          },
          "eye": {
           "x": -1.3,
           "y": -1.3,
           "z": 0.7
          },
          "up": {
           "x": 0,
           "y": -1,
           "z": 0
          }
         },
         "xaxis": {
          "backgroundcolor": "rgb(252, 252, 252)",
          "color": "rgb(52, 49, 49)",
          "gridcolor": "rgb(99,99,99)",
          "linecolor": "rgb(99,99,99)",
          "range": [
           -300,
           300
          ],
          "title": {
           "text": "X - LON [cm]"
          },
          "zerolinecolor": "green",
          "zerolinewidth": 5
         },
         "yaxis": {
          "backgroundcolor": "rgb(252, 252, 252)",
          "color": "rgb(52, 49, 49)",
          "gridcolor": "rgb(99,99,99)",
          "linecolor": "rgb(99,99,99)",
          "range": [
           -300,
           300
          ],
          "title": {
           "text": "Y - VER [cm]"
          },
          "zerolinecolor": "green",
          "zerolinewidth": 5
         },
         "zaxis": {
          "backgroundcolor": "rgb(252, 252, 252)",
          "color": "rgb(52, 49, 49)",
          "gridcolor": "rgb(99,99,99)",
          "linecolor": "rgb(99,99,99)",
          "range": [
           -300,
           300
          ],
          "title": {
           "text": "Z - LAT [cm]"
          },
          "zerolinecolor": "green",
          "zerolinewidth": 5
         }
        },
        "showlegend": false,
        "sliders": [
         {
          "active": 0,
          "bgcolor": "red",
          "bordercolor": "rgb(252,252,252)",
          "borderwidth": 3,
          "currentvalue": {
           "font": {
            "color": "rgb(52, 49, 49)",
            "size": 18
           },
           "prefix": "Active event: ",
           "suffix": " of 24"
          },
          "font": {
           "color": "rgb(52, 49, 49)",
           "family": "Arial",
           "size": 14
          },
          "pad": {
           "b": 0,
           "l": 20,
           "r": 20,
           "t": 0
          },
          "steps": [
           {
            "args": [
             "visible",
             [
              true,
              false,
              false,
              false,
              false,
              false,
              false,
              false,
              false,
              false,
              false,
              false,
              false,
              false,
              false,
              false,
              false,
              false,
              false,
              false,
              false,
              false,
              false,
              false
             ]
            ],
            "label": "1",
            "method": "restyle"
           },
           {
            "args": [
             "visible",
             [
              false,
              true,
              false,
              false,
              false,
              false,
              false,
              false,
              false,
              false,
              false,
              false,
              false,
              false,
              false,
              false,
              false,
              false,
              false,
              false,
              false,
              false,
              false,
              false
             ]
            ],
            "label": "2",
            "method": "restyle"
           },
           {
            "args": [
             "visible",
             [
              false,
              false,
              true,
              false,
              false,
              false,
              false,
              false,
              false,
              false,
              false,
              false,
              false,
              false,
              false,
              false,
              false,
              false,
              false,
              false,
              false,
              false,
              false,
              false
             ]
            ],
            "label": "3",
            "method": "restyle"
           },
           {
            "args": [
             "visible",
             [
              false,
              false,
              false,
              true,
              false,
              false,
              false,
              false,
              false,
              false,
              false,
              false,
              false,
              false,
              false,
              false,
              false,
              false,
              false,
              false,
              false,
              false,
              false,
              false
             ]
            ],
            "label": "4",
            "method": "restyle"
           },
           {
            "args": [
             "visible",
             [
              false,
              false,
              false,
              false,
              true,
              false,
              false,
              false,
              false,
              false,
              false,
              false,
              false,
              false,
              false,
              false,
              false,
              false,
              false,
              false,
              false,
              false,
              false,
              false
             ]
            ],
            "label": "5",
            "method": "restyle"
           },
           {
            "args": [
             "visible",
             [
              false,
              false,
              false,
              false,
              false,
              true,
              false,
              false,
              false,
              false,
              false,
              false,
              false,
              false,
              false,
              false,
              false,
              false,
              false,
              false,
              false,
              false,
              false,
              false
             ]
            ],
            "label": "6",
            "method": "restyle"
           },
           {
            "args": [
             "visible",
             [
              false,
              false,
              false,
              false,
              false,
              false,
              true,
              false,
              false,
              false,
              false,
              false,
              false,
              false,
              false,
              false,
              false,
              false,
              false,
              false,
              false,
              false,
              false,
              false
             ]
            ],
            "label": "7",
            "method": "restyle"
           },
           {
            "args": [
             "visible",
             [
              false,
              false,
              false,
              false,
              false,
              false,
              false,
              true,
              false,
              false,
              false,
              false,
              false,
              false,
              false,
              false,
              false,
              false,
              false,
              false,
              false,
              false,
              false,
              false
             ]
            ],
            "label": "8",
            "method": "restyle"
           },
           {
            "args": [
             "visible",
             [
              false,
              false,
              false,
              false,
              false,
              false,
              false,
              false,
              true,
              false,
              false,
              false,
              false,
              false,
              false,
              false,
              false,
              false,
              false,
              false,
              false,
              false,
              false,
              false
             ]
            ],
            "label": "9",
            "method": "restyle"
           },
           {
            "args": [
             "visible",
             [
              false,
              false,
              false,
              false,
              false,
              false,
              false,
              false,
              false,
              true,
              false,
              false,
              false,
              false,
              false,
              false,
              false,
              false,
              false,
              false,
              false,
              false,
              false,
              false
             ]
            ],
            "label": "10",
            "method": "restyle"
           },
           {
            "args": [
             "visible",
             [
              false,
              false,
              false,
              false,
              false,
              false,
              false,
              false,
              false,
              false,
              true,
              false,
              false,
              false,
              false,
              false,
              false,
              false,
              false,
              false,
              false,
              false,
              false,
              false
             ]
            ],
            "label": "11",
            "method": "restyle"
           },
           {
            "args": [
             "visible",
             [
              false,
              false,
              false,
              false,
              false,
              false,
              false,
              false,
              false,
              false,
              false,
              true,
              false,
              false,
              false,
              false,
              false,
              false,
              false,
              false,
              false,
              false,
              false,
              false
             ]
            ],
            "label": "12",
            "method": "restyle"
           },
           {
            "args": [
             "visible",
             [
              false,
              false,
              false,
              false,
              false,
              false,
              false,
              false,
              false,
              false,
              false,
              false,
              true,
              false,
              false,
              false,
              false,
              false,
              false,
              false,
              false,
              false,
              false,
              false
             ]
            ],
            "label": "13",
            "method": "restyle"
           },
           {
            "args": [
             "visible",
             [
              false,
              false,
              false,
              false,
              false,
              false,
              false,
              false,
              false,
              false,
              false,
              false,
              false,
              true,
              false,
              false,
              false,
              false,
              false,
              false,
              false,
              false,
              false,
              false
             ]
            ],
            "label": "14",
            "method": "restyle"
           },
           {
            "args": [
             "visible",
             [
              false,
              false,
              false,
              false,
              false,
              false,
              false,
              false,
              false,
              false,
              false,
              false,
              false,
              false,
              true,
              false,
              false,
              false,
              false,
              false,
              false,
              false,
              false,
              false
             ]
            ],
            "label": "15",
            "method": "restyle"
           },
           {
            "args": [
             "visible",
             [
              false,
              false,
              false,
              false,
              false,
              false,
              false,
              false,
              false,
              false,
              false,
              false,
              false,
              false,
              false,
              true,
              false,
              false,
              false,
              false,
              false,
              false,
              false,
              false
             ]
            ],
            "label": "16",
            "method": "restyle"
           },
           {
            "args": [
             "visible",
             [
              false,
              false,
              false,
              false,
              false,
              false,
              false,
              false,
              false,
              false,
              false,
              false,
              false,
              false,
              false,
              false,
              true,
              false,
              false,
              false,
              false,
              false,
              false,
              false
             ]
            ],
            "label": "17",
            "method": "restyle"
           },
           {
            "args": [
             "visible",
             [
              false,
              false,
              false,
              false,
              false,
              false,
              false,
              false,
              false,
              false,
              false,
              false,
              false,
              false,
              false,
              false,
              false,
              true,
              false,
              false,
              false,
              false,
              false,
              false
             ]
            ],
            "label": "18",
            "method": "restyle"
           },
           {
            "args": [
             "visible",
             [
              false,
              false,
              false,
              false,
              false,
              false,
              false,
              false,
              false,
              false,
              false,
              false,
              false,
              false,
              false,
              false,
              false,
              false,
              true,
              false,
              false,
              false,
              false,
              false
             ]
            ],
            "label": "19",
            "method": "restyle"
           },
           {
            "args": [
             "visible",
             [
              false,
              false,
              false,
              false,
              false,
              false,
              false,
              false,
              false,
              false,
              false,
              false,
              false,
              false,
              false,
              false,
              false,
              false,
              false,
              true,
              false,
              false,
              false,
              false
             ]
            ],
            "label": "20",
            "method": "restyle"
           },
           {
            "args": [
             "visible",
             [
              false,
              false,
              false,
              false,
              false,
              false,
              false,
              false,
              false,
              false,
              false,
              false,
              false,
              false,
              false,
              false,
              false,
              false,
              false,
              false,
              true,
              false,
              false,
              false
             ]
            ],
            "label": "21",
            "method": "restyle"
           },
           {
            "args": [
             "visible",
             [
              false,
              false,
              false,
              false,
              false,
              false,
              false,
              false,
              false,
              false,
              false,
              false,
              false,
              false,
              false,
              false,
              false,
              false,
              false,
              false,
              false,
              true,
              false,
              false
             ]
            ],
            "label": "22",
            "method": "restyle"
           },
           {
            "args": [
             "visible",
             [
              false,
              false,
              false,
              false,
              false,
              false,
              false,
              false,
              false,
              false,
              false,
              false,
              false,
              false,
              false,
              false,
              false,
              false,
              false,
              false,
              false,
              false,
              true,
              false
             ]
            ],
            "label": "23",
            "method": "restyle"
           },
           {
            "args": [
             "visible",
             [
              false,
              false,
              false,
              false,
              false,
              false,
              false,
              false,
              false,
              false,
              false,
              false,
              false,
              false,
              false,
              false,
              false,
              false,
              false,
              false,
              false,
              false,
              false,
              true
             ]
            ],
            "label": "24",
            "method": "restyle"
           }
          ],
          "tickcolor": "rgb(52, 49, 49)",
          "transition": {
           "duration": 300,
           "easing": "quad-in-out"
          }
         }
        ],
        "title": {
         "font": {
          "color": "rgb(52, 49, 49)",
          "family": "Arial",
          "size": 14
         },
         "text": "<b>P</b>y<b>S</b>kin<b>D</b>ose [mode: plot_procedure]"
        },
        "template": {
         "data": {
          "histogram2dcontour": [
           {
            "type": "histogram2dcontour",
            "colorbar": {
             "outlinewidth": 0,
             "ticks": ""
            },
            "colorscale": [
             [
              0.0,
              "#0d0887"
             ],
             [
              0.1111111111111111,
              "#46039f"
             ],
             [
              0.2222222222222222,
              "#7201a8"
             ],
             [
              0.3333333333333333,
              "#9c179e"
             ],
             [
              0.4444444444444444,
              "#bd3786"
             ],
             [
              0.5555555555555556,
              "#d8576b"
             ],
             [
              0.6666666666666666,
              "#ed7953"
             ],
             [
              0.7777777777777778,
              "#fb9f3a"
             ],
             [
              0.8888888888888888,
              "#fdca26"
             ],
             [
              1.0,
              "#f0f921"
             ]
            ]
           }
          ],
          "choropleth": [
           {
            "type": "choropleth",
            "colorbar": {
             "outlinewidth": 0,
             "ticks": ""
            }
           }
          ],
          "histogram2d": [
           {
            "type": "histogram2d",
            "colorbar": {
             "outlinewidth": 0,
             "ticks": ""
            },
            "colorscale": [
             [
              0.0,
              "#0d0887"
             ],
             [
              0.1111111111111111,
              "#46039f"
             ],
             [
              0.2222222222222222,
              "#7201a8"
             ],
             [
              0.3333333333333333,
              "#9c179e"
             ],
             [
              0.4444444444444444,
              "#bd3786"
             ],
             [
              0.5555555555555556,
              "#d8576b"
             ],
             [
              0.6666666666666666,
              "#ed7953"
             ],
             [
              0.7777777777777778,
              "#fb9f3a"
             ],
             [
              0.8888888888888888,
              "#fdca26"
             ],
             [
              1.0,
              "#f0f921"
             ]
            ]
           }
          ],
          "heatmap": [
           {
            "type": "heatmap",
            "colorbar": {
             "outlinewidth": 0,
             "ticks": ""
            },
            "colorscale": [
             [
              0.0,
              "#0d0887"
             ],
             [
              0.1111111111111111,
              "#46039f"
             ],
             [
              0.2222222222222222,
              "#7201a8"
             ],
             [
              0.3333333333333333,
              "#9c179e"
             ],
             [
              0.4444444444444444,
              "#bd3786"
             ],
             [
              0.5555555555555556,
              "#d8576b"
             ],
             [
              0.6666666666666666,
              "#ed7953"
             ],
             [
              0.7777777777777778,
              "#fb9f3a"
             ],
             [
              0.8888888888888888,
              "#fdca26"
             ],
             [
              1.0,
              "#f0f921"
             ]
            ]
           }
          ],
          "heatmapgl": [
           {
            "type": "heatmapgl",
            "colorbar": {
             "outlinewidth": 0,
             "ticks": ""
            },
            "colorscale": [
             [
              0.0,
              "#0d0887"
             ],
             [
              0.1111111111111111,
              "#46039f"
             ],
             [
              0.2222222222222222,
              "#7201a8"
             ],
             [
              0.3333333333333333,
              "#9c179e"
             ],
             [
              0.4444444444444444,
              "#bd3786"
             ],
             [
              0.5555555555555556,
              "#d8576b"
             ],
             [
              0.6666666666666666,
              "#ed7953"
             ],
             [
              0.7777777777777778,
              "#fb9f3a"
             ],
             [
              0.8888888888888888,
              "#fdca26"
             ],
             [
              1.0,
              "#f0f921"
             ]
            ]
           }
          ],
          "contourcarpet": [
           {
            "type": "contourcarpet",
            "colorbar": {
             "outlinewidth": 0,
             "ticks": ""
            }
           }
          ],
          "contour": [
           {
            "type": "contour",
            "colorbar": {
             "outlinewidth": 0,
             "ticks": ""
            },
            "colorscale": [
             [
              0.0,
              "#0d0887"
             ],
             [
              0.1111111111111111,
              "#46039f"
             ],
             [
              0.2222222222222222,
              "#7201a8"
             ],
             [
              0.3333333333333333,
              "#9c179e"
             ],
             [
              0.4444444444444444,
              "#bd3786"
             ],
             [
              0.5555555555555556,
              "#d8576b"
             ],
             [
              0.6666666666666666,
              "#ed7953"
             ],
             [
              0.7777777777777778,
              "#fb9f3a"
             ],
             [
              0.8888888888888888,
              "#fdca26"
             ],
             [
              1.0,
              "#f0f921"
             ]
            ]
           }
          ],
          "surface": [
           {
            "type": "surface",
            "colorbar": {
             "outlinewidth": 0,
             "ticks": ""
            },
            "colorscale": [
             [
              0.0,
              "#0d0887"
             ],
             [
              0.1111111111111111,
              "#46039f"
             ],
             [
              0.2222222222222222,
              "#7201a8"
             ],
             [
              0.3333333333333333,
              "#9c179e"
             ],
             [
              0.4444444444444444,
              "#bd3786"
             ],
             [
              0.5555555555555556,
              "#d8576b"
             ],
             [
              0.6666666666666666,
              "#ed7953"
             ],
             [
              0.7777777777777778,
              "#fb9f3a"
             ],
             [
              0.8888888888888888,
              "#fdca26"
             ],
             [
              1.0,
              "#f0f921"
             ]
            ]
           }
          ],
          "mesh3d": [
           {
            "type": "mesh3d",
            "colorbar": {
             "outlinewidth": 0,
             "ticks": ""
            }
           }
          ],
          "scatter": [
           {
            "fillpattern": {
             "fillmode": "overlay",
             "size": 10,
             "solidity": 0.2
            },
            "type": "scatter"
           }
          ],
          "parcoords": [
           {
            "type": "parcoords",
            "line": {
             "colorbar": {
              "outlinewidth": 0,
              "ticks": ""
             }
            }
           }
          ],
          "scatterpolargl": [
           {
            "type": "scatterpolargl",
            "marker": {
             "colorbar": {
              "outlinewidth": 0,
              "ticks": ""
             }
            }
           }
          ],
          "bar": [
           {
            "error_x": {
             "color": "#2a3f5f"
            },
            "error_y": {
             "color": "#2a3f5f"
            },
            "marker": {
             "line": {
              "color": "#E5ECF6",
              "width": 0.5
             },
             "pattern": {
              "fillmode": "overlay",
              "size": 10,
              "solidity": 0.2
             }
            },
            "type": "bar"
           }
          ],
          "scattergeo": [
           {
            "type": "scattergeo",
            "marker": {
             "colorbar": {
              "outlinewidth": 0,
              "ticks": ""
             }
            }
           }
          ],
          "scatterpolar": [
           {
            "type": "scatterpolar",
            "marker": {
             "colorbar": {
              "outlinewidth": 0,
              "ticks": ""
             }
            }
           }
          ],
          "histogram": [
           {
            "marker": {
             "pattern": {
              "fillmode": "overlay",
              "size": 10,
              "solidity": 0.2
             }
            },
            "type": "histogram"
           }
          ],
          "scattergl": [
           {
            "type": "scattergl",
            "marker": {
             "colorbar": {
              "outlinewidth": 0,
              "ticks": ""
             }
            }
           }
          ],
          "scatter3d": [
           {
            "type": "scatter3d",
            "line": {
             "colorbar": {
              "outlinewidth": 0,
              "ticks": ""
             }
            },
            "marker": {
             "colorbar": {
              "outlinewidth": 0,
              "ticks": ""
             }
            }
           }
          ],
          "scattermapbox": [
           {
            "type": "scattermapbox",
            "marker": {
             "colorbar": {
              "outlinewidth": 0,
              "ticks": ""
             }
            }
           }
          ],
          "scatterternary": [
           {
            "type": "scatterternary",
            "marker": {
             "colorbar": {
              "outlinewidth": 0,
              "ticks": ""
             }
            }
           }
          ],
          "scattercarpet": [
           {
            "type": "scattercarpet",
            "marker": {
             "colorbar": {
              "outlinewidth": 0,
              "ticks": ""
             }
            }
           }
          ],
          "carpet": [
           {
            "aaxis": {
             "endlinecolor": "#2a3f5f",
             "gridcolor": "white",
             "linecolor": "white",
             "minorgridcolor": "white",
             "startlinecolor": "#2a3f5f"
            },
            "baxis": {
             "endlinecolor": "#2a3f5f",
             "gridcolor": "white",
             "linecolor": "white",
             "minorgridcolor": "white",
             "startlinecolor": "#2a3f5f"
            },
            "type": "carpet"
           }
          ],
          "table": [
           {
            "cells": {
             "fill": {
              "color": "#EBF0F8"
             },
             "line": {
              "color": "white"
             }
            },
            "header": {
             "fill": {
              "color": "#C8D4E3"
             },
             "line": {
              "color": "white"
             }
            },
            "type": "table"
           }
          ],
          "barpolar": [
           {
            "marker": {
             "line": {
              "color": "#E5ECF6",
              "width": 0.5
             },
             "pattern": {
              "fillmode": "overlay",
              "size": 10,
              "solidity": 0.2
             }
            },
            "type": "barpolar"
           }
          ],
          "pie": [
           {
            "automargin": true,
            "type": "pie"
           }
          ]
         },
         "layout": {
          "autotypenumbers": "strict",
          "colorway": [
           "#636efa",
           "#EF553B",
           "#00cc96",
           "#ab63fa",
           "#FFA15A",
           "#19d3f3",
           "#FF6692",
           "#B6E880",
           "#FF97FF",
           "#FECB52"
          ],
          "font": {
           "color": "#2a3f5f"
          },
          "hovermode": "closest",
          "hoverlabel": {
           "align": "left"
          },
          "paper_bgcolor": "white",
          "plot_bgcolor": "#E5ECF6",
          "polar": {
           "bgcolor": "#E5ECF6",
           "angularaxis": {
            "gridcolor": "white",
            "linecolor": "white",
            "ticks": ""
           },
           "radialaxis": {
            "gridcolor": "white",
            "linecolor": "white",
            "ticks": ""
           }
          },
          "ternary": {
           "bgcolor": "#E5ECF6",
           "aaxis": {
            "gridcolor": "white",
            "linecolor": "white",
            "ticks": ""
           },
           "baxis": {
            "gridcolor": "white",
            "linecolor": "white",
            "ticks": ""
           },
           "caxis": {
            "gridcolor": "white",
            "linecolor": "white",
            "ticks": ""
           }
          },
          "coloraxis": {
           "colorbar": {
            "outlinewidth": 0,
            "ticks": ""
           }
          },
          "colorscale": {
           "sequential": [
            [
             0.0,
             "#0d0887"
            ],
            [
             0.1111111111111111,
             "#46039f"
            ],
            [
             0.2222222222222222,
             "#7201a8"
            ],
            [
             0.3333333333333333,
             "#9c179e"
            ],
            [
             0.4444444444444444,
             "#bd3786"
            ],
            [
             0.5555555555555556,
             "#d8576b"
            ],
            [
             0.6666666666666666,
             "#ed7953"
            ],
            [
             0.7777777777777778,
             "#fb9f3a"
            ],
            [
             0.8888888888888888,
             "#fdca26"
            ],
            [
             1.0,
             "#f0f921"
            ]
           ],
           "sequentialminus": [
            [
             0.0,
             "#0d0887"
            ],
            [
             0.1111111111111111,
             "#46039f"
            ],
            [
             0.2222222222222222,
             "#7201a8"
            ],
            [
             0.3333333333333333,
             "#9c179e"
            ],
            [
             0.4444444444444444,
             "#bd3786"
            ],
            [
             0.5555555555555556,
             "#d8576b"
            ],
            [
             0.6666666666666666,
             "#ed7953"
            ],
            [
             0.7777777777777778,
             "#fb9f3a"
            ],
            [
             0.8888888888888888,
             "#fdca26"
            ],
            [
             1.0,
             "#f0f921"
            ]
           ],
           "diverging": [
            [
             0,
             "#8e0152"
            ],
            [
             0.1,
             "#c51b7d"
            ],
            [
             0.2,
             "#de77ae"
            ],
            [
             0.3,
             "#f1b6da"
            ],
            [
             0.4,
             "#fde0ef"
            ],
            [
             0.5,
             "#f7f7f7"
            ],
            [
             0.6,
             "#e6f5d0"
            ],
            [
             0.7,
             "#b8e186"
            ],
            [
             0.8,
             "#7fbc41"
            ],
            [
             0.9,
             "#4d9221"
            ],
            [
             1,
             "#276419"
            ]
           ]
          },
          "xaxis": {
           "gridcolor": "white",
           "linecolor": "white",
           "ticks": "",
           "title": {
            "standoff": 15
           },
           "zerolinecolor": "white",
           "automargin": true,
           "zerolinewidth": 2
          },
          "yaxis": {
           "gridcolor": "white",
           "linecolor": "white",
           "ticks": "",
           "title": {
            "standoff": 15
           },
           "zerolinecolor": "white",
           "automargin": true,
           "zerolinewidth": 2
          },
          "scene": {
           "xaxis": {
            "backgroundcolor": "#E5ECF6",
            "gridcolor": "white",
            "linecolor": "white",
            "showbackground": true,
            "ticks": "",
            "zerolinecolor": "white",
            "gridwidth": 2
           },
           "yaxis": {
            "backgroundcolor": "#E5ECF6",
            "gridcolor": "white",
            "linecolor": "white",
            "showbackground": true,
            "ticks": "",
            "zerolinecolor": "white",
            "gridwidth": 2
           },
           "zaxis": {
            "backgroundcolor": "#E5ECF6",
            "gridcolor": "white",
            "linecolor": "white",
            "showbackground": true,
            "ticks": "",
            "zerolinecolor": "white",
            "gridwidth": 2
           }
          },
          "shapedefaults": {
           "line": {
            "color": "#2a3f5f"
           }
          },
          "annotationdefaults": {
           "arrowcolor": "#2a3f5f",
           "arrowhead": 0,
           "arrowwidth": 1
          },
          "geo": {
           "bgcolor": "white",
           "landcolor": "#E5ECF6",
           "subunitcolor": "white",
           "showland": true,
           "showlakes": true,
           "lakecolor": "white"
          },
          "title": {
           "x": 0.05
          },
          "mapbox": {
           "style": "light"
          }
         }
        }
       },
       "config": {
        "plotlyServerURL": "https://plot.ly"
       }
      },
      "text/html": "<div>                            <div id=\"8a19937a-7b37-42d5-851e-ccb93a6606b2\" class=\"plotly-graph-div\" style=\"height:800px; width:100%;\"></div>            <script type=\"text/javascript\">                require([\"plotly\"], function(Plotly) {                    window.PLOTLYENV=window.PLOTLYENV || {};                                    if (document.getElementById(\"8a19937a-7b37-42d5-851e-ccb93a6606b2\")) {                    Plotly.newPlot(                        \"8a19937a-7b37-42d5-851e-ccb93a6606b2\",                        [{\"hoverinfo\":\"text\",\"marker\":{\"color\":\"#D3D3D3\",\"size\":8},\"mode\":\"markers\",\"text\":[\"<b>X-ray source</b><br><br><b>LAT : </b>-0.0 cm<br><b>LON : </b>-0.0 cm<br><b>VER : </b>78.0 cm\"],\"visible\":true,\"x\":[-0.2740123799496683,-0.2740123799496683],\"y\":[78.49844569911527,78.49844569911527],\"z\":[-0.411023160766437,-0.411023160766437],\"type\":\"scatter3d\"},{\"hoverinfo\":\"text\",\"marker\":{\"color\":\"#D3D3D3\",\"size\":8},\"mode\":\"markers\",\"text\":[\"<b>X-ray source</b><br><br><b>LAT : </b>-0.0 cm<br><b>LON : </b>-0.0 cm<br><b>VER : </b>78.0 cm\"],\"visible\":false,\"x\":[-0.2740123799496683,-0.2740123799496683],\"y\":[78.49844569911527,78.49844569911527],\"z\":[-0.411023160766437,-0.411023160766437],\"type\":\"scatter3d\"},{\"hoverinfo\":\"text\",\"marker\":{\"color\":\"#D3D3D3\",\"size\":8},\"mode\":\"markers\",\"text\":[\"<b>X-ray source</b><br><br><b>LAT : </b>-0.0 cm<br><b>LON : </b>-0.0 cm<br><b>VER : </b>78.0 cm\"],\"visible\":false,\"x\":[-0.2740123799496683,-0.2740123799496683],\"y\":[78.49844569911527,78.49844569911527],\"z\":[-0.411023160766437,-0.411023160766437],\"type\":\"scatter3d\"},{\"hoverinfo\":\"text\",\"marker\":{\"color\":\"#D3D3D3\",\"size\":8},\"mode\":\"markers\",\"text\":[\"<b>X-ray source</b><br><br><b>LAT : </b>-0.0 cm<br><b>LON : </b>-0.0 cm<br><b>VER : </b>78.0 cm\"],\"visible\":false,\"x\":[-0.2740123799496683,-0.2740123799496683],\"y\":[78.49844569911527,78.49844569911527],\"z\":[-0.411023160766437,-0.411023160766437],\"type\":\"scatter3d\"},{\"hoverinfo\":\"text\",\"marker\":{\"color\":\"#D3D3D3\",\"size\":8},\"mode\":\"markers\",\"text\":[\"<b>X-ray source</b><br><br><b>LAT : </b>-0.0 cm<br><b>LON : </b>-0.0 cm<br><b>VER : </b>78.0 cm\"],\"visible\":false,\"x\":[-0.2740123799496683,-0.2740123799496683],\"y\":[78.49844569911527,78.49844569911527],\"z\":[-0.411023160766437,-0.411023160766437],\"type\":\"scatter3d\"},{\"hoverinfo\":\"text\",\"marker\":{\"color\":\"#D3D3D3\",\"size\":8},\"mode\":\"markers\",\"text\":[\"<b>X-ray source</b><br><br><b>LAT : </b>-0.0 cm<br><b>LON : </b>-0.0 cm<br><b>VER : </b>78.0 cm\"],\"visible\":false,\"x\":[-0.2740123799496683,-0.2740123799496683],\"y\":[78.49844569911527,78.49844569911527],\"z\":[-0.411023160766437,-0.411023160766437],\"type\":\"scatter3d\"},{\"hoverinfo\":\"text\",\"marker\":{\"color\":\"#D3D3D3\",\"size\":8},\"mode\":\"markers\",\"text\":[\"<b>X-ray source</b><br><br><b>LAT : </b>-0.0 cm<br><b>LON : </b>-0.0 cm<br><b>VER : </b>78.0 cm\"],\"visible\":false,\"x\":[-0.2740123799496683,-0.2740123799496683],\"y\":[78.49844569911527,78.49844569911527],\"z\":[-0.411023160766437,-0.411023160766437],\"type\":\"scatter3d\"},{\"hoverinfo\":\"text\",\"marker\":{\"color\":\"#D3D3D3\",\"size\":8},\"mode\":\"markers\",\"text\":[\"<b>X-ray source</b><br><br><b>LAT : </b>-0.0 cm<br><b>LON : </b>-0.0 cm<br><b>VER : </b>78.0 cm\"],\"visible\":false,\"x\":[-0.2740123799496683,-0.2740123799496683],\"y\":[78.49844569911527,78.49844569911527],\"z\":[-0.411023160766437,-0.411023160766437],\"type\":\"scatter3d\"},{\"hoverinfo\":\"text\",\"marker\":{\"color\":\"#D3D3D3\",\"size\":8},\"mode\":\"markers\",\"text\":[\"<b>X-ray source</b><br><br><b>LAT : </b>-0.0 cm<br><b>LON : </b>-0.0 cm<br><b>VER : </b>78.0 cm\"],\"visible\":false,\"x\":[-0.2740123799496683,-0.2740123799496683],\"y\":[78.49844569911527,78.49844569911527],\"z\":[-0.411023160766437,-0.411023160766437],\"type\":\"scatter3d\"},{\"hoverinfo\":\"text\",\"marker\":{\"color\":\"#D3D3D3\",\"size\":8},\"mode\":\"markers\",\"text\":[\"<b>X-ray source</b><br><br><b>LAT : </b>-0.0 cm<br><b>LON : </b>-0.0 cm<br><b>VER : </b>78.0 cm\"],\"visible\":false,\"x\":[-0.2740123799496683,-0.2740123799496683],\"y\":[78.49844569911527,78.49844569911527],\"z\":[-0.411023160766437,-0.411023160766437],\"type\":\"scatter3d\"},{\"hoverinfo\":\"text\",\"marker\":{\"color\":\"#D3D3D3\",\"size\":8},\"mode\":\"markers\",\"text\":[\"<b>X-ray source</b><br><br><b>LAT : </b>-0.0 cm<br><b>LON : </b>-0.0 cm<br><b>VER : </b>78.0 cm\"],\"visible\":false,\"x\":[-0.2740123799496683,-0.2740123799496683],\"y\":[78.49844569911527,78.49844569911527],\"z\":[-0.411023160766437,-0.411023160766437],\"type\":\"scatter3d\"},{\"hoverinfo\":\"text\",\"marker\":{\"color\":\"#D3D3D3\",\"size\":8},\"mode\":\"markers\",\"text\":[\"<b>X-ray source</b><br><br><b>LAT : </b>-0.0 cm<br><b>LON : </b>-29.0 cm<br><b>VER : </b>73.0 cm\"],\"visible\":false,\"x\":[-28.514830712526646,-28.514830712526646],\"y\":[73.13675881112903,73.13675881112903],\"z\":[-0.411023160766437,-0.411023160766437],\"type\":\"scatter3d\"},{\"hoverinfo\":\"text\",\"marker\":{\"color\":\"#D3D3D3\",\"size\":8},\"mode\":\"markers\",\"text\":[\"<b>X-ray source</b><br><br><b>LAT : </b>-0.0 cm<br><b>LON : </b>53.0 cm<br><b>VER : </b>58.0 cm\"],\"visible\":false,\"x\":[52.831160443047516,52.831160443047516],\"y\":[58.060687228090316,58.060687228090316],\"z\":[-0.274016136095063,-0.274016136095063],\"type\":\"scatter3d\"},{\"hoverinfo\":\"text\",\"marker\":{\"color\":\"#D3D3D3\",\"size\":8},\"mode\":\"markers\",\"text\":[\"<b>X-ray source</b><br><br><b>LAT : </b>-26.0 cm<br><b>LON : </b>-0.0 cm<br><b>VER : </b>74.0 cm\"],\"visible\":false,\"x\":[-0.12898925693017751,-0.12898925693017751],\"y\":[73.90532520335475,73.90532520335475],\"z\":[-26.461977786211943,-26.461977786211943],\"type\":\"scatter3d\"},{\"hoverinfo\":\"text\",\"marker\":{\"color\":\"#D3D3D3\",\"size\":8},\"mode\":\"markers\",\"text\":[\"<b>X-ray source</b><br><br><b>LAT : </b>20.0 cm<br><b>LON : </b>-0.0 cm<br><b>VER : </b>76.0 cm\"],\"visible\":false,\"x\":[-0.13252368793756839,-0.13252368793756839],\"y\":[75.93040294414241,75.93040294414241],\"z\":[19.91999864990724,19.91999864990724],\"type\":\"scatter3d\"},{\"hoverinfo\":\"text\",\"marker\":{\"color\":\"#D3D3D3\",\"size\":8},\"mode\":\"markers\",\"text\":[\"<b>X-ray source</b><br><br><b>LAT : </b>-0.0 cm<br><b>LON : </b>-0.0 cm<br><b>VER : </b>78.0 cm\"],\"visible\":false,\"x\":[-0.13700639864745945,-0.13700639864745945],\"y\":[78.49880438075502,78.49880438075502],\"z\":[-0.411023160766437,-0.411023160766437],\"type\":\"scatter3d\"},{\"hoverinfo\":\"text\",\"marker\":{\"color\":\"#D3D3D3\",\"size\":8},\"mode\":\"markers\",\"text\":[\"<b>X-ray source</b><br><br><b>LAT : </b>-0.0 cm<br><b>LON : </b>-0.0 cm<br><b>VER : </b>78.0 cm\"],\"visible\":false,\"x\":[-0.13700639864745945,-0.13700639864745945],\"y\":[78.49880438075502,78.49880438075502],\"z\":[-0.411023160766437,-0.411023160766437],\"type\":\"scatter3d\"},{\"hoverinfo\":\"text\",\"marker\":{\"color\":\"#D3D3D3\",\"size\":8},\"mode\":\"markers\",\"text\":[\"<b>X-ray source</b><br><br><b>LAT : </b>-0.0 cm<br><b>LON : </b>-0.0 cm<br><b>VER : </b>78.0 cm\"],\"visible\":false,\"x\":[-0.13700639864745945,-0.13700639864745945],\"y\":[78.49880438075502,78.49880438075502],\"z\":[-0.411023160766437,-0.411023160766437],\"type\":\"scatter3d\"},{\"hoverinfo\":\"text\",\"marker\":{\"color\":\"#D3D3D3\",\"size\":8},\"mode\":\"markers\",\"text\":[\"<b>X-ray source</b><br><br><b>LAT : </b>-0.0 cm<br><b>LON : </b>-0.0 cm<br><b>VER : </b>78.0 cm\"],\"visible\":false,\"x\":[-0.13700639864745945,-0.13700639864745945],\"y\":[78.49880438075502,78.49880438075502],\"z\":[-0.411023160766437,-0.411023160766437],\"type\":\"scatter3d\"},{\"hoverinfo\":\"text\",\"marker\":{\"color\":\"#D3D3D3\",\"size\":8},\"mode\":\"markers\",\"text\":[\"<b>X-ray source</b><br><br><b>LAT : </b>-0.0 cm<br><b>LON : </b>-78.0 cm<br><b>VER : </b>0.0 cm\"],\"visible\":false,\"x\":[-78.49880438075502,-78.49880438075502],\"y\":[0.13700639864745573,0.13700639864745573],\"z\":[-0.411023160766437,-0.411023160766437],\"type\":\"scatter3d\"},{\"hoverinfo\":\"text\",\"marker\":{\"color\":\"#D3D3D3\",\"size\":8},\"mode\":\"markers\",\"text\":[\"<b>X-ray source</b><br><br><b>LAT : </b>-0.0 cm<br><b>LON : </b>-78.0 cm<br><b>VER : </b>0.0 cm\"],\"visible\":false,\"x\":[-78.49880438075502,-78.49880438075502],\"y\":[0.13700639864745573,0.13700639864745573],\"z\":[-0.411023160766437,-0.411023160766437],\"type\":\"scatter3d\"},{\"hoverinfo\":\"text\",\"marker\":{\"color\":\"#D3D3D3\",\"size\":8},\"mode\":\"markers\",\"text\":[\"<b>X-ray source</b><br><br><b>LAT : </b>-0.0 cm<br><b>LON : </b>-78.0 cm<br><b>VER : </b>0.0 cm\"],\"visible\":false,\"x\":[-78.49880438075502,-78.49880438075502],\"y\":[0.13700639864745573,0.13700639864745573],\"z\":[-0.411023160766437,-0.411023160766437],\"type\":\"scatter3d\"},{\"hoverinfo\":\"text\",\"marker\":{\"color\":\"#D3D3D3\",\"size\":8},\"mode\":\"markers\",\"text\":[\"<b>X-ray source</b><br><br><b>LAT : </b>-0.0 cm<br><b>LON : </b>-78.0 cm<br><b>VER : </b>0.0 cm\"],\"visible\":false,\"x\":[-78.49880438075502,-78.49880438075502],\"y\":[0.13700639864745573,0.13700639864745573],\"z\":[-0.411023160766437,-0.411023160766437],\"type\":\"scatter3d\"},{\"hoverinfo\":\"text\",\"marker\":{\"color\":\"#D3D3D3\",\"size\":8},\"mode\":\"markers\",\"text\":[\"<b>X-ray source</b><br><br><b>LAT : </b>-1.0 cm<br><b>LON : </b>-0.0 cm<br><b>VER : </b>78.0 cm\"],\"visible\":false,\"x\":[-0.27400570240023286,-0.27400570240023286],\"y\":[78.49653272988425,78.49653272988425],\"z\":[-0.6850330366223538,-0.6850330366223538],\"type\":\"scatter3d\"},{\"color\":\"#D3D3D3\",\"hoverinfo\":\"text\",\"i\":[0,2,4,6,0,1,2,3,0,3,1,2],\"j\":[1,3,5,7,1,5,3,7,3,7,2,6],\"k\":[2,0,6,4,4,4,6,6,4,4,5,5],\"opacity\":1.0,\"text\":[\"<b>Support table</b><br><br><b>LAT : </b>-96.0 cm<br><b>LON : </b>120.0 cm<br><b>VER : </b>14.0 cm\",\"<b>Support table</b><br><br><b>LAT : </b>-15.0 cm<br><b>LON : </b>-150.0 cm<br><b>VER : </b>14.0 cm\",\"<b>Support table</b><br><br><b>LAT : </b>28.0 cm<br><b>LON : </b>-137.0 cm<br><b>VER : </b>14.0 cm\",\"<b>Support table</b><br><br><b>LAT : </b>-53.0 cm<br><b>LON : </b>133.0 cm<br><b>VER : </b>14.0 cm\",\"<b>Support table</b><br><br><b>LAT : </b>-96.0 cm<br><b>LON : </b>120.0 cm<br><b>VER : </b>19.0 cm\",\"<b>Support table</b><br><br><b>LAT : </b>-15.0 cm<br><b>LON : </b>-150.0 cm<br><b>VER : </b>19.0 cm\",\"<b>Support table</b><br><br><b>LAT : </b>28.0 cm<br><b>LON : </b>-137.0 cm<br><b>VER : </b>19.0 cm\",\"<b>Support table</b><br><br><b>LAT : </b>-53.0 cm<br><b>LON : </b>133.0 cm<br><b>VER : </b>19.0 cm\"],\"visible\":true,\"x\":[119.8473600765709,-150.25858346980792,-137.3273600765709,132.7785834698079,119.8473600765709,-150.25858346980792,-137.3273600765709,132.7785834698079],\"y\":[13.66,13.66,13.66,13.66,18.66,18.66,18.66,18.66],\"z\":[-96.36883943282898,-15.333172835210192,27.768839432828983,-53.2668271647898,-96.36883943282898,-15.333172835210192,27.768839432828983,-53.2668271647898],\"type\":\"mesh3d\"},{\"color\":\"#D3D3D3\",\"hoverinfo\":\"text\",\"i\":[0,2,4,6,0,1,2,3,0,3,1,2],\"j\":[1,3,5,7,1,5,3,7,3,7,2,6],\"k\":[2,0,6,4,4,4,6,6,4,4,5,5],\"opacity\":1.0,\"text\":[\"<b>Support table</b><br><br><b>LAT : </b>-96.0 cm<br><b>LON : </b>127.0 cm<br><b>VER : </b>15.0 cm\",\"<b>Support table</b><br><br><b>LAT : </b>-15.0 cm<br><b>LON : </b>-143.0 cm<br><b>VER : </b>15.0 cm\",\"<b>Support table</b><br><br><b>LAT : </b>28.0 cm<br><b>LON : </b>-130.0 cm<br><b>VER : </b>15.0 cm\",\"<b>Support table</b><br><br><b>LAT : </b>-53.0 cm<br><b>LON : </b>140.0 cm<br><b>VER : </b>15.0 cm\",\"<b>Support table</b><br><br><b>LAT : </b>-96.0 cm<br><b>LON : </b>127.0 cm<br><b>VER : </b>20.0 cm\",\"<b>Support table</b><br><br><b>LAT : </b>-15.0 cm<br><b>LON : </b>-143.0 cm<br><b>VER : </b>20.0 cm\",\"<b>Support table</b><br><br><b>LAT : </b>28.0 cm<br><b>LON : </b>-130.0 cm<br><b>VER : </b>20.0 cm\",\"<b>Support table</b><br><br><b>LAT : </b>-53.0 cm<br><b>LON : </b>140.0 cm<br><b>VER : </b>20.0 cm\"],\"visible\":false,\"x\":[126.90314584046183,-143.13197790649585,-130.16314584046182,139.87197790649586,126.90314584046183,-143.13197790649585,-130.16314584046182,139.87197790649586],\"y\":[15.41,15.41,15.41,15.41,20.41,20.41,20.41,20.41],\"z\":[-96.43102942501491,-15.159681811201736,27.931029425014913,-53.34031818879828,-96.43102942501491,-15.159681811201736,27.931029425014913,-53.34031818879828],\"type\":\"mesh3d\"},{\"color\":\"#D3D3D3\",\"hoverinfo\":\"text\",\"i\":[0,2,4,6,0,1,2,3,0,3,1,2],\"j\":[1,3,5,7,1,5,3,7,3,7,2,6],\"k\":[2,0,6,4,4,4,6,6,4,4,5,5],\"opacity\":1.0,\"text\":[\"<b>Support table</b><br><br><b>LAT : </b>-96.0 cm<br><b>LON : </b>127.0 cm<br><b>VER : </b>15.0 cm\",\"<b>Support table</b><br><br><b>LAT : </b>-15.0 cm<br><b>LON : </b>-143.0 cm<br><b>VER : </b>15.0 cm\",\"<b>Support table</b><br><br><b>LAT : </b>28.0 cm<br><b>LON : </b>-130.0 cm<br><b>VER : </b>15.0 cm\",\"<b>Support table</b><br><br><b>LAT : </b>-53.0 cm<br><b>LON : </b>140.0 cm<br><b>VER : </b>15.0 cm\",\"<b>Support table</b><br><br><b>LAT : </b>-96.0 cm<br><b>LON : </b>127.0 cm<br><b>VER : </b>20.0 cm\",\"<b>Support table</b><br><br><b>LAT : </b>-15.0 cm<br><b>LON : </b>-143.0 cm<br><b>VER : </b>20.0 cm\",\"<b>Support table</b><br><br><b>LAT : </b>28.0 cm<br><b>LON : </b>-130.0 cm<br><b>VER : </b>20.0 cm\",\"<b>Support table</b><br><br><b>LAT : </b>-53.0 cm<br><b>LON : </b>140.0 cm<br><b>VER : </b>20.0 cm\"],\"visible\":false,\"x\":[126.90314584046183,-143.13197790649585,-130.16314584046182,139.87197790649586,126.90314584046183,-143.13197790649585,-130.16314584046182,139.87197790649586],\"y\":[15.41,15.41,15.41,15.41,20.41,20.41,20.41,20.41],\"z\":[-96.43102942501491,-15.159681811201736,27.931029425014913,-53.34031818879828,-96.43102942501491,-15.159681811201736,27.931029425014913,-53.34031818879828],\"type\":\"mesh3d\"},{\"color\":\"#D3D3D3\",\"hoverinfo\":\"text\",\"i\":[0,2,4,6,0,1,2,3,0,3,1,2],\"j\":[1,3,5,7,1,5,3,7,3,7,2,6],\"k\":[2,0,6,4,4,4,6,6,4,4,5,5],\"opacity\":1.0,\"text\":[\"<b>Support table</b><br><br><b>LAT : </b>-96.0 cm<br><b>LON : </b>127.0 cm<br><b>VER : </b>15.0 cm\",\"<b>Support table</b><br><br><b>LAT : </b>-15.0 cm<br><b>LON : </b>-143.0 cm<br><b>VER : </b>15.0 cm\",\"<b>Support table</b><br><br><b>LAT : </b>28.0 cm<br><b>LON : </b>-130.0 cm<br><b>VER : </b>15.0 cm\",\"<b>Support table</b><br><br><b>LAT : </b>-53.0 cm<br><b>LON : </b>140.0 cm<br><b>VER : </b>15.0 cm\",\"<b>Support table</b><br><br><b>LAT : </b>-96.0 cm<br><b>LON : </b>127.0 cm<br><b>VER : </b>20.0 cm\",\"<b>Support table</b><br><br><b>LAT : </b>-15.0 cm<br><b>LON : </b>-143.0 cm<br><b>VER : </b>20.0 cm\",\"<b>Support table</b><br><br><b>LAT : </b>28.0 cm<br><b>LON : </b>-130.0 cm<br><b>VER : </b>20.0 cm\",\"<b>Support table</b><br><br><b>LAT : </b>-53.0 cm<br><b>LON : </b>140.0 cm<br><b>VER : </b>20.0 cm\"],\"visible\":false,\"x\":[126.90314584046183,-143.13197790649585,-130.16314584046182,139.87197790649586,126.90314584046183,-143.13197790649585,-130.16314584046182,139.87197790649586],\"y\":[15.41,15.41,15.41,15.41,20.41,20.41,20.41,20.41],\"z\":[-96.43102942501491,-15.159681811201736,27.931029425014913,-53.34031818879828,-96.43102942501491,-15.159681811201736,27.931029425014913,-53.34031818879828],\"type\":\"mesh3d\"},{\"color\":\"#D3D3D3\",\"hoverinfo\":\"text\",\"i\":[0,2,4,6,0,1,2,3,0,3,1,2],\"j\":[1,3,5,7,1,5,3,7,3,7,2,6],\"k\":[2,0,6,4,4,4,6,6,4,4,5,5],\"opacity\":1.0,\"text\":[\"<b>Support table</b><br><br><b>LAT : </b>-96.0 cm<br><b>LON : </b>127.0 cm<br><b>VER : </b>15.0 cm\",\"<b>Support table</b><br><br><b>LAT : </b>-15.0 cm<br><b>LON : </b>-143.0 cm<br><b>VER : </b>15.0 cm\",\"<b>Support table</b><br><br><b>LAT : </b>28.0 cm<br><b>LON : </b>-130.0 cm<br><b>VER : </b>15.0 cm\",\"<b>Support table</b><br><br><b>LAT : </b>-53.0 cm<br><b>LON : </b>140.0 cm<br><b>VER : </b>15.0 cm\",\"<b>Support table</b><br><br><b>LAT : </b>-96.0 cm<br><b>LON : </b>127.0 cm<br><b>VER : </b>20.0 cm\",\"<b>Support table</b><br><br><b>LAT : </b>-15.0 cm<br><b>LON : </b>-143.0 cm<br><b>VER : </b>20.0 cm\",\"<b>Support table</b><br><br><b>LAT : </b>28.0 cm<br><b>LON : </b>-130.0 cm<br><b>VER : </b>20.0 cm\",\"<b>Support table</b><br><br><b>LAT : </b>-53.0 cm<br><b>LON : </b>140.0 cm<br><b>VER : </b>20.0 cm\"],\"visible\":false,\"x\":[126.90314584046183,-143.13197790649585,-130.16314584046182,139.87197790649586,126.90314584046183,-143.13197790649585,-130.16314584046182,139.87197790649586],\"y\":[15.41,15.41,15.41,15.41,20.41,20.41,20.41,20.41],\"z\":[-96.43102942501491,-15.159681811201736,27.931029425014913,-53.34031818879828,-96.43102942501491,-15.159681811201736,27.931029425014913,-53.34031818879828],\"type\":\"mesh3d\"},{\"color\":\"#D3D3D3\",\"hoverinfo\":\"text\",\"i\":[0,2,4,6,0,1,2,3,0,3,1,2],\"j\":[1,3,5,7,1,5,3,7,3,7,2,6],\"k\":[2,0,6,4,4,4,6,6,4,4,5,5],\"opacity\":1.0,\"text\":[\"<b>Support table</b><br><br><b>LAT : </b>-96.0 cm<br><b>LON : </b>127.0 cm<br><b>VER : </b>15.0 cm\",\"<b>Support table</b><br><br><b>LAT : </b>-15.0 cm<br><b>LON : </b>-143.0 cm<br><b>VER : </b>15.0 cm\",\"<b>Support table</b><br><br><b>LAT : </b>28.0 cm<br><b>LON : </b>-130.0 cm<br><b>VER : </b>15.0 cm\",\"<b>Support table</b><br><br><b>LAT : </b>-53.0 cm<br><b>LON : </b>140.0 cm<br><b>VER : </b>15.0 cm\",\"<b>Support table</b><br><br><b>LAT : </b>-96.0 cm<br><b>LON : </b>127.0 cm<br><b>VER : </b>20.0 cm\",\"<b>Support table</b><br><br><b>LAT : </b>-15.0 cm<br><b>LON : </b>-143.0 cm<br><b>VER : </b>20.0 cm\",\"<b>Support table</b><br><br><b>LAT : </b>28.0 cm<br><b>LON : </b>-130.0 cm<br><b>VER : </b>20.0 cm\",\"<b>Support table</b><br><br><b>LAT : </b>-53.0 cm<br><b>LON : </b>140.0 cm<br><b>VER : </b>20.0 cm\"],\"visible\":false,\"x\":[126.90314584046183,-143.13197790649585,-130.16314584046182,139.87197790649586,126.90314584046183,-143.13197790649585,-130.16314584046182,139.87197790649586],\"y\":[15.41,15.41,15.41,15.41,20.41,20.41,20.41,20.41],\"z\":[-96.43102942501491,-15.159681811201736,27.931029425014913,-53.34031818879828,-96.43102942501491,-15.159681811201736,27.931029425014913,-53.34031818879828],\"type\":\"mesh3d\"},{\"color\":\"#D3D3D3\",\"hoverinfo\":\"text\",\"i\":[0,2,4,6,0,1,2,3,0,3,1,2],\"j\":[1,3,5,7,1,5,3,7,3,7,2,6],\"k\":[2,0,6,4,4,4,6,6,4,4,5,5],\"opacity\":1.0,\"text\":[\"<b>Support table</b><br><br><b>LAT : </b>-92.0 cm<br><b>LON : </b>130.0 cm<br><b>VER : </b>24.0 cm\",\"<b>Support table</b><br><br><b>LAT : </b>-28.0 cm<br><b>LON : </b>-144.0 cm<br><b>VER : </b>24.0 cm\",\"<b>Support table</b><br><br><b>LAT : </b>16.0 cm<br><b>LON : </b>-134.0 cm<br><b>VER : </b>24.0 cm\",\"<b>Support table</b><br><br><b>LAT : </b>-48.0 cm<br><b>LON : </b>141.0 cm<br><b>VER : </b>24.0 cm\",\"<b>Support table</b><br><br><b>LAT : </b>-92.0 cm<br><b>LON : </b>130.0 cm<br><b>VER : </b>29.0 cm\",\"<b>Support table</b><br><br><b>LAT : </b>-28.0 cm<br><b>LON : </b>-144.0 cm<br><b>VER : </b>29.0 cm\",\"<b>Support table</b><br><br><b>LAT : </b>16.0 cm<br><b>LON : </b>-134.0 cm<br><b>VER : </b>29.0 cm\",\"<b>Support table</b><br><br><b>LAT : </b>-48.0 cm<br><b>LON : </b>141.0 cm<br><b>VER : </b>29.0 cm\"],\"visible\":false,\"x\":[130.48617146952344,-144.07431399721017,-133.80617146952343,140.75431399721018,130.48617146952344,-144.07431399721017,-133.80617146952343,140.75431399721018],\"y\":[24.259999999999998,24.259999999999998,24.259999999999998,24.259999999999998,29.259999999999998,29.259999999999998,29.259999999999998,29.259999999999998],\"z\":[-91.88993496618973,-27.54290845935286,16.269934966189737,-48.07709154064712,-91.88993496618973,-27.54290845935286,16.269934966189737,-48.07709154064712],\"type\":\"mesh3d\"},{\"color\":\"#D3D3D3\",\"hoverinfo\":\"text\",\"i\":[0,2,4,6,0,1,2,3,0,3,1,2],\"j\":[1,3,5,7,1,5,3,7,3,7,2,6],\"k\":[2,0,6,4,4,4,6,6,4,4,5,5],\"opacity\":1.0,\"text\":[\"<b>Support table</b><br><br><b>LAT : </b>-92.0 cm<br><b>LON : </b>130.0 cm<br><b>VER : </b>24.0 cm\",\"<b>Support table</b><br><br><b>LAT : </b>-28.0 cm<br><b>LON : </b>-144.0 cm<br><b>VER : </b>24.0 cm\",\"<b>Support table</b><br><br><b>LAT : </b>16.0 cm<br><b>LON : </b>-134.0 cm<br><b>VER : </b>24.0 cm\",\"<b>Support table</b><br><br><b>LAT : </b>-48.0 cm<br><b>LON : </b>141.0 cm<br><b>VER : </b>24.0 cm\",\"<b>Support table</b><br><br><b>LAT : </b>-92.0 cm<br><b>LON : </b>130.0 cm<br><b>VER : </b>29.0 cm\",\"<b>Support table</b><br><br><b>LAT : </b>-28.0 cm<br><b>LON : </b>-144.0 cm<br><b>VER : </b>29.0 cm\",\"<b>Support table</b><br><br><b>LAT : </b>16.0 cm<br><b>LON : </b>-134.0 cm<br><b>VER : </b>29.0 cm\",\"<b>Support table</b><br><br><b>LAT : </b>-48.0 cm<br><b>LON : </b>141.0 cm<br><b>VER : </b>29.0 cm\"],\"visible\":false,\"x\":[130.48617146952344,-144.07431399721017,-133.80617146952343,140.75431399721018,130.48617146952344,-144.07431399721017,-133.80617146952343,140.75431399721018],\"y\":[24.259999999999998,24.259999999999998,24.259999999999998,24.259999999999998,29.259999999999998,29.259999999999998,29.259999999999998,29.259999999999998],\"z\":[-91.88993496618973,-27.54290845935286,16.269934966189737,-48.07709154064712,-91.88993496618973,-27.54290845935286,16.269934966189737,-48.07709154064712],\"type\":\"mesh3d\"},{\"color\":\"#D3D3D3\",\"hoverinfo\":\"text\",\"i\":[0,2,4,6,0,1,2,3,0,3,1,2],\"j\":[1,3,5,7,1,5,3,7,3,7,2,6],\"k\":[2,0,6,4,4,4,6,6,4,4,5,5],\"opacity\":1.0,\"text\":[\"<b>Support table</b><br><br><b>LAT : </b>-92.0 cm<br><b>LON : </b>130.0 cm<br><b>VER : </b>24.0 cm\",\"<b>Support table</b><br><br><b>LAT : </b>-28.0 cm<br><b>LON : </b>-144.0 cm<br><b>VER : </b>24.0 cm\",\"<b>Support table</b><br><br><b>LAT : </b>16.0 cm<br><b>LON : </b>-134.0 cm<br><b>VER : </b>24.0 cm\",\"<b>Support table</b><br><br><b>LAT : </b>-48.0 cm<br><b>LON : </b>141.0 cm<br><b>VER : </b>24.0 cm\",\"<b>Support table</b><br><br><b>LAT : </b>-92.0 cm<br><b>LON : </b>130.0 cm<br><b>VER : </b>29.0 cm\",\"<b>Support table</b><br><br><b>LAT : </b>-28.0 cm<br><b>LON : </b>-144.0 cm<br><b>VER : </b>29.0 cm\",\"<b>Support table</b><br><br><b>LAT : </b>16.0 cm<br><b>LON : </b>-134.0 cm<br><b>VER : </b>29.0 cm\",\"<b>Support table</b><br><br><b>LAT : </b>-48.0 cm<br><b>LON : </b>141.0 cm<br><b>VER : </b>29.0 cm\"],\"visible\":false,\"x\":[130.48617146952344,-144.07431399721017,-133.80617146952343,140.75431399721018,130.48617146952344,-144.07431399721017,-133.80617146952343,140.75431399721018],\"y\":[24.259999999999998,24.259999999999998,24.259999999999998,24.259999999999998,29.259999999999998,29.259999999999998,29.259999999999998,29.259999999999998],\"z\":[-91.88993496618973,-27.54290845935286,16.269934966189737,-48.07709154064712,-91.88993496618973,-27.54290845935286,16.269934966189737,-48.07709154064712],\"type\":\"mesh3d\"},{\"color\":\"#D3D3D3\",\"hoverinfo\":\"text\",\"i\":[0,2,4,6,0,1,2,3,0,3,1,2],\"j\":[1,3,5,7,1,5,3,7,3,7,2,6],\"k\":[2,0,6,4,4,4,6,6,4,4,5,5],\"opacity\":1.0,\"text\":[\"<b>Support table</b><br><br><b>LAT : </b>-92.0 cm<br><b>LON : </b>130.0 cm<br><b>VER : </b>24.0 cm\",\"<b>Support table</b><br><br><b>LAT : </b>-28.0 cm<br><b>LON : </b>-144.0 cm<br><b>VER : </b>24.0 cm\",\"<b>Support table</b><br><br><b>LAT : </b>16.0 cm<br><b>LON : </b>-134.0 cm<br><b>VER : </b>24.0 cm\",\"<b>Support table</b><br><br><b>LAT : </b>-48.0 cm<br><b>LON : </b>141.0 cm<br><b>VER : </b>24.0 cm\",\"<b>Support table</b><br><br><b>LAT : </b>-92.0 cm<br><b>LON : </b>130.0 cm<br><b>VER : </b>29.0 cm\",\"<b>Support table</b><br><br><b>LAT : </b>-28.0 cm<br><b>LON : </b>-144.0 cm<br><b>VER : </b>29.0 cm\",\"<b>Support table</b><br><br><b>LAT : </b>16.0 cm<br><b>LON : </b>-134.0 cm<br><b>VER : </b>29.0 cm\",\"<b>Support table</b><br><br><b>LAT : </b>-48.0 cm<br><b>LON : </b>141.0 cm<br><b>VER : </b>29.0 cm\"],\"visible\":false,\"x\":[130.48617146952344,-144.07431399721017,-133.80617146952343,140.75431399721018,130.48617146952344,-144.07431399721017,-133.80617146952343,140.75431399721018],\"y\":[24.259999999999998,24.259999999999998,24.259999999999998,24.259999999999998,29.259999999999998,29.259999999999998,29.259999999999998,29.259999999999998],\"z\":[-91.88993496618973,-27.54290845935286,16.269934966189737,-48.07709154064712,-91.88993496618973,-27.54290845935286,16.269934966189737,-48.07709154064712],\"type\":\"mesh3d\"},{\"color\":\"#D3D3D3\",\"hoverinfo\":\"text\",\"i\":[0,2,4,6,0,1,2,3,0,3,1,2],\"j\":[1,3,5,7,1,5,3,7,3,7,2,6],\"k\":[2,0,6,4,4,4,6,6,4,4,5,5],\"opacity\":1.0,\"text\":[\"<b>Support table</b><br><br><b>LAT : </b>-92.0 cm<br><b>LON : </b>130.0 cm<br><b>VER : </b>24.0 cm\",\"<b>Support table</b><br><br><b>LAT : </b>-28.0 cm<br><b>LON : </b>-144.0 cm<br><b>VER : </b>24.0 cm\",\"<b>Support table</b><br><br><b>LAT : </b>16.0 cm<br><b>LON : </b>-134.0 cm<br><b>VER : </b>24.0 cm\",\"<b>Support table</b><br><br><b>LAT : </b>-48.0 cm<br><b>LON : </b>141.0 cm<br><b>VER : </b>24.0 cm\",\"<b>Support table</b><br><br><b>LAT : </b>-92.0 cm<br><b>LON : </b>130.0 cm<br><b>VER : </b>29.0 cm\",\"<b>Support table</b><br><br><b>LAT : </b>-28.0 cm<br><b>LON : </b>-144.0 cm<br><b>VER : </b>29.0 cm\",\"<b>Support table</b><br><br><b>LAT : </b>16.0 cm<br><b>LON : </b>-134.0 cm<br><b>VER : </b>29.0 cm\",\"<b>Support table</b><br><br><b>LAT : </b>-48.0 cm<br><b>LON : </b>141.0 cm<br><b>VER : </b>29.0 cm\"],\"visible\":false,\"x\":[130.48617146952344,-144.07431399721017,-133.80617146952343,140.75431399721018,130.48617146952344,-144.07431399721017,-133.80617146952343,140.75431399721018],\"y\":[24.259999999999998,24.259999999999998,24.259999999999998,24.259999999999998,29.259999999999998,29.259999999999998,29.259999999999998,29.259999999999998],\"z\":[-91.88993496618973,-27.54290845935286,16.269934966189737,-48.07709154064712,-91.88993496618973,-27.54290845935286,16.269934966189737,-48.07709154064712],\"type\":\"mesh3d\"},{\"color\":\"#D3D3D3\",\"hoverinfo\":\"text\",\"i\":[0,2,4,6,0,1,2,3,0,3,1,2],\"j\":[1,3,5,7,1,5,3,7,3,7,2,6],\"k\":[2,0,6,4,4,4,6,6,4,4,5,5],\"opacity\":1.0,\"text\":[\"<b>Support table</b><br><br><b>LAT : </b>-92.0 cm<br><b>LON : </b>130.0 cm<br><b>VER : </b>24.0 cm\",\"<b>Support table</b><br><br><b>LAT : </b>-28.0 cm<br><b>LON : </b>-144.0 cm<br><b>VER : </b>24.0 cm\",\"<b>Support table</b><br><br><b>LAT : </b>16.0 cm<br><b>LON : </b>-134.0 cm<br><b>VER : </b>24.0 cm\",\"<b>Support table</b><br><br><b>LAT : </b>-48.0 cm<br><b>LON : </b>141.0 cm<br><b>VER : </b>24.0 cm\",\"<b>Support table</b><br><br><b>LAT : </b>-92.0 cm<br><b>LON : </b>130.0 cm<br><b>VER : </b>29.0 cm\",\"<b>Support table</b><br><br><b>LAT : </b>-28.0 cm<br><b>LON : </b>-144.0 cm<br><b>VER : </b>29.0 cm\",\"<b>Support table</b><br><br><b>LAT : </b>16.0 cm<br><b>LON : </b>-134.0 cm<br><b>VER : </b>29.0 cm\",\"<b>Support table</b><br><br><b>LAT : </b>-48.0 cm<br><b>LON : </b>141.0 cm<br><b>VER : </b>29.0 cm\"],\"visible\":false,\"x\":[130.48617146952344,-144.07431399721017,-133.80617146952343,140.75431399721018,130.48617146952344,-144.07431399721017,-133.80617146952343,140.75431399721018],\"y\":[24.259999999999998,24.259999999999998,24.259999999999998,24.259999999999998,29.259999999999998,29.259999999999998,29.259999999999998,29.259999999999998],\"z\":[-91.88993496618973,-27.54290845935286,16.269934966189737,-48.07709154064712,-91.88993496618973,-27.54290845935286,16.269934966189737,-48.07709154064712],\"type\":\"mesh3d\"},{\"color\":\"#D3D3D3\",\"hoverinfo\":\"text\",\"i\":[0,2,4,6,0,1,2,3,0,3,1,2],\"j\":[1,3,5,7,1,5,3,7,3,7,2,6],\"k\":[2,0,6,4,4,4,6,6,4,4,5,5],\"opacity\":1.0,\"text\":[\"<b>Support table</b><br><br><b>LAT : </b>-86.0 cm<br><b>LON : </b>134.0 cm<br><b>VER : </b>24.0 cm\",\"<b>Support table</b><br><br><b>LAT : </b>-43.0 cm<br><b>LON : </b>-144.0 cm<br><b>VER : </b>24.0 cm\",\"<b>Support table</b><br><br><b>LAT : </b>1.0 cm<br><b>LON : </b>-138.0 cm<br><b>VER : </b>24.0 cm\",\"<b>Support table</b><br><br><b>LAT : </b>-41.0 cm<br><b>LON : </b>141.0 cm<br><b>VER : </b>24.0 cm\",\"<b>Support table</b><br><br><b>LAT : </b>-86.0 cm<br><b>LON : </b>134.0 cm<br><b>VER : </b>29.0 cm\",\"<b>Support table</b><br><br><b>LAT : </b>-43.0 cm<br><b>LON : </b>-144.0 cm<br><b>VER : </b>29.0 cm\",\"<b>Support table</b><br><br><b>LAT : </b>1.0 cm<br><b>LON : </b>-138.0 cm<br><b>VER : </b>29.0 cm\",\"<b>Support table</b><br><br><b>LAT : </b>-41.0 cm<br><b>LON : </b>141.0 cm<br><b>VER : </b>29.0 cm\"],\"visible\":false,\"x\":[134.2966633080048,-144.45116372825,-137.63666330800478,141.11116372825003,134.2966633080048,-144.45116372825,-137.63666330800478,141.11116372825003],\"y\":[24.259999999999998,24.259999999999998,24.259999999999998,24.259999999999998,29.259999999999998,29.259999999999998,29.259999999999998,29.259999999999998],\"z\":[-85.88261943136311,-43.17841679782646,1.3026194313631265,-41.401583202173526,-85.88261943136311,-43.17841679782646,1.3026194313631265,-41.401583202173526],\"type\":\"mesh3d\"},{\"color\":\"#D3D3D3\",\"hoverinfo\":\"text\",\"i\":[0,2,4,6,0,1,2,3,0,3,1,2],\"j\":[1,3,5,7,1,5,3,7,3,7,2,6],\"k\":[2,0,6,4,4,4,6,6,4,4,5,5],\"opacity\":1.0,\"text\":[\"<b>Support table</b><br><br><b>LAT : </b>-87.0 cm<br><b>LON : </b>135.0 cm<br><b>VER : </b>24.0 cm\",\"<b>Support table</b><br><br><b>LAT : </b>-40.0 cm<br><b>LON : </b>-143.0 cm<br><b>VER : </b>24.0 cm\",\"<b>Support table</b><br><br><b>LAT : </b>5.0 cm<br><b>LON : </b>-136.0 cm<br><b>VER : </b>24.0 cm\",\"<b>Support table</b><br><br><b>LAT : </b>-43.0 cm<br><b>LON : </b>142.0 cm<br><b>VER : </b>24.0 cm\",\"<b>Support table</b><br><br><b>LAT : </b>-87.0 cm<br><b>LON : </b>135.0 cm<br><b>VER : </b>29.0 cm\",\"<b>Support table</b><br><br><b>LAT : </b>-40.0 cm<br><b>LON : </b>-143.0 cm<br><b>VER : </b>29.0 cm\",\"<b>Support table</b><br><br><b>LAT : </b>5.0 cm<br><b>LON : </b>-136.0 cm<br><b>VER : </b>29.0 cm\",\"<b>Support table</b><br><br><b>LAT : </b>-43.0 cm<br><b>LON : </b>142.0 cm<br><b>VER : </b>29.0 cm\"],\"visible\":false,\"x\":[134.88920431978073,-143.09574254471153,-135.52920431978072,142.45574254471154,134.88920431978073,-143.09574254471153,-135.52920431978072,142.45574254471154],\"y\":[24.259999999999998,24.259999999999998,24.259999999999998,24.259999999999998,29.259999999999998,29.259999999999998,29.259999999999998,29.259999999999998],\"z\":[-87.20813645390051,-39.79116357766743,4.568136453900493,-42.84883642233258,-87.20813645390051,-39.79116357766743,4.568136453900493,-42.84883642233258],\"type\":\"mesh3d\"},{\"color\":\"#D3D3D3\",\"hoverinfo\":\"text\",\"i\":[0,2,4,6,0,1,2,3,0,3,1,2],\"j\":[1,3,5,7,1,5,3,7,3,7,2,6],\"k\":[2,0,6,4,4,4,6,6,4,4,5,5],\"opacity\":1.0,\"text\":[\"<b>Support table</b><br><br><b>LAT : </b>-87.0 cm<br><b>LON : </b>135.0 cm<br><b>VER : </b>24.0 cm\",\"<b>Support table</b><br><br><b>LAT : </b>-40.0 cm<br><b>LON : </b>-143.0 cm<br><b>VER : </b>24.0 cm\",\"<b>Support table</b><br><br><b>LAT : </b>5.0 cm<br><b>LON : </b>-136.0 cm<br><b>VER : </b>24.0 cm\",\"<b>Support table</b><br><br><b>LAT : </b>-43.0 cm<br><b>LON : </b>142.0 cm<br><b>VER : </b>24.0 cm\",\"<b>Support table</b><br><br><b>LAT : </b>-87.0 cm<br><b>LON : </b>135.0 cm<br><b>VER : </b>29.0 cm\",\"<b>Support table</b><br><br><b>LAT : </b>-40.0 cm<br><b>LON : </b>-143.0 cm<br><b>VER : </b>29.0 cm\",\"<b>Support table</b><br><br><b>LAT : </b>5.0 cm<br><b>LON : </b>-136.0 cm<br><b>VER : </b>29.0 cm\",\"<b>Support table</b><br><br><b>LAT : </b>-43.0 cm<br><b>LON : </b>142.0 cm<br><b>VER : </b>29.0 cm\"],\"visible\":false,\"x\":[134.88920431978073,-143.09574254471153,-135.52920431978072,142.45574254471154,134.88920431978073,-143.09574254471153,-135.52920431978072,142.45574254471154],\"y\":[24.259999999999998,24.259999999999998,24.259999999999998,24.259999999999998,29.259999999999998,29.259999999999998,29.259999999999998,29.259999999999998],\"z\":[-87.20813645390051,-39.79116357766743,4.568136453900493,-42.84883642233258,-87.20813645390051,-39.79116357766743,4.568136453900493,-42.84883642233258],\"type\":\"mesh3d\"},{\"color\":\"#D3D3D3\",\"hoverinfo\":\"text\",\"i\":[0,2,4,6,0,1,2,3,0,3,1,2],\"j\":[1,3,5,7,1,5,3,7,3,7,2,6],\"k\":[2,0,6,4,4,4,6,6,4,4,5,5],\"opacity\":1.0,\"text\":[\"<b>Support table</b><br><br><b>LAT : </b>-97.0 cm<br><b>LON : </b>128.0 cm<br><b>VER : </b>24.0 cm\",\"<b>Support table</b><br><br><b>LAT : </b>-15.0 cm<br><b>LON : </b>-142.0 cm<br><b>VER : </b>24.0 cm\",\"<b>Support table</b><br><br><b>LAT : </b>28.0 cm<br><b>LON : </b>-129.0 cm<br><b>VER : </b>24.0 cm\",\"<b>Support table</b><br><br><b>LAT : </b>-54.0 cm<br><b>LON : </b>141.0 cm<br><b>VER : </b>24.0 cm\",\"<b>Support table</b><br><br><b>LAT : </b>-97.0 cm<br><b>LON : </b>128.0 cm<br><b>VER : </b>29.0 cm\",\"<b>Support table</b><br><br><b>LAT : </b>-15.0 cm<br><b>LON : </b>-142.0 cm<br><b>VER : </b>29.0 cm\",\"<b>Support table</b><br><br><b>LAT : </b>28.0 cm<br><b>LON : </b>-129.0 cm<br><b>VER : </b>29.0 cm\",\"<b>Support table</b><br><br><b>LAT : </b>-54.0 cm<br><b>LON : </b>141.0 cm<br><b>VER : </b>29.0 cm\"],\"visible\":false,\"x\":[127.99900271117987,-141.8081160201353,-128.71900271117988,141.08811602013526,127.99900271117987,-141.8081160201353,-128.71900271117988,141.08811602013526],\"y\":[24.259999999999998,24.259999999999998,24.259999999999998,24.259999999999998,29.259999999999998,29.259999999999998,29.259999999999998,29.259999999999998],\"z\":[-96.62971876328928,-14.604608693835488,28.44971876328927,-53.57539130616453,-96.62971876328928,-14.604608693835488,28.44971876328927,-53.57539130616453],\"type\":\"mesh3d\"},{\"color\":\"#D3D3D3\",\"hoverinfo\":\"text\",\"i\":[0,2,4,6,0,1,2,3,0,3,1,2],\"j\":[1,3,5,7,1,5,3,7,3,7,2,6],\"k\":[2,0,6,4,4,4,6,6,4,4,5,5],\"opacity\":1.0,\"text\":[\"<b>Support table</b><br><br><b>LAT : </b>-97.0 cm<br><b>LON : </b>128.0 cm<br><b>VER : </b>24.0 cm\",\"<b>Support table</b><br><br><b>LAT : </b>-15.0 cm<br><b>LON : </b>-142.0 cm<br><b>VER : </b>24.0 cm\",\"<b>Support table</b><br><br><b>LAT : </b>28.0 cm<br><b>LON : </b>-129.0 cm<br><b>VER : </b>24.0 cm\",\"<b>Support table</b><br><br><b>LAT : </b>-54.0 cm<br><b>LON : </b>141.0 cm<br><b>VER : </b>24.0 cm\",\"<b>Support table</b><br><br><b>LAT : </b>-97.0 cm<br><b>LON : </b>128.0 cm<br><b>VER : </b>29.0 cm\",\"<b>Support table</b><br><br><b>LAT : </b>-15.0 cm<br><b>LON : </b>-142.0 cm<br><b>VER : </b>29.0 cm\",\"<b>Support table</b><br><br><b>LAT : </b>28.0 cm<br><b>LON : </b>-129.0 cm<br><b>VER : </b>29.0 cm\",\"<b>Support table</b><br><br><b>LAT : </b>-54.0 cm<br><b>LON : </b>141.0 cm<br><b>VER : </b>29.0 cm\"],\"visible\":false,\"x\":[127.99900271117987,-141.8081160201353,-128.71900271117988,141.08811602013526,127.99900271117987,-141.8081160201353,-128.71900271117988,141.08811602013526],\"y\":[24.259999999999998,24.259999999999998,24.259999999999998,24.259999999999998,29.259999999999998,29.259999999999998,29.259999999999998,29.259999999999998],\"z\":[-96.62971876328928,-14.604608693835488,28.44971876328927,-53.57539130616453,-96.62971876328928,-14.604608693835488,28.44971876328927,-53.57539130616453],\"type\":\"mesh3d\"},{\"color\":\"#D3D3D3\",\"hoverinfo\":\"text\",\"i\":[0,2,4,6,0,1,2,3,0,3,1,2],\"j\":[1,3,5,7,1,5,3,7,3,7,2,6],\"k\":[2,0,6,4,4,4,6,6,4,4,5,5],\"opacity\":1.0,\"text\":[\"<b>Support table</b><br><br><b>LAT : </b>-97.0 cm<br><b>LON : </b>128.0 cm<br><b>VER : </b>24.0 cm\",\"<b>Support table</b><br><br><b>LAT : </b>-15.0 cm<br><b>LON : </b>-142.0 cm<br><b>VER : </b>24.0 cm\",\"<b>Support table</b><br><br><b>LAT : </b>28.0 cm<br><b>LON : </b>-129.0 cm<br><b>VER : </b>24.0 cm\",\"<b>Support table</b><br><br><b>LAT : </b>-54.0 cm<br><b>LON : </b>141.0 cm<br><b>VER : </b>24.0 cm\",\"<b>Support table</b><br><br><b>LAT : </b>-97.0 cm<br><b>LON : </b>128.0 cm<br><b>VER : </b>29.0 cm\",\"<b>Support table</b><br><br><b>LAT : </b>-15.0 cm<br><b>LON : </b>-142.0 cm<br><b>VER : </b>29.0 cm\",\"<b>Support table</b><br><br><b>LAT : </b>28.0 cm<br><b>LON : </b>-129.0 cm<br><b>VER : </b>29.0 cm\",\"<b>Support table</b><br><br><b>LAT : </b>-54.0 cm<br><b>LON : </b>141.0 cm<br><b>VER : </b>29.0 cm\"],\"visible\":false,\"x\":[127.99900271117987,-141.8081160201353,-128.71900271117988,141.08811602013526,127.99900271117987,-141.8081160201353,-128.71900271117988,141.08811602013526],\"y\":[24.259999999999998,24.259999999999998,24.259999999999998,24.259999999999998,29.259999999999998,29.259999999999998,29.259999999999998,29.259999999999998],\"z\":[-96.62971876328928,-14.604608693835488,28.44971876328927,-53.57539130616453,-96.62971876328928,-14.604608693835488,28.44971876328927,-53.57539130616453],\"type\":\"mesh3d\"},{\"color\":\"#D3D3D3\",\"hoverinfo\":\"text\",\"i\":[0,2,4,6,0,1,2,3,0,3,1,2],\"j\":[1,3,5,7,1,5,3,7,3,7,2,6],\"k\":[2,0,6,4,4,4,6,6,4,4,5,5],\"opacity\":1.0,\"text\":[\"<b>Support table</b><br><br><b>LAT : </b>-97.0 cm<br><b>LON : </b>128.0 cm<br><b>VER : </b>24.0 cm\",\"<b>Support table</b><br><br><b>LAT : </b>-15.0 cm<br><b>LON : </b>-142.0 cm<br><b>VER : </b>24.0 cm\",\"<b>Support table</b><br><br><b>LAT : </b>28.0 cm<br><b>LON : </b>-129.0 cm<br><b>VER : </b>24.0 cm\",\"<b>Support table</b><br><br><b>LAT : </b>-54.0 cm<br><b>LON : </b>141.0 cm<br><b>VER : </b>24.0 cm\",\"<b>Support table</b><br><br><b>LAT : </b>-97.0 cm<br><b>LON : </b>128.0 cm<br><b>VER : </b>29.0 cm\",\"<b>Support table</b><br><br><b>LAT : </b>-15.0 cm<br><b>LON : </b>-142.0 cm<br><b>VER : </b>29.0 cm\",\"<b>Support table</b><br><br><b>LAT : </b>28.0 cm<br><b>LON : </b>-129.0 cm<br><b>VER : </b>29.0 cm\",\"<b>Support table</b><br><br><b>LAT : </b>-54.0 cm<br><b>LON : </b>141.0 cm<br><b>VER : </b>29.0 cm\"],\"visible\":false,\"x\":[127.99900271117987,-141.8081160201353,-128.71900271117988,141.08811602013526,127.99900271117987,-141.8081160201353,-128.71900271117988,141.08811602013526],\"y\":[24.259999999999998,24.259999999999998,24.259999999999998,24.259999999999998,29.259999999999998,29.259999999999998,29.259999999999998,29.259999999999998],\"z\":[-96.62971876328928,-14.604608693835488,28.44971876328927,-53.57539130616453,-96.62971876328928,-14.604608693835488,28.44971876328927,-53.57539130616453],\"type\":\"mesh3d\"},{\"color\":\"#D3D3D3\",\"hoverinfo\":\"text\",\"i\":[0,2,4,6,0,1,2,3,0,3,1,2],\"j\":[1,3,5,7,1,5,3,7,3,7,2,6],\"k\":[2,0,6,4,4,4,6,6,4,4,5,5],\"opacity\":1.0,\"text\":[\"<b>Support table</b><br><br><b>LAT : </b>-93.0 cm<br><b>LON : </b>122.0 cm<br><b>VER : </b>16.0 cm\",\"<b>Support table</b><br><br><b>LAT : </b>-25.0 cm<br><b>LON : </b>-151.0 cm<br><b>VER : </b>16.0 cm\",\"<b>Support table</b><br><br><b>LAT : </b>19.0 cm<br><b>LON : </b>-141.0 cm<br><b>VER : </b>16.0 cm\",\"<b>Support table</b><br><br><b>LAT : </b>-49.0 cm<br><b>LON : </b>133.0 cm<br><b>VER : </b>16.0 cm\",\"<b>Support table</b><br><br><b>LAT : </b>-93.0 cm<br><b>LON : </b>122.0 cm<br><b>VER : </b>21.0 cm\",\"<b>Support table</b><br><br><b>LAT : </b>-25.0 cm<br><b>LON : </b>-151.0 cm<br><b>VER : </b>21.0 cm\",\"<b>Support table</b><br><br><b>LAT : </b>19.0 cm<br><b>LON : </b>-141.0 cm<br><b>VER : </b>21.0 cm\",\"<b>Support table</b><br><br><b>LAT : </b>-49.0 cm<br><b>LON : </b>133.0 cm<br><b>VER : </b>21.0 cm\"],\"visible\":false,\"x\":[122.2972238903211,-151.38560162780786,-140.53722389032112,133.14560162780785,122.2972238903211,-151.38560162780786,-140.53722389032112,133.14560162780785],\"y\":[16.48,16.48,16.48,16.48,21.48,21.48,21.48,21.48],\"z\":[-92.87797923050066,-24.894812075583744,18.777979230500677,-49.20518792441625,-92.87797923050066,-24.894812075583744,18.777979230500677,-49.20518792441625],\"type\":\"mesh3d\"},{\"color\":\"#D3D3D3\",\"hoverinfo\":\"text\",\"i\":[0,2,4,6,0,1,2,3,0,3,1,2],\"j\":[1,3,5,7,1,5,3,7,3,7,2,6],\"k\":[2,0,6,4,4,4,6,6,4,4,5,5],\"opacity\":1.0,\"text\":[\"<b>Support table</b><br><br><b>LAT : </b>-93.0 cm<br><b>LON : </b>122.0 cm<br><b>VER : </b>14.0 cm\",\"<b>Support table</b><br><br><b>LAT : </b>-25.0 cm<br><b>LON : </b>-151.0 cm<br><b>VER : </b>14.0 cm\",\"<b>Support table</b><br><br><b>LAT : </b>19.0 cm<br><b>LON : </b>-141.0 cm<br><b>VER : </b>14.0 cm\",\"<b>Support table</b><br><br><b>LAT : </b>-49.0 cm<br><b>LON : </b>133.0 cm<br><b>VER : </b>14.0 cm\",\"<b>Support table</b><br><br><b>LAT : </b>-93.0 cm<br><b>LON : </b>122.0 cm<br><b>VER : </b>19.0 cm\",\"<b>Support table</b><br><br><b>LAT : </b>-25.0 cm<br><b>LON : </b>-151.0 cm<br><b>VER : </b>19.0 cm\",\"<b>Support table</b><br><br><b>LAT : </b>19.0 cm<br><b>LON : </b>-141.0 cm<br><b>VER : </b>19.0 cm\",\"<b>Support table</b><br><br><b>LAT : </b>-49.0 cm<br><b>LON : </b>133.0 cm<br><b>VER : </b>19.0 cm\"],\"visible\":false,\"x\":[122.32670352457647,-151.3798359214153,-140.54670352457646,133.15983592141527,122.32670352457647,-151.3798359214153,-140.54670352457646,133.15983592141527],\"y\":[14.38,14.38,14.38,14.38,19.380000000000003,19.380000000000003,19.380000000000003,19.380000000000003],\"z\":[-92.85210256518293,-24.96447287832639,18.712102565182917,-49.175527121673625,-92.85210256518293,-24.96447287832639,18.712102565182917,-49.175527121673625],\"type\":\"mesh3d\"},{\"color\":\"#D3D3D3\",\"hoverinfo\":\"text\",\"i\":[0,2,4,6,0,1,2,3,0,3,1,2],\"j\":[1,3,5,7,1,5,3,7,3,7,2,6],\"k\":[2,0,6,4,4,4,6,6,4,4,5,5],\"opacity\":1.0,\"text\":[\"<b>Support table</b><br><br><b>LAT : </b>-93.0 cm<br><b>LON : </b>122.0 cm<br><b>VER : </b>15.0 cm\",\"<b>Support table</b><br><br><b>LAT : </b>-25.0 cm<br><b>LON : </b>-151.0 cm<br><b>VER : </b>15.0 cm\",\"<b>Support table</b><br><br><b>LAT : </b>19.0 cm<br><b>LON : </b>-141.0 cm<br><b>VER : </b>15.0 cm\",\"<b>Support table</b><br><br><b>LAT : </b>-49.0 cm<br><b>LON : </b>133.0 cm<br><b>VER : </b>15.0 cm\",\"<b>Support table</b><br><br><b>LAT : </b>-93.0 cm<br><b>LON : </b>122.0 cm<br><b>VER : </b>20.0 cm\",\"<b>Support table</b><br><br><b>LAT : </b>-25.0 cm<br><b>LON : </b>-151.0 cm<br><b>VER : </b>20.0 cm\",\"<b>Support table</b><br><br><b>LAT : </b>19.0 cm<br><b>LON : </b>-141.0 cm<br><b>VER : </b>20.0 cm\",\"<b>Support table</b><br><br><b>LAT : </b>-49.0 cm<br><b>LON : </b>133.0 cm<br><b>VER : </b>20.0 cm\"],\"visible\":false,\"x\":[122.32670352457647,-151.3798359214153,-140.54670352457646,133.15983592141527,122.32670352457647,-151.3798359214153,-140.54670352457646,133.15983592141527],\"y\":[14.59,14.59,14.59,14.59,19.59,19.59,19.59,19.59],\"z\":[-92.85210256518293,-24.96447287832639,18.712102565182917,-49.175527121673625,-92.85210256518293,-24.96447287832639,18.712102565182917,-49.175527121673625],\"type\":\"mesh3d\"},{\"color\":\"#D3D3D3\",\"hoverinfo\":\"text\",\"i\":[0,2,4,6,0,1,2,3,0,3,1,2],\"j\":[1,3,5,7,1,5,3,7,3,7,2,6],\"k\":[2,0,6,4,4,4,6,6,4,4,5,5],\"opacity\":1.0,\"text\":[\"<b>Support table</b><br><br><b>LAT : </b>-93.0 cm<br><b>LON : </b>122.0 cm<br><b>VER : </b>15.0 cm\",\"<b>Support table</b><br><br><b>LAT : </b>-25.0 cm<br><b>LON : </b>-151.0 cm<br><b>VER : </b>15.0 cm\",\"<b>Support table</b><br><br><b>LAT : </b>19.0 cm<br><b>LON : </b>-141.0 cm<br><b>VER : </b>15.0 cm\",\"<b>Support table</b><br><br><b>LAT : </b>-49.0 cm<br><b>LON : </b>133.0 cm<br><b>VER : </b>15.0 cm\",\"<b>Support table</b><br><br><b>LAT : </b>-93.0 cm<br><b>LON : </b>122.0 cm<br><b>VER : </b>20.0 cm\",\"<b>Support table</b><br><br><b>LAT : </b>-25.0 cm<br><b>LON : </b>-151.0 cm<br><b>VER : </b>20.0 cm\",\"<b>Support table</b><br><br><b>LAT : </b>19.0 cm<br><b>LON : </b>-141.0 cm<br><b>VER : </b>20.0 cm\",\"<b>Support table</b><br><br><b>LAT : </b>-49.0 cm<br><b>LON : </b>133.0 cm<br><b>VER : </b>20.0 cm\"],\"visible\":false,\"x\":[122.32670352457647,-151.3798359214153,-140.54670352457646,133.15983592141527,122.32670352457647,-151.3798359214153,-140.54670352457646,133.15983592141527],\"y\":[14.59,14.59,14.59,14.59,19.59,19.59,19.59,19.59],\"z\":[-92.85210256518293,-24.96447287832639,18.712102565182917,-49.175527121673625,-92.85210256518293,-24.96447287832639,18.712102565182917,-49.175527121673625],\"type\":\"mesh3d\"},{\"color\":\"#D3D3D3\",\"hoverinfo\":\"text\",\"i\":[0,2,4,6,0,1,2,3,0,3,1,2],\"j\":[1,3,5,7,1,5,3,7,3,7,2,6],\"k\":[2,0,6,4,4,4,6,6,4,4,5,5],\"opacity\":1.0,\"text\":[\"<b>Support table</b><br><br><b>LAT : </b>-93.0 cm<br><b>LON : </b>122.0 cm<br><b>VER : </b>15.0 cm\",\"<b>Support table</b><br><br><b>LAT : </b>-25.0 cm<br><b>LON : </b>-151.0 cm<br><b>VER : </b>15.0 cm\",\"<b>Support table</b><br><br><b>LAT : </b>19.0 cm<br><b>LON : </b>-141.0 cm<br><b>VER : </b>15.0 cm\",\"<b>Support table</b><br><br><b>LAT : </b>-49.0 cm<br><b>LON : </b>133.0 cm<br><b>VER : </b>15.0 cm\",\"<b>Support table</b><br><br><b>LAT : </b>-93.0 cm<br><b>LON : </b>122.0 cm<br><b>VER : </b>20.0 cm\",\"<b>Support table</b><br><br><b>LAT : </b>-25.0 cm<br><b>LON : </b>-151.0 cm<br><b>VER : </b>20.0 cm\",\"<b>Support table</b><br><br><b>LAT : </b>19.0 cm<br><b>LON : </b>-141.0 cm<br><b>VER : </b>20.0 cm\",\"<b>Support table</b><br><br><b>LAT : </b>-49.0 cm<br><b>LON : </b>133.0 cm<br><b>VER : </b>20.0 cm\"],\"visible\":false,\"x\":[122.32670352457647,-151.3798359214153,-140.54670352457646,133.15983592141527,122.32670352457647,-151.3798359214153,-140.54670352457646,133.15983592141527],\"y\":[14.59,14.59,14.59,14.59,19.59,19.59,19.59,19.59],\"z\":[-92.85210256518293,-24.96447287832639,18.712102565182917,-49.175527121673625,-92.85210256518293,-24.96447287832639,18.712102565182917,-49.175527121673625],\"type\":\"mesh3d\"},{\"color\":\"#D3D3D3\",\"hoverinfo\":\"text\",\"i\":[0,0,4,4,0,1,0,3,3,7,1,1],\"j\":[1,2,5,6,1,5,3,7,2,2,2,6],\"k\":[2,3,6,7,4,4,4,4,7,6,6,5],\"opacity\":1.0,\"text\":[\"<b>X-ray detector</b><br><br><b>LAT : </b>20.0 cm<br><b>LON : </b>20.0 cm<br><b>VER : </b>-28.0 cm\",\"<b>X-ray detector</b><br><br><b>LAT : </b>-20.0 cm<br><b>LON : </b>20.0 cm<br><b>VER : </b>-29.0 cm\",\"<b>X-ray detector</b><br><br><b>LAT : </b>-20.0 cm<br><b>LON : </b>-20.0 cm<br><b>VER : </b>-29.0 cm\",\"<b>X-ray detector</b><br><br><b>LAT : </b>20.0 cm<br><b>LON : </b>-20.0 cm<br><b>VER : </b>-29.0 cm\",\"<b>X-ray detector</b><br><br><b>LAT : </b>20.0 cm<br><b>LON : </b>20.0 cm<br><b>VER : </b>-34.0 cm\",\"<b>X-ray detector</b><br><br><b>LAT : </b>-20.0 cm<br><b>LON : </b>20.0 cm<br><b>VER : </b>-34.0 cm\",\"<b>X-ray detector</b><br><br><b>LAT : </b>-20.0 cm<br><b>LON : </b>-20.0 cm<br><b>VER : </b>-34.0 cm\",\"<b>X-ray detector</b><br><br><b>LAT : </b>20.0 cm<br><b>LON : </b>-20.0 cm<br><b>VER : </b>-34.0 cm\"],\"visible\":true,\"x\":[20.099343876659045,20.100074953641375,-19.899681352670243,-19.900412429652572,20.119310129057926,20.120041206040256,-19.879715100271362,-19.880446177253692],\"y\":[-28.42490205273046,-28.6343393300159,-28.77396538662485,-28.56452810933941,-34.14478879666599,-34.35422607395144,-34.49385213056039,-34.28441485327494],\"z\":[20.149474410527134,-19.849977279369934,-19.849977279369934,20.149474410527134,20.179424123642853,-19.820027566254215,-19.820027566254215,20.179424123642853],\"type\":\"mesh3d\"},{\"color\":\"#D3D3D3\",\"hoverinfo\":\"text\",\"i\":[0,0,4,4,0,1,0,3,3,7,1,1],\"j\":[1,2,5,6,1,5,3,7,2,2,2,6],\"k\":[2,3,6,7,4,4,4,4,7,6,6,5],\"opacity\":1.0,\"text\":[\"<b>X-ray detector</b><br><br><b>LAT : </b>20.0 cm<br><b>LON : </b>20.0 cm<br><b>VER : </b>-28.0 cm\",\"<b>X-ray detector</b><br><br><b>LAT : </b>-20.0 cm<br><b>LON : </b>20.0 cm<br><b>VER : </b>-29.0 cm\",\"<b>X-ray detector</b><br><br><b>LAT : </b>-20.0 cm<br><b>LON : </b>-20.0 cm<br><b>VER : </b>-29.0 cm\",\"<b>X-ray detector</b><br><br><b>LAT : </b>20.0 cm<br><b>LON : </b>-20.0 cm<br><b>VER : </b>-29.0 cm\",\"<b>X-ray detector</b><br><br><b>LAT : </b>20.0 cm<br><b>LON : </b>20.0 cm<br><b>VER : </b>-34.0 cm\",\"<b>X-ray detector</b><br><br><b>LAT : </b>-20.0 cm<br><b>LON : </b>20.0 cm<br><b>VER : </b>-34.0 cm\",\"<b>X-ray detector</b><br><br><b>LAT : </b>-20.0 cm<br><b>LON : </b>-20.0 cm<br><b>VER : </b>-34.0 cm\",\"<b>X-ray detector</b><br><br><b>LAT : </b>20.0 cm<br><b>LON : </b>-20.0 cm<br><b>VER : </b>-34.0 cm\"],\"visible\":false,\"x\":[20.099343876659045,20.100074953641375,-19.899681352670243,-19.900412429652572,20.119310129057926,20.120041206040256,-19.879715100271362,-19.880446177253692],\"y\":[-28.42490205273046,-28.6343393300159,-28.77396538662485,-28.56452810933941,-34.14478879666599,-34.35422607395144,-34.49385213056039,-34.28441485327494],\"z\":[20.149474410527134,-19.849977279369934,-19.849977279369934,20.149474410527134,20.179424123642853,-19.820027566254215,-19.820027566254215,20.179424123642853],\"type\":\"mesh3d\"},{\"color\":\"#D3D3D3\",\"hoverinfo\":\"text\",\"i\":[0,0,4,4,0,1,0,3,3,7,1,1],\"j\":[1,2,5,6,1,5,3,7,2,2,2,6],\"k\":[2,3,6,7,4,4,4,4,7,6,6,5],\"opacity\":1.0,\"text\":[\"<b>X-ray detector</b><br><br><b>LAT : </b>20.0 cm<br><b>LON : </b>20.0 cm<br><b>VER : </b>-28.0 cm\",\"<b>X-ray detector</b><br><br><b>LAT : </b>-20.0 cm<br><b>LON : </b>20.0 cm<br><b>VER : </b>-29.0 cm\",\"<b>X-ray detector</b><br><br><b>LAT : </b>-20.0 cm<br><b>LON : </b>-20.0 cm<br><b>VER : </b>-29.0 cm\",\"<b>X-ray detector</b><br><br><b>LAT : </b>20.0 cm<br><b>LON : </b>-20.0 cm<br><b>VER : </b>-29.0 cm\",\"<b>X-ray detector</b><br><br><b>LAT : </b>20.0 cm<br><b>LON : </b>20.0 cm<br><b>VER : </b>-34.0 cm\",\"<b>X-ray detector</b><br><br><b>LAT : </b>-20.0 cm<br><b>LON : </b>20.0 cm<br><b>VER : </b>-34.0 cm\",\"<b>X-ray detector</b><br><br><b>LAT : </b>-20.0 cm<br><b>LON : </b>-20.0 cm<br><b>VER : </b>-34.0 cm\",\"<b>X-ray detector</b><br><br><b>LAT : </b>20.0 cm<br><b>LON : </b>-20.0 cm<br><b>VER : </b>-34.0 cm\"],\"visible\":false,\"x\":[20.099343876659045,20.100074953641375,-19.899681352670243,-19.900412429652572,20.119310129057926,20.120041206040256,-19.879715100271362,-19.880446177253692],\"y\":[-28.42490205273046,-28.6343393300159,-28.77396538662485,-28.56452810933941,-34.14478879666599,-34.35422607395144,-34.49385213056039,-34.28441485327494],\"z\":[20.149474410527134,-19.849977279369934,-19.849977279369934,20.149474410527134,20.179424123642853,-19.820027566254215,-19.820027566254215,20.179424123642853],\"type\":\"mesh3d\"},{\"color\":\"#D3D3D3\",\"hoverinfo\":\"text\",\"i\":[0,0,4,4,0,1,0,3,3,7,1,1],\"j\":[1,2,5,6,1,5,3,7,2,2,2,6],\"k\":[2,3,6,7,4,4,4,4,7,6,6,5],\"opacity\":1.0,\"text\":[\"<b>X-ray detector</b><br><br><b>LAT : </b>20.0 cm<br><b>LON : </b>20.0 cm<br><b>VER : </b>-28.0 cm\",\"<b>X-ray detector</b><br><br><b>LAT : </b>-20.0 cm<br><b>LON : </b>20.0 cm<br><b>VER : </b>-29.0 cm\",\"<b>X-ray detector</b><br><br><b>LAT : </b>-20.0 cm<br><b>LON : </b>-20.0 cm<br><b>VER : </b>-29.0 cm\",\"<b>X-ray detector</b><br><br><b>LAT : </b>20.0 cm<br><b>LON : </b>-20.0 cm<br><b>VER : </b>-29.0 cm\",\"<b>X-ray detector</b><br><br><b>LAT : </b>20.0 cm<br><b>LON : </b>20.0 cm<br><b>VER : </b>-34.0 cm\",\"<b>X-ray detector</b><br><br><b>LAT : </b>-20.0 cm<br><b>LON : </b>20.0 cm<br><b>VER : </b>-34.0 cm\",\"<b>X-ray detector</b><br><br><b>LAT : </b>-20.0 cm<br><b>LON : </b>-20.0 cm<br><b>VER : </b>-34.0 cm\",\"<b>X-ray detector</b><br><br><b>LAT : </b>20.0 cm<br><b>LON : </b>-20.0 cm<br><b>VER : </b>-34.0 cm\"],\"visible\":false,\"x\":[20.099343876659045,20.100074953641375,-19.899681352670243,-19.900412429652572,20.119310129057926,20.120041206040256,-19.879715100271362,-19.880446177253692],\"y\":[-28.42490205273046,-28.6343393300159,-28.77396538662485,-28.56452810933941,-34.14478879666599,-34.35422607395144,-34.49385213056039,-34.28441485327494],\"z\":[20.149474410527134,-19.849977279369934,-19.849977279369934,20.149474410527134,20.179424123642853,-19.820027566254215,-19.820027566254215,20.179424123642853],\"type\":\"mesh3d\"},{\"color\":\"#D3D3D3\",\"hoverinfo\":\"text\",\"i\":[0,0,4,4,0,1,0,3,3,7,1,1],\"j\":[1,2,5,6,1,5,3,7,2,2,2,6],\"k\":[2,3,6,7,4,4,4,4,7,6,6,5],\"opacity\":1.0,\"text\":[\"<b>X-ray detector</b><br><br><b>LAT : </b>20.0 cm<br><b>LON : </b>20.0 cm<br><b>VER : </b>-28.0 cm\",\"<b>X-ray detector</b><br><br><b>LAT : </b>-20.0 cm<br><b>LON : </b>20.0 cm<br><b>VER : </b>-29.0 cm\",\"<b>X-ray detector</b><br><br><b>LAT : </b>-20.0 cm<br><b>LON : </b>-20.0 cm<br><b>VER : </b>-29.0 cm\",\"<b>X-ray detector</b><br><br><b>LAT : </b>20.0 cm<br><b>LON : </b>-20.0 cm<br><b>VER : </b>-29.0 cm\",\"<b>X-ray detector</b><br><br><b>LAT : </b>20.0 cm<br><b>LON : </b>20.0 cm<br><b>VER : </b>-34.0 cm\",\"<b>X-ray detector</b><br><br><b>LAT : </b>-20.0 cm<br><b>LON : </b>20.0 cm<br><b>VER : </b>-34.0 cm\",\"<b>X-ray detector</b><br><br><b>LAT : </b>-20.0 cm<br><b>LON : </b>-20.0 cm<br><b>VER : </b>-34.0 cm\",\"<b>X-ray detector</b><br><br><b>LAT : </b>20.0 cm<br><b>LON : </b>-20.0 cm<br><b>VER : </b>-34.0 cm\"],\"visible\":false,\"x\":[20.099343876659045,20.100074953641375,-19.899681352670243,-19.900412429652572,20.119310129057926,20.120041206040256,-19.879715100271362,-19.880446177253692],\"y\":[-28.42490205273046,-28.6343393300159,-28.77396538662485,-28.56452810933941,-34.14478879666599,-34.35422607395144,-34.49385213056039,-34.28441485327494],\"z\":[20.149474410527134,-19.849977279369934,-19.849977279369934,20.149474410527134,20.179424123642853,-19.820027566254215,-19.820027566254215,20.179424123642853],\"type\":\"mesh3d\"},{\"color\":\"#D3D3D3\",\"hoverinfo\":\"text\",\"i\":[0,0,4,4,0,1,0,3,3,7,1,1],\"j\":[1,2,5,6,1,5,3,7,2,2,2,6],\"k\":[2,3,6,7,4,4,4,4,7,6,6,5],\"opacity\":1.0,\"text\":[\"<b>X-ray detector</b><br><br><b>LAT : </b>20.0 cm<br><b>LON : </b>20.0 cm<br><b>VER : </b>-28.0 cm\",\"<b>X-ray detector</b><br><br><b>LAT : </b>-20.0 cm<br><b>LON : </b>20.0 cm<br><b>VER : </b>-29.0 cm\",\"<b>X-ray detector</b><br><br><b>LAT : </b>-20.0 cm<br><b>LON : </b>-20.0 cm<br><b>VER : </b>-29.0 cm\",\"<b>X-ray detector</b><br><br><b>LAT : </b>20.0 cm<br><b>LON : </b>-20.0 cm<br><b>VER : </b>-29.0 cm\",\"<b>X-ray detector</b><br><br><b>LAT : </b>20.0 cm<br><b>LON : </b>20.0 cm<br><b>VER : </b>-34.0 cm\",\"<b>X-ray detector</b><br><br><b>LAT : </b>-20.0 cm<br><b>LON : </b>20.0 cm<br><b>VER : </b>-34.0 cm\",\"<b>X-ray detector</b><br><br><b>LAT : </b>-20.0 cm<br><b>LON : </b>-20.0 cm<br><b>VER : </b>-34.0 cm\",\"<b>X-ray detector</b><br><br><b>LAT : </b>20.0 cm<br><b>LON : </b>-20.0 cm<br><b>VER : </b>-34.0 cm\"],\"visible\":false,\"x\":[20.099343876659045,20.100074953641375,-19.899681352670243,-19.900412429652572,20.119310129057926,20.120041206040256,-19.879715100271362,-19.880446177253692],\"y\":[-28.42490205273046,-28.6343393300159,-28.77396538662485,-28.56452810933941,-34.14478879666599,-34.35422607395144,-34.49385213056039,-34.28441485327494],\"z\":[20.149474410527134,-19.849977279369934,-19.849977279369934,20.149474410527134,20.179424123642853,-19.820027566254215,-19.820027566254215,20.179424123642853],\"type\":\"mesh3d\"},{\"color\":\"#D3D3D3\",\"hoverinfo\":\"text\",\"i\":[0,0,4,4,0,1,0,3,3,7,1,1],\"j\":[1,2,5,6,1,5,3,7,2,2,2,6],\"k\":[2,3,6,7,4,4,4,4,7,6,6,5],\"opacity\":1.0,\"text\":[\"<b>X-ray detector</b><br><br><b>LAT : </b>20.0 cm<br><b>LON : </b>20.0 cm<br><b>VER : </b>-28.0 cm\",\"<b>X-ray detector</b><br><br><b>LAT : </b>-20.0 cm<br><b>LON : </b>20.0 cm<br><b>VER : </b>-29.0 cm\",\"<b>X-ray detector</b><br><br><b>LAT : </b>-20.0 cm<br><b>LON : </b>-20.0 cm<br><b>VER : </b>-29.0 cm\",\"<b>X-ray detector</b><br><br><b>LAT : </b>20.0 cm<br><b>LON : </b>-20.0 cm<br><b>VER : </b>-29.0 cm\",\"<b>X-ray detector</b><br><br><b>LAT : </b>20.0 cm<br><b>LON : </b>20.0 cm<br><b>VER : </b>-34.0 cm\",\"<b>X-ray detector</b><br><br><b>LAT : </b>-20.0 cm<br><b>LON : </b>20.0 cm<br><b>VER : </b>-34.0 cm\",\"<b>X-ray detector</b><br><br><b>LAT : </b>-20.0 cm<br><b>LON : </b>-20.0 cm<br><b>VER : </b>-34.0 cm\",\"<b>X-ray detector</b><br><br><b>LAT : </b>20.0 cm<br><b>LON : </b>-20.0 cm<br><b>VER : </b>-34.0 cm\"],\"visible\":false,\"x\":[20.099343876659045,20.100074953641375,-19.899681352670243,-19.900412429652572,20.119310129057926,20.120041206040256,-19.879715100271362,-19.880446177253692],\"y\":[-28.42490205273046,-28.6343393300159,-28.77396538662485,-28.56452810933941,-34.14478879666599,-34.35422607395144,-34.49385213056039,-34.28441485327494],\"z\":[20.149474410527134,-19.849977279369934,-19.849977279369934,20.149474410527134,20.179424123642853,-19.820027566254215,-19.820027566254215,20.179424123642853],\"type\":\"mesh3d\"},{\"color\":\"#D3D3D3\",\"hoverinfo\":\"text\",\"i\":[0,0,4,4,0,1,0,3,3,7,1,1],\"j\":[1,2,5,6,1,5,3,7,2,2,2,6],\"k\":[2,3,6,7,4,4,4,4,7,6,6,5],\"opacity\":1.0,\"text\":[\"<b>X-ray detector</b><br><br><b>LAT : </b>20.0 cm<br><b>LON : </b>20.0 cm<br><b>VER : </b>-28.0 cm\",\"<b>X-ray detector</b><br><br><b>LAT : </b>-20.0 cm<br><b>LON : </b>20.0 cm<br><b>VER : </b>-29.0 cm\",\"<b>X-ray detector</b><br><br><b>LAT : </b>-20.0 cm<br><b>LON : </b>-20.0 cm<br><b>VER : </b>-29.0 cm\",\"<b>X-ray detector</b><br><br><b>LAT : </b>20.0 cm<br><b>LON : </b>-20.0 cm<br><b>VER : </b>-29.0 cm\",\"<b>X-ray detector</b><br><br><b>LAT : </b>20.0 cm<br><b>LON : </b>20.0 cm<br><b>VER : </b>-34.0 cm\",\"<b>X-ray detector</b><br><br><b>LAT : </b>-20.0 cm<br><b>LON : </b>20.0 cm<br><b>VER : </b>-34.0 cm\",\"<b>X-ray detector</b><br><br><b>LAT : </b>-20.0 cm<br><b>LON : </b>-20.0 cm<br><b>VER : </b>-34.0 cm\",\"<b>X-ray detector</b><br><br><b>LAT : </b>20.0 cm<br><b>LON : </b>-20.0 cm<br><b>VER : </b>-34.0 cm\"],\"visible\":false,\"x\":[20.099343876659045,20.100074953641375,-19.899681352670243,-19.900412429652572,20.119310129057926,20.120041206040256,-19.879715100271362,-19.880446177253692],\"y\":[-28.42490205273046,-28.6343393300159,-28.77396538662485,-28.56452810933941,-34.14478879666599,-34.35422607395144,-34.49385213056039,-34.28441485327494],\"z\":[20.149474410527134,-19.849977279369934,-19.849977279369934,20.149474410527134,20.179424123642853,-19.820027566254215,-19.820027566254215,20.179424123642853],\"type\":\"mesh3d\"},{\"color\":\"#D3D3D3\",\"hoverinfo\":\"text\",\"i\":[0,0,4,4,0,1,0,3,3,7,1,1],\"j\":[1,2,5,6,1,5,3,7,2,2,2,6],\"k\":[2,3,6,7,4,4,4,4,7,6,6,5],\"opacity\":1.0,\"text\":[\"<b>X-ray detector</b><br><br><b>LAT : </b>20.0 cm<br><b>LON : </b>20.0 cm<br><b>VER : </b>-28.0 cm\",\"<b>X-ray detector</b><br><br><b>LAT : </b>-20.0 cm<br><b>LON : </b>20.0 cm<br><b>VER : </b>-29.0 cm\",\"<b>X-ray detector</b><br><br><b>LAT : </b>-20.0 cm<br><b>LON : </b>-20.0 cm<br><b>VER : </b>-29.0 cm\",\"<b>X-ray detector</b><br><br><b>LAT : </b>20.0 cm<br><b>LON : </b>-20.0 cm<br><b>VER : </b>-29.0 cm\",\"<b>X-ray detector</b><br><br><b>LAT : </b>20.0 cm<br><b>LON : </b>20.0 cm<br><b>VER : </b>-34.0 cm\",\"<b>X-ray detector</b><br><br><b>LAT : </b>-20.0 cm<br><b>LON : </b>20.0 cm<br><b>VER : </b>-34.0 cm\",\"<b>X-ray detector</b><br><br><b>LAT : </b>-20.0 cm<br><b>LON : </b>-20.0 cm<br><b>VER : </b>-34.0 cm\",\"<b>X-ray detector</b><br><br><b>LAT : </b>20.0 cm<br><b>LON : </b>-20.0 cm<br><b>VER : </b>-34.0 cm\"],\"visible\":false,\"x\":[20.099343876659045,20.100074953641375,-19.899681352670243,-19.900412429652572,20.119310129057926,20.120041206040256,-19.879715100271362,-19.880446177253692],\"y\":[-28.42490205273046,-28.6343393300159,-28.77396538662485,-28.56452810933941,-34.14478879666599,-34.35422607395144,-34.49385213056039,-34.28441485327494],\"z\":[20.149474410527134,-19.849977279369934,-19.849977279369934,20.149474410527134,20.179424123642853,-19.820027566254215,-19.820027566254215,20.179424123642853],\"type\":\"mesh3d\"},{\"color\":\"#D3D3D3\",\"hoverinfo\":\"text\",\"i\":[0,0,4,4,0,1,0,3,3,7,1,1],\"j\":[1,2,5,6,1,5,3,7,2,2,2,6],\"k\":[2,3,6,7,4,4,4,4,7,6,6,5],\"opacity\":1.0,\"text\":[\"<b>X-ray detector</b><br><br><b>LAT : </b>20.0 cm<br><b>LON : </b>20.0 cm<br><b>VER : </b>-28.0 cm\",\"<b>X-ray detector</b><br><br><b>LAT : </b>-20.0 cm<br><b>LON : </b>20.0 cm<br><b>VER : </b>-29.0 cm\",\"<b>X-ray detector</b><br><br><b>LAT : </b>-20.0 cm<br><b>LON : </b>-20.0 cm<br><b>VER : </b>-29.0 cm\",\"<b>X-ray detector</b><br><br><b>LAT : </b>20.0 cm<br><b>LON : </b>-20.0 cm<br><b>VER : </b>-29.0 cm\",\"<b>X-ray detector</b><br><br><b>LAT : </b>20.0 cm<br><b>LON : </b>20.0 cm<br><b>VER : </b>-34.0 cm\",\"<b>X-ray detector</b><br><br><b>LAT : </b>-20.0 cm<br><b>LON : </b>20.0 cm<br><b>VER : </b>-34.0 cm\",\"<b>X-ray detector</b><br><br><b>LAT : </b>-20.0 cm<br><b>LON : </b>-20.0 cm<br><b>VER : </b>-34.0 cm\",\"<b>X-ray detector</b><br><br><b>LAT : </b>20.0 cm<br><b>LON : </b>-20.0 cm<br><b>VER : </b>-34.0 cm\"],\"visible\":false,\"x\":[20.099343876659045,20.100074953641375,-19.899681352670243,-19.900412429652572,20.119310129057926,20.120041206040256,-19.879715100271362,-19.880446177253692],\"y\":[-28.42490205273046,-28.6343393300159,-28.77396538662485,-28.56452810933941,-34.14478879666599,-34.35422607395144,-34.49385213056039,-34.28441485327494],\"z\":[20.149474410527134,-19.849977279369934,-19.849977279369934,20.149474410527134,20.179424123642853,-19.820027566254215,-19.820027566254215,20.179424123642853],\"type\":\"mesh3d\"},{\"color\":\"#D3D3D3\",\"hoverinfo\":\"text\",\"i\":[0,0,4,4,0,1,0,3,3,7,1,1],\"j\":[1,2,5,6,1,5,3,7,2,2,2,6],\"k\":[2,3,6,7,4,4,4,4,7,6,6,5],\"opacity\":1.0,\"text\":[\"<b>X-ray detector</b><br><br><b>LAT : </b>20.0 cm<br><b>LON : </b>20.0 cm<br><b>VER : </b>-28.0 cm\",\"<b>X-ray detector</b><br><br><b>LAT : </b>-20.0 cm<br><b>LON : </b>20.0 cm<br><b>VER : </b>-29.0 cm\",\"<b>X-ray detector</b><br><br><b>LAT : </b>-20.0 cm<br><b>LON : </b>-20.0 cm<br><b>VER : </b>-29.0 cm\",\"<b>X-ray detector</b><br><br><b>LAT : </b>20.0 cm<br><b>LON : </b>-20.0 cm<br><b>VER : </b>-29.0 cm\",\"<b>X-ray detector</b><br><br><b>LAT : </b>20.0 cm<br><b>LON : </b>20.0 cm<br><b>VER : </b>-34.0 cm\",\"<b>X-ray detector</b><br><br><b>LAT : </b>-20.0 cm<br><b>LON : </b>20.0 cm<br><b>VER : </b>-34.0 cm\",\"<b>X-ray detector</b><br><br><b>LAT : </b>-20.0 cm<br><b>LON : </b>-20.0 cm<br><b>VER : </b>-34.0 cm\",\"<b>X-ray detector</b><br><br><b>LAT : </b>20.0 cm<br><b>LON : </b>-20.0 cm<br><b>VER : </b>-34.0 cm\"],\"visible\":false,\"x\":[20.099343876659045,20.100074953641375,-19.899681352670243,-19.900412429652572,20.119310129057926,20.120041206040256,-19.879715100271362,-19.880446177253692],\"y\":[-28.42490205273046,-28.6343393300159,-28.77396538662485,-28.56452810933941,-34.14478879666599,-34.35422607395144,-34.49385213056039,-34.28441485327494],\"z\":[20.149474410527134,-19.849977279369934,-19.849977279369934,20.149474410527134,20.179424123642853,-19.820027566254215,-19.820027566254215,20.179424123642853],\"type\":\"mesh3d\"},{\"color\":\"#D3D3D3\",\"hoverinfo\":\"text\",\"i\":[0,0,4,4,0,1,0,3,3,7,1,1],\"j\":[1,2,5,6,1,5,3,7,2,2,2,6],\"k\":[2,3,6,7,4,4,4,4,7,6,6,5],\"opacity\":1.0,\"text\":[\"<b>X-ray detector</b><br><br><b>LAT : </b>20.0 cm<br><b>LON : </b>29.0 cm<br><b>VER : </b>-19.0 cm\",\"<b>X-ray detector</b><br><br><b>LAT : </b>-20.0 cm<br><b>LON : </b>29.0 cm<br><b>VER : </b>-19.0 cm\",\"<b>X-ray detector</b><br><br><b>LAT : </b>-20.0 cm<br><b>LON : </b>-8.0 cm<br><b>VER : </b>-34.0 cm\",\"<b>X-ray detector</b><br><br><b>LAT : </b>20.0 cm<br><b>LON : </b>-8.0 cm<br><b>VER : </b>-34.0 cm\",\"<b>X-ray detector</b><br><br><b>LAT : </b>20.0 cm<br><b>LON : </b>31.0 cm<br><b>VER : </b>-25.0 cm\",\"<b>X-ray detector</b><br><br><b>LAT : </b>-20.0 cm<br><b>LON : </b>31.0 cm<br><b>VER : </b>-25.0 cm\",\"<b>X-ray detector</b><br><br><b>LAT : </b>-20.0 cm<br><b>LON : </b>-6.0 cm<br><b>VER : </b>-39.0 cm\",\"<b>X-ray detector</b><br><br><b>LAT : </b>20.0 cm<br><b>LON : </b>-6.0 cm<br><b>VER : </b>-39.0 cm\"],\"visible\":false,\"x\":[28.98462792751016,29.06070673968917,-8.206942363732791,-8.283021175911797,31.0623964838879,31.138475296066908,-6.129173807355051,-6.20525261953406],\"y\":[-19.283413206258626,-19.47854526904618,-34.00859448796531,-33.81346242517776,-24.612613975681022,-24.80774603846858,-39.33779525738771,-39.14266319460015],\"z\":[20.149474410527134,-19.849977279369934,-19.849977279369934,20.149474410527134,20.179424123642853,-19.820027566254215,-19.820027566254215,20.179424123642853],\"type\":\"mesh3d\"},{\"color\":\"#D3D3D3\",\"hoverinfo\":\"text\",\"i\":[0,0,4,4,0,1,0,3,3,7,1,1],\"j\":[1,2,5,6,1,5,3,7,2,2,2,6],\"k\":[2,3,6,7,4,4,4,4,7,6,6,5],\"opacity\":1.0,\"text\":[\"<b>X-ray detector</b><br><br><b>LAT : </b>20.0 cm<br><b>LON : </b>-4.0 cm<br><b>VER : </b>-35.0 cm\",\"<b>X-ray detector</b><br><br><b>LAT : </b>-20.0 cm<br><b>LON : </b>-5.0 cm<br><b>VER : </b>-35.0 cm\",\"<b>X-ray detector</b><br><br><b>LAT : </b>-20.0 cm<br><b>LON : </b>-34.0 cm<br><b>VER : </b>-8.0 cm\",\"<b>X-ray detector</b><br><br><b>LAT : </b>20.0 cm<br><b>LON : </b>-34.0 cm<br><b>VER : </b>-8.0 cm\",\"<b>X-ray detector</b><br><br><b>LAT : </b>20.0 cm<br><b>LON : </b>-8.0 cm<br><b>VER : </b>-39.0 cm\",\"<b>X-ray detector</b><br><br><b>LAT : </b>-20.0 cm<br><b>LON : </b>-8.0 cm<br><b>VER : </b>-39.0 cm\",\"<b>X-ray detector</b><br><br><b>LAT : </b>-20.0 cm<br><b>LON : </b>-38.0 cm<br><b>VER : </b>-12.0 cm\",\"<b>X-ray detector</b><br><br><b>LAT : </b>20.0 cm<br><b>LON : </b>-38.0 cm<br><b>VER : </b>-12.0 cm\"],\"visible\":false,\"x\":[-4.408433678787642,-4.502403762097487,-34.08764756124188,-33.99367747793203,-8.258041802790592,-8.352011886100438,-37.93725568524483,-37.84328560193499],\"y\":[-34.56193482596294,-34.66520659910016,-7.744706058709232,-7.641434285572012,-38.79259891443016,-38.895870687567374,-11.975370147176449,-11.872098374039227],\"z\":[20.099710783631206,-19.900045522680408,-19.900045522680408,20.099710783631206,20.119677309726285,-19.88007899658533,-19.88007899658533,20.119677309726285],\"type\":\"mesh3d\"},{\"color\":\"#D3D3D3\",\"hoverinfo\":\"text\",\"i\":[0,0,4,4,0,1,0,3,3,7,1,1],\"j\":[1,2,5,6,1,5,3,7,2,2,2,6],\"k\":[2,3,6,7,4,4,4,4,7,6,6,5],\"opacity\":1.0,\"text\":[\"<b>X-ray detector</b><br><br><b>LAT : </b>28.0 cm<br><b>LON : </b>20.0 cm<br><b>VER : </b>-20.0 cm\",\"<b>X-ray detector</b><br><br><b>LAT : </b>-9.0 cm<br><b>LON : </b>20.0 cm<br><b>VER : </b>-34.0 cm\",\"<b>X-ray detector</b><br><br><b>LAT : </b>-9.0 cm<br><b>LON : </b>-20.0 cm<br><b>VER : </b>-34.0 cm\",\"<b>X-ray detector</b><br><br><b>LAT : </b>28.0 cm<br><b>LON : </b>-20.0 cm<br><b>VER : </b>-20.0 cm\",\"<b>X-ray detector</b><br><br><b>LAT : </b>30.0 cm<br><b>LON : </b>20.0 cm<br><b>VER : </b>-26.0 cm\",\"<b>X-ray detector</b><br><br><b>LAT : </b>-7.0 cm<br><b>LON : </b>20.0 cm<br><b>VER : </b>-39.0 cm\",\"<b>X-ray detector</b><br><br><b>LAT : </b>-7.0 cm<br><b>LON : </b>-20.0 cm<br><b>VER : </b>-39.0 cm\",\"<b>X-ray detector</b><br><br><b>LAT : </b>30.0 cm<br><b>LON : </b>-20.0 cm<br><b>VER : </b>-26.0 cm\"],\"visible\":false,\"x\":[20.035197512014058,20.058731188675484,-19.94120788785602,-19.964741564517446,20.044596474429863,20.06813015109129,-19.931808925440215,-19.95534260210164],\"y\":[-20.149215103630333,-33.633004903541256,-33.70281803817719,-20.219028238266265,-25.534418417811086,-39.01820821772201,-39.08802135235795,-25.60423155244702],\"z\":[28.470335287140905,-9.188486505340613,-9.188486505340613,28.470335287140905,30.39852016532093,-7.260301627160585,-7.260301627160585,30.39852016532093],\"type\":\"mesh3d\"},{\"color\":\"#D3D3D3\",\"hoverinfo\":\"text\",\"i\":[0,0,4,4,0,1,0,3,3,7,1,1],\"j\":[1,2,5,6,1,5,3,7,2,2,2,6],\"k\":[2,3,6,7,4,4,4,4,7,6,6,5],\"opacity\":1.0,\"text\":[\"<b>X-ray detector</b><br><br><b>LAT : </b>12.0 cm<br><b>LON : </b>20.0 cm<br><b>VER : </b>-33.0 cm\",\"<b>X-ray detector</b><br><br><b>LAT : </b>-27.0 cm<br><b>LON : </b>20.0 cm<br><b>VER : </b>-23.0 cm\",\"<b>X-ray detector</b><br><br><b>LAT : </b>-27.0 cm<br><b>LON : </b>-20.0 cm<br><b>VER : </b>-23.0 cm\",\"<b>X-ray detector</b><br><br><b>LAT : </b>12.0 cm<br><b>LON : </b>-20.0 cm<br><b>VER : </b>-33.0 cm\",\"<b>X-ray detector</b><br><br><b>LAT : </b>11.0 cm<br><b>LON : </b>20.0 cm<br><b>VER : </b>-38.0 cm\",\"<b>X-ray detector</b><br><br><b>LAT : </b>-28.0 cm<br><b>LON : </b>20.0 cm<br><b>VER : </b>-28.0 cm\",\"<b>X-ray detector</b><br><br><b>LAT : </b>-28.0 cm<br><b>LON : </b>-20.0 cm<br><b>VER : </b>-28.0 cm\",\"<b>X-ray detector</b><br><br><b>LAT : </b>11.0 cm<br><b>LON : </b>-20.0 cm<br><b>VER : </b>-38.0 cm\"],\"visible\":false,\"x\":[20.05710987264615,20.039394235095912,-19.960544841435592,-19.942829203885353,20.066766375767205,20.04905073821697,-19.950888338314535,-19.9331727007643],\"y\":[-32.70406018940703,-22.553757865828945,-22.623571000464878,-32.77387332404296,-38.23682330839422,-28.086520984816136,-28.15633411945207,-38.30663644303015],\"z\":[12.087877840392098,-26.602832270642978,-26.602832270642978,12.087877840392098,10.63638239736701,-28.054327713668066,-28.054327713668066,10.63638239736701],\"type\":\"mesh3d\"},{\"color\":\"#D3D3D3\",\"hoverinfo\":\"text\",\"i\":[0,0,4,4,0,1,0,3,3,7,1,1],\"j\":[1,2,5,6,1,5,3,7,2,2,2,6],\"k\":[2,3,6,7,4,4,4,4,7,6,6,5],\"opacity\":1.0,\"text\":[\"<b>X-ray detector</b><br><br><b>LAT : </b>20.0 cm<br><b>LON : </b>20.0 cm<br><b>VER : </b>-28.0 cm\",\"<b>X-ray detector</b><br><br><b>LAT : </b>-20.0 cm<br><b>LON : </b>20.0 cm<br><b>VER : </b>-29.0 cm\",\"<b>X-ray detector</b><br><br><b>LAT : </b>-20.0 cm<br><b>LON : </b>-20.0 cm<br><b>VER : </b>-29.0 cm\",\"<b>X-ray detector</b><br><br><b>LAT : </b>20.0 cm<br><b>LON : </b>-20.0 cm<br><b>VER : </b>-29.0 cm\",\"<b>X-ray detector</b><br><br><b>LAT : </b>20.0 cm<br><b>LON : </b>20.0 cm<br><b>VER : </b>-34.0 cm\",\"<b>X-ray detector</b><br><br><b>LAT : </b>-20.0 cm<br><b>LON : </b>20.0 cm<br><b>VER : </b>-34.0 cm\",\"<b>X-ray detector</b><br><br><b>LAT : </b>-20.0 cm<br><b>LON : </b>-20.0 cm<br><b>VER : </b>-34.0 cm\",\"<b>X-ray detector</b><br><br><b>LAT : </b>20.0 cm<br><b>LON : </b>-20.0 cm<br><b>VER : </b>-34.0 cm\"],\"visible\":false,\"x\":[20.049702475764946,20.050068014812858,-19.949871061718646,-19.95023660076656,20.059685617169578,20.06005115621749,-19.939887920314014,-19.940253459361927],\"y\":[-28.45993871414372,-28.669376948407425,-28.739190083043358,-28.529751848779654,-34.17985159386243,-34.38928982812614,-34.459102962762074,-34.24966472849836],\"z\":[20.149474410527134,-19.849977279369934,-19.849977279369934,20.149474410527134,20.179424123642853,-19.820027566254215,-19.820027566254215,20.179424123642853],\"type\":\"mesh3d\"},{\"color\":\"#D3D3D3\",\"hoverinfo\":\"text\",\"i\":[0,0,4,4,0,1,0,3,3,7,1,1],\"j\":[1,2,5,6,1,5,3,7,2,2,2,6],\"k\":[2,3,6,7,4,4,4,4,7,6,6,5],\"opacity\":1.0,\"text\":[\"<b>X-ray detector</b><br><br><b>LAT : </b>20.0 cm<br><b>LON : </b>20.0 cm<br><b>VER : </b>-28.0 cm\",\"<b>X-ray detector</b><br><br><b>LAT : </b>-20.0 cm<br><b>LON : </b>20.0 cm<br><b>VER : </b>-29.0 cm\",\"<b>X-ray detector</b><br><br><b>LAT : </b>-20.0 cm<br><b>LON : </b>-20.0 cm<br><b>VER : </b>-29.0 cm\",\"<b>X-ray detector</b><br><br><b>LAT : </b>20.0 cm<br><b>LON : </b>-20.0 cm<br><b>VER : </b>-29.0 cm\",\"<b>X-ray detector</b><br><br><b>LAT : </b>20.0 cm<br><b>LON : </b>20.0 cm<br><b>VER : </b>-34.0 cm\",\"<b>X-ray detector</b><br><br><b>LAT : </b>-20.0 cm<br><b>LON : </b>20.0 cm<br><b>VER : </b>-34.0 cm\",\"<b>X-ray detector</b><br><br><b>LAT : </b>-20.0 cm<br><b>LON : </b>-20.0 cm<br><b>VER : </b>-34.0 cm\",\"<b>X-ray detector</b><br><br><b>LAT : </b>20.0 cm<br><b>LON : </b>-20.0 cm<br><b>VER : </b>-34.0 cm\"],\"visible\":false,\"x\":[20.049702475764946,20.050068014812858,-19.949871061718646,-19.95023660076656,20.059685617169578,20.06005115621749,-19.939887920314014,-19.940253459361927],\"y\":[-28.45993871414372,-28.669376948407425,-28.739190083043358,-28.529751848779654,-34.17985159386243,-34.38928982812614,-34.459102962762074,-34.24966472849836],\"z\":[20.149474410527134,-19.849977279369934,-19.849977279369934,20.149474410527134,20.179424123642853,-19.820027566254215,-19.820027566254215,20.179424123642853],\"type\":\"mesh3d\"},{\"color\":\"#D3D3D3\",\"hoverinfo\":\"text\",\"i\":[0,0,4,4,0,1,0,3,3,7,1,1],\"j\":[1,2,5,6,1,5,3,7,2,2,2,6],\"k\":[2,3,6,7,4,4,4,4,7,6,6,5],\"opacity\":1.0,\"text\":[\"<b>X-ray detector</b><br><br><b>LAT : </b>20.0 cm<br><b>LON : </b>20.0 cm<br><b>VER : </b>-28.0 cm\",\"<b>X-ray detector</b><br><br><b>LAT : </b>-20.0 cm<br><b>LON : </b>20.0 cm<br><b>VER : </b>-29.0 cm\",\"<b>X-ray detector</b><br><br><b>LAT : </b>-20.0 cm<br><b>LON : </b>-20.0 cm<br><b>VER : </b>-29.0 cm\",\"<b>X-ray detector</b><br><br><b>LAT : </b>20.0 cm<br><b>LON : </b>-20.0 cm<br><b>VER : </b>-29.0 cm\",\"<b>X-ray detector</b><br><br><b>LAT : </b>20.0 cm<br><b>LON : </b>20.0 cm<br><b>VER : </b>-34.0 cm\",\"<b>X-ray detector</b><br><br><b>LAT : </b>-20.0 cm<br><b>LON : </b>20.0 cm<br><b>VER : </b>-34.0 cm\",\"<b>X-ray detector</b><br><br><b>LAT : </b>-20.0 cm<br><b>LON : </b>-20.0 cm<br><b>VER : </b>-34.0 cm\",\"<b>X-ray detector</b><br><br><b>LAT : </b>20.0 cm<br><b>LON : </b>-20.0 cm<br><b>VER : </b>-34.0 cm\"],\"visible\":false,\"x\":[20.049702475764946,20.050068014812858,-19.949871061718646,-19.95023660076656,20.059685617169578,20.06005115621749,-19.939887920314014,-19.940253459361927],\"y\":[-28.45993871414372,-28.669376948407425,-28.739190083043358,-28.529751848779654,-34.17985159386243,-34.38928982812614,-34.459102962762074,-34.24966472849836],\"z\":[20.149474410527134,-19.849977279369934,-19.849977279369934,20.149474410527134,20.179424123642853,-19.820027566254215,-19.820027566254215,20.179424123642853],\"type\":\"mesh3d\"},{\"color\":\"#D3D3D3\",\"hoverinfo\":\"text\",\"i\":[0,0,4,4,0,1,0,3,3,7,1,1],\"j\":[1,2,5,6,1,5,3,7,2,2,2,6],\"k\":[2,3,6,7,4,4,4,4,7,6,6,5],\"opacity\":1.0,\"text\":[\"<b>X-ray detector</b><br><br><b>LAT : </b>20.0 cm<br><b>LON : </b>20.0 cm<br><b>VER : </b>-28.0 cm\",\"<b>X-ray detector</b><br><br><b>LAT : </b>-20.0 cm<br><b>LON : </b>20.0 cm<br><b>VER : </b>-29.0 cm\",\"<b>X-ray detector</b><br><br><b>LAT : </b>-20.0 cm<br><b>LON : </b>-20.0 cm<br><b>VER : </b>-29.0 cm\",\"<b>X-ray detector</b><br><br><b>LAT : </b>20.0 cm<br><b>LON : </b>-20.0 cm<br><b>VER : </b>-29.0 cm\",\"<b>X-ray detector</b><br><br><b>LAT : </b>20.0 cm<br><b>LON : </b>20.0 cm<br><b>VER : </b>-34.0 cm\",\"<b>X-ray detector</b><br><br><b>LAT : </b>-20.0 cm<br><b>LON : </b>20.0 cm<br><b>VER : </b>-34.0 cm\",\"<b>X-ray detector</b><br><br><b>LAT : </b>-20.0 cm<br><b>LON : </b>-20.0 cm<br><b>VER : </b>-34.0 cm\",\"<b>X-ray detector</b><br><br><b>LAT : </b>20.0 cm<br><b>LON : </b>-20.0 cm<br><b>VER : </b>-34.0 cm\"],\"visible\":false,\"x\":[20.049702475764946,20.050068014812858,-19.949871061718646,-19.95023660076656,20.059685617169578,20.06005115621749,-19.939887920314014,-19.940253459361927],\"y\":[-28.45993871414372,-28.669376948407425,-28.739190083043358,-28.529751848779654,-34.17985159386243,-34.38928982812614,-34.459102962762074,-34.24966472849836],\"z\":[20.149474410527134,-19.849977279369934,-19.849977279369934,20.149474410527134,20.179424123642853,-19.820027566254215,-19.820027566254215,20.179424123642853],\"type\":\"mesh3d\"},{\"color\":\"#D3D3D3\",\"hoverinfo\":\"text\",\"i\":[0,0,4,4,0,1,0,3,3,7,1,1],\"j\":[1,2,5,6,1,5,3,7,2,2,2,6],\"k\":[2,3,6,7,4,4,4,4,7,6,6,5],\"opacity\":1.0,\"text\":[\"<b>X-ray detector</b><br><br><b>LAT : </b>20.0 cm<br><b>LON : </b>30.0 cm<br><b>VER : </b>20.0 cm\",\"<b>X-ray detector</b><br><br><b>LAT : </b>-20.0 cm<br><b>LON : </b>30.0 cm<br><b>VER : </b>20.0 cm\",\"<b>X-ray detector</b><br><br><b>LAT : </b>-20.0 cm<br><b>LON : </b>30.0 cm<br><b>VER : </b>-20.0 cm\",\"<b>X-ray detector</b><br><br><b>LAT : </b>20.0 cm<br><b>LON : </b>30.0 cm<br><b>VER : </b>-20.0 cm\",\"<b>X-ray detector</b><br><br><b>LAT : </b>20.0 cm<br><b>LON : </b>36.0 cm<br><b>VER : </b>20.0 cm\",\"<b>X-ray detector</b><br><br><b>LAT : </b>-20.0 cm<br><b>LON : </b>36.0 cm<br><b>VER : </b>20.0 cm\",\"<b>X-ray detector</b><br><br><b>LAT : </b>-20.0 cm<br><b>LON : </b>36.0 cm<br><b>VER : </b>-20.0 cm\",\"<b>X-ray detector</b><br><br><b>LAT : </b>20.0 cm<br><b>LON : </b>36.0 cm<br><b>VER : </b>-20.0 cm\"],\"visible\":false,\"x\":[29.729733571797567,29.93917180606127,29.869358671425342,29.659920437161638,35.689642796119855,35.89908103038357,35.82926789574764,35.61982966148393],\"y\":[19.948142235436915,19.947776696389003,-20.0521623801425,-20.05179684109459,19.937740220966358,19.937374681918445,-20.06256439461306,-20.062198855565146],\"z\":[20.155757567124837,-19.84369412277223,-19.84369412277223,20.155757567124837,20.1869639115601,-19.81248777833697,-19.81248777833697,20.1869639115601],\"type\":\"mesh3d\"},{\"color\":\"#D3D3D3\",\"hoverinfo\":\"text\",\"i\":[0,0,4,4,0,1,0,3,3,7,1,1],\"j\":[1,2,5,6,1,5,3,7,2,2,2,6],\"k\":[2,3,6,7,4,4,4,4,7,6,6,5],\"opacity\":1.0,\"text\":[\"<b>X-ray detector</b><br><br><b>LAT : </b>20.0 cm<br><b>LON : </b>30.0 cm<br><b>VER : </b>20.0 cm\",\"<b>X-ray detector</b><br><br><b>LAT : </b>-20.0 cm<br><b>LON : </b>30.0 cm<br><b>VER : </b>20.0 cm\",\"<b>X-ray detector</b><br><br><b>LAT : </b>-20.0 cm<br><b>LON : </b>30.0 cm<br><b>VER : </b>-20.0 cm\",\"<b>X-ray detector</b><br><br><b>LAT : </b>20.0 cm<br><b>LON : </b>30.0 cm<br><b>VER : </b>-20.0 cm\",\"<b>X-ray detector</b><br><br><b>LAT : </b>20.0 cm<br><b>LON : </b>36.0 cm<br><b>VER : </b>20.0 cm\",\"<b>X-ray detector</b><br><br><b>LAT : </b>-20.0 cm<br><b>LON : </b>36.0 cm<br><b>VER : </b>20.0 cm\",\"<b>X-ray detector</b><br><br><b>LAT : </b>-20.0 cm<br><b>LON : </b>36.0 cm<br><b>VER : </b>-20.0 cm\",\"<b>X-ray detector</b><br><br><b>LAT : </b>20.0 cm<br><b>LON : </b>36.0 cm<br><b>VER : </b>-20.0 cm\"],\"visible\":false,\"x\":[29.729733571797567,29.93917180606127,29.869358671425342,29.659920437161638,35.689642796119855,35.89908103038357,35.82926789574764,35.61982966148393],\"y\":[19.948142235436915,19.947776696389003,-20.0521623801425,-20.05179684109459,19.937740220966358,19.937374681918445,-20.06256439461306,-20.062198855565146],\"z\":[20.155757567124837,-19.84369412277223,-19.84369412277223,20.155757567124837,20.1869639115601,-19.81248777833697,-19.81248777833697,20.1869639115601],\"type\":\"mesh3d\"},{\"color\":\"#D3D3D3\",\"hoverinfo\":\"text\",\"i\":[0,0,4,4,0,1,0,3,3,7,1,1],\"j\":[1,2,5,6,1,5,3,7,2,2,2,6],\"k\":[2,3,6,7,4,4,4,4,7,6,6,5],\"opacity\":1.0,\"text\":[\"<b>X-ray detector</b><br><br><b>LAT : </b>20.0 cm<br><b>LON : </b>30.0 cm<br><b>VER : </b>20.0 cm\",\"<b>X-ray detector</b><br><br><b>LAT : </b>-20.0 cm<br><b>LON : </b>30.0 cm<br><b>VER : </b>20.0 cm\",\"<b>X-ray detector</b><br><br><b>LAT : </b>-20.0 cm<br><b>LON : </b>30.0 cm<br><b>VER : </b>-20.0 cm\",\"<b>X-ray detector</b><br><br><b>LAT : </b>20.0 cm<br><b>LON : </b>30.0 cm<br><b>VER : </b>-20.0 cm\",\"<b>X-ray detector</b><br><br><b>LAT : </b>20.0 cm<br><b>LON : </b>36.0 cm<br><b>VER : </b>20.0 cm\",\"<b>X-ray detector</b><br><br><b>LAT : </b>-20.0 cm<br><b>LON : </b>36.0 cm<br><b>VER : </b>20.0 cm\",\"<b>X-ray detector</b><br><br><b>LAT : </b>-20.0 cm<br><b>LON : </b>36.0 cm<br><b>VER : </b>-20.0 cm\",\"<b>X-ray detector</b><br><br><b>LAT : </b>20.0 cm<br><b>LON : </b>36.0 cm<br><b>VER : </b>-20.0 cm\"],\"visible\":false,\"x\":[29.729733571797567,29.93917180606127,29.869358671425342,29.659920437161638,35.689642796119855,35.89908103038357,35.82926789574764,35.61982966148393],\"y\":[19.948142235436915,19.947776696389003,-20.0521623801425,-20.05179684109459,19.937740220966358,19.937374681918445,-20.06256439461306,-20.062198855565146],\"z\":[20.155757567124837,-19.84369412277223,-19.84369412277223,20.155757567124837,20.1869639115601,-19.81248777833697,-19.81248777833697,20.1869639115601],\"type\":\"mesh3d\"},{\"color\":\"#D3D3D3\",\"hoverinfo\":\"text\",\"i\":[0,0,4,4,0,1,0,3,3,7,1,1],\"j\":[1,2,5,6,1,5,3,7,2,2,2,6],\"k\":[2,3,6,7,4,4,4,4,7,6,6,5],\"opacity\":1.0,\"text\":[\"<b>X-ray detector</b><br><br><b>LAT : </b>20.0 cm<br><b>LON : </b>30.0 cm<br><b>VER : </b>20.0 cm\",\"<b>X-ray detector</b><br><br><b>LAT : </b>-20.0 cm<br><b>LON : </b>30.0 cm<br><b>VER : </b>20.0 cm\",\"<b>X-ray detector</b><br><br><b>LAT : </b>-20.0 cm<br><b>LON : </b>30.0 cm<br><b>VER : </b>-20.0 cm\",\"<b>X-ray detector</b><br><br><b>LAT : </b>20.0 cm<br><b>LON : </b>30.0 cm<br><b>VER : </b>-20.0 cm\",\"<b>X-ray detector</b><br><br><b>LAT : </b>20.0 cm<br><b>LON : </b>36.0 cm<br><b>VER : </b>20.0 cm\",\"<b>X-ray detector</b><br><br><b>LAT : </b>-20.0 cm<br><b>LON : </b>36.0 cm<br><b>VER : </b>20.0 cm\",\"<b>X-ray detector</b><br><br><b>LAT : </b>-20.0 cm<br><b>LON : </b>36.0 cm<br><b>VER : </b>-20.0 cm\",\"<b>X-ray detector</b><br><br><b>LAT : </b>20.0 cm<br><b>LON : </b>36.0 cm<br><b>VER : </b>-20.0 cm\"],\"visible\":false,\"x\":[29.729733571797567,29.93917180606127,29.869358671425342,29.659920437161638,35.689642796119855,35.89908103038357,35.82926789574764,35.61982966148393],\"y\":[19.948142235436915,19.947776696389003,-20.0521623801425,-20.05179684109459,19.937740220966358,19.937374681918445,-20.06256439461306,-20.062198855565146],\"z\":[20.155757567124837,-19.84369412277223,-19.84369412277223,20.155757567124837,20.1869639115601,-19.81248777833697,-19.81248777833697,20.1869639115601],\"type\":\"mesh3d\"},{\"color\":\"#D3D3D3\",\"hoverinfo\":\"text\",\"i\":[0,0,4,4,0,1,0,3,3,7,1,1],\"j\":[1,2,5,6,1,5,3,7,2,2,2,6],\"k\":[2,3,6,7,4,4,4,4,7,6,6,5],\"opacity\":1.0,\"text\":[\"<b>X-ray detector</b><br><br><b>LAT : </b>20.0 cm<br><b>LON : </b>20.0 cm<br><b>VER : </b>-30.0 cm\",\"<b>X-ray detector</b><br><br><b>LAT : </b>-20.0 cm<br><b>LON : </b>20.0 cm<br><b>VER : </b>-30.0 cm\",\"<b>X-ray detector</b><br><br><b>LAT : </b>-20.0 cm<br><b>LON : </b>-20.0 cm<br><b>VER : </b>-30.0 cm\",\"<b>X-ray detector</b><br><br><b>LAT : </b>20.0 cm<br><b>LON : </b>-20.0 cm<br><b>VER : </b>-30.0 cm\",\"<b>X-ray detector</b><br><br><b>LAT : </b>20.0 cm<br><b>LON : </b>20.0 cm<br><b>VER : </b>-36.0 cm\",\"<b>X-ray detector</b><br><br><b>LAT : </b>-20.0 cm<br><b>LON : </b>20.0 cm<br><b>VER : </b>-36.0 cm\",\"<b>X-ray detector</b><br><br><b>LAT : </b>-20.0 cm<br><b>LON : </b>-20.0 cm<br><b>VER : </b>-36.0 cm\",\"<b>X-ray detector</b><br><br><b>LAT : </b>20.0 cm<br><b>LON : </b>-20.0 cm<br><b>VER : </b>-36.0 cm\"],\"visible\":false,\"x\":[20.10328637864309,20.104504830382588,-19.89525147592903,-19.896469927668527,20.1240898689145,20.125308320653993,-19.874447985657625,-19.87566643739712],\"y\":[-29.55434108745625,-29.903400380789584,-30.04302643739853,-29.693967144065198,-35.51407783994173,-35.86313713327506,-36.00276318988401,-35.65370389655068],\"z\":[20.25928921913497,-19.739187703431885,-19.739187703431885,20.25928921913497,20.311299370705278,-19.687177551861573,-19.687177551861573,20.311299370705278],\"type\":\"mesh3d\"},{\"color\":\"slateblue\",\"hoverinfo\":\"text\",\"i\":[0,2,4,6,0,1,2,3,0,3,1,2],\"j\":[1,3,5,7,1,5,3,7,3,7,2,6],\"k\":[2,0,6,4,4,4,6,6,4,4,5,5],\"opacity\":1.0,\"text\":[\"<b>Support pad</b><br><br><b>LAT : </b>-96.0 cm<br><b>LON : </b>120.0 cm<br><b>VER : </b>14.0 cm\",\"<b>Support pad</b><br><br><b>LAT : </b>-15.0 cm<br><b>LON : </b>-150.0 cm<br><b>VER : </b>14.0 cm\",\"<b>Support pad</b><br><br><b>LAT : </b>28.0 cm<br><b>LON : </b>-137.0 cm<br><b>VER : </b>14.0 cm\",\"<b>Support pad</b><br><br><b>LAT : </b>-53.0 cm<br><b>LON : </b>133.0 cm<br><b>VER : </b>14.0 cm\",\"<b>Support pad</b><br><br><b>LAT : </b>-96.0 cm<br><b>LON : </b>120.0 cm<br><b>VER : </b>10.0 cm\",\"<b>Support pad</b><br><br><b>LAT : </b>-15.0 cm<br><b>LON : </b>-150.0 cm<br><b>VER : </b>10.0 cm\",\"<b>Support pad</b><br><br><b>LAT : </b>28.0 cm<br><b>LON : </b>-137.0 cm<br><b>VER : </b>10.0 cm\",\"<b>Support pad</b><br><br><b>LAT : </b>-53.0 cm<br><b>LON : </b>133.0 cm<br><b>VER : </b>10.0 cm\"],\"visible\":true,\"x\":[119.8473600765709,-150.25858346980792,-137.3273600765709,132.7785834698079,119.8473600765709,-150.25858346980792,-137.3273600765709,132.7785834698079],\"y\":[13.66,13.66,13.66,13.66,9.66,9.66,9.66,9.66],\"z\":[-96.36883943282898,-15.333172835210192,27.768839432828983,-53.2668271647898,-96.36883943282898,-15.333172835210192,27.768839432828983,-53.2668271647898],\"type\":\"mesh3d\"},{\"color\":\"slateblue\",\"hoverinfo\":\"text\",\"i\":[0,2,4,6,0,1,2,3,0,3,1,2],\"j\":[1,3,5,7,1,5,3,7,3,7,2,6],\"k\":[2,0,6,4,4,4,6,6,4,4,5,5],\"opacity\":1.0,\"text\":[\"<b>Support pad</b><br><br><b>LAT : </b>-96.0 cm<br><b>LON : </b>127.0 cm<br><b>VER : </b>15.0 cm\",\"<b>Support pad</b><br><br><b>LAT : </b>-15.0 cm<br><b>LON : </b>-143.0 cm<br><b>VER : </b>15.0 cm\",\"<b>Support pad</b><br><br><b>LAT : </b>28.0 cm<br><b>LON : </b>-130.0 cm<br><b>VER : </b>15.0 cm\",\"<b>Support pad</b><br><br><b>LAT : </b>-53.0 cm<br><b>LON : </b>140.0 cm<br><b>VER : </b>15.0 cm\",\"<b>Support pad</b><br><br><b>LAT : </b>-96.0 cm<br><b>LON : </b>127.0 cm<br><b>VER : </b>11.0 cm\",\"<b>Support pad</b><br><br><b>LAT : </b>-15.0 cm<br><b>LON : </b>-143.0 cm<br><b>VER : </b>11.0 cm\",\"<b>Support pad</b><br><br><b>LAT : </b>28.0 cm<br><b>LON : </b>-130.0 cm<br><b>VER : </b>11.0 cm\",\"<b>Support pad</b><br><br><b>LAT : </b>-53.0 cm<br><b>LON : </b>140.0 cm<br><b>VER : </b>11.0 cm\"],\"visible\":false,\"x\":[126.90314584046183,-143.13197790649585,-130.16314584046182,139.87197790649586,126.90314584046183,-143.13197790649585,-130.16314584046182,139.87197790649586],\"y\":[15.41,15.41,15.41,15.41,11.41,11.41,11.41,11.41],\"z\":[-96.43102942501491,-15.159681811201736,27.931029425014913,-53.34031818879828,-96.43102942501491,-15.159681811201736,27.931029425014913,-53.34031818879828],\"type\":\"mesh3d\"},{\"color\":\"slateblue\",\"hoverinfo\":\"text\",\"i\":[0,2,4,6,0,1,2,3,0,3,1,2],\"j\":[1,3,5,7,1,5,3,7,3,7,2,6],\"k\":[2,0,6,4,4,4,6,6,4,4,5,5],\"opacity\":1.0,\"text\":[\"<b>Support pad</b><br><br><b>LAT : </b>-96.0 cm<br><b>LON : </b>127.0 cm<br><b>VER : </b>15.0 cm\",\"<b>Support pad</b><br><br><b>LAT : </b>-15.0 cm<br><b>LON : </b>-143.0 cm<br><b>VER : </b>15.0 cm\",\"<b>Support pad</b><br><br><b>LAT : </b>28.0 cm<br><b>LON : </b>-130.0 cm<br><b>VER : </b>15.0 cm\",\"<b>Support pad</b><br><br><b>LAT : </b>-53.0 cm<br><b>LON : </b>140.0 cm<br><b>VER : </b>15.0 cm\",\"<b>Support pad</b><br><br><b>LAT : </b>-96.0 cm<br><b>LON : </b>127.0 cm<br><b>VER : </b>11.0 cm\",\"<b>Support pad</b><br><br><b>LAT : </b>-15.0 cm<br><b>LON : </b>-143.0 cm<br><b>VER : </b>11.0 cm\",\"<b>Support pad</b><br><br><b>LAT : </b>28.0 cm<br><b>LON : </b>-130.0 cm<br><b>VER : </b>11.0 cm\",\"<b>Support pad</b><br><br><b>LAT : </b>-53.0 cm<br><b>LON : </b>140.0 cm<br><b>VER : </b>11.0 cm\"],\"visible\":false,\"x\":[126.90314584046183,-143.13197790649585,-130.16314584046182,139.87197790649586,126.90314584046183,-143.13197790649585,-130.16314584046182,139.87197790649586],\"y\":[15.41,15.41,15.41,15.41,11.41,11.41,11.41,11.41],\"z\":[-96.43102942501491,-15.159681811201736,27.931029425014913,-53.34031818879828,-96.43102942501491,-15.159681811201736,27.931029425014913,-53.34031818879828],\"type\":\"mesh3d\"},{\"color\":\"slateblue\",\"hoverinfo\":\"text\",\"i\":[0,2,4,6,0,1,2,3,0,3,1,2],\"j\":[1,3,5,7,1,5,3,7,3,7,2,6],\"k\":[2,0,6,4,4,4,6,6,4,4,5,5],\"opacity\":1.0,\"text\":[\"<b>Support pad</b><br><br><b>LAT : </b>-96.0 cm<br><b>LON : </b>127.0 cm<br><b>VER : </b>15.0 cm\",\"<b>Support pad</b><br><br><b>LAT : </b>-15.0 cm<br><b>LON : </b>-143.0 cm<br><b>VER : </b>15.0 cm\",\"<b>Support pad</b><br><br><b>LAT : </b>28.0 cm<br><b>LON : </b>-130.0 cm<br><b>VER : </b>15.0 cm\",\"<b>Support pad</b><br><br><b>LAT : </b>-53.0 cm<br><b>LON : </b>140.0 cm<br><b>VER : </b>15.0 cm\",\"<b>Support pad</b><br><br><b>LAT : </b>-96.0 cm<br><b>LON : </b>127.0 cm<br><b>VER : </b>11.0 cm\",\"<b>Support pad</b><br><br><b>LAT : </b>-15.0 cm<br><b>LON : </b>-143.0 cm<br><b>VER : </b>11.0 cm\",\"<b>Support pad</b><br><br><b>LAT : </b>28.0 cm<br><b>LON : </b>-130.0 cm<br><b>VER : </b>11.0 cm\",\"<b>Support pad</b><br><br><b>LAT : </b>-53.0 cm<br><b>LON : </b>140.0 cm<br><b>VER : </b>11.0 cm\"],\"visible\":false,\"x\":[126.90314584046183,-143.13197790649585,-130.16314584046182,139.87197790649586,126.90314584046183,-143.13197790649585,-130.16314584046182,139.87197790649586],\"y\":[15.41,15.41,15.41,15.41,11.41,11.41,11.41,11.41],\"z\":[-96.43102942501491,-15.159681811201736,27.931029425014913,-53.34031818879828,-96.43102942501491,-15.159681811201736,27.931029425014913,-53.34031818879828],\"type\":\"mesh3d\"},{\"color\":\"slateblue\",\"hoverinfo\":\"text\",\"i\":[0,2,4,6,0,1,2,3,0,3,1,2],\"j\":[1,3,5,7,1,5,3,7,3,7,2,6],\"k\":[2,0,6,4,4,4,6,6,4,4,5,5],\"opacity\":1.0,\"text\":[\"<b>Support pad</b><br><br><b>LAT : </b>-96.0 cm<br><b>LON : </b>127.0 cm<br><b>VER : </b>15.0 cm\",\"<b>Support pad</b><br><br><b>LAT : </b>-15.0 cm<br><b>LON : </b>-143.0 cm<br><b>VER : </b>15.0 cm\",\"<b>Support pad</b><br><br><b>LAT : </b>28.0 cm<br><b>LON : </b>-130.0 cm<br><b>VER : </b>15.0 cm\",\"<b>Support pad</b><br><br><b>LAT : </b>-53.0 cm<br><b>LON : </b>140.0 cm<br><b>VER : </b>15.0 cm\",\"<b>Support pad</b><br><br><b>LAT : </b>-96.0 cm<br><b>LON : </b>127.0 cm<br><b>VER : </b>11.0 cm\",\"<b>Support pad</b><br><br><b>LAT : </b>-15.0 cm<br><b>LON : </b>-143.0 cm<br><b>VER : </b>11.0 cm\",\"<b>Support pad</b><br><br><b>LAT : </b>28.0 cm<br><b>LON : </b>-130.0 cm<br><b>VER : </b>11.0 cm\",\"<b>Support pad</b><br><br><b>LAT : </b>-53.0 cm<br><b>LON : </b>140.0 cm<br><b>VER : </b>11.0 cm\"],\"visible\":false,\"x\":[126.90314584046183,-143.13197790649585,-130.16314584046182,139.87197790649586,126.90314584046183,-143.13197790649585,-130.16314584046182,139.87197790649586],\"y\":[15.41,15.41,15.41,15.41,11.41,11.41,11.41,11.41],\"z\":[-96.43102942501491,-15.159681811201736,27.931029425014913,-53.34031818879828,-96.43102942501491,-15.159681811201736,27.931029425014913,-53.34031818879828],\"type\":\"mesh3d\"},{\"color\":\"slateblue\",\"hoverinfo\":\"text\",\"i\":[0,2,4,6,0,1,2,3,0,3,1,2],\"j\":[1,3,5,7,1,5,3,7,3,7,2,6],\"k\":[2,0,6,4,4,4,6,6,4,4,5,5],\"opacity\":1.0,\"text\":[\"<b>Support pad</b><br><br><b>LAT : </b>-96.0 cm<br><b>LON : </b>127.0 cm<br><b>VER : </b>15.0 cm\",\"<b>Support pad</b><br><br><b>LAT : </b>-15.0 cm<br><b>LON : </b>-143.0 cm<br><b>VER : </b>15.0 cm\",\"<b>Support pad</b><br><br><b>LAT : </b>28.0 cm<br><b>LON : </b>-130.0 cm<br><b>VER : </b>15.0 cm\",\"<b>Support pad</b><br><br><b>LAT : </b>-53.0 cm<br><b>LON : </b>140.0 cm<br><b>VER : </b>15.0 cm\",\"<b>Support pad</b><br><br><b>LAT : </b>-96.0 cm<br><b>LON : </b>127.0 cm<br><b>VER : </b>11.0 cm\",\"<b>Support pad</b><br><br><b>LAT : </b>-15.0 cm<br><b>LON : </b>-143.0 cm<br><b>VER : </b>11.0 cm\",\"<b>Support pad</b><br><br><b>LAT : </b>28.0 cm<br><b>LON : </b>-130.0 cm<br><b>VER : </b>11.0 cm\",\"<b>Support pad</b><br><br><b>LAT : </b>-53.0 cm<br><b>LON : </b>140.0 cm<br><b>VER : </b>11.0 cm\"],\"visible\":false,\"x\":[126.90314584046183,-143.13197790649585,-130.16314584046182,139.87197790649586,126.90314584046183,-143.13197790649585,-130.16314584046182,139.87197790649586],\"y\":[15.41,15.41,15.41,15.41,11.41,11.41,11.41,11.41],\"z\":[-96.43102942501491,-15.159681811201736,27.931029425014913,-53.34031818879828,-96.43102942501491,-15.159681811201736,27.931029425014913,-53.34031818879828],\"type\":\"mesh3d\"},{\"color\":\"slateblue\",\"hoverinfo\":\"text\",\"i\":[0,2,4,6,0,1,2,3,0,3,1,2],\"j\":[1,3,5,7,1,5,3,7,3,7,2,6],\"k\":[2,0,6,4,4,4,6,6,4,4,5,5],\"opacity\":1.0,\"text\":[\"<b>Support pad</b><br><br><b>LAT : </b>-92.0 cm<br><b>LON : </b>130.0 cm<br><b>VER : </b>24.0 cm\",\"<b>Support pad</b><br><br><b>LAT : </b>-28.0 cm<br><b>LON : </b>-144.0 cm<br><b>VER : </b>24.0 cm\",\"<b>Support pad</b><br><br><b>LAT : </b>16.0 cm<br><b>LON : </b>-134.0 cm<br><b>VER : </b>24.0 cm\",\"<b>Support pad</b><br><br><b>LAT : </b>-48.0 cm<br><b>LON : </b>141.0 cm<br><b>VER : </b>24.0 cm\",\"<b>Support pad</b><br><br><b>LAT : </b>-92.0 cm<br><b>LON : </b>130.0 cm<br><b>VER : </b>20.0 cm\",\"<b>Support pad</b><br><br><b>LAT : </b>-28.0 cm<br><b>LON : </b>-144.0 cm<br><b>VER : </b>20.0 cm\",\"<b>Support pad</b><br><br><b>LAT : </b>16.0 cm<br><b>LON : </b>-134.0 cm<br><b>VER : </b>20.0 cm\",\"<b>Support pad</b><br><br><b>LAT : </b>-48.0 cm<br><b>LON : </b>141.0 cm<br><b>VER : </b>20.0 cm\"],\"visible\":false,\"x\":[130.48617146952344,-144.07431399721017,-133.80617146952343,140.75431399721018,130.48617146952344,-144.07431399721017,-133.80617146952343,140.75431399721018],\"y\":[24.259999999999998,24.259999999999998,24.259999999999998,24.259999999999998,20.259999999999998,20.259999999999998,20.259999999999998,20.259999999999998],\"z\":[-91.88993496618973,-27.54290845935286,16.269934966189737,-48.07709154064712,-91.88993496618973,-27.54290845935286,16.269934966189737,-48.07709154064712],\"type\":\"mesh3d\"},{\"color\":\"slateblue\",\"hoverinfo\":\"text\",\"i\":[0,2,4,6,0,1,2,3,0,3,1,2],\"j\":[1,3,5,7,1,5,3,7,3,7,2,6],\"k\":[2,0,6,4,4,4,6,6,4,4,5,5],\"opacity\":1.0,\"text\":[\"<b>Support pad</b><br><br><b>LAT : </b>-92.0 cm<br><b>LON : </b>130.0 cm<br><b>VER : </b>24.0 cm\",\"<b>Support pad</b><br><br><b>LAT : </b>-28.0 cm<br><b>LON : </b>-144.0 cm<br><b>VER : </b>24.0 cm\",\"<b>Support pad</b><br><br><b>LAT : </b>16.0 cm<br><b>LON : </b>-134.0 cm<br><b>VER : </b>24.0 cm\",\"<b>Support pad</b><br><br><b>LAT : </b>-48.0 cm<br><b>LON : </b>141.0 cm<br><b>VER : </b>24.0 cm\",\"<b>Support pad</b><br><br><b>LAT : </b>-92.0 cm<br><b>LON : </b>130.0 cm<br><b>VER : </b>20.0 cm\",\"<b>Support pad</b><br><br><b>LAT : </b>-28.0 cm<br><b>LON : </b>-144.0 cm<br><b>VER : </b>20.0 cm\",\"<b>Support pad</b><br><br><b>LAT : </b>16.0 cm<br><b>LON : </b>-134.0 cm<br><b>VER : </b>20.0 cm\",\"<b>Support pad</b><br><br><b>LAT : </b>-48.0 cm<br><b>LON : </b>141.0 cm<br><b>VER : </b>20.0 cm\"],\"visible\":false,\"x\":[130.48617146952344,-144.07431399721017,-133.80617146952343,140.75431399721018,130.48617146952344,-144.07431399721017,-133.80617146952343,140.75431399721018],\"y\":[24.259999999999998,24.259999999999998,24.259999999999998,24.259999999999998,20.259999999999998,20.259999999999998,20.259999999999998,20.259999999999998],\"z\":[-91.88993496618973,-27.54290845935286,16.269934966189737,-48.07709154064712,-91.88993496618973,-27.54290845935286,16.269934966189737,-48.07709154064712],\"type\":\"mesh3d\"},{\"color\":\"slateblue\",\"hoverinfo\":\"text\",\"i\":[0,2,4,6,0,1,2,3,0,3,1,2],\"j\":[1,3,5,7,1,5,3,7,3,7,2,6],\"k\":[2,0,6,4,4,4,6,6,4,4,5,5],\"opacity\":1.0,\"text\":[\"<b>Support pad</b><br><br><b>LAT : </b>-92.0 cm<br><b>LON : </b>130.0 cm<br><b>VER : </b>24.0 cm\",\"<b>Support pad</b><br><br><b>LAT : </b>-28.0 cm<br><b>LON : </b>-144.0 cm<br><b>VER : </b>24.0 cm\",\"<b>Support pad</b><br><br><b>LAT : </b>16.0 cm<br><b>LON : </b>-134.0 cm<br><b>VER : </b>24.0 cm\",\"<b>Support pad</b><br><br><b>LAT : </b>-48.0 cm<br><b>LON : </b>141.0 cm<br><b>VER : </b>24.0 cm\",\"<b>Support pad</b><br><br><b>LAT : </b>-92.0 cm<br><b>LON : </b>130.0 cm<br><b>VER : </b>20.0 cm\",\"<b>Support pad</b><br><br><b>LAT : </b>-28.0 cm<br><b>LON : </b>-144.0 cm<br><b>VER : </b>20.0 cm\",\"<b>Support pad</b><br><br><b>LAT : </b>16.0 cm<br><b>LON : </b>-134.0 cm<br><b>VER : </b>20.0 cm\",\"<b>Support pad</b><br><br><b>LAT : </b>-48.0 cm<br><b>LON : </b>141.0 cm<br><b>VER : </b>20.0 cm\"],\"visible\":false,\"x\":[130.48617146952344,-144.07431399721017,-133.80617146952343,140.75431399721018,130.48617146952344,-144.07431399721017,-133.80617146952343,140.75431399721018],\"y\":[24.259999999999998,24.259999999999998,24.259999999999998,24.259999999999998,20.259999999999998,20.259999999999998,20.259999999999998,20.259999999999998],\"z\":[-91.88993496618973,-27.54290845935286,16.269934966189737,-48.07709154064712,-91.88993496618973,-27.54290845935286,16.269934966189737,-48.07709154064712],\"type\":\"mesh3d\"},{\"color\":\"slateblue\",\"hoverinfo\":\"text\",\"i\":[0,2,4,6,0,1,2,3,0,3,1,2],\"j\":[1,3,5,7,1,5,3,7,3,7,2,6],\"k\":[2,0,6,4,4,4,6,6,4,4,5,5],\"opacity\":1.0,\"text\":[\"<b>Support pad</b><br><br><b>LAT : </b>-92.0 cm<br><b>LON : </b>130.0 cm<br><b>VER : </b>24.0 cm\",\"<b>Support pad</b><br><br><b>LAT : </b>-28.0 cm<br><b>LON : </b>-144.0 cm<br><b>VER : </b>24.0 cm\",\"<b>Support pad</b><br><br><b>LAT : </b>16.0 cm<br><b>LON : </b>-134.0 cm<br><b>VER : </b>24.0 cm\",\"<b>Support pad</b><br><br><b>LAT : </b>-48.0 cm<br><b>LON : </b>141.0 cm<br><b>VER : </b>24.0 cm\",\"<b>Support pad</b><br><br><b>LAT : </b>-92.0 cm<br><b>LON : </b>130.0 cm<br><b>VER : </b>20.0 cm\",\"<b>Support pad</b><br><br><b>LAT : </b>-28.0 cm<br><b>LON : </b>-144.0 cm<br><b>VER : </b>20.0 cm\",\"<b>Support pad</b><br><br><b>LAT : </b>16.0 cm<br><b>LON : </b>-134.0 cm<br><b>VER : </b>20.0 cm\",\"<b>Support pad</b><br><br><b>LAT : </b>-48.0 cm<br><b>LON : </b>141.0 cm<br><b>VER : </b>20.0 cm\"],\"visible\":false,\"x\":[130.48617146952344,-144.07431399721017,-133.80617146952343,140.75431399721018,130.48617146952344,-144.07431399721017,-133.80617146952343,140.75431399721018],\"y\":[24.259999999999998,24.259999999999998,24.259999999999998,24.259999999999998,20.259999999999998,20.259999999999998,20.259999999999998,20.259999999999998],\"z\":[-91.88993496618973,-27.54290845935286,16.269934966189737,-48.07709154064712,-91.88993496618973,-27.54290845935286,16.269934966189737,-48.07709154064712],\"type\":\"mesh3d\"},{\"color\":\"slateblue\",\"hoverinfo\":\"text\",\"i\":[0,2,4,6,0,1,2,3,0,3,1,2],\"j\":[1,3,5,7,1,5,3,7,3,7,2,6],\"k\":[2,0,6,4,4,4,6,6,4,4,5,5],\"opacity\":1.0,\"text\":[\"<b>Support pad</b><br><br><b>LAT : </b>-92.0 cm<br><b>LON : </b>130.0 cm<br><b>VER : </b>24.0 cm\",\"<b>Support pad</b><br><br><b>LAT : </b>-28.0 cm<br><b>LON : </b>-144.0 cm<br><b>VER : </b>24.0 cm\",\"<b>Support pad</b><br><br><b>LAT : </b>16.0 cm<br><b>LON : </b>-134.0 cm<br><b>VER : </b>24.0 cm\",\"<b>Support pad</b><br><br><b>LAT : </b>-48.0 cm<br><b>LON : </b>141.0 cm<br><b>VER : </b>24.0 cm\",\"<b>Support pad</b><br><br><b>LAT : </b>-92.0 cm<br><b>LON : </b>130.0 cm<br><b>VER : </b>20.0 cm\",\"<b>Support pad</b><br><br><b>LAT : </b>-28.0 cm<br><b>LON : </b>-144.0 cm<br><b>VER : </b>20.0 cm\",\"<b>Support pad</b><br><br><b>LAT : </b>16.0 cm<br><b>LON : </b>-134.0 cm<br><b>VER : </b>20.0 cm\",\"<b>Support pad</b><br><br><b>LAT : </b>-48.0 cm<br><b>LON : </b>141.0 cm<br><b>VER : </b>20.0 cm\"],\"visible\":false,\"x\":[130.48617146952344,-144.07431399721017,-133.80617146952343,140.75431399721018,130.48617146952344,-144.07431399721017,-133.80617146952343,140.75431399721018],\"y\":[24.259999999999998,24.259999999999998,24.259999999999998,24.259999999999998,20.259999999999998,20.259999999999998,20.259999999999998,20.259999999999998],\"z\":[-91.88993496618973,-27.54290845935286,16.269934966189737,-48.07709154064712,-91.88993496618973,-27.54290845935286,16.269934966189737,-48.07709154064712],\"type\":\"mesh3d\"},{\"color\":\"slateblue\",\"hoverinfo\":\"text\",\"i\":[0,2,4,6,0,1,2,3,0,3,1,2],\"j\":[1,3,5,7,1,5,3,7,3,7,2,6],\"k\":[2,0,6,4,4,4,6,6,4,4,5,5],\"opacity\":1.0,\"text\":[\"<b>Support pad</b><br><br><b>LAT : </b>-92.0 cm<br><b>LON : </b>130.0 cm<br><b>VER : </b>24.0 cm\",\"<b>Support pad</b><br><br><b>LAT : </b>-28.0 cm<br><b>LON : </b>-144.0 cm<br><b>VER : </b>24.0 cm\",\"<b>Support pad</b><br><br><b>LAT : </b>16.0 cm<br><b>LON : </b>-134.0 cm<br><b>VER : </b>24.0 cm\",\"<b>Support pad</b><br><br><b>LAT : </b>-48.0 cm<br><b>LON : </b>141.0 cm<br><b>VER : </b>24.0 cm\",\"<b>Support pad</b><br><br><b>LAT : </b>-92.0 cm<br><b>LON : </b>130.0 cm<br><b>VER : </b>20.0 cm\",\"<b>Support pad</b><br><br><b>LAT : </b>-28.0 cm<br><b>LON : </b>-144.0 cm<br><b>VER : </b>20.0 cm\",\"<b>Support pad</b><br><br><b>LAT : </b>16.0 cm<br><b>LON : </b>-134.0 cm<br><b>VER : </b>20.0 cm\",\"<b>Support pad</b><br><br><b>LAT : </b>-48.0 cm<br><b>LON : </b>141.0 cm<br><b>VER : </b>20.0 cm\"],\"visible\":false,\"x\":[130.48617146952344,-144.07431399721017,-133.80617146952343,140.75431399721018,130.48617146952344,-144.07431399721017,-133.80617146952343,140.75431399721018],\"y\":[24.259999999999998,24.259999999999998,24.259999999999998,24.259999999999998,20.259999999999998,20.259999999999998,20.259999999999998,20.259999999999998],\"z\":[-91.88993496618973,-27.54290845935286,16.269934966189737,-48.07709154064712,-91.88993496618973,-27.54290845935286,16.269934966189737,-48.07709154064712],\"type\":\"mesh3d\"},{\"color\":\"slateblue\",\"hoverinfo\":\"text\",\"i\":[0,2,4,6,0,1,2,3,0,3,1,2],\"j\":[1,3,5,7,1,5,3,7,3,7,2,6],\"k\":[2,0,6,4,4,4,6,6,4,4,5,5],\"opacity\":1.0,\"text\":[\"<b>Support pad</b><br><br><b>LAT : </b>-86.0 cm<br><b>LON : </b>134.0 cm<br><b>VER : </b>24.0 cm\",\"<b>Support pad</b><br><br><b>LAT : </b>-43.0 cm<br><b>LON : </b>-144.0 cm<br><b>VER : </b>24.0 cm\",\"<b>Support pad</b><br><br><b>LAT : </b>1.0 cm<br><b>LON : </b>-138.0 cm<br><b>VER : </b>24.0 cm\",\"<b>Support pad</b><br><br><b>LAT : </b>-41.0 cm<br><b>LON : </b>141.0 cm<br><b>VER : </b>24.0 cm\",\"<b>Support pad</b><br><br><b>LAT : </b>-86.0 cm<br><b>LON : </b>134.0 cm<br><b>VER : </b>20.0 cm\",\"<b>Support pad</b><br><br><b>LAT : </b>-43.0 cm<br><b>LON : </b>-144.0 cm<br><b>VER : </b>20.0 cm\",\"<b>Support pad</b><br><br><b>LAT : </b>1.0 cm<br><b>LON : </b>-138.0 cm<br><b>VER : </b>20.0 cm\",\"<b>Support pad</b><br><br><b>LAT : </b>-41.0 cm<br><b>LON : </b>141.0 cm<br><b>VER : </b>20.0 cm\"],\"visible\":false,\"x\":[134.2966633080048,-144.45116372825,-137.63666330800478,141.11116372825003,134.2966633080048,-144.45116372825,-137.63666330800478,141.11116372825003],\"y\":[24.259999999999998,24.259999999999998,24.259999999999998,24.259999999999998,20.259999999999998,20.259999999999998,20.259999999999998,20.259999999999998],\"z\":[-85.88261943136311,-43.17841679782646,1.3026194313631265,-41.401583202173526,-85.88261943136311,-43.17841679782646,1.3026194313631265,-41.401583202173526],\"type\":\"mesh3d\"},{\"color\":\"slateblue\",\"hoverinfo\":\"text\",\"i\":[0,2,4,6,0,1,2,3,0,3,1,2],\"j\":[1,3,5,7,1,5,3,7,3,7,2,6],\"k\":[2,0,6,4,4,4,6,6,4,4,5,5],\"opacity\":1.0,\"text\":[\"<b>Support pad</b><br><br><b>LAT : </b>-87.0 cm<br><b>LON : </b>135.0 cm<br><b>VER : </b>24.0 cm\",\"<b>Support pad</b><br><br><b>LAT : </b>-40.0 cm<br><b>LON : </b>-143.0 cm<br><b>VER : </b>24.0 cm\",\"<b>Support pad</b><br><br><b>LAT : </b>5.0 cm<br><b>LON : </b>-136.0 cm<br><b>VER : </b>24.0 cm\",\"<b>Support pad</b><br><br><b>LAT : </b>-43.0 cm<br><b>LON : </b>142.0 cm<br><b>VER : </b>24.0 cm\",\"<b>Support pad</b><br><br><b>LAT : </b>-87.0 cm<br><b>LON : </b>135.0 cm<br><b>VER : </b>20.0 cm\",\"<b>Support pad</b><br><br><b>LAT : </b>-40.0 cm<br><b>LON : </b>-143.0 cm<br><b>VER : </b>20.0 cm\",\"<b>Support pad</b><br><br><b>LAT : </b>5.0 cm<br><b>LON : </b>-136.0 cm<br><b>VER : </b>20.0 cm\",\"<b>Support pad</b><br><br><b>LAT : </b>-43.0 cm<br><b>LON : </b>142.0 cm<br><b>VER : </b>20.0 cm\"],\"visible\":false,\"x\":[134.88920431978073,-143.09574254471153,-135.52920431978072,142.45574254471154,134.88920431978073,-143.09574254471153,-135.52920431978072,142.45574254471154],\"y\":[24.259999999999998,24.259999999999998,24.259999999999998,24.259999999999998,20.259999999999998,20.259999999999998,20.259999999999998,20.259999999999998],\"z\":[-87.20813645390051,-39.79116357766743,4.568136453900493,-42.84883642233258,-87.20813645390051,-39.79116357766743,4.568136453900493,-42.84883642233258],\"type\":\"mesh3d\"},{\"color\":\"slateblue\",\"hoverinfo\":\"text\",\"i\":[0,2,4,6,0,1,2,3,0,3,1,2],\"j\":[1,3,5,7,1,5,3,7,3,7,2,6],\"k\":[2,0,6,4,4,4,6,6,4,4,5,5],\"opacity\":1.0,\"text\":[\"<b>Support pad</b><br><br><b>LAT : </b>-87.0 cm<br><b>LON : </b>135.0 cm<br><b>VER : </b>24.0 cm\",\"<b>Support pad</b><br><br><b>LAT : </b>-40.0 cm<br><b>LON : </b>-143.0 cm<br><b>VER : </b>24.0 cm\",\"<b>Support pad</b><br><br><b>LAT : </b>5.0 cm<br><b>LON : </b>-136.0 cm<br><b>VER : </b>24.0 cm\",\"<b>Support pad</b><br><br><b>LAT : </b>-43.0 cm<br><b>LON : </b>142.0 cm<br><b>VER : </b>24.0 cm\",\"<b>Support pad</b><br><br><b>LAT : </b>-87.0 cm<br><b>LON : </b>135.0 cm<br><b>VER : </b>20.0 cm\",\"<b>Support pad</b><br><br><b>LAT : </b>-40.0 cm<br><b>LON : </b>-143.0 cm<br><b>VER : </b>20.0 cm\",\"<b>Support pad</b><br><br><b>LAT : </b>5.0 cm<br><b>LON : </b>-136.0 cm<br><b>VER : </b>20.0 cm\",\"<b>Support pad</b><br><br><b>LAT : </b>-43.0 cm<br><b>LON : </b>142.0 cm<br><b>VER : </b>20.0 cm\"],\"visible\":false,\"x\":[134.88920431978073,-143.09574254471153,-135.52920431978072,142.45574254471154,134.88920431978073,-143.09574254471153,-135.52920431978072,142.45574254471154],\"y\":[24.259999999999998,24.259999999999998,24.259999999999998,24.259999999999998,20.259999999999998,20.259999999999998,20.259999999999998,20.259999999999998],\"z\":[-87.20813645390051,-39.79116357766743,4.568136453900493,-42.84883642233258,-87.20813645390051,-39.79116357766743,4.568136453900493,-42.84883642233258],\"type\":\"mesh3d\"},{\"color\":\"slateblue\",\"hoverinfo\":\"text\",\"i\":[0,2,4,6,0,1,2,3,0,3,1,2],\"j\":[1,3,5,7,1,5,3,7,3,7,2,6],\"k\":[2,0,6,4,4,4,6,6,4,4,5,5],\"opacity\":1.0,\"text\":[\"<b>Support pad</b><br><br><b>LAT : </b>-97.0 cm<br><b>LON : </b>128.0 cm<br><b>VER : </b>24.0 cm\",\"<b>Support pad</b><br><br><b>LAT : </b>-15.0 cm<br><b>LON : </b>-142.0 cm<br><b>VER : </b>24.0 cm\",\"<b>Support pad</b><br><br><b>LAT : </b>28.0 cm<br><b>LON : </b>-129.0 cm<br><b>VER : </b>24.0 cm\",\"<b>Support pad</b><br><br><b>LAT : </b>-54.0 cm<br><b>LON : </b>141.0 cm<br><b>VER : </b>24.0 cm\",\"<b>Support pad</b><br><br><b>LAT : </b>-97.0 cm<br><b>LON : </b>128.0 cm<br><b>VER : </b>20.0 cm\",\"<b>Support pad</b><br><br><b>LAT : </b>-15.0 cm<br><b>LON : </b>-142.0 cm<br><b>VER : </b>20.0 cm\",\"<b>Support pad</b><br><br><b>LAT : </b>28.0 cm<br><b>LON : </b>-129.0 cm<br><b>VER : </b>20.0 cm\",\"<b>Support pad</b><br><br><b>LAT : </b>-54.0 cm<br><b>LON : </b>141.0 cm<br><b>VER : </b>20.0 cm\"],\"visible\":false,\"x\":[127.99900271117987,-141.8081160201353,-128.71900271117988,141.08811602013526,127.99900271117987,-141.8081160201353,-128.71900271117988,141.08811602013526],\"y\":[24.259999999999998,24.259999999999998,24.259999999999998,24.259999999999998,20.259999999999998,20.259999999999998,20.259999999999998,20.259999999999998],\"z\":[-96.62971876328928,-14.604608693835488,28.44971876328927,-53.57539130616453,-96.62971876328928,-14.604608693835488,28.44971876328927,-53.57539130616453],\"type\":\"mesh3d\"},{\"color\":\"slateblue\",\"hoverinfo\":\"text\",\"i\":[0,2,4,6,0,1,2,3,0,3,1,2],\"j\":[1,3,5,7,1,5,3,7,3,7,2,6],\"k\":[2,0,6,4,4,4,6,6,4,4,5,5],\"opacity\":1.0,\"text\":[\"<b>Support pad</b><br><br><b>LAT : </b>-97.0 cm<br><b>LON : </b>128.0 cm<br><b>VER : </b>24.0 cm\",\"<b>Support pad</b><br><br><b>LAT : </b>-15.0 cm<br><b>LON : </b>-142.0 cm<br><b>VER : </b>24.0 cm\",\"<b>Support pad</b><br><br><b>LAT : </b>28.0 cm<br><b>LON : </b>-129.0 cm<br><b>VER : </b>24.0 cm\",\"<b>Support pad</b><br><br><b>LAT : </b>-54.0 cm<br><b>LON : </b>141.0 cm<br><b>VER : </b>24.0 cm\",\"<b>Support pad</b><br><br><b>LAT : </b>-97.0 cm<br><b>LON : </b>128.0 cm<br><b>VER : </b>20.0 cm\",\"<b>Support pad</b><br><br><b>LAT : </b>-15.0 cm<br><b>LON : </b>-142.0 cm<br><b>VER : </b>20.0 cm\",\"<b>Support pad</b><br><br><b>LAT : </b>28.0 cm<br><b>LON : </b>-129.0 cm<br><b>VER : </b>20.0 cm\",\"<b>Support pad</b><br><br><b>LAT : </b>-54.0 cm<br><b>LON : </b>141.0 cm<br><b>VER : </b>20.0 cm\"],\"visible\":false,\"x\":[127.99900271117987,-141.8081160201353,-128.71900271117988,141.08811602013526,127.99900271117987,-141.8081160201353,-128.71900271117988,141.08811602013526],\"y\":[24.259999999999998,24.259999999999998,24.259999999999998,24.259999999999998,20.259999999999998,20.259999999999998,20.259999999999998,20.259999999999998],\"z\":[-96.62971876328928,-14.604608693835488,28.44971876328927,-53.57539130616453,-96.62971876328928,-14.604608693835488,28.44971876328927,-53.57539130616453],\"type\":\"mesh3d\"},{\"color\":\"slateblue\",\"hoverinfo\":\"text\",\"i\":[0,2,4,6,0,1,2,3,0,3,1,2],\"j\":[1,3,5,7,1,5,3,7,3,7,2,6],\"k\":[2,0,6,4,4,4,6,6,4,4,5,5],\"opacity\":1.0,\"text\":[\"<b>Support pad</b><br><br><b>LAT : </b>-97.0 cm<br><b>LON : </b>128.0 cm<br><b>VER : </b>24.0 cm\",\"<b>Support pad</b><br><br><b>LAT : </b>-15.0 cm<br><b>LON : </b>-142.0 cm<br><b>VER : </b>24.0 cm\",\"<b>Support pad</b><br><br><b>LAT : </b>28.0 cm<br><b>LON : </b>-129.0 cm<br><b>VER : </b>24.0 cm\",\"<b>Support pad</b><br><br><b>LAT : </b>-54.0 cm<br><b>LON : </b>141.0 cm<br><b>VER : </b>24.0 cm\",\"<b>Support pad</b><br><br><b>LAT : </b>-97.0 cm<br><b>LON : </b>128.0 cm<br><b>VER : </b>20.0 cm\",\"<b>Support pad</b><br><br><b>LAT : </b>-15.0 cm<br><b>LON : </b>-142.0 cm<br><b>VER : </b>20.0 cm\",\"<b>Support pad</b><br><br><b>LAT : </b>28.0 cm<br><b>LON : </b>-129.0 cm<br><b>VER : </b>20.0 cm\",\"<b>Support pad</b><br><br><b>LAT : </b>-54.0 cm<br><b>LON : </b>141.0 cm<br><b>VER : </b>20.0 cm\"],\"visible\":false,\"x\":[127.99900271117987,-141.8081160201353,-128.71900271117988,141.08811602013526,127.99900271117987,-141.8081160201353,-128.71900271117988,141.08811602013526],\"y\":[24.259999999999998,24.259999999999998,24.259999999999998,24.259999999999998,20.259999999999998,20.259999999999998,20.259999999999998,20.259999999999998],\"z\":[-96.62971876328928,-14.604608693835488,28.44971876328927,-53.57539130616453,-96.62971876328928,-14.604608693835488,28.44971876328927,-53.57539130616453],\"type\":\"mesh3d\"},{\"color\":\"slateblue\",\"hoverinfo\":\"text\",\"i\":[0,2,4,6,0,1,2,3,0,3,1,2],\"j\":[1,3,5,7,1,5,3,7,3,7,2,6],\"k\":[2,0,6,4,4,4,6,6,4,4,5,5],\"opacity\":1.0,\"text\":[\"<b>Support pad</b><br><br><b>LAT : </b>-97.0 cm<br><b>LON : </b>128.0 cm<br><b>VER : </b>24.0 cm\",\"<b>Support pad</b><br><br><b>LAT : </b>-15.0 cm<br><b>LON : </b>-142.0 cm<br><b>VER : </b>24.0 cm\",\"<b>Support pad</b><br><br><b>LAT : </b>28.0 cm<br><b>LON : </b>-129.0 cm<br><b>VER : </b>24.0 cm\",\"<b>Support pad</b><br><br><b>LAT : </b>-54.0 cm<br><b>LON : </b>141.0 cm<br><b>VER : </b>24.0 cm\",\"<b>Support pad</b><br><br><b>LAT : </b>-97.0 cm<br><b>LON : </b>128.0 cm<br><b>VER : </b>20.0 cm\",\"<b>Support pad</b><br><br><b>LAT : </b>-15.0 cm<br><b>LON : </b>-142.0 cm<br><b>VER : </b>20.0 cm\",\"<b>Support pad</b><br><br><b>LAT : </b>28.0 cm<br><b>LON : </b>-129.0 cm<br><b>VER : </b>20.0 cm\",\"<b>Support pad</b><br><br><b>LAT : </b>-54.0 cm<br><b>LON : </b>141.0 cm<br><b>VER : </b>20.0 cm\"],\"visible\":false,\"x\":[127.99900271117987,-141.8081160201353,-128.71900271117988,141.08811602013526,127.99900271117987,-141.8081160201353,-128.71900271117988,141.08811602013526],\"y\":[24.259999999999998,24.259999999999998,24.259999999999998,24.259999999999998,20.259999999999998,20.259999999999998,20.259999999999998,20.259999999999998],\"z\":[-96.62971876328928,-14.604608693835488,28.44971876328927,-53.57539130616453,-96.62971876328928,-14.604608693835488,28.44971876328927,-53.57539130616453],\"type\":\"mesh3d\"},{\"color\":\"slateblue\",\"hoverinfo\":\"text\",\"i\":[0,2,4,6,0,1,2,3,0,3,1,2],\"j\":[1,3,5,7,1,5,3,7,3,7,2,6],\"k\":[2,0,6,4,4,4,6,6,4,4,5,5],\"opacity\":1.0,\"text\":[\"<b>Support pad</b><br><br><b>LAT : </b>-93.0 cm<br><b>LON : </b>122.0 cm<br><b>VER : </b>16.0 cm\",\"<b>Support pad</b><br><br><b>LAT : </b>-25.0 cm<br><b>LON : </b>-151.0 cm<br><b>VER : </b>16.0 cm\",\"<b>Support pad</b><br><br><b>LAT : </b>19.0 cm<br><b>LON : </b>-141.0 cm<br><b>VER : </b>16.0 cm\",\"<b>Support pad</b><br><br><b>LAT : </b>-49.0 cm<br><b>LON : </b>133.0 cm<br><b>VER : </b>16.0 cm\",\"<b>Support pad</b><br><br><b>LAT : </b>-93.0 cm<br><b>LON : </b>122.0 cm<br><b>VER : </b>12.0 cm\",\"<b>Support pad</b><br><br><b>LAT : </b>-25.0 cm<br><b>LON : </b>-151.0 cm<br><b>VER : </b>12.0 cm\",\"<b>Support pad</b><br><br><b>LAT : </b>19.0 cm<br><b>LON : </b>-141.0 cm<br><b>VER : </b>12.0 cm\",\"<b>Support pad</b><br><br><b>LAT : </b>-49.0 cm<br><b>LON : </b>133.0 cm<br><b>VER : </b>12.0 cm\"],\"visible\":false,\"x\":[122.2972238903211,-151.38560162780786,-140.53722389032112,133.14560162780785,122.2972238903211,-151.38560162780786,-140.53722389032112,133.14560162780785],\"y\":[16.48,16.48,16.48,16.48,12.48,12.48,12.48,12.48],\"z\":[-92.87797923050066,-24.894812075583744,18.777979230500677,-49.20518792441625,-92.87797923050066,-24.894812075583744,18.777979230500677,-49.20518792441625],\"type\":\"mesh3d\"},{\"color\":\"slateblue\",\"hoverinfo\":\"text\",\"i\":[0,2,4,6,0,1,2,3,0,3,1,2],\"j\":[1,3,5,7,1,5,3,7,3,7,2,6],\"k\":[2,0,6,4,4,4,6,6,4,4,5,5],\"opacity\":1.0,\"text\":[\"<b>Support pad</b><br><br><b>LAT : </b>-93.0 cm<br><b>LON : </b>122.0 cm<br><b>VER : </b>14.0 cm\",\"<b>Support pad</b><br><br><b>LAT : </b>-25.0 cm<br><b>LON : </b>-151.0 cm<br><b>VER : </b>14.0 cm\",\"<b>Support pad</b><br><br><b>LAT : </b>19.0 cm<br><b>LON : </b>-141.0 cm<br><b>VER : </b>14.0 cm\",\"<b>Support pad</b><br><br><b>LAT : </b>-49.0 cm<br><b>LON : </b>133.0 cm<br><b>VER : </b>14.0 cm\",\"<b>Support pad</b><br><br><b>LAT : </b>-93.0 cm<br><b>LON : </b>122.0 cm<br><b>VER : </b>10.0 cm\",\"<b>Support pad</b><br><br><b>LAT : </b>-25.0 cm<br><b>LON : </b>-151.0 cm<br><b>VER : </b>10.0 cm\",\"<b>Support pad</b><br><br><b>LAT : </b>19.0 cm<br><b>LON : </b>-141.0 cm<br><b>VER : </b>10.0 cm\",\"<b>Support pad</b><br><br><b>LAT : </b>-49.0 cm<br><b>LON : </b>133.0 cm<br><b>VER : </b>10.0 cm\"],\"visible\":false,\"x\":[122.32670352457647,-151.3798359214153,-140.54670352457646,133.15983592141527,122.32670352457647,-151.3798359214153,-140.54670352457646,133.15983592141527],\"y\":[14.38,14.38,14.38,14.38,10.38,10.38,10.38,10.38],\"z\":[-92.85210256518293,-24.96447287832639,18.712102565182917,-49.175527121673625,-92.85210256518293,-24.96447287832639,18.712102565182917,-49.175527121673625],\"type\":\"mesh3d\"},{\"color\":\"slateblue\",\"hoverinfo\":\"text\",\"i\":[0,2,4,6,0,1,2,3,0,3,1,2],\"j\":[1,3,5,7,1,5,3,7,3,7,2,6],\"k\":[2,0,6,4,4,4,6,6,4,4,5,5],\"opacity\":1.0,\"text\":[\"<b>Support pad</b><br><br><b>LAT : </b>-93.0 cm<br><b>LON : </b>122.0 cm<br><b>VER : </b>15.0 cm\",\"<b>Support pad</b><br><br><b>LAT : </b>-25.0 cm<br><b>LON : </b>-151.0 cm<br><b>VER : </b>15.0 cm\",\"<b>Support pad</b><br><br><b>LAT : </b>19.0 cm<br><b>LON : </b>-141.0 cm<br><b>VER : </b>15.0 cm\",\"<b>Support pad</b><br><br><b>LAT : </b>-49.0 cm<br><b>LON : </b>133.0 cm<br><b>VER : </b>15.0 cm\",\"<b>Support pad</b><br><br><b>LAT : </b>-93.0 cm<br><b>LON : </b>122.0 cm<br><b>VER : </b>11.0 cm\",\"<b>Support pad</b><br><br><b>LAT : </b>-25.0 cm<br><b>LON : </b>-151.0 cm<br><b>VER : </b>11.0 cm\",\"<b>Support pad</b><br><br><b>LAT : </b>19.0 cm<br><b>LON : </b>-141.0 cm<br><b>VER : </b>11.0 cm\",\"<b>Support pad</b><br><br><b>LAT : </b>-49.0 cm<br><b>LON : </b>133.0 cm<br><b>VER : </b>11.0 cm\"],\"visible\":false,\"x\":[122.32670352457647,-151.3798359214153,-140.54670352457646,133.15983592141527,122.32670352457647,-151.3798359214153,-140.54670352457646,133.15983592141527],\"y\":[14.59,14.59,14.59,14.59,10.59,10.59,10.59,10.59],\"z\":[-92.85210256518293,-24.96447287832639,18.712102565182917,-49.175527121673625,-92.85210256518293,-24.96447287832639,18.712102565182917,-49.175527121673625],\"type\":\"mesh3d\"},{\"color\":\"slateblue\",\"hoverinfo\":\"text\",\"i\":[0,2,4,6,0,1,2,3,0,3,1,2],\"j\":[1,3,5,7,1,5,3,7,3,7,2,6],\"k\":[2,0,6,4,4,4,6,6,4,4,5,5],\"opacity\":1.0,\"text\":[\"<b>Support pad</b><br><br><b>LAT : </b>-93.0 cm<br><b>LON : </b>122.0 cm<br><b>VER : </b>15.0 cm\",\"<b>Support pad</b><br><br><b>LAT : </b>-25.0 cm<br><b>LON : </b>-151.0 cm<br><b>VER : </b>15.0 cm\",\"<b>Support pad</b><br><br><b>LAT : </b>19.0 cm<br><b>LON : </b>-141.0 cm<br><b>VER : </b>15.0 cm\",\"<b>Support pad</b><br><br><b>LAT : </b>-49.0 cm<br><b>LON : </b>133.0 cm<br><b>VER : </b>15.0 cm\",\"<b>Support pad</b><br><br><b>LAT : </b>-93.0 cm<br><b>LON : </b>122.0 cm<br><b>VER : </b>11.0 cm\",\"<b>Support pad</b><br><br><b>LAT : </b>-25.0 cm<br><b>LON : </b>-151.0 cm<br><b>VER : </b>11.0 cm\",\"<b>Support pad</b><br><br><b>LAT : </b>19.0 cm<br><b>LON : </b>-141.0 cm<br><b>VER : </b>11.0 cm\",\"<b>Support pad</b><br><br><b>LAT : </b>-49.0 cm<br><b>LON : </b>133.0 cm<br><b>VER : </b>11.0 cm\"],\"visible\":false,\"x\":[122.32670352457647,-151.3798359214153,-140.54670352457646,133.15983592141527,122.32670352457647,-151.3798359214153,-140.54670352457646,133.15983592141527],\"y\":[14.59,14.59,14.59,14.59,10.59,10.59,10.59,10.59],\"z\":[-92.85210256518293,-24.96447287832639,18.712102565182917,-49.175527121673625,-92.85210256518293,-24.96447287832639,18.712102565182917,-49.175527121673625],\"type\":\"mesh3d\"},{\"color\":\"slateblue\",\"hoverinfo\":\"text\",\"i\":[0,2,4,6,0,1,2,3,0,3,1,2],\"j\":[1,3,5,7,1,5,3,7,3,7,2,6],\"k\":[2,0,6,4,4,4,6,6,4,4,5,5],\"opacity\":1.0,\"text\":[\"<b>Support pad</b><br><br><b>LAT : </b>-93.0 cm<br><b>LON : </b>122.0 cm<br><b>VER : </b>15.0 cm\",\"<b>Support pad</b><br><br><b>LAT : </b>-25.0 cm<br><b>LON : </b>-151.0 cm<br><b>VER : </b>15.0 cm\",\"<b>Support pad</b><br><br><b>LAT : </b>19.0 cm<br><b>LON : </b>-141.0 cm<br><b>VER : </b>15.0 cm\",\"<b>Support pad</b><br><br><b>LAT : </b>-49.0 cm<br><b>LON : </b>133.0 cm<br><b>VER : </b>15.0 cm\",\"<b>Support pad</b><br><br><b>LAT : </b>-93.0 cm<br><b>LON : </b>122.0 cm<br><b>VER : </b>11.0 cm\",\"<b>Support pad</b><br><br><b>LAT : </b>-25.0 cm<br><b>LON : </b>-151.0 cm<br><b>VER : </b>11.0 cm\",\"<b>Support pad</b><br><br><b>LAT : </b>19.0 cm<br><b>LON : </b>-141.0 cm<br><b>VER : </b>11.0 cm\",\"<b>Support pad</b><br><br><b>LAT : </b>-49.0 cm<br><b>LON : </b>133.0 cm<br><b>VER : </b>11.0 cm\"],\"visible\":false,\"x\":[122.32670352457647,-151.3798359214153,-140.54670352457646,133.15983592141527,122.32670352457647,-151.3798359214153,-140.54670352457646,133.15983592141527],\"y\":[14.59,14.59,14.59,14.59,10.59,10.59,10.59,10.59],\"z\":[-92.85210256518293,-24.96447287832639,18.712102565182917,-49.175527121673625,-92.85210256518293,-24.96447287832639,18.712102565182917,-49.175527121673625],\"type\":\"mesh3d\"},{\"color\":\"red\",\"hoverinfo\":\"text\",\"i\":[0,0,0,0,1,1],\"j\":[1,1,3,3,2,3],\"k\":[2,4,2,4,3,4],\"opacity\":0.4,\"text\":[\"<b>X-ray beam vertex</b><br><br><b>LAT : </b>-0.0 cm<br><b>LON : </b>-0.0 cm<br><b>VER : </b>78.0 cm\",\"<b>X-ray beam vertex</b><br><br><b>LAT : </b>17.0 cm<br><b>LON : </b>17.0 cm<br><b>VER : </b>-28.0 cm\",\"<b>X-ray beam vertex</b><br><br><b>LAT : </b>-16.0 cm<br><b>LON : </b>17.0 cm<br><b>VER : </b>-29.0 cm\",\"<b>X-ray beam vertex</b><br><br><b>LAT : </b>-16.0 cm<br><b>LON : </b>-17.0 cm<br><b>VER : </b>-29.0 cm\",\"<b>X-ray beam vertex</b><br><br><b>LAT : </b>17.0 cm<br><b>LON : </b>-17.0 cm<br><b>VER : </b>-29.0 cm\"],\"visible\":true,\"x\":[-0.2740123799496683,16.72242617167292,16.723033806306784,-16.52276364768412,-16.52337128231798],\"y\":[78.49844569911527,-28.454371724694493,-28.62844551771029,-28.744495714660818,-28.57042192164502],\"z\":[-0.411023160766437,16.772520701607576,-16.473023570450376,-16.473023570450376,16.772520701607576],\"type\":\"mesh3d\"},{\"color\":\"red\",\"hoverinfo\":\"text\",\"i\":[0,0,0,0,1,1],\"j\":[1,1,3,3,2,3],\"k\":[2,4,2,4,3,4],\"opacity\":0.4,\"text\":[\"<b>X-ray beam vertex</b><br><br><b>LAT : </b>-0.0 cm<br><b>LON : </b>-0.0 cm<br><b>VER : </b>78.0 cm\",\"<b>X-ray beam vertex</b><br><br><b>LAT : </b>17.0 cm<br><b>LON : </b>17.0 cm<br><b>VER : </b>-28.0 cm\",\"<b>X-ray beam vertex</b><br><br><b>LAT : </b>-16.0 cm<br><b>LON : </b>17.0 cm<br><b>VER : </b>-29.0 cm\",\"<b>X-ray beam vertex</b><br><br><b>LAT : </b>-16.0 cm<br><b>LON : </b>-17.0 cm<br><b>VER : </b>-29.0 cm\",\"<b>X-ray beam vertex</b><br><br><b>LAT : </b>17.0 cm<br><b>LON : </b>-17.0 cm<br><b>VER : </b>-29.0 cm\"],\"visible\":false,\"x\":[-0.2740123799496683,16.72242617167292,16.723033806306784,-16.52276364768412,-16.52337128231798],\"y\":[78.49844569911527,-28.454371724694493,-28.62844551771029,-28.744495714660818,-28.57042192164502],\"z\":[-0.411023160766437,16.772520701607576,-16.473023570450376,-16.473023570450376,16.772520701607576],\"type\":\"mesh3d\"},{\"color\":\"red\",\"hoverinfo\":\"text\",\"i\":[0,0,0,0,1,1],\"j\":[1,1,3,3,2,3],\"k\":[2,4,2,4,3,4],\"opacity\":0.4,\"text\":[\"<b>X-ray beam vertex</b><br><br><b>LAT : </b>-0.0 cm<br><b>LON : </b>-0.0 cm<br><b>VER : </b>78.0 cm\",\"<b>X-ray beam vertex</b><br><br><b>LAT : </b>17.0 cm<br><b>LON : </b>17.0 cm<br><b>VER : </b>-28.0 cm\",\"<b>X-ray beam vertex</b><br><br><b>LAT : </b>-16.0 cm<br><b>LON : </b>17.0 cm<br><b>VER : </b>-29.0 cm\",\"<b>X-ray beam vertex</b><br><br><b>LAT : </b>-16.0 cm<br><b>LON : </b>-17.0 cm<br><b>VER : </b>-29.0 cm\",\"<b>X-ray beam vertex</b><br><br><b>LAT : </b>17.0 cm<br><b>LON : </b>-17.0 cm<br><b>VER : </b>-29.0 cm\"],\"visible\":false,\"x\":[-0.2740123799496683,16.72242617167292,16.723033806306784,-16.52276364768412,-16.52337128231798],\"y\":[78.49844569911527,-28.454371724694493,-28.62844551771029,-28.744495714660818,-28.57042192164502],\"z\":[-0.411023160766437,16.772520701607576,-16.473023570450376,-16.473023570450376,16.772520701607576],\"type\":\"mesh3d\"},{\"color\":\"red\",\"hoverinfo\":\"text\",\"i\":[0,0,0,0,1,1],\"j\":[1,1,3,3,2,3],\"k\":[2,4,2,4,3,4],\"opacity\":0.4,\"text\":[\"<b>X-ray beam vertex</b><br><br><b>LAT : </b>-0.0 cm<br><b>LON : </b>-0.0 cm<br><b>VER : </b>78.0 cm\",\"<b>X-ray beam vertex</b><br><br><b>LAT : </b>17.0 cm<br><b>LON : </b>17.0 cm<br><b>VER : </b>-28.0 cm\",\"<b>X-ray beam vertex</b><br><br><b>LAT : </b>-16.0 cm<br><b>LON : </b>17.0 cm<br><b>VER : </b>-29.0 cm\",\"<b>X-ray beam vertex</b><br><br><b>LAT : </b>-16.0 cm<br><b>LON : </b>-17.0 cm<br><b>VER : </b>-29.0 cm\",\"<b>X-ray beam vertex</b><br><br><b>LAT : </b>17.0 cm<br><b>LON : </b>-17.0 cm<br><b>VER : </b>-29.0 cm\"],\"visible\":false,\"x\":[-0.2740123799496683,16.72242617167292,16.723033806306784,-16.52276364768412,-16.52337128231798],\"y\":[78.49844569911527,-28.454371724694493,-28.62844551771029,-28.744495714660818,-28.57042192164502],\"z\":[-0.411023160766437,16.772520701607576,-16.473023570450376,-16.473023570450376,16.772520701607576],\"type\":\"mesh3d\"},{\"color\":\"red\",\"hoverinfo\":\"text\",\"i\":[0,0,0,0,1,1],\"j\":[1,1,3,3,2,3],\"k\":[2,4,2,4,3,4],\"opacity\":0.4,\"text\":[\"<b>X-ray beam vertex</b><br><br><b>LAT : </b>-0.0 cm<br><b>LON : </b>-0.0 cm<br><b>VER : </b>78.0 cm\",\"<b>X-ray beam vertex</b><br><br><b>LAT : </b>17.0 cm<br><b>LON : </b>17.0 cm<br><b>VER : </b>-28.0 cm\",\"<b>X-ray beam vertex</b><br><br><b>LAT : </b>-16.0 cm<br><b>LON : </b>17.0 cm<br><b>VER : </b>-29.0 cm\",\"<b>X-ray beam vertex</b><br><br><b>LAT : </b>-16.0 cm<br><b>LON : </b>-17.0 cm<br><b>VER : </b>-29.0 cm\",\"<b>X-ray beam vertex</b><br><br><b>LAT : </b>17.0 cm<br><b>LON : </b>-17.0 cm<br><b>VER : </b>-29.0 cm\"],\"visible\":false,\"x\":[-0.2740123799496683,16.72242617167292,16.723033806306784,-16.52276364768412,-16.52337128231798],\"y\":[78.49844569911527,-28.454371724694493,-28.62844551771029,-28.744495714660818,-28.57042192164502],\"z\":[-0.411023160766437,16.772520701607576,-16.473023570450376,-16.473023570450376,16.772520701607576],\"type\":\"mesh3d\"},{\"color\":\"red\",\"hoverinfo\":\"text\",\"i\":[0,0,0,0,1,1],\"j\":[1,1,3,3,2,3],\"k\":[2,4,2,4,3,4],\"opacity\":0.4,\"text\":[\"<b>X-ray beam vertex</b><br><br><b>LAT : </b>-0.0 cm<br><b>LON : </b>-0.0 cm<br><b>VER : </b>78.0 cm\",\"<b>X-ray beam vertex</b><br><br><b>LAT : </b>17.0 cm<br><b>LON : </b>17.0 cm<br><b>VER : </b>-28.0 cm\",\"<b>X-ray beam vertex</b><br><br><b>LAT : </b>-16.0 cm<br><b>LON : </b>17.0 cm<br><b>VER : </b>-29.0 cm\",\"<b>X-ray beam vertex</b><br><br><b>LAT : </b>-16.0 cm<br><b>LON : </b>-17.0 cm<br><b>VER : </b>-29.0 cm\",\"<b>X-ray beam vertex</b><br><br><b>LAT : </b>17.0 cm<br><b>LON : </b>-17.0 cm<br><b>VER : </b>-29.0 cm\"],\"visible\":false,\"x\":[-0.2740123799496683,16.72242617167292,16.723033806306784,-16.52276364768412,-16.52337128231798],\"y\":[78.49844569911527,-28.454371724694493,-28.62844551771029,-28.744495714660818,-28.57042192164502],\"z\":[-0.411023160766437,16.772520701607576,-16.473023570450376,-16.473023570450376,16.772520701607576],\"type\":\"mesh3d\"},{\"color\":\"red\",\"hoverinfo\":\"text\",\"i\":[0,0,0,0,1,1],\"j\":[1,1,3,3,2,3],\"k\":[2,4,2,4,3,4],\"opacity\":0.4,\"text\":[\"<b>X-ray beam vertex</b><br><br><b>LAT : </b>-0.0 cm<br><b>LON : </b>-0.0 cm<br><b>VER : </b>78.0 cm\",\"<b>X-ray beam vertex</b><br><br><b>LAT : </b>17.0 cm<br><b>LON : </b>17.0 cm<br><b>VER : </b>-28.0 cm\",\"<b>X-ray beam vertex</b><br><br><b>LAT : </b>-16.0 cm<br><b>LON : </b>17.0 cm<br><b>VER : </b>-29.0 cm\",\"<b>X-ray beam vertex</b><br><br><b>LAT : </b>-16.0 cm<br><b>LON : </b>-17.0 cm<br><b>VER : </b>-29.0 cm\",\"<b>X-ray beam vertex</b><br><br><b>LAT : </b>17.0 cm<br><b>LON : </b>-17.0 cm<br><b>VER : </b>-29.0 cm\"],\"visible\":false,\"x\":[-0.2740123799496683,16.72242617167292,16.723033806306784,-16.52276364768412,-16.52337128231798],\"y\":[78.49844569911527,-28.454371724694493,-28.62844551771029,-28.744495714660818,-28.57042192164502],\"z\":[-0.411023160766437,16.772520701607576,-16.473023570450376,-16.473023570450376,16.772520701607576],\"type\":\"mesh3d\"},{\"color\":\"red\",\"hoverinfo\":\"text\",\"i\":[0,0,0,0,1,1],\"j\":[1,1,3,3,2,3],\"k\":[2,4,2,4,3,4],\"opacity\":0.4,\"text\":[\"<b>X-ray beam vertex</b><br><br><b>LAT : </b>-0.0 cm<br><b>LON : </b>-0.0 cm<br><b>VER : </b>78.0 cm\",\"<b>X-ray beam vertex</b><br><br><b>LAT : </b>17.0 cm<br><b>LON : </b>17.0 cm<br><b>VER : </b>-28.0 cm\",\"<b>X-ray beam vertex</b><br><br><b>LAT : </b>-16.0 cm<br><b>LON : </b>17.0 cm<br><b>VER : </b>-29.0 cm\",\"<b>X-ray beam vertex</b><br><br><b>LAT : </b>-16.0 cm<br><b>LON : </b>-17.0 cm<br><b>VER : </b>-29.0 cm\",\"<b>X-ray beam vertex</b><br><br><b>LAT : </b>17.0 cm<br><b>LON : </b>-17.0 cm<br><b>VER : </b>-29.0 cm\"],\"visible\":false,\"x\":[-0.2740123799496683,16.72242617167292,16.723033806306784,-16.52276364768412,-16.52337128231798],\"y\":[78.49844569911527,-28.454371724694493,-28.62844551771029,-28.744495714660818,-28.57042192164502],\"z\":[-0.411023160766437,16.772520701607576,-16.473023570450376,-16.473023570450376,16.772520701607576],\"type\":\"mesh3d\"},{\"color\":\"red\",\"hoverinfo\":\"text\",\"i\":[0,0,0,0,1,1],\"j\":[1,1,3,3,2,3],\"k\":[2,4,2,4,3,4],\"opacity\":0.4,\"text\":[\"<b>X-ray beam vertex</b><br><br><b>LAT : </b>-0.0 cm<br><b>LON : </b>-0.0 cm<br><b>VER : </b>78.0 cm\",\"<b>X-ray beam vertex</b><br><br><b>LAT : </b>8.0 cm<br><b>LON : </b>8.0 cm<br><b>VER : </b>-29.0 cm\",\"<b>X-ray beam vertex</b><br><br><b>LAT : </b>-8.0 cm<br><b>LON : </b>8.0 cm<br><b>VER : </b>-29.0 cm\",\"<b>X-ray beam vertex</b><br><br><b>LAT : </b>-8.0 cm<br><b>LON : </b>-8.0 cm<br><b>VER : </b>-29.0 cm\",\"<b>X-ray beam vertex</b><br><br><b>LAT : </b>8.0 cm<br><b>LON : </b>-8.0 cm<br><b>VER : </b>-29.0 cm\"],\"visible\":false,\"x\":[-0.2740123799496683,8.326130788221336,8.326431498461092,-8.126468264232534,-8.12676897447229],\"y\":[78.49844569911527,-28.527644481770597,-28.613791269850037,-28.671222957584714,-28.585076169505275],\"z\":[-0.411023160766437,8.376135798752056,-8.076638667594857,-8.076638667594857,8.376135798752056],\"type\":\"mesh3d\"},{\"color\":\"red\",\"hoverinfo\":\"text\",\"i\":[0,0,0,0,1,1],\"j\":[1,1,3,3,2,3],\"k\":[2,4,2,4,3,4],\"opacity\":0.4,\"text\":[\"<b>X-ray beam vertex</b><br><br><b>LAT : </b>-0.0 cm<br><b>LON : </b>-0.0 cm<br><b>VER : </b>78.0 cm\",\"<b>X-ray beam vertex</b><br><br><b>LAT : </b>13.0 cm<br><b>LON : </b>12.0 cm<br><b>VER : </b>-28.0 cm\",\"<b>X-ray beam vertex</b><br><br><b>LAT : </b>-12.0 cm<br><b>LON : </b>12.0 cm<br><b>VER : </b>-29.0 cm\",\"<b>X-ray beam vertex</b><br><br><b>LAT : </b>-12.0 cm<br><b>LON : </b>-12.0 cm<br><b>VER : </b>-29.0 cm\",\"<b>X-ray beam vertex</b><br><br><b>LAT : </b>13.0 cm<br><b>LON : </b>-12.0 cm<br><b>VER : </b>-29.0 cm\"],\"visible\":false,\"x\":[-0.2740123799496683,12.485529424256214,12.485982180231371,-12.285866900267411,-12.286319656242568],\"y\":[78.49844569911527,-28.491346258337256,-28.621050764160135,-28.707521181018056,-28.577816675195177],\"z\":[-0.411023160766437,12.535578781355227,-12.236081650198027,-12.236081650198027,12.535578781355227],\"type\":\"mesh3d\"},{\"color\":\"red\",\"hoverinfo\":\"text\",\"i\":[0,0,0,0,1,1],\"j\":[1,1,3,3,2,3],\"k\":[2,4,2,4,3,4],\"opacity\":0.4,\"text\":[\"<b>X-ray beam vertex</b><br><br><b>LAT : </b>-0.0 cm<br><b>LON : </b>-0.0 cm<br><b>VER : </b>78.0 cm\",\"<b>X-ray beam vertex</b><br><br><b>LAT : </b>13.0 cm<br><b>LON : </b>12.0 cm<br><b>VER : </b>-28.0 cm\",\"<b>X-ray beam vertex</b><br><br><b>LAT : </b>-12.0 cm<br><b>LON : </b>12.0 cm<br><b>VER : </b>-29.0 cm\",\"<b>X-ray beam vertex</b><br><br><b>LAT : </b>-12.0 cm<br><b>LON : </b>-12.0 cm<br><b>VER : </b>-29.0 cm\",\"<b>X-ray beam vertex</b><br><br><b>LAT : </b>13.0 cm<br><b>LON : </b>-12.0 cm<br><b>VER : </b>-29.0 cm\"],\"visible\":false,\"x\":[-0.2740123799496683,12.485529424256214,12.485982180231371,-12.285866900267411,-12.286319656242568],\"y\":[78.49844569911527,-28.491346258337256,-28.621050764160135,-28.707521181018056,-28.577816675195177],\"z\":[-0.411023160766437,12.535578781355227,-12.236081650198027,-12.236081650198027,12.535578781355227],\"type\":\"mesh3d\"},{\"color\":\"red\",\"hoverinfo\":\"text\",\"i\":[0,0,0,0,1,1],\"j\":[1,1,3,3,2,3],\"k\":[2,4,2,4,3,4],\"opacity\":0.4,\"text\":[\"<b>X-ray beam vertex</b><br><br><b>LAT : </b>-0.0 cm<br><b>LON : </b>-29.0 cm<br><b>VER : </b>73.0 cm\",\"<b>X-ray beam vertex</b><br><br><b>LAT : </b>13.0 cm<br><b>LON : </b>22.0 cm<br><b>VER : </b>-22.0 cm\",\"<b>X-ray beam vertex</b><br><br><b>LAT : </b>-12.0 cm<br><b>LON : </b>22.0 cm<br><b>VER : </b>-22.0 cm\",\"<b>X-ray beam vertex</b><br><br><b>LAT : </b>-12.0 cm<br><b>LON : </b>-1.0 cm<br><b>VER : </b>-31.0 cm\",\"<b>X-ray beam vertex</b><br><br><b>LAT : </b>13.0 cm<br><b>LON : </b>-1.0 cm<br><b>VER : </b>-31.0 cm\"],\"visible\":false,\"x\":[-28.514830712526646,21.946588144521073,21.99387302826063,-1.1689025807437008,-1.216187464483259],\"y\":[73.13675881112903,-22.069969699055594,-22.191249154379634,-31.222037995168346,-31.10075853984431],\"z\":[-0.411023160766437,12.580078171360238,-12.280581040203039,-12.280581040203039,12.580078171360238],\"type\":\"mesh3d\"},{\"color\":\"red\",\"hoverinfo\":\"text\",\"i\":[0,0,0,0,1,1],\"j\":[1,1,3,3,2,3],\"k\":[2,4,2,4,3,4],\"opacity\":0.4,\"text\":[\"<b>X-ray beam vertex</b><br><br><b>LAT : </b>-0.0 cm<br><b>LON : </b>53.0 cm<br><b>VER : </b>58.0 cm\",\"<b>X-ray beam vertex</b><br><br><b>LAT : </b>13.0 cm<br><b>LON : </b>-10.0 cm<br><b>VER : </b>-30.0 cm\",\"<b>X-ray beam vertex</b><br><br><b>LAT : </b>-12.0 cm<br><b>LON : </b>-10.0 cm<br><b>VER : </b>-30.0 cm\",\"<b>X-ray beam vertex</b><br><br><b>LAT : </b>-12.0 cm<br><b>LON : </b>-28.0 cm<br><b>VER : </b>-13.0 cm\",\"<b>X-ray beam vertex</b><br><br><b>LAT : </b>13.0 cm<br><b>LON : </b>-28.0 cm<br><b>VER : </b>-13.0 cm\"],\"visible\":false,\"x\":[52.831160443047516,-10.001481534936145,-10.060034293846508,-28.49459970509338,-28.436046946183012],\"y\":[58.060687228090316,-29.50822806477398,-29.57257670661578,-12.798412819898193,-12.734064178056391],\"z\":[-0.274016136095063,12.561756707706783,-12.362091446755985,-12.362091446755985,12.561756707706783],\"type\":\"mesh3d\"},{\"color\":\"red\",\"hoverinfo\":\"text\",\"i\":[0,0,0,0,1,1],\"j\":[1,1,3,3,2,3],\"k\":[2,4,2,4,3,4],\"opacity\":0.4,\"text\":[\"<b>X-ray beam vertex</b><br><br><b>LAT : </b>-26.0 cm<br><b>LON : </b>-0.0 cm<br><b>VER : </b>74.0 cm\",\"<b>X-ray beam vertex</b><br><br><b>LAT : </b>21.0 cm<br><b>LON : </b>12.0 cm<br><b>VER : </b>-23.0 cm\",\"<b>X-ray beam vertex</b><br><br><b>LAT : </b>-2.0 cm<br><b>LON : </b>12.0 cm<br><b>VER : </b>-31.0 cm\",\"<b>X-ray beam vertex</b><br><br><b>LAT : </b>-2.0 cm<br><b>LON : </b>-12.0 cm<br><b>VER : </b>-31.0 cm\",\"<b>X-ray beam vertex</b><br><br><b>LAT : </b>21.0 cm<br><b>LON : </b>-12.0 cm<br><b>VER : </b>-23.0 cm\"],\"visible\":false,\"x\":[-0.12898925693017751,12.48165571170861,12.496296011959682,-12.38766608755057,-12.402306387801643],\"y\":[73.90532520335475,-22.710168378112964,-31.09843401263755,-31.141864763694564,-22.753599129169977],\"z\":[-26.461977786211943,21.354700909451523,-2.07285212765123,-2.07285212765123,21.354700909451523],\"type\":\"mesh3d\"},{\"color\":\"red\",\"hoverinfo\":\"text\",\"i\":[0,0,0,0,1,1],\"j\":[1,1,3,3,2,3],\"k\":[2,4,2,4,3,4],\"opacity\":0.4,\"text\":[\"<b>X-ray beam vertex</b><br><br><b>LAT : </b>20.0 cm<br><b>LON : </b>-0.0 cm<br><b>VER : </b>76.0 cm\",\"<b>X-ray beam vertex</b><br><br><b>LAT : </b>5.0 cm<br><b>LON : </b>12.0 cm<br><b>VER : </b>-31.0 cm\",\"<b>X-ray beam vertex</b><br><br><b>LAT : </b>-19.0 cm<br><b>LON : </b>12.0 cm<br><b>VER : </b>-24.0 cm\",\"<b>X-ray beam vertex</b><br><br><b>LAT : </b>-19.0 cm<br><b>LON : </b>-12.0 cm<br><b>VER : </b>-25.0 cm\",\"<b>X-ray beam vertex</b><br><br><b>LAT : </b>5.0 cm<br><b>LON : </b>-12.0 cm<br><b>VER : </b>-31.0 cm\"],\"visible\":false,\"x\":[-0.13252368793756839,12.495774014420407,12.484753116300405,-12.399208983209848,-12.388188085089846],\"y\":[75.93040294414241,-30.79935175715641,-24.484848681658487,-24.5282794327155,-30.842782508213425],\"z\":[19.91999864990724,4.777268164912021,-19.292222595162897,-19.292222595162897,4.777268164912021],\"type\":\"mesh3d\"},{\"color\":\"red\",\"hoverinfo\":\"text\",\"i\":[0,0,0,0,1,1],\"j\":[1,1,3,3,2,3],\"k\":[2,4,2,4,3,4],\"opacity\":0.4,\"text\":[\"<b>X-ray beam vertex</b><br><br><b>LAT : </b>-0.0 cm<br><b>LON : </b>-0.0 cm<br><b>VER : </b>78.0 cm\",\"<b>X-ray beam vertex</b><br><br><b>LAT : </b>12.0 cm<br><b>LON : </b>12.0 cm<br><b>VER : </b>-29.0 cm\",\"<b>X-ray beam vertex</b><br><br><b>LAT : </b>-12.0 cm<br><b>LON : </b>12.0 cm<br><b>VER : </b>-29.0 cm\",\"<b>X-ray beam vertex</b><br><br><b>LAT : </b>-12.0 cm<br><b>LON : </b>-12.0 cm<br><b>VER : </b>-29.0 cm\",\"<b>X-ray beam vertex</b><br><br><b>LAT : </b>12.0 cm<br><b>LON : </b>-12.0 cm<br><b>VER : </b>-29.0 cm\"],\"visible\":false,\"x\":[-0.13700639864745945,12.38978414333684,12.390009680929401,-12.289952729290539,-12.2901782668831],\"y\":[78.49880438075502,-28.513415351288003,-28.642638741828705,-28.685713445899076,-28.55649005535837],\"z\":[-0.411023160766437,12.489579411911846,-12.190082280754647,-12.190082280754647,12.489579411911846],\"type\":\"mesh3d\"},{\"color\":\"red\",\"hoverinfo\":\"text\",\"i\":[0,0,0,0,1,1],\"j\":[1,1,3,3,2,3],\"k\":[2,4,2,4,3,4],\"opacity\":0.4,\"text\":[\"<b>X-ray beam vertex</b><br><br><b>LAT : </b>-0.0 cm<br><b>LON : </b>-0.0 cm<br><b>VER : </b>78.0 cm\",\"<b>X-ray beam vertex</b><br><br><b>LAT : </b>11.0 cm<br><b>LON : </b>11.0 cm<br><b>VER : </b>-29.0 cm\",\"<b>X-ray beam vertex</b><br><br><b>LAT : </b>-11.0 cm<br><b>LON : </b>11.0 cm<br><b>VER : </b>-29.0 cm\",\"<b>X-ray beam vertex</b><br><br><b>LAT : </b>-11.0 cm<br><b>LON : </b>-11.0 cm<br><b>VER : </b>-29.0 cm\",\"<b>X-ray beam vertex</b><br><br><b>LAT : </b>11.0 cm<br><b>LON : </b>-11.0 cm<br><b>VER : </b>-29.0 cm\"],\"visible\":false,\"x\":[-0.13700639864745945,11.093797960722373,11.093999811384629,-10.993966546676072,-10.994168397338328],\"y\":[78.49880438075502,-28.522463095640347,-28.638114888600768,-28.67666570154673,-28.56101390858631],\"z\":[-0.411023160766437,11.193597177159182,-10.89410004600198,-10.89410004600198,11.193597177159182],\"type\":\"mesh3d\"},{\"color\":\"red\",\"hoverinfo\":\"text\",\"i\":[0,0,0,0,1,1],\"j\":[1,1,3,3,2,3],\"k\":[2,4,2,4,3,4],\"opacity\":0.4,\"text\":[\"<b>X-ray beam vertex</b><br><br><b>LAT : </b>-0.0 cm<br><b>LON : </b>-0.0 cm<br><b>VER : </b>78.0 cm\",\"<b>X-ray beam vertex</b><br><br><b>LAT : </b>17.0 cm<br><b>LON : </b>17.0 cm<br><b>VER : </b>-28.0 cm\",\"<b>X-ray beam vertex</b><br><br><b>LAT : </b>-16.0 cm<br><b>LON : </b>17.0 cm<br><b>VER : </b>-29.0 cm\",\"<b>X-ray beam vertex</b><br><br><b>LAT : </b>-16.0 cm<br><b>LON : </b>-17.0 cm<br><b>VER : </b>-29.0 cm\",\"<b>X-ray beam vertex</b><br><br><b>LAT : </b>17.0 cm<br><b>LON : </b>-17.0 cm<br><b>VER : </b>-29.0 cm\"],\"visible\":false,\"x\":[-0.13700639864745945,16.6727384798629,16.67304229764257,-16.572907065816597,-16.573210883596268],\"y\":[78.49880438075502,-28.483514510963072,-28.65758909937135,-28.715614286224007,-28.54153969781573],\"z\":[-0.411023160766437,16.772520701607576,-16.473023570450376,-16.473023570450376,16.772520701607576],\"type\":\"mesh3d\"},{\"color\":\"red\",\"hoverinfo\":\"text\",\"i\":[0,0,0,0,1,1],\"j\":[1,1,3,3,2,3],\"k\":[2,4,2,4,3,4],\"opacity\":0.4,\"text\":[\"<b>X-ray beam vertex</b><br><br><b>LAT : </b>-0.0 cm<br><b>LON : </b>-0.0 cm<br><b>VER : </b>78.0 cm\",\"<b>X-ray beam vertex</b><br><br><b>LAT : </b>8.0 cm<br><b>LON : </b>8.0 cm<br><b>VER : </b>-29.0 cm\",\"<b>X-ray beam vertex</b><br><br><b>LAT : </b>-8.0 cm<br><b>LON : </b>8.0 cm<br><b>VER : </b>-29.0 cm\",\"<b>X-ray beam vertex</b><br><br><b>LAT : </b>-8.0 cm<br><b>LON : </b>-8.0 cm<br><b>VER : </b>-29.0 cm\",\"<b>X-ray beam vertex</b><br><br><b>LAT : </b>8.0 cm<br><b>LON : </b>-8.0 cm<br><b>VER : </b>-29.0 cm\"],\"visible\":false,\"x\":[-0.13700639864745945,7.842332626794174,7.842475049945716,-7.7425012127478725,-7.742643635899415],\"y\":[78.49880438075502,-28.545162741289776,-28.626765113314775,-28.6539660558973,-28.572363683872304],\"z\":[-0.411023160766437,7.942141747916673,-7.6426446167594735,-7.6426446167594735,7.942141747916673],\"type\":\"mesh3d\"},{\"color\":\"red\",\"hoverinfo\":\"text\",\"i\":[0,0,0,0,1,1],\"j\":[1,1,3,3,2,3],\"k\":[2,4,2,4,3,4],\"opacity\":0.4,\"text\":[\"<b>X-ray beam vertex</b><br><br><b>LAT : </b>-0.0 cm<br><b>LON : </b>-78.0 cm<br><b>VER : </b>0.0 cm\",\"<b>X-ray beam vertex</b><br><br><b>LAT : </b>8.0 cm<br><b>LON : </b>30.0 cm<br><b>VER : </b>8.0 cm\",\"<b>X-ray beam vertex</b><br><br><b>LAT : </b>-8.0 cm<br><b>LON : </b>30.0 cm<br><b>VER : </b>8.0 cm\",\"<b>X-ray beam vertex</b><br><br><b>LAT : </b>-8.0 cm<br><b>LON : </b>30.0 cm<br><b>VER : </b>-8.0 cm\",\"<b>X-ray beam vertex</b><br><br><b>LAT : </b>8.0 cm<br><b>LON : </b>30.0 cm<br><b>VER : </b>-8.0 cm\"],\"visible\":false,\"x\":[-78.49880438075502,29.772144695809505,29.85434920275801,29.826947547413404,29.744743040464904],\"y\":[0.13700639864745573,7.798049708454669,7.797906234378363,-7.902069853160253,-7.901926379083947],\"z\":[-0.411023160766437,8.005924116318603,-7.6938606719659965,-7.6938606719659965,8.005924116318603],\"type\":\"mesh3d\"},{\"color\":\"red\",\"hoverinfo\":\"text\",\"i\":[0,0,0,0,1,1],\"j\":[1,1,3,3,2,3],\"k\":[2,4,2,4,3,4],\"opacity\":0.4,\"text\":[\"<b>X-ray beam vertex</b><br><br><b>LAT : </b>-0.0 cm<br><b>LON : </b>-78.0 cm<br><b>VER : </b>0.0 cm\",\"<b>X-ray beam vertex</b><br><br><b>LAT : </b>8.0 cm<br><b>LON : </b>30.0 cm<br><b>VER : </b>8.0 cm\",\"<b>X-ray beam vertex</b><br><br><b>LAT : </b>-8.0 cm<br><b>LON : </b>30.0 cm<br><b>VER : </b>8.0 cm\",\"<b>X-ray beam vertex</b><br><br><b>LAT : </b>-8.0 cm<br><b>LON : </b>30.0 cm<br><b>VER : </b>-8.0 cm\",\"<b>X-ray beam vertex</b><br><br><b>LAT : </b>8.0 cm<br><b>LON : </b>30.0 cm<br><b>VER : </b>-8.0 cm\"],\"visible\":false,\"x\":[-78.49880438075502,29.772144695809505,29.85434920275801,29.826947547413404,29.744743040464904],\"y\":[0.13700639864745573,7.798049708454669,7.797906234378363,-7.902069853160253,-7.901926379083947],\"z\":[-0.411023160766437,8.005924116318603,-7.6938606719659965,-7.6938606719659965,8.005924116318603],\"type\":\"mesh3d\"},{\"color\":\"red\",\"hoverinfo\":\"text\",\"i\":[0,0,0,0,1,1],\"j\":[1,1,3,3,2,3],\"k\":[2,4,2,4,3,4],\"opacity\":0.4,\"text\":[\"<b>X-ray beam vertex</b><br><br><b>LAT : </b>-0.0 cm<br><b>LON : </b>-78.0 cm<br><b>VER : </b>0.0 cm\",\"<b>X-ray beam vertex</b><br><br><b>LAT : </b>8.0 cm<br><b>LON : </b>30.0 cm<br><b>VER : </b>8.0 cm\",\"<b>X-ray beam vertex</b><br><br><b>LAT : </b>-8.0 cm<br><b>LON : </b>30.0 cm<br><b>VER : </b>8.0 cm\",\"<b>X-ray beam vertex</b><br><br><b>LAT : </b>-8.0 cm<br><b>LON : </b>30.0 cm<br><b>VER : </b>-8.0 cm\",\"<b>X-ray beam vertex</b><br><br><b>LAT : </b>8.0 cm<br><b>LON : </b>30.0 cm<br><b>VER : </b>-8.0 cm\"],\"visible\":false,\"x\":[-78.49880438075502,29.772144695809505,29.85434920275801,29.826947547413404,29.744743040464904],\"y\":[0.13700639864745573,7.798049708454669,7.797906234378363,-7.902069853160253,-7.901926379083947],\"z\":[-0.411023160766437,8.005924116318603,-7.6938606719659965,-7.6938606719659965,8.005924116318603],\"type\":\"mesh3d\"},{\"color\":\"red\",\"hoverinfo\":\"text\",\"i\":[0,0,0,0,1,1],\"j\":[1,1,3,3,2,3],\"k\":[2,4,2,4,3,4],\"opacity\":0.4,\"text\":[\"<b>X-ray beam vertex</b><br><br><b>LAT : </b>-0.0 cm<br><b>LON : </b>-78.0 cm<br><b>VER : </b>0.0 cm\",\"<b>X-ray beam vertex</b><br><br><b>LAT : </b>8.0 cm<br><b>LON : </b>30.0 cm<br><b>VER : </b>8.0 cm\",\"<b>X-ray beam vertex</b><br><br><b>LAT : </b>-8.0 cm<br><b>LON : </b>30.0 cm<br><b>VER : </b>8.0 cm\",\"<b>X-ray beam vertex</b><br><br><b>LAT : </b>-8.0 cm<br><b>LON : </b>30.0 cm<br><b>VER : </b>-8.0 cm\",\"<b>X-ray beam vertex</b><br><br><b>LAT : </b>8.0 cm<br><b>LON : </b>30.0 cm<br><b>VER : </b>-8.0 cm\"],\"visible\":false,\"x\":[-78.49880438075502,29.772144695809505,29.85434920275801,29.826947547413404,29.744743040464904],\"y\":[0.13700639864745573,7.798049708454669,7.797906234378363,-7.902069853160253,-7.901926379083947],\"z\":[-0.411023160766437,8.005924116318603,-7.6938606719659965,-7.6938606719659965,8.005924116318603],\"type\":\"mesh3d\"},{\"color\":\"red\",\"hoverinfo\":\"text\",\"i\":[0,0,0,0,1,1],\"j\":[1,1,3,3,2,3],\"k\":[2,4,2,4,3,4],\"opacity\":0.4,\"text\":[\"<b>X-ray beam vertex</b><br><br><b>LAT : </b>-1.0 cm<br><b>LON : </b>-0.0 cm<br><b>VER : </b>78.0 cm\",\"<b>X-ray beam vertex</b><br><br><b>LAT : </b>8.0 cm<br><b>LON : </b>8.0 cm<br><b>VER : </b>-30.0 cm\",\"<b>X-ray beam vertex</b><br><br><b>LAT : </b>-8.0 cm<br><b>LON : </b>8.0 cm<br><b>VER : </b>-30.0 cm\",\"<b>X-ray beam vertex</b><br><br><b>LAT : </b>-8.0 cm<br><b>LON : </b>-8.0 cm<br><b>VER : </b>-30.0 cm\",\"<b>X-ray beam vertex</b><br><br><b>LAT : </b>8.0 cm<br><b>LON : </b>-8.0 cm<br><b>VER : </b>-30.0 cm\"],\"visible\":false,\"x\":[-0.27400570240023286,7.953730505316809,7.954208747624562,-7.745695602602747,-7.7461738449104995],\"y\":[78.49653272988425,-29.702779262501217,-29.839785035134554,-29.894588262353565,-29.757582489720228],\"z\":[-0.6850330366223538,8.109751853905287,-7.589650338202201,-7.589650338202201,8.109751853905287],\"type\":\"mesh3d\"},{\"hoverinfo\":\"skip\",\"line\":{\"color\":\"red\",\"width\":4},\"mode\":\"lines\",\"visible\":true,\"x\":[-0.2740123799496683,16.72242617167292,16.723033806306784,-0.2740123799496683,16.723033806306784,-16.52276364768412,-0.2740123799496683,-16.52276364768412,-16.52337128231798,-0.2740123799496683,16.72242617167292,-16.52337128231798,-0.2740123799496683],\"y\":[78.49844569911527,-28.454371724694493,-28.62844551771029,78.49844569911527,-28.62844551771029,-28.744495714660818,78.49844569911527,-28.744495714660818,-28.57042192164502,78.49844569911527,-28.454371724694493,-28.57042192164502,78.49844569911527],\"z\":[-0.411023160766437,16.772520701607576,-16.473023570450376,-0.411023160766437,-16.473023570450376,-16.473023570450376,-0.411023160766437,-16.473023570450376,16.772520701607576,-0.411023160766437,16.772520701607576,16.772520701607576,-0.411023160766437],\"type\":\"scatter3d\"},{\"hoverinfo\":\"skip\",\"line\":{\"color\":\"red\",\"width\":4},\"mode\":\"lines\",\"visible\":false,\"x\":[-0.2740123799496683,16.72242617167292,16.723033806306784,-0.2740123799496683,16.723033806306784,-16.52276364768412,-0.2740123799496683,-16.52276364768412,-16.52337128231798,-0.2740123799496683,16.72242617167292,-16.52337128231798,-0.2740123799496683],\"y\":[78.49844569911527,-28.454371724694493,-28.62844551771029,78.49844569911527,-28.62844551771029,-28.744495714660818,78.49844569911527,-28.744495714660818,-28.57042192164502,78.49844569911527,-28.454371724694493,-28.57042192164502,78.49844569911527],\"z\":[-0.411023160766437,16.772520701607576,-16.473023570450376,-0.411023160766437,-16.473023570450376,-16.473023570450376,-0.411023160766437,-16.473023570450376,16.772520701607576,-0.411023160766437,16.772520701607576,16.772520701607576,-0.411023160766437],\"type\":\"scatter3d\"},{\"hoverinfo\":\"skip\",\"line\":{\"color\":\"red\",\"width\":4},\"mode\":\"lines\",\"visible\":false,\"x\":[-0.2740123799496683,16.72242617167292,16.723033806306784,-0.2740123799496683,16.723033806306784,-16.52276364768412,-0.2740123799496683,-16.52276364768412,-16.52337128231798,-0.2740123799496683,16.72242617167292,-16.52337128231798,-0.2740123799496683],\"y\":[78.49844569911527,-28.454371724694493,-28.62844551771029,78.49844569911527,-28.62844551771029,-28.744495714660818,78.49844569911527,-28.744495714660818,-28.57042192164502,78.49844569911527,-28.454371724694493,-28.57042192164502,78.49844569911527],\"z\":[-0.411023160766437,16.772520701607576,-16.473023570450376,-0.411023160766437,-16.473023570450376,-16.473023570450376,-0.411023160766437,-16.473023570450376,16.772520701607576,-0.411023160766437,16.772520701607576,16.772520701607576,-0.411023160766437],\"type\":\"scatter3d\"},{\"hoverinfo\":\"skip\",\"line\":{\"color\":\"red\",\"width\":4},\"mode\":\"lines\",\"visible\":false,\"x\":[-0.2740123799496683,16.72242617167292,16.723033806306784,-0.2740123799496683,16.723033806306784,-16.52276364768412,-0.2740123799496683,-16.52276364768412,-16.52337128231798,-0.2740123799496683,16.72242617167292,-16.52337128231798,-0.2740123799496683],\"y\":[78.49844569911527,-28.454371724694493,-28.62844551771029,78.49844569911527,-28.62844551771029,-28.744495714660818,78.49844569911527,-28.744495714660818,-28.57042192164502,78.49844569911527,-28.454371724694493,-28.57042192164502,78.49844569911527],\"z\":[-0.411023160766437,16.772520701607576,-16.473023570450376,-0.411023160766437,-16.473023570450376,-16.473023570450376,-0.411023160766437,-16.473023570450376,16.772520701607576,-0.411023160766437,16.772520701607576,16.772520701607576,-0.411023160766437],\"type\":\"scatter3d\"},{\"hoverinfo\":\"skip\",\"line\":{\"color\":\"red\",\"width\":4},\"mode\":\"lines\",\"visible\":false,\"x\":[-0.2740123799496683,16.72242617167292,16.723033806306784,-0.2740123799496683,16.723033806306784,-16.52276364768412,-0.2740123799496683,-16.52276364768412,-16.52337128231798,-0.2740123799496683,16.72242617167292,-16.52337128231798,-0.2740123799496683],\"y\":[78.49844569911527,-28.454371724694493,-28.62844551771029,78.49844569911527,-28.62844551771029,-28.744495714660818,78.49844569911527,-28.744495714660818,-28.57042192164502,78.49844569911527,-28.454371724694493,-28.57042192164502,78.49844569911527],\"z\":[-0.411023160766437,16.772520701607576,-16.473023570450376,-0.411023160766437,-16.473023570450376,-16.473023570450376,-0.411023160766437,-16.473023570450376,16.772520701607576,-0.411023160766437,16.772520701607576,16.772520701607576,-0.411023160766437],\"type\":\"scatter3d\"},{\"hoverinfo\":\"skip\",\"line\":{\"color\":\"red\",\"width\":4},\"mode\":\"lines\",\"visible\":false,\"x\":[-0.2740123799496683,16.72242617167292,16.723033806306784,-0.2740123799496683,16.723033806306784,-16.52276364768412,-0.2740123799496683,-16.52276364768412,-16.52337128231798,-0.2740123799496683,16.72242617167292,-16.52337128231798,-0.2740123799496683],\"y\":[78.49844569911527,-28.454371724694493,-28.62844551771029,78.49844569911527,-28.62844551771029,-28.744495714660818,78.49844569911527,-28.744495714660818,-28.57042192164502,78.49844569911527,-28.454371724694493,-28.57042192164502,78.49844569911527],\"z\":[-0.411023160766437,16.772520701607576,-16.473023570450376,-0.411023160766437,-16.473023570450376,-16.473023570450376,-0.411023160766437,-16.473023570450376,16.772520701607576,-0.411023160766437,16.772520701607576,16.772520701607576,-0.411023160766437],\"type\":\"scatter3d\"},{\"hoverinfo\":\"skip\",\"line\":{\"color\":\"red\",\"width\":4},\"mode\":\"lines\",\"visible\":false,\"x\":[-0.2740123799496683,16.72242617167292,16.723033806306784,-0.2740123799496683,16.723033806306784,-16.52276364768412,-0.2740123799496683,-16.52276364768412,-16.52337128231798,-0.2740123799496683,16.72242617167292,-16.52337128231798,-0.2740123799496683],\"y\":[78.49844569911527,-28.454371724694493,-28.62844551771029,78.49844569911527,-28.62844551771029,-28.744495714660818,78.49844569911527,-28.744495714660818,-28.57042192164502,78.49844569911527,-28.454371724694493,-28.57042192164502,78.49844569911527],\"z\":[-0.411023160766437,16.772520701607576,-16.473023570450376,-0.411023160766437,-16.473023570450376,-16.473023570450376,-0.411023160766437,-16.473023570450376,16.772520701607576,-0.411023160766437,16.772520701607576,16.772520701607576,-0.411023160766437],\"type\":\"scatter3d\"},{\"hoverinfo\":\"skip\",\"line\":{\"color\":\"red\",\"width\":4},\"mode\":\"lines\",\"visible\":false,\"x\":[-0.2740123799496683,16.72242617167292,16.723033806306784,-0.2740123799496683,16.723033806306784,-16.52276364768412,-0.2740123799496683,-16.52276364768412,-16.52337128231798,-0.2740123799496683,16.72242617167292,-16.52337128231798,-0.2740123799496683],\"y\":[78.49844569911527,-28.454371724694493,-28.62844551771029,78.49844569911527,-28.62844551771029,-28.744495714660818,78.49844569911527,-28.744495714660818,-28.57042192164502,78.49844569911527,-28.454371724694493,-28.57042192164502,78.49844569911527],\"z\":[-0.411023160766437,16.772520701607576,-16.473023570450376,-0.411023160766437,-16.473023570450376,-16.473023570450376,-0.411023160766437,-16.473023570450376,16.772520701607576,-0.411023160766437,16.772520701607576,16.772520701607576,-0.411023160766437],\"type\":\"scatter3d\"},{\"hoverinfo\":\"skip\",\"line\":{\"color\":\"red\",\"width\":4},\"mode\":\"lines\",\"visible\":false,\"x\":[-0.2740123799496683,8.326130788221336,8.326431498461092,-0.2740123799496683,8.326431498461092,-8.126468264232534,-0.2740123799496683,-8.126468264232534,-8.12676897447229,-0.2740123799496683,8.326130788221336,-8.12676897447229,-0.2740123799496683],\"y\":[78.49844569911527,-28.527644481770597,-28.613791269850037,78.49844569911527,-28.613791269850037,-28.671222957584714,78.49844569911527,-28.671222957584714,-28.585076169505275,78.49844569911527,-28.527644481770597,-28.585076169505275,78.49844569911527],\"z\":[-0.411023160766437,8.376135798752056,-8.076638667594857,-0.411023160766437,-8.076638667594857,-8.076638667594857,-0.411023160766437,-8.076638667594857,8.376135798752056,-0.411023160766437,8.376135798752056,8.376135798752056,-0.411023160766437],\"type\":\"scatter3d\"},{\"hoverinfo\":\"skip\",\"line\":{\"color\":\"red\",\"width\":4},\"mode\":\"lines\",\"visible\":false,\"x\":[-0.2740123799496683,12.485529424256214,12.485982180231371,-0.2740123799496683,12.485982180231371,-12.285866900267411,-0.2740123799496683,-12.285866900267411,-12.286319656242568,-0.2740123799496683,12.485529424256214,-12.286319656242568,-0.2740123799496683],\"y\":[78.49844569911527,-28.491346258337256,-28.621050764160135,78.49844569911527,-28.621050764160135,-28.707521181018056,78.49844569911527,-28.707521181018056,-28.577816675195177,78.49844569911527,-28.491346258337256,-28.577816675195177,78.49844569911527],\"z\":[-0.411023160766437,12.535578781355227,-12.236081650198027,-0.411023160766437,-12.236081650198027,-12.236081650198027,-0.411023160766437,-12.236081650198027,12.535578781355227,-0.411023160766437,12.535578781355227,12.535578781355227,-0.411023160766437],\"type\":\"scatter3d\"},{\"hoverinfo\":\"skip\",\"line\":{\"color\":\"red\",\"width\":4},\"mode\":\"lines\",\"visible\":false,\"x\":[-0.2740123799496683,12.485529424256214,12.485982180231371,-0.2740123799496683,12.485982180231371,-12.285866900267411,-0.2740123799496683,-12.285866900267411,-12.286319656242568,-0.2740123799496683,12.485529424256214,-12.286319656242568,-0.2740123799496683],\"y\":[78.49844569911527,-28.491346258337256,-28.621050764160135,78.49844569911527,-28.621050764160135,-28.707521181018056,78.49844569911527,-28.707521181018056,-28.577816675195177,78.49844569911527,-28.491346258337256,-28.577816675195177,78.49844569911527],\"z\":[-0.411023160766437,12.535578781355227,-12.236081650198027,-0.411023160766437,-12.236081650198027,-12.236081650198027,-0.411023160766437,-12.236081650198027,12.535578781355227,-0.411023160766437,12.535578781355227,12.535578781355227,-0.411023160766437],\"type\":\"scatter3d\"},{\"hoverinfo\":\"skip\",\"line\":{\"color\":\"red\",\"width\":4},\"mode\":\"lines\",\"visible\":false,\"x\":[-28.514830712526646,21.946588144521073,21.99387302826063,-28.514830712526646,21.99387302826063,-1.1689025807437008,-28.514830712526646,-1.1689025807437008,-1.216187464483259,-28.514830712526646,21.946588144521073,-1.216187464483259,-28.514830712526646],\"y\":[73.13675881112903,-22.069969699055594,-22.191249154379634,73.13675881112903,-22.191249154379634,-31.222037995168346,73.13675881112903,-31.222037995168346,-31.10075853984431,73.13675881112903,-22.069969699055594,-31.10075853984431,73.13675881112903],\"z\":[-0.411023160766437,12.580078171360238,-12.280581040203039,-0.411023160766437,-12.280581040203039,-12.280581040203039,-0.411023160766437,-12.280581040203039,12.580078171360238,-0.411023160766437,12.580078171360238,12.580078171360238,-0.411023160766437],\"type\":\"scatter3d\"},{\"hoverinfo\":\"skip\",\"line\":{\"color\":\"red\",\"width\":4},\"mode\":\"lines\",\"visible\":false,\"x\":[52.831160443047516,-10.001481534936145,-10.060034293846508,52.831160443047516,-10.060034293846508,-28.49459970509338,52.831160443047516,-28.49459970509338,-28.436046946183012,52.831160443047516,-10.001481534936145,-28.436046946183012,52.831160443047516],\"y\":[58.060687228090316,-29.50822806477398,-29.57257670661578,58.060687228090316,-29.57257670661578,-12.798412819898193,58.060687228090316,-12.798412819898193,-12.734064178056391,58.060687228090316,-29.50822806477398,-12.734064178056391,58.060687228090316],\"z\":[-0.274016136095063,12.561756707706783,-12.362091446755985,-0.274016136095063,-12.362091446755985,-12.362091446755985,-0.274016136095063,-12.362091446755985,12.561756707706783,-0.274016136095063,12.561756707706783,12.561756707706783,-0.274016136095063],\"type\":\"scatter3d\"},{\"hoverinfo\":\"skip\",\"line\":{\"color\":\"red\",\"width\":4},\"mode\":\"lines\",\"visible\":false,\"x\":[-0.12898925693017751,12.48165571170861,12.496296011959682,-0.12898925693017751,12.496296011959682,-12.38766608755057,-0.12898925693017751,-12.38766608755057,-12.402306387801643,-0.12898925693017751,12.48165571170861,-12.402306387801643,-0.12898925693017751],\"y\":[73.90532520335475,-22.710168378112964,-31.09843401263755,73.90532520335475,-31.09843401263755,-31.141864763694564,73.90532520335475,-31.141864763694564,-22.753599129169977,73.90532520335475,-22.710168378112964,-22.753599129169977,73.90532520335475],\"z\":[-26.461977786211943,21.354700909451523,-2.07285212765123,-26.461977786211943,-2.07285212765123,-2.07285212765123,-26.461977786211943,-2.07285212765123,21.354700909451523,-26.461977786211943,21.354700909451523,21.354700909451523,-26.461977786211943],\"type\":\"scatter3d\"},{\"hoverinfo\":\"skip\",\"line\":{\"color\":\"red\",\"width\":4},\"mode\":\"lines\",\"visible\":false,\"x\":[-0.13252368793756839,12.495774014420407,12.484753116300405,-0.13252368793756839,12.484753116300405,-12.399208983209848,-0.13252368793756839,-12.399208983209848,-12.388188085089846,-0.13252368793756839,12.495774014420407,-12.388188085089846,-0.13252368793756839],\"y\":[75.93040294414241,-30.79935175715641,-24.484848681658487,75.93040294414241,-24.484848681658487,-24.5282794327155,75.93040294414241,-24.5282794327155,-30.842782508213425,75.93040294414241,-30.79935175715641,-30.842782508213425,75.93040294414241],\"z\":[19.91999864990724,4.777268164912021,-19.292222595162897,19.91999864990724,-19.292222595162897,-19.292222595162897,19.91999864990724,-19.292222595162897,4.777268164912021,19.91999864990724,4.777268164912021,4.777268164912021,19.91999864990724],\"type\":\"scatter3d\"},{\"hoverinfo\":\"skip\",\"line\":{\"color\":\"red\",\"width\":4},\"mode\":\"lines\",\"visible\":false,\"x\":[-0.13700639864745945,12.38978414333684,12.390009680929401,-0.13700639864745945,12.390009680929401,-12.289952729290539,-0.13700639864745945,-12.289952729290539,-12.2901782668831,-0.13700639864745945,12.38978414333684,-12.2901782668831,-0.13700639864745945],\"y\":[78.49880438075502,-28.513415351288003,-28.642638741828705,78.49880438075502,-28.642638741828705,-28.685713445899076,78.49880438075502,-28.685713445899076,-28.55649005535837,78.49880438075502,-28.513415351288003,-28.55649005535837,78.49880438075502],\"z\":[-0.411023160766437,12.489579411911846,-12.190082280754647,-0.411023160766437,-12.190082280754647,-12.190082280754647,-0.411023160766437,-12.190082280754647,12.489579411911846,-0.411023160766437,12.489579411911846,12.489579411911846,-0.411023160766437],\"type\":\"scatter3d\"},{\"hoverinfo\":\"skip\",\"line\":{\"color\":\"red\",\"width\":4},\"mode\":\"lines\",\"visible\":false,\"x\":[-0.13700639864745945,11.093797960722373,11.093999811384629,-0.13700639864745945,11.093999811384629,-10.993966546676072,-0.13700639864745945,-10.993966546676072,-10.994168397338328,-0.13700639864745945,11.093797960722373,-10.994168397338328,-0.13700639864745945],\"y\":[78.49880438075502,-28.522463095640347,-28.638114888600768,78.49880438075502,-28.638114888600768,-28.67666570154673,78.49880438075502,-28.67666570154673,-28.56101390858631,78.49880438075502,-28.522463095640347,-28.56101390858631,78.49880438075502],\"z\":[-0.411023160766437,11.193597177159182,-10.89410004600198,-0.411023160766437,-10.89410004600198,-10.89410004600198,-0.411023160766437,-10.89410004600198,11.193597177159182,-0.411023160766437,11.193597177159182,11.193597177159182,-0.411023160766437],\"type\":\"scatter3d\"},{\"hoverinfo\":\"skip\",\"line\":{\"color\":\"red\",\"width\":4},\"mode\":\"lines\",\"visible\":false,\"x\":[-0.13700639864745945,16.6727384798629,16.67304229764257,-0.13700639864745945,16.67304229764257,-16.572907065816597,-0.13700639864745945,-16.572907065816597,-16.573210883596268,-0.13700639864745945,16.6727384798629,-16.573210883596268,-0.13700639864745945],\"y\":[78.49880438075502,-28.483514510963072,-28.65758909937135,78.49880438075502,-28.65758909937135,-28.715614286224007,78.49880438075502,-28.715614286224007,-28.54153969781573,78.49880438075502,-28.483514510963072,-28.54153969781573,78.49880438075502],\"z\":[-0.411023160766437,16.772520701607576,-16.473023570450376,-0.411023160766437,-16.473023570450376,-16.473023570450376,-0.411023160766437,-16.473023570450376,16.772520701607576,-0.411023160766437,16.772520701607576,16.772520701607576,-0.411023160766437],\"type\":\"scatter3d\"},{\"hoverinfo\":\"skip\",\"line\":{\"color\":\"red\",\"width\":4},\"mode\":\"lines\",\"visible\":false,\"x\":[-0.13700639864745945,7.842332626794174,7.842475049945716,-0.13700639864745945,7.842475049945716,-7.7425012127478725,-0.13700639864745945,-7.7425012127478725,-7.742643635899415,-0.13700639864745945,7.842332626794174,-7.742643635899415,-0.13700639864745945],\"y\":[78.49880438075502,-28.545162741289776,-28.626765113314775,78.49880438075502,-28.626765113314775,-28.6539660558973,78.49880438075502,-28.6539660558973,-28.572363683872304,78.49880438075502,-28.545162741289776,-28.572363683872304,78.49880438075502],\"z\":[-0.411023160766437,7.942141747916673,-7.6426446167594735,-0.411023160766437,-7.6426446167594735,-7.6426446167594735,-0.411023160766437,-7.6426446167594735,7.942141747916673,-0.411023160766437,7.942141747916673,7.942141747916673,-0.411023160766437],\"type\":\"scatter3d\"},{\"hoverinfo\":\"skip\",\"line\":{\"color\":\"red\",\"width\":4},\"mode\":\"lines\",\"visible\":false,\"x\":[-78.49880438075502,29.772144695809505,29.85434920275801,-78.49880438075502,29.85434920275801,29.826947547413404,-78.49880438075502,29.826947547413404,29.744743040464904,-78.49880438075502,29.772144695809505,29.744743040464904,-78.49880438075502],\"y\":[0.13700639864745573,7.798049708454669,7.797906234378363,0.13700639864745573,7.797906234378363,-7.902069853160253,0.13700639864745573,-7.902069853160253,-7.901926379083947,0.13700639864745573,7.798049708454669,-7.901926379083947,0.13700639864745573],\"z\":[-0.411023160766437,8.005924116318603,-7.6938606719659965,-0.411023160766437,-7.6938606719659965,-7.6938606719659965,-0.411023160766437,-7.6938606719659965,8.005924116318603,-0.411023160766437,8.005924116318603,8.005924116318603,-0.411023160766437],\"type\":\"scatter3d\"},{\"hoverinfo\":\"skip\",\"line\":{\"color\":\"red\",\"width\":4},\"mode\":\"lines\",\"visible\":false,\"x\":[-78.49880438075502,29.772144695809505,29.85434920275801,-78.49880438075502,29.85434920275801,29.826947547413404,-78.49880438075502,29.826947547413404,29.744743040464904,-78.49880438075502,29.772144695809505,29.744743040464904,-78.49880438075502],\"y\":[0.13700639864745573,7.798049708454669,7.797906234378363,0.13700639864745573,7.797906234378363,-7.902069853160253,0.13700639864745573,-7.902069853160253,-7.901926379083947,0.13700639864745573,7.798049708454669,-7.901926379083947,0.13700639864745573],\"z\":[-0.411023160766437,8.005924116318603,-7.6938606719659965,-0.411023160766437,-7.6938606719659965,-7.6938606719659965,-0.411023160766437,-7.6938606719659965,8.005924116318603,-0.411023160766437,8.005924116318603,8.005924116318603,-0.411023160766437],\"type\":\"scatter3d\"},{\"hoverinfo\":\"skip\",\"line\":{\"color\":\"red\",\"width\":4},\"mode\":\"lines\",\"visible\":false,\"x\":[-78.49880438075502,29.772144695809505,29.85434920275801,-78.49880438075502,29.85434920275801,29.826947547413404,-78.49880438075502,29.826947547413404,29.744743040464904,-78.49880438075502,29.772144695809505,29.744743040464904,-78.49880438075502],\"y\":[0.13700639864745573,7.798049708454669,7.797906234378363,0.13700639864745573,7.797906234378363,-7.902069853160253,0.13700639864745573,-7.902069853160253,-7.901926379083947,0.13700639864745573,7.798049708454669,-7.901926379083947,0.13700639864745573],\"z\":[-0.411023160766437,8.005924116318603,-7.6938606719659965,-0.411023160766437,-7.6938606719659965,-7.6938606719659965,-0.411023160766437,-7.6938606719659965,8.005924116318603,-0.411023160766437,8.005924116318603,8.005924116318603,-0.411023160766437],\"type\":\"scatter3d\"},{\"hoverinfo\":\"skip\",\"line\":{\"color\":\"red\",\"width\":4},\"mode\":\"lines\",\"visible\":false,\"x\":[-78.49880438075502,29.772144695809505,29.85434920275801,-78.49880438075502,29.85434920275801,29.826947547413404,-78.49880438075502,29.826947547413404,29.744743040464904,-78.49880438075502,29.772144695809505,29.744743040464904,-78.49880438075502],\"y\":[0.13700639864745573,7.798049708454669,7.797906234378363,0.13700639864745573,7.797906234378363,-7.902069853160253,0.13700639864745573,-7.902069853160253,-7.901926379083947,0.13700639864745573,7.798049708454669,-7.901926379083947,0.13700639864745573],\"z\":[-0.411023160766437,8.005924116318603,-7.6938606719659965,-0.411023160766437,-7.6938606719659965,-7.6938606719659965,-0.411023160766437,-7.6938606719659965,8.005924116318603,-0.411023160766437,8.005924116318603,8.005924116318603,-0.411023160766437],\"type\":\"scatter3d\"},{\"hoverinfo\":\"skip\",\"line\":{\"color\":\"red\",\"width\":4},\"mode\":\"lines\",\"visible\":false,\"x\":[-0.27400570240023286,7.953730505316809,7.954208747624562,-0.27400570240023286,7.954208747624562,-7.745695602602747,-0.27400570240023286,-7.745695602602747,-7.7461738449104995,-0.27400570240023286,7.953730505316809,-7.7461738449104995,-0.27400570240023286],\"y\":[78.49653272988425,-29.702779262501217,-29.839785035134554,78.49653272988425,-29.839785035134554,-29.894588262353565,78.49653272988425,-29.894588262353565,-29.757582489720228,78.49653272988425,-29.702779262501217,-29.757582489720228,78.49653272988425],\"z\":[-0.6850330366223538,8.109751853905287,-7.589650338202201,-0.6850330366223538,-7.589650338202201,-7.589650338202201,-0.6850330366223538,-7.589650338202201,8.109751853905287,-0.6850330366223538,8.109751853905287,8.109751853905287,-0.6850330366223538],\"type\":\"scatter3d\"},{\"hoverinfo\":\"skip\",\"line\":{\"color\":\"#3f3f3f\",\"width\":4},\"mode\":\"lines\",\"visible\":true,\"x\":[119.8473600765709,119.8473600765709,-150.25858346980792,-150.25858346980792,119.8473600765709,132.7785834698079,132.7785834698079,119.8473600765709,132.7785834698079,-137.3273600765709,-150.25858346980792,-150.25858346980792,-137.3273600765709,132.7785834698079,-137.3273600765709,-137.3273600765709],\"y\":[13.66,18.66,18.66,13.66,13.66,13.66,18.66,18.66,18.66,18.66,18.66,13.66,13.66,13.66,13.66,18.66],\"z\":[-96.36883943282898,-96.36883943282898,-15.333172835210192,-15.333172835210192,-96.36883943282898,-53.2668271647898,-53.2668271647898,-96.36883943282898,-53.2668271647898,27.768839432828983,-15.333172835210192,-15.333172835210192,27.768839432828983,-53.2668271647898,27.768839432828983,27.768839432828983],\"type\":\"scatter3d\"},{\"hoverinfo\":\"skip\",\"line\":{\"color\":\"#3f3f3f\",\"width\":4},\"mode\":\"lines\",\"visible\":false,\"x\":[126.90314584046183,126.90314584046183,-143.13197790649585,-143.13197790649585,126.90314584046183,139.87197790649586,139.87197790649586,126.90314584046183,139.87197790649586,-130.16314584046182,-143.13197790649585,-143.13197790649585,-130.16314584046182,139.87197790649586,-130.16314584046182,-130.16314584046182],\"y\":[15.41,20.41,20.41,15.41,15.41,15.41,20.41,20.41,20.41,20.41,20.41,15.41,15.41,15.41,15.41,20.41],\"z\":[-96.43102942501491,-96.43102942501491,-15.159681811201736,-15.159681811201736,-96.43102942501491,-53.34031818879828,-53.34031818879828,-96.43102942501491,-53.34031818879828,27.931029425014913,-15.159681811201736,-15.159681811201736,27.931029425014913,-53.34031818879828,27.931029425014913,27.931029425014913],\"type\":\"scatter3d\"},{\"hoverinfo\":\"skip\",\"line\":{\"color\":\"#3f3f3f\",\"width\":4},\"mode\":\"lines\",\"visible\":false,\"x\":[126.90314584046183,126.90314584046183,-143.13197790649585,-143.13197790649585,126.90314584046183,139.87197790649586,139.87197790649586,126.90314584046183,139.87197790649586,-130.16314584046182,-143.13197790649585,-143.13197790649585,-130.16314584046182,139.87197790649586,-130.16314584046182,-130.16314584046182],\"y\":[15.41,20.41,20.41,15.41,15.41,15.41,20.41,20.41,20.41,20.41,20.41,15.41,15.41,15.41,15.41,20.41],\"z\":[-96.43102942501491,-96.43102942501491,-15.159681811201736,-15.159681811201736,-96.43102942501491,-53.34031818879828,-53.34031818879828,-96.43102942501491,-53.34031818879828,27.931029425014913,-15.159681811201736,-15.159681811201736,27.931029425014913,-53.34031818879828,27.931029425014913,27.931029425014913],\"type\":\"scatter3d\"},{\"hoverinfo\":\"skip\",\"line\":{\"color\":\"#3f3f3f\",\"width\":4},\"mode\":\"lines\",\"visible\":false,\"x\":[126.90314584046183,126.90314584046183,-143.13197790649585,-143.13197790649585,126.90314584046183,139.87197790649586,139.87197790649586,126.90314584046183,139.87197790649586,-130.16314584046182,-143.13197790649585,-143.13197790649585,-130.16314584046182,139.87197790649586,-130.16314584046182,-130.16314584046182],\"y\":[15.41,20.41,20.41,15.41,15.41,15.41,20.41,20.41,20.41,20.41,20.41,15.41,15.41,15.41,15.41,20.41],\"z\":[-96.43102942501491,-96.43102942501491,-15.159681811201736,-15.159681811201736,-96.43102942501491,-53.34031818879828,-53.34031818879828,-96.43102942501491,-53.34031818879828,27.931029425014913,-15.159681811201736,-15.159681811201736,27.931029425014913,-53.34031818879828,27.931029425014913,27.931029425014913],\"type\":\"scatter3d\"},{\"hoverinfo\":\"skip\",\"line\":{\"color\":\"#3f3f3f\",\"width\":4},\"mode\":\"lines\",\"visible\":false,\"x\":[126.90314584046183,126.90314584046183,-143.13197790649585,-143.13197790649585,126.90314584046183,139.87197790649586,139.87197790649586,126.90314584046183,139.87197790649586,-130.16314584046182,-143.13197790649585,-143.13197790649585,-130.16314584046182,139.87197790649586,-130.16314584046182,-130.16314584046182],\"y\":[15.41,20.41,20.41,15.41,15.41,15.41,20.41,20.41,20.41,20.41,20.41,15.41,15.41,15.41,15.41,20.41],\"z\":[-96.43102942501491,-96.43102942501491,-15.159681811201736,-15.159681811201736,-96.43102942501491,-53.34031818879828,-53.34031818879828,-96.43102942501491,-53.34031818879828,27.931029425014913,-15.159681811201736,-15.159681811201736,27.931029425014913,-53.34031818879828,27.931029425014913,27.931029425014913],\"type\":\"scatter3d\"},{\"hoverinfo\":\"skip\",\"line\":{\"color\":\"#3f3f3f\",\"width\":4},\"mode\":\"lines\",\"visible\":false,\"x\":[126.90314584046183,126.90314584046183,-143.13197790649585,-143.13197790649585,126.90314584046183,139.87197790649586,139.87197790649586,126.90314584046183,139.87197790649586,-130.16314584046182,-143.13197790649585,-143.13197790649585,-130.16314584046182,139.87197790649586,-130.16314584046182,-130.16314584046182],\"y\":[15.41,20.41,20.41,15.41,15.41,15.41,20.41,20.41,20.41,20.41,20.41,15.41,15.41,15.41,15.41,20.41],\"z\":[-96.43102942501491,-96.43102942501491,-15.159681811201736,-15.159681811201736,-96.43102942501491,-53.34031818879828,-53.34031818879828,-96.43102942501491,-53.34031818879828,27.931029425014913,-15.159681811201736,-15.159681811201736,27.931029425014913,-53.34031818879828,27.931029425014913,27.931029425014913],\"type\":\"scatter3d\"},{\"hoverinfo\":\"skip\",\"line\":{\"color\":\"#3f3f3f\",\"width\":4},\"mode\":\"lines\",\"visible\":false,\"x\":[130.48617146952344,130.48617146952344,-144.07431399721017,-144.07431399721017,130.48617146952344,140.75431399721018,140.75431399721018,130.48617146952344,140.75431399721018,-133.80617146952343,-144.07431399721017,-144.07431399721017,-133.80617146952343,140.75431399721018,-133.80617146952343,-133.80617146952343],\"y\":[24.259999999999998,29.259999999999998,29.259999999999998,24.259999999999998,24.259999999999998,24.259999999999998,29.259999999999998,29.259999999999998,29.259999999999998,29.259999999999998,29.259999999999998,24.259999999999998,24.259999999999998,24.259999999999998,24.259999999999998,29.259999999999998],\"z\":[-91.88993496618973,-91.88993496618973,-27.54290845935286,-27.54290845935286,-91.88993496618973,-48.07709154064712,-48.07709154064712,-91.88993496618973,-48.07709154064712,16.269934966189737,-27.54290845935286,-27.54290845935286,16.269934966189737,-48.07709154064712,16.269934966189737,16.269934966189737],\"type\":\"scatter3d\"},{\"hoverinfo\":\"skip\",\"line\":{\"color\":\"#3f3f3f\",\"width\":4},\"mode\":\"lines\",\"visible\":false,\"x\":[130.48617146952344,130.48617146952344,-144.07431399721017,-144.07431399721017,130.48617146952344,140.75431399721018,140.75431399721018,130.48617146952344,140.75431399721018,-133.80617146952343,-144.07431399721017,-144.07431399721017,-133.80617146952343,140.75431399721018,-133.80617146952343,-133.80617146952343],\"y\":[24.259999999999998,29.259999999999998,29.259999999999998,24.259999999999998,24.259999999999998,24.259999999999998,29.259999999999998,29.259999999999998,29.259999999999998,29.259999999999998,29.259999999999998,24.259999999999998,24.259999999999998,24.259999999999998,24.259999999999998,29.259999999999998],\"z\":[-91.88993496618973,-91.88993496618973,-27.54290845935286,-27.54290845935286,-91.88993496618973,-48.07709154064712,-48.07709154064712,-91.88993496618973,-48.07709154064712,16.269934966189737,-27.54290845935286,-27.54290845935286,16.269934966189737,-48.07709154064712,16.269934966189737,16.269934966189737],\"type\":\"scatter3d\"},{\"hoverinfo\":\"skip\",\"line\":{\"color\":\"#3f3f3f\",\"width\":4},\"mode\":\"lines\",\"visible\":false,\"x\":[130.48617146952344,130.48617146952344,-144.07431399721017,-144.07431399721017,130.48617146952344,140.75431399721018,140.75431399721018,130.48617146952344,140.75431399721018,-133.80617146952343,-144.07431399721017,-144.07431399721017,-133.80617146952343,140.75431399721018,-133.80617146952343,-133.80617146952343],\"y\":[24.259999999999998,29.259999999999998,29.259999999999998,24.259999999999998,24.259999999999998,24.259999999999998,29.259999999999998,29.259999999999998,29.259999999999998,29.259999999999998,29.259999999999998,24.259999999999998,24.259999999999998,24.259999999999998,24.259999999999998,29.259999999999998],\"z\":[-91.88993496618973,-91.88993496618973,-27.54290845935286,-27.54290845935286,-91.88993496618973,-48.07709154064712,-48.07709154064712,-91.88993496618973,-48.07709154064712,16.269934966189737,-27.54290845935286,-27.54290845935286,16.269934966189737,-48.07709154064712,16.269934966189737,16.269934966189737],\"type\":\"scatter3d\"},{\"hoverinfo\":\"skip\",\"line\":{\"color\":\"#3f3f3f\",\"width\":4},\"mode\":\"lines\",\"visible\":false,\"x\":[130.48617146952344,130.48617146952344,-144.07431399721017,-144.07431399721017,130.48617146952344,140.75431399721018,140.75431399721018,130.48617146952344,140.75431399721018,-133.80617146952343,-144.07431399721017,-144.07431399721017,-133.80617146952343,140.75431399721018,-133.80617146952343,-133.80617146952343],\"y\":[24.259999999999998,29.259999999999998,29.259999999999998,24.259999999999998,24.259999999999998,24.259999999999998,29.259999999999998,29.259999999999998,29.259999999999998,29.259999999999998,29.259999999999998,24.259999999999998,24.259999999999998,24.259999999999998,24.259999999999998,29.259999999999998],\"z\":[-91.88993496618973,-91.88993496618973,-27.54290845935286,-27.54290845935286,-91.88993496618973,-48.07709154064712,-48.07709154064712,-91.88993496618973,-48.07709154064712,16.269934966189737,-27.54290845935286,-27.54290845935286,16.269934966189737,-48.07709154064712,16.269934966189737,16.269934966189737],\"type\":\"scatter3d\"},{\"hoverinfo\":\"skip\",\"line\":{\"color\":\"#3f3f3f\",\"width\":4},\"mode\":\"lines\",\"visible\":false,\"x\":[130.48617146952344,130.48617146952344,-144.07431399721017,-144.07431399721017,130.48617146952344,140.75431399721018,140.75431399721018,130.48617146952344,140.75431399721018,-133.80617146952343,-144.07431399721017,-144.07431399721017,-133.80617146952343,140.75431399721018,-133.80617146952343,-133.80617146952343],\"y\":[24.259999999999998,29.259999999999998,29.259999999999998,24.259999999999998,24.259999999999998,24.259999999999998,29.259999999999998,29.259999999999998,29.259999999999998,29.259999999999998,29.259999999999998,24.259999999999998,24.259999999999998,24.259999999999998,24.259999999999998,29.259999999999998],\"z\":[-91.88993496618973,-91.88993496618973,-27.54290845935286,-27.54290845935286,-91.88993496618973,-48.07709154064712,-48.07709154064712,-91.88993496618973,-48.07709154064712,16.269934966189737,-27.54290845935286,-27.54290845935286,16.269934966189737,-48.07709154064712,16.269934966189737,16.269934966189737],\"type\":\"scatter3d\"},{\"hoverinfo\":\"skip\",\"line\":{\"color\":\"#3f3f3f\",\"width\":4},\"mode\":\"lines\",\"visible\":false,\"x\":[130.48617146952344,130.48617146952344,-144.07431399721017,-144.07431399721017,130.48617146952344,140.75431399721018,140.75431399721018,130.48617146952344,140.75431399721018,-133.80617146952343,-144.07431399721017,-144.07431399721017,-133.80617146952343,140.75431399721018,-133.80617146952343,-133.80617146952343],\"y\":[24.259999999999998,29.259999999999998,29.259999999999998,24.259999999999998,24.259999999999998,24.259999999999998,29.259999999999998,29.259999999999998,29.259999999999998,29.259999999999998,29.259999999999998,24.259999999999998,24.259999999999998,24.259999999999998,24.259999999999998,29.259999999999998],\"z\":[-91.88993496618973,-91.88993496618973,-27.54290845935286,-27.54290845935286,-91.88993496618973,-48.07709154064712,-48.07709154064712,-91.88993496618973,-48.07709154064712,16.269934966189737,-27.54290845935286,-27.54290845935286,16.269934966189737,-48.07709154064712,16.269934966189737,16.269934966189737],\"type\":\"scatter3d\"},{\"hoverinfo\":\"skip\",\"line\":{\"color\":\"#3f3f3f\",\"width\":4},\"mode\":\"lines\",\"visible\":false,\"x\":[134.2966633080048,134.2966633080048,-144.45116372825,-144.45116372825,134.2966633080048,141.11116372825003,141.11116372825003,134.2966633080048,141.11116372825003,-137.63666330800478,-144.45116372825,-144.45116372825,-137.63666330800478,141.11116372825003,-137.63666330800478,-137.63666330800478],\"y\":[24.259999999999998,29.259999999999998,29.259999999999998,24.259999999999998,24.259999999999998,24.259999999999998,29.259999999999998,29.259999999999998,29.259999999999998,29.259999999999998,29.259999999999998,24.259999999999998,24.259999999999998,24.259999999999998,24.259999999999998,29.259999999999998],\"z\":[-85.88261943136311,-85.88261943136311,-43.17841679782646,-43.17841679782646,-85.88261943136311,-41.401583202173526,-41.401583202173526,-85.88261943136311,-41.401583202173526,1.3026194313631265,-43.17841679782646,-43.17841679782646,1.3026194313631265,-41.401583202173526,1.3026194313631265,1.3026194313631265],\"type\":\"scatter3d\"},{\"hoverinfo\":\"skip\",\"line\":{\"color\":\"#3f3f3f\",\"width\":4},\"mode\":\"lines\",\"visible\":false,\"x\":[134.88920431978073,134.88920431978073,-143.09574254471153,-143.09574254471153,134.88920431978073,142.45574254471154,142.45574254471154,134.88920431978073,142.45574254471154,-135.52920431978072,-143.09574254471153,-143.09574254471153,-135.52920431978072,142.45574254471154,-135.52920431978072,-135.52920431978072],\"y\":[24.259999999999998,29.259999999999998,29.259999999999998,24.259999999999998,24.259999999999998,24.259999999999998,29.259999999999998,29.259999999999998,29.259999999999998,29.259999999999998,29.259999999999998,24.259999999999998,24.259999999999998,24.259999999999998,24.259999999999998,29.259999999999998],\"z\":[-87.20813645390051,-87.20813645390051,-39.79116357766743,-39.79116357766743,-87.20813645390051,-42.84883642233258,-42.84883642233258,-87.20813645390051,-42.84883642233258,4.568136453900493,-39.79116357766743,-39.79116357766743,4.568136453900493,-42.84883642233258,4.568136453900493,4.568136453900493],\"type\":\"scatter3d\"},{\"hoverinfo\":\"skip\",\"line\":{\"color\":\"#3f3f3f\",\"width\":4},\"mode\":\"lines\",\"visible\":false,\"x\":[134.88920431978073,134.88920431978073,-143.09574254471153,-143.09574254471153,134.88920431978073,142.45574254471154,142.45574254471154,134.88920431978073,142.45574254471154,-135.52920431978072,-143.09574254471153,-143.09574254471153,-135.52920431978072,142.45574254471154,-135.52920431978072,-135.52920431978072],\"y\":[24.259999999999998,29.259999999999998,29.259999999999998,24.259999999999998,24.259999999999998,24.259999999999998,29.259999999999998,29.259999999999998,29.259999999999998,29.259999999999998,29.259999999999998,24.259999999999998,24.259999999999998,24.259999999999998,24.259999999999998,29.259999999999998],\"z\":[-87.20813645390051,-87.20813645390051,-39.79116357766743,-39.79116357766743,-87.20813645390051,-42.84883642233258,-42.84883642233258,-87.20813645390051,-42.84883642233258,4.568136453900493,-39.79116357766743,-39.79116357766743,4.568136453900493,-42.84883642233258,4.568136453900493,4.568136453900493],\"type\":\"scatter3d\"},{\"hoverinfo\":\"skip\",\"line\":{\"color\":\"#3f3f3f\",\"width\":4},\"mode\":\"lines\",\"visible\":false,\"x\":[127.99900271117987,127.99900271117987,-141.8081160201353,-141.8081160201353,127.99900271117987,141.08811602013526,141.08811602013526,127.99900271117987,141.08811602013526,-128.71900271117988,-141.8081160201353,-141.8081160201353,-128.71900271117988,141.08811602013526,-128.71900271117988,-128.71900271117988],\"y\":[24.259999999999998,29.259999999999998,29.259999999999998,24.259999999999998,24.259999999999998,24.259999999999998,29.259999999999998,29.259999999999998,29.259999999999998,29.259999999999998,29.259999999999998,24.259999999999998,24.259999999999998,24.259999999999998,24.259999999999998,29.259999999999998],\"z\":[-96.62971876328928,-96.62971876328928,-14.604608693835488,-14.604608693835488,-96.62971876328928,-53.57539130616453,-53.57539130616453,-96.62971876328928,-53.57539130616453,28.44971876328927,-14.604608693835488,-14.604608693835488,28.44971876328927,-53.57539130616453,28.44971876328927,28.44971876328927],\"type\":\"scatter3d\"},{\"hoverinfo\":\"skip\",\"line\":{\"color\":\"#3f3f3f\",\"width\":4},\"mode\":\"lines\",\"visible\":false,\"x\":[127.99900271117987,127.99900271117987,-141.8081160201353,-141.8081160201353,127.99900271117987,141.08811602013526,141.08811602013526,127.99900271117987,141.08811602013526,-128.71900271117988,-141.8081160201353,-141.8081160201353,-128.71900271117988,141.08811602013526,-128.71900271117988,-128.71900271117988],\"y\":[24.259999999999998,29.259999999999998,29.259999999999998,24.259999999999998,24.259999999999998,24.259999999999998,29.259999999999998,29.259999999999998,29.259999999999998,29.259999999999998,29.259999999999998,24.259999999999998,24.259999999999998,24.259999999999998,24.259999999999998,29.259999999999998],\"z\":[-96.62971876328928,-96.62971876328928,-14.604608693835488,-14.604608693835488,-96.62971876328928,-53.57539130616453,-53.57539130616453,-96.62971876328928,-53.57539130616453,28.44971876328927,-14.604608693835488,-14.604608693835488,28.44971876328927,-53.57539130616453,28.44971876328927,28.44971876328927],\"type\":\"scatter3d\"},{\"hoverinfo\":\"skip\",\"line\":{\"color\":\"#3f3f3f\",\"width\":4},\"mode\":\"lines\",\"visible\":false,\"x\":[127.99900271117987,127.99900271117987,-141.8081160201353,-141.8081160201353,127.99900271117987,141.08811602013526,141.08811602013526,127.99900271117987,141.08811602013526,-128.71900271117988,-141.8081160201353,-141.8081160201353,-128.71900271117988,141.08811602013526,-128.71900271117988,-128.71900271117988],\"y\":[24.259999999999998,29.259999999999998,29.259999999999998,24.259999999999998,24.259999999999998,24.259999999999998,29.259999999999998,29.259999999999998,29.259999999999998,29.259999999999998,29.259999999999998,24.259999999999998,24.259999999999998,24.259999999999998,24.259999999999998,29.259999999999998],\"z\":[-96.62971876328928,-96.62971876328928,-14.604608693835488,-14.604608693835488,-96.62971876328928,-53.57539130616453,-53.57539130616453,-96.62971876328928,-53.57539130616453,28.44971876328927,-14.604608693835488,-14.604608693835488,28.44971876328927,-53.57539130616453,28.44971876328927,28.44971876328927],\"type\":\"scatter3d\"},{\"hoverinfo\":\"skip\",\"line\":{\"color\":\"#3f3f3f\",\"width\":4},\"mode\":\"lines\",\"visible\":false,\"x\":[127.99900271117987,127.99900271117987,-141.8081160201353,-141.8081160201353,127.99900271117987,141.08811602013526,141.08811602013526,127.99900271117987,141.08811602013526,-128.71900271117988,-141.8081160201353,-141.8081160201353,-128.71900271117988,141.08811602013526,-128.71900271117988,-128.71900271117988],\"y\":[24.259999999999998,29.259999999999998,29.259999999999998,24.259999999999998,24.259999999999998,24.259999999999998,29.259999999999998,29.259999999999998,29.259999999999998,29.259999999999998,29.259999999999998,24.259999999999998,24.259999999999998,24.259999999999998,24.259999999999998,29.259999999999998],\"z\":[-96.62971876328928,-96.62971876328928,-14.604608693835488,-14.604608693835488,-96.62971876328928,-53.57539130616453,-53.57539130616453,-96.62971876328928,-53.57539130616453,28.44971876328927,-14.604608693835488,-14.604608693835488,28.44971876328927,-53.57539130616453,28.44971876328927,28.44971876328927],\"type\":\"scatter3d\"},{\"hoverinfo\":\"skip\",\"line\":{\"color\":\"#3f3f3f\",\"width\":4},\"mode\":\"lines\",\"visible\":false,\"x\":[122.2972238903211,122.2972238903211,-151.38560162780786,-151.38560162780786,122.2972238903211,133.14560162780785,133.14560162780785,122.2972238903211,133.14560162780785,-140.53722389032112,-151.38560162780786,-151.38560162780786,-140.53722389032112,133.14560162780785,-140.53722389032112,-140.53722389032112],\"y\":[16.48,21.48,21.48,16.48,16.48,16.48,21.48,21.48,21.48,21.48,21.48,16.48,16.48,16.48,16.48,21.48],\"z\":[-92.87797923050066,-92.87797923050066,-24.894812075583744,-24.894812075583744,-92.87797923050066,-49.20518792441625,-49.20518792441625,-92.87797923050066,-49.20518792441625,18.777979230500677,-24.894812075583744,-24.894812075583744,18.777979230500677,-49.20518792441625,18.777979230500677,18.777979230500677],\"type\":\"scatter3d\"},{\"hoverinfo\":\"skip\",\"line\":{\"color\":\"#3f3f3f\",\"width\":4},\"mode\":\"lines\",\"visible\":false,\"x\":[122.32670352457647,122.32670352457647,-151.3798359214153,-151.3798359214153,122.32670352457647,133.15983592141527,133.15983592141527,122.32670352457647,133.15983592141527,-140.54670352457646,-151.3798359214153,-151.3798359214153,-140.54670352457646,133.15983592141527,-140.54670352457646,-140.54670352457646],\"y\":[14.38,19.380000000000003,19.380000000000003,14.38,14.38,14.38,19.380000000000003,19.380000000000003,19.380000000000003,19.380000000000003,19.380000000000003,14.38,14.38,14.38,14.38,19.380000000000003],\"z\":[-92.85210256518293,-92.85210256518293,-24.96447287832639,-24.96447287832639,-92.85210256518293,-49.175527121673625,-49.175527121673625,-92.85210256518293,-49.175527121673625,18.712102565182917,-24.96447287832639,-24.96447287832639,18.712102565182917,-49.175527121673625,18.712102565182917,18.712102565182917],\"type\":\"scatter3d\"},{\"hoverinfo\":\"skip\",\"line\":{\"color\":\"#3f3f3f\",\"width\":4},\"mode\":\"lines\",\"visible\":false,\"x\":[122.32670352457647,122.32670352457647,-151.3798359214153,-151.3798359214153,122.32670352457647,133.15983592141527,133.15983592141527,122.32670352457647,133.15983592141527,-140.54670352457646,-151.3798359214153,-151.3798359214153,-140.54670352457646,133.15983592141527,-140.54670352457646,-140.54670352457646],\"y\":[14.59,19.59,19.59,14.59,14.59,14.59,19.59,19.59,19.59,19.59,19.59,14.59,14.59,14.59,14.59,19.59],\"z\":[-92.85210256518293,-92.85210256518293,-24.96447287832639,-24.96447287832639,-92.85210256518293,-49.175527121673625,-49.175527121673625,-92.85210256518293,-49.175527121673625,18.712102565182917,-24.96447287832639,-24.96447287832639,18.712102565182917,-49.175527121673625,18.712102565182917,18.712102565182917],\"type\":\"scatter3d\"},{\"hoverinfo\":\"skip\",\"line\":{\"color\":\"#3f3f3f\",\"width\":4},\"mode\":\"lines\",\"visible\":false,\"x\":[122.32670352457647,122.32670352457647,-151.3798359214153,-151.3798359214153,122.32670352457647,133.15983592141527,133.15983592141527,122.32670352457647,133.15983592141527,-140.54670352457646,-151.3798359214153,-151.3798359214153,-140.54670352457646,133.15983592141527,-140.54670352457646,-140.54670352457646],\"y\":[14.59,19.59,19.59,14.59,14.59,14.59,19.59,19.59,19.59,19.59,19.59,14.59,14.59,14.59,14.59,19.59],\"z\":[-92.85210256518293,-92.85210256518293,-24.96447287832639,-24.96447287832639,-92.85210256518293,-49.175527121673625,-49.175527121673625,-92.85210256518293,-49.175527121673625,18.712102565182917,-24.96447287832639,-24.96447287832639,18.712102565182917,-49.175527121673625,18.712102565182917,18.712102565182917],\"type\":\"scatter3d\"},{\"hoverinfo\":\"skip\",\"line\":{\"color\":\"#3f3f3f\",\"width\":4},\"mode\":\"lines\",\"visible\":false,\"x\":[122.32670352457647,122.32670352457647,-151.3798359214153,-151.3798359214153,122.32670352457647,133.15983592141527,133.15983592141527,122.32670352457647,133.15983592141527,-140.54670352457646,-151.3798359214153,-151.3798359214153,-140.54670352457646,133.15983592141527,-140.54670352457646,-140.54670352457646],\"y\":[14.59,19.59,19.59,14.59,14.59,14.59,19.59,19.59,19.59,19.59,19.59,14.59,14.59,14.59,14.59,19.59],\"z\":[-92.85210256518293,-92.85210256518293,-24.96447287832639,-24.96447287832639,-92.85210256518293,-49.175527121673625,-49.175527121673625,-92.85210256518293,-49.175527121673625,18.712102565182917,-24.96447287832639,-24.96447287832639,18.712102565182917,-49.175527121673625,18.712102565182917,18.712102565182917],\"type\":\"scatter3d\"},{\"hoverinfo\":\"skip\",\"line\":{\"color\":\"#3f3f3f\",\"width\":4},\"mode\":\"lines\",\"visible\":true,\"x\":[119.8473600765709,119.8473600765709,-150.25858346980792,-150.25858346980792,119.8473600765709,132.7785834698079,132.7785834698079,119.8473600765709,132.7785834698079,-137.3273600765709,-150.25858346980792,-150.25858346980792,-137.3273600765709,132.7785834698079,-137.3273600765709,-137.3273600765709],\"y\":[13.66,9.66,9.66,13.66,13.66,13.66,9.66,9.66,9.66,9.66,9.66,13.66,13.66,13.66,13.66,9.66],\"z\":[-96.36883943282898,-96.36883943282898,-15.333172835210192,-15.333172835210192,-96.36883943282898,-53.2668271647898,-53.2668271647898,-96.36883943282898,-53.2668271647898,27.768839432828983,-15.333172835210192,-15.333172835210192,27.768839432828983,-53.2668271647898,27.768839432828983,27.768839432828983],\"type\":\"scatter3d\"},{\"hoverinfo\":\"skip\",\"line\":{\"color\":\"#3f3f3f\",\"width\":4},\"mode\":\"lines\",\"visible\":false,\"x\":[126.90314584046183,126.90314584046183,-143.13197790649585,-143.13197790649585,126.90314584046183,139.87197790649586,139.87197790649586,126.90314584046183,139.87197790649586,-130.16314584046182,-143.13197790649585,-143.13197790649585,-130.16314584046182,139.87197790649586,-130.16314584046182,-130.16314584046182],\"y\":[15.41,11.41,11.41,15.41,15.41,15.41,11.41,11.41,11.41,11.41,11.41,15.41,15.41,15.41,15.41,11.41],\"z\":[-96.43102942501491,-96.43102942501491,-15.159681811201736,-15.159681811201736,-96.43102942501491,-53.34031818879828,-53.34031818879828,-96.43102942501491,-53.34031818879828,27.931029425014913,-15.159681811201736,-15.159681811201736,27.931029425014913,-53.34031818879828,27.931029425014913,27.931029425014913],\"type\":\"scatter3d\"},{\"hoverinfo\":\"skip\",\"line\":{\"color\":\"#3f3f3f\",\"width\":4},\"mode\":\"lines\",\"visible\":false,\"x\":[126.90314584046183,126.90314584046183,-143.13197790649585,-143.13197790649585,126.90314584046183,139.87197790649586,139.87197790649586,126.90314584046183,139.87197790649586,-130.16314584046182,-143.13197790649585,-143.13197790649585,-130.16314584046182,139.87197790649586,-130.16314584046182,-130.16314584046182],\"y\":[15.41,11.41,11.41,15.41,15.41,15.41,11.41,11.41,11.41,11.41,11.41,15.41,15.41,15.41,15.41,11.41],\"z\":[-96.43102942501491,-96.43102942501491,-15.159681811201736,-15.159681811201736,-96.43102942501491,-53.34031818879828,-53.34031818879828,-96.43102942501491,-53.34031818879828,27.931029425014913,-15.159681811201736,-15.159681811201736,27.931029425014913,-53.34031818879828,27.931029425014913,27.931029425014913],\"type\":\"scatter3d\"},{\"hoverinfo\":\"skip\",\"line\":{\"color\":\"#3f3f3f\",\"width\":4},\"mode\":\"lines\",\"visible\":false,\"x\":[126.90314584046183,126.90314584046183,-143.13197790649585,-143.13197790649585,126.90314584046183,139.87197790649586,139.87197790649586,126.90314584046183,139.87197790649586,-130.16314584046182,-143.13197790649585,-143.13197790649585,-130.16314584046182,139.87197790649586,-130.16314584046182,-130.16314584046182],\"y\":[15.41,11.41,11.41,15.41,15.41,15.41,11.41,11.41,11.41,11.41,11.41,15.41,15.41,15.41,15.41,11.41],\"z\":[-96.43102942501491,-96.43102942501491,-15.159681811201736,-15.159681811201736,-96.43102942501491,-53.34031818879828,-53.34031818879828,-96.43102942501491,-53.34031818879828,27.931029425014913,-15.159681811201736,-15.159681811201736,27.931029425014913,-53.34031818879828,27.931029425014913,27.931029425014913],\"type\":\"scatter3d\"},{\"hoverinfo\":\"skip\",\"line\":{\"color\":\"#3f3f3f\",\"width\":4},\"mode\":\"lines\",\"visible\":false,\"x\":[126.90314584046183,126.90314584046183,-143.13197790649585,-143.13197790649585,126.90314584046183,139.87197790649586,139.87197790649586,126.90314584046183,139.87197790649586,-130.16314584046182,-143.13197790649585,-143.13197790649585,-130.16314584046182,139.87197790649586,-130.16314584046182,-130.16314584046182],\"y\":[15.41,11.41,11.41,15.41,15.41,15.41,11.41,11.41,11.41,11.41,11.41,15.41,15.41,15.41,15.41,11.41],\"z\":[-96.43102942501491,-96.43102942501491,-15.159681811201736,-15.159681811201736,-96.43102942501491,-53.34031818879828,-53.34031818879828,-96.43102942501491,-53.34031818879828,27.931029425014913,-15.159681811201736,-15.159681811201736,27.931029425014913,-53.34031818879828,27.931029425014913,27.931029425014913],\"type\":\"scatter3d\"},{\"hoverinfo\":\"skip\",\"line\":{\"color\":\"#3f3f3f\",\"width\":4},\"mode\":\"lines\",\"visible\":false,\"x\":[126.90314584046183,126.90314584046183,-143.13197790649585,-143.13197790649585,126.90314584046183,139.87197790649586,139.87197790649586,126.90314584046183,139.87197790649586,-130.16314584046182,-143.13197790649585,-143.13197790649585,-130.16314584046182,139.87197790649586,-130.16314584046182,-130.16314584046182],\"y\":[15.41,11.41,11.41,15.41,15.41,15.41,11.41,11.41,11.41,11.41,11.41,15.41,15.41,15.41,15.41,11.41],\"z\":[-96.43102942501491,-96.43102942501491,-15.159681811201736,-15.159681811201736,-96.43102942501491,-53.34031818879828,-53.34031818879828,-96.43102942501491,-53.34031818879828,27.931029425014913,-15.159681811201736,-15.159681811201736,27.931029425014913,-53.34031818879828,27.931029425014913,27.931029425014913],\"type\":\"scatter3d\"},{\"hoverinfo\":\"skip\",\"line\":{\"color\":\"#3f3f3f\",\"width\":4},\"mode\":\"lines\",\"visible\":false,\"x\":[130.48617146952344,130.48617146952344,-144.07431399721017,-144.07431399721017,130.48617146952344,140.75431399721018,140.75431399721018,130.48617146952344,140.75431399721018,-133.80617146952343,-144.07431399721017,-144.07431399721017,-133.80617146952343,140.75431399721018,-133.80617146952343,-133.80617146952343],\"y\":[24.259999999999998,20.259999999999998,20.259999999999998,24.259999999999998,24.259999999999998,24.259999999999998,20.259999999999998,20.259999999999998,20.259999999999998,20.259999999999998,20.259999999999998,24.259999999999998,24.259999999999998,24.259999999999998,24.259999999999998,20.259999999999998],\"z\":[-91.88993496618973,-91.88993496618973,-27.54290845935286,-27.54290845935286,-91.88993496618973,-48.07709154064712,-48.07709154064712,-91.88993496618973,-48.07709154064712,16.269934966189737,-27.54290845935286,-27.54290845935286,16.269934966189737,-48.07709154064712,16.269934966189737,16.269934966189737],\"type\":\"scatter3d\"},{\"hoverinfo\":\"skip\",\"line\":{\"color\":\"#3f3f3f\",\"width\":4},\"mode\":\"lines\",\"visible\":false,\"x\":[130.48617146952344,130.48617146952344,-144.07431399721017,-144.07431399721017,130.48617146952344,140.75431399721018,140.75431399721018,130.48617146952344,140.75431399721018,-133.80617146952343,-144.07431399721017,-144.07431399721017,-133.80617146952343,140.75431399721018,-133.80617146952343,-133.80617146952343],\"y\":[24.259999999999998,20.259999999999998,20.259999999999998,24.259999999999998,24.259999999999998,24.259999999999998,20.259999999999998,20.259999999999998,20.259999999999998,20.259999999999998,20.259999999999998,24.259999999999998,24.259999999999998,24.259999999999998,24.259999999999998,20.259999999999998],\"z\":[-91.88993496618973,-91.88993496618973,-27.54290845935286,-27.54290845935286,-91.88993496618973,-48.07709154064712,-48.07709154064712,-91.88993496618973,-48.07709154064712,16.269934966189737,-27.54290845935286,-27.54290845935286,16.269934966189737,-48.07709154064712,16.269934966189737,16.269934966189737],\"type\":\"scatter3d\"},{\"hoverinfo\":\"skip\",\"line\":{\"color\":\"#3f3f3f\",\"width\":4},\"mode\":\"lines\",\"visible\":false,\"x\":[130.48617146952344,130.48617146952344,-144.07431399721017,-144.07431399721017,130.48617146952344,140.75431399721018,140.75431399721018,130.48617146952344,140.75431399721018,-133.80617146952343,-144.07431399721017,-144.07431399721017,-133.80617146952343,140.75431399721018,-133.80617146952343,-133.80617146952343],\"y\":[24.259999999999998,20.259999999999998,20.259999999999998,24.259999999999998,24.259999999999998,24.259999999999998,20.259999999999998,20.259999999999998,20.259999999999998,20.259999999999998,20.259999999999998,24.259999999999998,24.259999999999998,24.259999999999998,24.259999999999998,20.259999999999998],\"z\":[-91.88993496618973,-91.88993496618973,-27.54290845935286,-27.54290845935286,-91.88993496618973,-48.07709154064712,-48.07709154064712,-91.88993496618973,-48.07709154064712,16.269934966189737,-27.54290845935286,-27.54290845935286,16.269934966189737,-48.07709154064712,16.269934966189737,16.269934966189737],\"type\":\"scatter3d\"},{\"hoverinfo\":\"skip\",\"line\":{\"color\":\"#3f3f3f\",\"width\":4},\"mode\":\"lines\",\"visible\":false,\"x\":[130.48617146952344,130.48617146952344,-144.07431399721017,-144.07431399721017,130.48617146952344,140.75431399721018,140.75431399721018,130.48617146952344,140.75431399721018,-133.80617146952343,-144.07431399721017,-144.07431399721017,-133.80617146952343,140.75431399721018,-133.80617146952343,-133.80617146952343],\"y\":[24.259999999999998,20.259999999999998,20.259999999999998,24.259999999999998,24.259999999999998,24.259999999999998,20.259999999999998,20.259999999999998,20.259999999999998,20.259999999999998,20.259999999999998,24.259999999999998,24.259999999999998,24.259999999999998,24.259999999999998,20.259999999999998],\"z\":[-91.88993496618973,-91.88993496618973,-27.54290845935286,-27.54290845935286,-91.88993496618973,-48.07709154064712,-48.07709154064712,-91.88993496618973,-48.07709154064712,16.269934966189737,-27.54290845935286,-27.54290845935286,16.269934966189737,-48.07709154064712,16.269934966189737,16.269934966189737],\"type\":\"scatter3d\"},{\"hoverinfo\":\"skip\",\"line\":{\"color\":\"#3f3f3f\",\"width\":4},\"mode\":\"lines\",\"visible\":false,\"x\":[130.48617146952344,130.48617146952344,-144.07431399721017,-144.07431399721017,130.48617146952344,140.75431399721018,140.75431399721018,130.48617146952344,140.75431399721018,-133.80617146952343,-144.07431399721017,-144.07431399721017,-133.80617146952343,140.75431399721018,-133.80617146952343,-133.80617146952343],\"y\":[24.259999999999998,20.259999999999998,20.259999999999998,24.259999999999998,24.259999999999998,24.259999999999998,20.259999999999998,20.259999999999998,20.259999999999998,20.259999999999998,20.259999999999998,24.259999999999998,24.259999999999998,24.259999999999998,24.259999999999998,20.259999999999998],\"z\":[-91.88993496618973,-91.88993496618973,-27.54290845935286,-27.54290845935286,-91.88993496618973,-48.07709154064712,-48.07709154064712,-91.88993496618973,-48.07709154064712,16.269934966189737,-27.54290845935286,-27.54290845935286,16.269934966189737,-48.07709154064712,16.269934966189737,16.269934966189737],\"type\":\"scatter3d\"},{\"hoverinfo\":\"skip\",\"line\":{\"color\":\"#3f3f3f\",\"width\":4},\"mode\":\"lines\",\"visible\":false,\"x\":[130.48617146952344,130.48617146952344,-144.07431399721017,-144.07431399721017,130.48617146952344,140.75431399721018,140.75431399721018,130.48617146952344,140.75431399721018,-133.80617146952343,-144.07431399721017,-144.07431399721017,-133.80617146952343,140.75431399721018,-133.80617146952343,-133.80617146952343],\"y\":[24.259999999999998,20.259999999999998,20.259999999999998,24.259999999999998,24.259999999999998,24.259999999999998,20.259999999999998,20.259999999999998,20.259999999999998,20.259999999999998,20.259999999999998,24.259999999999998,24.259999999999998,24.259999999999998,24.259999999999998,20.259999999999998],\"z\":[-91.88993496618973,-91.88993496618973,-27.54290845935286,-27.54290845935286,-91.88993496618973,-48.07709154064712,-48.07709154064712,-91.88993496618973,-48.07709154064712,16.269934966189737,-27.54290845935286,-27.54290845935286,16.269934966189737,-48.07709154064712,16.269934966189737,16.269934966189737],\"type\":\"scatter3d\"},{\"hoverinfo\":\"skip\",\"line\":{\"color\":\"#3f3f3f\",\"width\":4},\"mode\":\"lines\",\"visible\":false,\"x\":[134.2966633080048,134.2966633080048,-144.45116372825,-144.45116372825,134.2966633080048,141.11116372825003,141.11116372825003,134.2966633080048,141.11116372825003,-137.63666330800478,-144.45116372825,-144.45116372825,-137.63666330800478,141.11116372825003,-137.63666330800478,-137.63666330800478],\"y\":[24.259999999999998,20.259999999999998,20.259999999999998,24.259999999999998,24.259999999999998,24.259999999999998,20.259999999999998,20.259999999999998,20.259999999999998,20.259999999999998,20.259999999999998,24.259999999999998,24.259999999999998,24.259999999999998,24.259999999999998,20.259999999999998],\"z\":[-85.88261943136311,-85.88261943136311,-43.17841679782646,-43.17841679782646,-85.88261943136311,-41.401583202173526,-41.401583202173526,-85.88261943136311,-41.401583202173526,1.3026194313631265,-43.17841679782646,-43.17841679782646,1.3026194313631265,-41.401583202173526,1.3026194313631265,1.3026194313631265],\"type\":\"scatter3d\"},{\"hoverinfo\":\"skip\",\"line\":{\"color\":\"#3f3f3f\",\"width\":4},\"mode\":\"lines\",\"visible\":false,\"x\":[134.88920431978073,134.88920431978073,-143.09574254471153,-143.09574254471153,134.88920431978073,142.45574254471154,142.45574254471154,134.88920431978073,142.45574254471154,-135.52920431978072,-143.09574254471153,-143.09574254471153,-135.52920431978072,142.45574254471154,-135.52920431978072,-135.52920431978072],\"y\":[24.259999999999998,20.259999999999998,20.259999999999998,24.259999999999998,24.259999999999998,24.259999999999998,20.259999999999998,20.259999999999998,20.259999999999998,20.259999999999998,20.259999999999998,24.259999999999998,24.259999999999998,24.259999999999998,24.259999999999998,20.259999999999998],\"z\":[-87.20813645390051,-87.20813645390051,-39.79116357766743,-39.79116357766743,-87.20813645390051,-42.84883642233258,-42.84883642233258,-87.20813645390051,-42.84883642233258,4.568136453900493,-39.79116357766743,-39.79116357766743,4.568136453900493,-42.84883642233258,4.568136453900493,4.568136453900493],\"type\":\"scatter3d\"},{\"hoverinfo\":\"skip\",\"line\":{\"color\":\"#3f3f3f\",\"width\":4},\"mode\":\"lines\",\"visible\":false,\"x\":[134.88920431978073,134.88920431978073,-143.09574254471153,-143.09574254471153,134.88920431978073,142.45574254471154,142.45574254471154,134.88920431978073,142.45574254471154,-135.52920431978072,-143.09574254471153,-143.09574254471153,-135.52920431978072,142.45574254471154,-135.52920431978072,-135.52920431978072],\"y\":[24.259999999999998,20.259999999999998,20.259999999999998,24.259999999999998,24.259999999999998,24.259999999999998,20.259999999999998,20.259999999999998,20.259999999999998,20.259999999999998,20.259999999999998,24.259999999999998,24.259999999999998,24.259999999999998,24.259999999999998,20.259999999999998],\"z\":[-87.20813645390051,-87.20813645390051,-39.79116357766743,-39.79116357766743,-87.20813645390051,-42.84883642233258,-42.84883642233258,-87.20813645390051,-42.84883642233258,4.568136453900493,-39.79116357766743,-39.79116357766743,4.568136453900493,-42.84883642233258,4.568136453900493,4.568136453900493],\"type\":\"scatter3d\"},{\"hoverinfo\":\"skip\",\"line\":{\"color\":\"#3f3f3f\",\"width\":4},\"mode\":\"lines\",\"visible\":false,\"x\":[127.99900271117987,127.99900271117987,-141.8081160201353,-141.8081160201353,127.99900271117987,141.08811602013526,141.08811602013526,127.99900271117987,141.08811602013526,-128.71900271117988,-141.8081160201353,-141.8081160201353,-128.71900271117988,141.08811602013526,-128.71900271117988,-128.71900271117988],\"y\":[24.259999999999998,20.259999999999998,20.259999999999998,24.259999999999998,24.259999999999998,24.259999999999998,20.259999999999998,20.259999999999998,20.259999999999998,20.259999999999998,20.259999999999998,24.259999999999998,24.259999999999998,24.259999999999998,24.259999999999998,20.259999999999998],\"z\":[-96.62971876328928,-96.62971876328928,-14.604608693835488,-14.604608693835488,-96.62971876328928,-53.57539130616453,-53.57539130616453,-96.62971876328928,-53.57539130616453,28.44971876328927,-14.604608693835488,-14.604608693835488,28.44971876328927,-53.57539130616453,28.44971876328927,28.44971876328927],\"type\":\"scatter3d\"},{\"hoverinfo\":\"skip\",\"line\":{\"color\":\"#3f3f3f\",\"width\":4},\"mode\":\"lines\",\"visible\":false,\"x\":[127.99900271117987,127.99900271117987,-141.8081160201353,-141.8081160201353,127.99900271117987,141.08811602013526,141.08811602013526,127.99900271117987,141.08811602013526,-128.71900271117988,-141.8081160201353,-141.8081160201353,-128.71900271117988,141.08811602013526,-128.71900271117988,-128.71900271117988],\"y\":[24.259999999999998,20.259999999999998,20.259999999999998,24.259999999999998,24.259999999999998,24.259999999999998,20.259999999999998,20.259999999999998,20.259999999999998,20.259999999999998,20.259999999999998,24.259999999999998,24.259999999999998,24.259999999999998,24.259999999999998,20.259999999999998],\"z\":[-96.62971876328928,-96.62971876328928,-14.604608693835488,-14.604608693835488,-96.62971876328928,-53.57539130616453,-53.57539130616453,-96.62971876328928,-53.57539130616453,28.44971876328927,-14.604608693835488,-14.604608693835488,28.44971876328927,-53.57539130616453,28.44971876328927,28.44971876328927],\"type\":\"scatter3d\"},{\"hoverinfo\":\"skip\",\"line\":{\"color\":\"#3f3f3f\",\"width\":4},\"mode\":\"lines\",\"visible\":false,\"x\":[127.99900271117987,127.99900271117987,-141.8081160201353,-141.8081160201353,127.99900271117987,141.08811602013526,141.08811602013526,127.99900271117987,141.08811602013526,-128.71900271117988,-141.8081160201353,-141.8081160201353,-128.71900271117988,141.08811602013526,-128.71900271117988,-128.71900271117988],\"y\":[24.259999999999998,20.259999999999998,20.259999999999998,24.259999999999998,24.259999999999998,24.259999999999998,20.259999999999998,20.259999999999998,20.259999999999998,20.259999999999998,20.259999999999998,24.259999999999998,24.259999999999998,24.259999999999998,24.259999999999998,20.259999999999998],\"z\":[-96.62971876328928,-96.62971876328928,-14.604608693835488,-14.604608693835488,-96.62971876328928,-53.57539130616453,-53.57539130616453,-96.62971876328928,-53.57539130616453,28.44971876328927,-14.604608693835488,-14.604608693835488,28.44971876328927,-53.57539130616453,28.44971876328927,28.44971876328927],\"type\":\"scatter3d\"},{\"hoverinfo\":\"skip\",\"line\":{\"color\":\"#3f3f3f\",\"width\":4},\"mode\":\"lines\",\"visible\":false,\"x\":[127.99900271117987,127.99900271117987,-141.8081160201353,-141.8081160201353,127.99900271117987,141.08811602013526,141.08811602013526,127.99900271117987,141.08811602013526,-128.71900271117988,-141.8081160201353,-141.8081160201353,-128.71900271117988,141.08811602013526,-128.71900271117988,-128.71900271117988],\"y\":[24.259999999999998,20.259999999999998,20.259999999999998,24.259999999999998,24.259999999999998,24.259999999999998,20.259999999999998,20.259999999999998,20.259999999999998,20.259999999999998,20.259999999999998,24.259999999999998,24.259999999999998,24.259999999999998,24.259999999999998,20.259999999999998],\"z\":[-96.62971876328928,-96.62971876328928,-14.604608693835488,-14.604608693835488,-96.62971876328928,-53.57539130616453,-53.57539130616453,-96.62971876328928,-53.57539130616453,28.44971876328927,-14.604608693835488,-14.604608693835488,28.44971876328927,-53.57539130616453,28.44971876328927,28.44971876328927],\"type\":\"scatter3d\"},{\"hoverinfo\":\"skip\",\"line\":{\"color\":\"#3f3f3f\",\"width\":4},\"mode\":\"lines\",\"visible\":false,\"x\":[122.2972238903211,122.2972238903211,-151.38560162780786,-151.38560162780786,122.2972238903211,133.14560162780785,133.14560162780785,122.2972238903211,133.14560162780785,-140.53722389032112,-151.38560162780786,-151.38560162780786,-140.53722389032112,133.14560162780785,-140.53722389032112,-140.53722389032112],\"y\":[16.48,12.48,12.48,16.48,16.48,16.48,12.48,12.48,12.48,12.48,12.48,16.48,16.48,16.48,16.48,12.48],\"z\":[-92.87797923050066,-92.87797923050066,-24.894812075583744,-24.894812075583744,-92.87797923050066,-49.20518792441625,-49.20518792441625,-92.87797923050066,-49.20518792441625,18.777979230500677,-24.894812075583744,-24.894812075583744,18.777979230500677,-49.20518792441625,18.777979230500677,18.777979230500677],\"type\":\"scatter3d\"},{\"hoverinfo\":\"skip\",\"line\":{\"color\":\"#3f3f3f\",\"width\":4},\"mode\":\"lines\",\"visible\":false,\"x\":[122.32670352457647,122.32670352457647,-151.3798359214153,-151.3798359214153,122.32670352457647,133.15983592141527,133.15983592141527,122.32670352457647,133.15983592141527,-140.54670352457646,-151.3798359214153,-151.3798359214153,-140.54670352457646,133.15983592141527,-140.54670352457646,-140.54670352457646],\"y\":[14.38,10.38,10.38,14.38,14.38,14.38,10.38,10.38,10.38,10.38,10.38,14.38,14.38,14.38,14.38,10.38],\"z\":[-92.85210256518293,-92.85210256518293,-24.96447287832639,-24.96447287832639,-92.85210256518293,-49.175527121673625,-49.175527121673625,-92.85210256518293,-49.175527121673625,18.712102565182917,-24.96447287832639,-24.96447287832639,18.712102565182917,-49.175527121673625,18.712102565182917,18.712102565182917],\"type\":\"scatter3d\"},{\"hoverinfo\":\"skip\",\"line\":{\"color\":\"#3f3f3f\",\"width\":4},\"mode\":\"lines\",\"visible\":false,\"x\":[122.32670352457647,122.32670352457647,-151.3798359214153,-151.3798359214153,122.32670352457647,133.15983592141527,133.15983592141527,122.32670352457647,133.15983592141527,-140.54670352457646,-151.3798359214153,-151.3798359214153,-140.54670352457646,133.15983592141527,-140.54670352457646,-140.54670352457646],\"y\":[14.59,10.59,10.59,14.59,14.59,14.59,10.59,10.59,10.59,10.59,10.59,14.59,14.59,14.59,14.59,10.59],\"z\":[-92.85210256518293,-92.85210256518293,-24.96447287832639,-24.96447287832639,-92.85210256518293,-49.175527121673625,-49.175527121673625,-92.85210256518293,-49.175527121673625,18.712102565182917,-24.96447287832639,-24.96447287832639,18.712102565182917,-49.175527121673625,18.712102565182917,18.712102565182917],\"type\":\"scatter3d\"},{\"hoverinfo\":\"skip\",\"line\":{\"color\":\"#3f3f3f\",\"width\":4},\"mode\":\"lines\",\"visible\":false,\"x\":[122.32670352457647,122.32670352457647,-151.3798359214153,-151.3798359214153,122.32670352457647,133.15983592141527,133.15983592141527,122.32670352457647,133.15983592141527,-140.54670352457646,-151.3798359214153,-151.3798359214153,-140.54670352457646,133.15983592141527,-140.54670352457646,-140.54670352457646],\"y\":[14.59,10.59,10.59,14.59,14.59,14.59,10.59,10.59,10.59,10.59,10.59,14.59,14.59,14.59,14.59,10.59],\"z\":[-92.85210256518293,-92.85210256518293,-24.96447287832639,-24.96447287832639,-92.85210256518293,-49.175527121673625,-49.175527121673625,-92.85210256518293,-49.175527121673625,18.712102565182917,-24.96447287832639,-24.96447287832639,18.712102565182917,-49.175527121673625,18.712102565182917,18.712102565182917],\"type\":\"scatter3d\"},{\"hoverinfo\":\"skip\",\"line\":{\"color\":\"#3f3f3f\",\"width\":4},\"mode\":\"lines\",\"visible\":false,\"x\":[122.32670352457647,122.32670352457647,-151.3798359214153,-151.3798359214153,122.32670352457647,133.15983592141527,133.15983592141527,122.32670352457647,133.15983592141527,-140.54670352457646,-151.3798359214153,-151.3798359214153,-140.54670352457646,133.15983592141527,-140.54670352457646,-140.54670352457646],\"y\":[14.59,10.59,10.59,14.59,14.59,14.59,10.59,10.59,10.59,10.59,10.59,14.59,14.59,14.59,14.59,10.59],\"z\":[-92.85210256518293,-92.85210256518293,-24.96447287832639,-24.96447287832639,-92.85210256518293,-49.175527121673625,-49.175527121673625,-92.85210256518293,-49.175527121673625,18.712102565182917,-24.96447287832639,-24.96447287832639,18.712102565182917,-49.175527121673625,18.712102565182917,18.712102565182917],\"type\":\"scatter3d\"},{\"hoverinfo\":\"skip\",\"line\":{\"color\":\"darkslategray\",\"width\":4},\"mode\":\"lines\",\"visible\":true,\"x\":[20.099343876659045,20.119310129057926,20.099343876659045,20.100074953641375,20.120041206040256,20.100074953641375,-19.899681352670243,-19.879715100271362,-19.899681352670243,-19.900412429652572,-19.880446177253692,-19.900412429652572,20.099343876659045,20.119310129057926,20.120041206040256,-19.879715100271362,-19.880446177253692,20.119310129057926],\"y\":[-28.42490205273046,-34.14478879666599,-28.42490205273046,-28.6343393300159,-34.35422607395144,-28.6343393300159,-28.77396538662485,-34.49385213056039,-28.77396538662485,-28.56452810933941,-34.28441485327494,-28.56452810933941,-28.42490205273046,-34.14478879666599,-34.35422607395144,-34.49385213056039,-34.28441485327494,-34.14478879666599],\"z\":[20.149474410527134,20.179424123642853,20.149474410527134,-19.849977279369934,-19.820027566254215,-19.849977279369934,-19.849977279369934,-19.820027566254215,-19.849977279369934,20.149474410527134,20.179424123642853,20.149474410527134,20.149474410527134,20.179424123642853,-19.820027566254215,-19.820027566254215,20.179424123642853,20.179424123642853],\"type\":\"scatter3d\"},{\"hoverinfo\":\"skip\",\"line\":{\"color\":\"darkslategray\",\"width\":4},\"mode\":\"lines\",\"visible\":false,\"x\":[20.099343876659045,20.119310129057926,20.099343876659045,20.100074953641375,20.120041206040256,20.100074953641375,-19.899681352670243,-19.879715100271362,-19.899681352670243,-19.900412429652572,-19.880446177253692,-19.900412429652572,20.099343876659045,20.119310129057926,20.120041206040256,-19.879715100271362,-19.880446177253692,20.119310129057926],\"y\":[-28.42490205273046,-34.14478879666599,-28.42490205273046,-28.6343393300159,-34.35422607395144,-28.6343393300159,-28.77396538662485,-34.49385213056039,-28.77396538662485,-28.56452810933941,-34.28441485327494,-28.56452810933941,-28.42490205273046,-34.14478879666599,-34.35422607395144,-34.49385213056039,-34.28441485327494,-34.14478879666599],\"z\":[20.149474410527134,20.179424123642853,20.149474410527134,-19.849977279369934,-19.820027566254215,-19.849977279369934,-19.849977279369934,-19.820027566254215,-19.849977279369934,20.149474410527134,20.179424123642853,20.149474410527134,20.149474410527134,20.179424123642853,-19.820027566254215,-19.820027566254215,20.179424123642853,20.179424123642853],\"type\":\"scatter3d\"},{\"hoverinfo\":\"skip\",\"line\":{\"color\":\"darkslategray\",\"width\":4},\"mode\":\"lines\",\"visible\":false,\"x\":[20.099343876659045,20.119310129057926,20.099343876659045,20.100074953641375,20.120041206040256,20.100074953641375,-19.899681352670243,-19.879715100271362,-19.899681352670243,-19.900412429652572,-19.880446177253692,-19.900412429652572,20.099343876659045,20.119310129057926,20.120041206040256,-19.879715100271362,-19.880446177253692,20.119310129057926],\"y\":[-28.42490205273046,-34.14478879666599,-28.42490205273046,-28.6343393300159,-34.35422607395144,-28.6343393300159,-28.77396538662485,-34.49385213056039,-28.77396538662485,-28.56452810933941,-34.28441485327494,-28.56452810933941,-28.42490205273046,-34.14478879666599,-34.35422607395144,-34.49385213056039,-34.28441485327494,-34.14478879666599],\"z\":[20.149474410527134,20.179424123642853,20.149474410527134,-19.849977279369934,-19.820027566254215,-19.849977279369934,-19.849977279369934,-19.820027566254215,-19.849977279369934,20.149474410527134,20.179424123642853,20.149474410527134,20.149474410527134,20.179424123642853,-19.820027566254215,-19.820027566254215,20.179424123642853,20.179424123642853],\"type\":\"scatter3d\"},{\"hoverinfo\":\"skip\",\"line\":{\"color\":\"darkslategray\",\"width\":4},\"mode\":\"lines\",\"visible\":false,\"x\":[20.099343876659045,20.119310129057926,20.099343876659045,20.100074953641375,20.120041206040256,20.100074953641375,-19.899681352670243,-19.879715100271362,-19.899681352670243,-19.900412429652572,-19.880446177253692,-19.900412429652572,20.099343876659045,20.119310129057926,20.120041206040256,-19.879715100271362,-19.880446177253692,20.119310129057926],\"y\":[-28.42490205273046,-34.14478879666599,-28.42490205273046,-28.6343393300159,-34.35422607395144,-28.6343393300159,-28.77396538662485,-34.49385213056039,-28.77396538662485,-28.56452810933941,-34.28441485327494,-28.56452810933941,-28.42490205273046,-34.14478879666599,-34.35422607395144,-34.49385213056039,-34.28441485327494,-34.14478879666599],\"z\":[20.149474410527134,20.179424123642853,20.149474410527134,-19.849977279369934,-19.820027566254215,-19.849977279369934,-19.849977279369934,-19.820027566254215,-19.849977279369934,20.149474410527134,20.179424123642853,20.149474410527134,20.149474410527134,20.179424123642853,-19.820027566254215,-19.820027566254215,20.179424123642853,20.179424123642853],\"type\":\"scatter3d\"},{\"hoverinfo\":\"skip\",\"line\":{\"color\":\"darkslategray\",\"width\":4},\"mode\":\"lines\",\"visible\":false,\"x\":[20.099343876659045,20.119310129057926,20.099343876659045,20.100074953641375,20.120041206040256,20.100074953641375,-19.899681352670243,-19.879715100271362,-19.899681352670243,-19.900412429652572,-19.880446177253692,-19.900412429652572,20.099343876659045,20.119310129057926,20.120041206040256,-19.879715100271362,-19.880446177253692,20.119310129057926],\"y\":[-28.42490205273046,-34.14478879666599,-28.42490205273046,-28.6343393300159,-34.35422607395144,-28.6343393300159,-28.77396538662485,-34.49385213056039,-28.77396538662485,-28.56452810933941,-34.28441485327494,-28.56452810933941,-28.42490205273046,-34.14478879666599,-34.35422607395144,-34.49385213056039,-34.28441485327494,-34.14478879666599],\"z\":[20.149474410527134,20.179424123642853,20.149474410527134,-19.849977279369934,-19.820027566254215,-19.849977279369934,-19.849977279369934,-19.820027566254215,-19.849977279369934,20.149474410527134,20.179424123642853,20.149474410527134,20.149474410527134,20.179424123642853,-19.820027566254215,-19.820027566254215,20.179424123642853,20.179424123642853],\"type\":\"scatter3d\"},{\"hoverinfo\":\"skip\",\"line\":{\"color\":\"darkslategray\",\"width\":4},\"mode\":\"lines\",\"visible\":false,\"x\":[20.099343876659045,20.119310129057926,20.099343876659045,20.100074953641375,20.120041206040256,20.100074953641375,-19.899681352670243,-19.879715100271362,-19.899681352670243,-19.900412429652572,-19.880446177253692,-19.900412429652572,20.099343876659045,20.119310129057926,20.120041206040256,-19.879715100271362,-19.880446177253692,20.119310129057926],\"y\":[-28.42490205273046,-34.14478879666599,-28.42490205273046,-28.6343393300159,-34.35422607395144,-28.6343393300159,-28.77396538662485,-34.49385213056039,-28.77396538662485,-28.56452810933941,-34.28441485327494,-28.56452810933941,-28.42490205273046,-34.14478879666599,-34.35422607395144,-34.49385213056039,-34.28441485327494,-34.14478879666599],\"z\":[20.149474410527134,20.179424123642853,20.149474410527134,-19.849977279369934,-19.820027566254215,-19.849977279369934,-19.849977279369934,-19.820027566254215,-19.849977279369934,20.149474410527134,20.179424123642853,20.149474410527134,20.149474410527134,20.179424123642853,-19.820027566254215,-19.820027566254215,20.179424123642853,20.179424123642853],\"type\":\"scatter3d\"},{\"hoverinfo\":\"skip\",\"line\":{\"color\":\"darkslategray\",\"width\":4},\"mode\":\"lines\",\"visible\":false,\"x\":[20.099343876659045,20.119310129057926,20.099343876659045,20.100074953641375,20.120041206040256,20.100074953641375,-19.899681352670243,-19.879715100271362,-19.899681352670243,-19.900412429652572,-19.880446177253692,-19.900412429652572,20.099343876659045,20.119310129057926,20.120041206040256,-19.879715100271362,-19.880446177253692,20.119310129057926],\"y\":[-28.42490205273046,-34.14478879666599,-28.42490205273046,-28.6343393300159,-34.35422607395144,-28.6343393300159,-28.77396538662485,-34.49385213056039,-28.77396538662485,-28.56452810933941,-34.28441485327494,-28.56452810933941,-28.42490205273046,-34.14478879666599,-34.35422607395144,-34.49385213056039,-34.28441485327494,-34.14478879666599],\"z\":[20.149474410527134,20.179424123642853,20.149474410527134,-19.849977279369934,-19.820027566254215,-19.849977279369934,-19.849977279369934,-19.820027566254215,-19.849977279369934,20.149474410527134,20.179424123642853,20.149474410527134,20.149474410527134,20.179424123642853,-19.820027566254215,-19.820027566254215,20.179424123642853,20.179424123642853],\"type\":\"scatter3d\"},{\"hoverinfo\":\"skip\",\"line\":{\"color\":\"darkslategray\",\"width\":4},\"mode\":\"lines\",\"visible\":false,\"x\":[20.099343876659045,20.119310129057926,20.099343876659045,20.100074953641375,20.120041206040256,20.100074953641375,-19.899681352670243,-19.879715100271362,-19.899681352670243,-19.900412429652572,-19.880446177253692,-19.900412429652572,20.099343876659045,20.119310129057926,20.120041206040256,-19.879715100271362,-19.880446177253692,20.119310129057926],\"y\":[-28.42490205273046,-34.14478879666599,-28.42490205273046,-28.6343393300159,-34.35422607395144,-28.6343393300159,-28.77396538662485,-34.49385213056039,-28.77396538662485,-28.56452810933941,-34.28441485327494,-28.56452810933941,-28.42490205273046,-34.14478879666599,-34.35422607395144,-34.49385213056039,-34.28441485327494,-34.14478879666599],\"z\":[20.149474410527134,20.179424123642853,20.149474410527134,-19.849977279369934,-19.820027566254215,-19.849977279369934,-19.849977279369934,-19.820027566254215,-19.849977279369934,20.149474410527134,20.179424123642853,20.149474410527134,20.149474410527134,20.179424123642853,-19.820027566254215,-19.820027566254215,20.179424123642853,20.179424123642853],\"type\":\"scatter3d\"},{\"hoverinfo\":\"skip\",\"line\":{\"color\":\"darkslategray\",\"width\":4},\"mode\":\"lines\",\"visible\":false,\"x\":[20.099343876659045,20.119310129057926,20.099343876659045,20.100074953641375,20.120041206040256,20.100074953641375,-19.899681352670243,-19.879715100271362,-19.899681352670243,-19.900412429652572,-19.880446177253692,-19.900412429652572,20.099343876659045,20.119310129057926,20.120041206040256,-19.879715100271362,-19.880446177253692,20.119310129057926],\"y\":[-28.42490205273046,-34.14478879666599,-28.42490205273046,-28.6343393300159,-34.35422607395144,-28.6343393300159,-28.77396538662485,-34.49385213056039,-28.77396538662485,-28.56452810933941,-34.28441485327494,-28.56452810933941,-28.42490205273046,-34.14478879666599,-34.35422607395144,-34.49385213056039,-34.28441485327494,-34.14478879666599],\"z\":[20.149474410527134,20.179424123642853,20.149474410527134,-19.849977279369934,-19.820027566254215,-19.849977279369934,-19.849977279369934,-19.820027566254215,-19.849977279369934,20.149474410527134,20.179424123642853,20.149474410527134,20.149474410527134,20.179424123642853,-19.820027566254215,-19.820027566254215,20.179424123642853,20.179424123642853],\"type\":\"scatter3d\"},{\"hoverinfo\":\"skip\",\"line\":{\"color\":\"darkslategray\",\"width\":4},\"mode\":\"lines\",\"visible\":false,\"x\":[20.099343876659045,20.119310129057926,20.099343876659045,20.100074953641375,20.120041206040256,20.100074953641375,-19.899681352670243,-19.879715100271362,-19.899681352670243,-19.900412429652572,-19.880446177253692,-19.900412429652572,20.099343876659045,20.119310129057926,20.120041206040256,-19.879715100271362,-19.880446177253692,20.119310129057926],\"y\":[-28.42490205273046,-34.14478879666599,-28.42490205273046,-28.6343393300159,-34.35422607395144,-28.6343393300159,-28.77396538662485,-34.49385213056039,-28.77396538662485,-28.56452810933941,-34.28441485327494,-28.56452810933941,-28.42490205273046,-34.14478879666599,-34.35422607395144,-34.49385213056039,-34.28441485327494,-34.14478879666599],\"z\":[20.149474410527134,20.179424123642853,20.149474410527134,-19.849977279369934,-19.820027566254215,-19.849977279369934,-19.849977279369934,-19.820027566254215,-19.849977279369934,20.149474410527134,20.179424123642853,20.149474410527134,20.149474410527134,20.179424123642853,-19.820027566254215,-19.820027566254215,20.179424123642853,20.179424123642853],\"type\":\"scatter3d\"},{\"hoverinfo\":\"skip\",\"line\":{\"color\":\"darkslategray\",\"width\":4},\"mode\":\"lines\",\"visible\":false,\"x\":[20.099343876659045,20.119310129057926,20.099343876659045,20.100074953641375,20.120041206040256,20.100074953641375,-19.899681352670243,-19.879715100271362,-19.899681352670243,-19.900412429652572,-19.880446177253692,-19.900412429652572,20.099343876659045,20.119310129057926,20.120041206040256,-19.879715100271362,-19.880446177253692,20.119310129057926],\"y\":[-28.42490205273046,-34.14478879666599,-28.42490205273046,-28.6343393300159,-34.35422607395144,-28.6343393300159,-28.77396538662485,-34.49385213056039,-28.77396538662485,-28.56452810933941,-34.28441485327494,-28.56452810933941,-28.42490205273046,-34.14478879666599,-34.35422607395144,-34.49385213056039,-34.28441485327494,-34.14478879666599],\"z\":[20.149474410527134,20.179424123642853,20.149474410527134,-19.849977279369934,-19.820027566254215,-19.849977279369934,-19.849977279369934,-19.820027566254215,-19.849977279369934,20.149474410527134,20.179424123642853,20.149474410527134,20.149474410527134,20.179424123642853,-19.820027566254215,-19.820027566254215,20.179424123642853,20.179424123642853],\"type\":\"scatter3d\"},{\"hoverinfo\":\"skip\",\"line\":{\"color\":\"darkslategray\",\"width\":4},\"mode\":\"lines\",\"visible\":false,\"x\":[28.98462792751016,31.0623964838879,28.98462792751016,29.06070673968917,31.138475296066908,29.06070673968917,-8.206942363732791,-6.129173807355051,-8.206942363732791,-8.283021175911797,-6.20525261953406,-8.283021175911797,28.98462792751016,31.0623964838879,31.138475296066908,-6.129173807355051,-6.20525261953406,31.0623964838879],\"y\":[-19.283413206258626,-24.612613975681022,-19.283413206258626,-19.47854526904618,-24.80774603846858,-19.47854526904618,-34.00859448796531,-39.33779525738771,-34.00859448796531,-33.81346242517776,-39.14266319460015,-33.81346242517776,-19.283413206258626,-24.612613975681022,-24.80774603846858,-39.33779525738771,-39.14266319460015,-24.612613975681022],\"z\":[20.149474410527134,20.179424123642853,20.149474410527134,-19.849977279369934,-19.820027566254215,-19.849977279369934,-19.849977279369934,-19.820027566254215,-19.849977279369934,20.149474410527134,20.179424123642853,20.149474410527134,20.149474410527134,20.179424123642853,-19.820027566254215,-19.820027566254215,20.179424123642853,20.179424123642853],\"type\":\"scatter3d\"},{\"hoverinfo\":\"skip\",\"line\":{\"color\":\"darkslategray\",\"width\":4},\"mode\":\"lines\",\"visible\":false,\"x\":[-4.408433678787642,-8.258041802790592,-4.408433678787642,-4.502403762097487,-8.352011886100438,-4.502403762097487,-34.08764756124188,-37.93725568524483,-34.08764756124188,-33.99367747793203,-37.84328560193499,-33.99367747793203,-4.408433678787642,-8.258041802790592,-8.352011886100438,-37.93725568524483,-37.84328560193499,-8.258041802790592],\"y\":[-34.56193482596294,-38.79259891443016,-34.56193482596294,-34.66520659910016,-38.895870687567374,-34.66520659910016,-7.744706058709232,-11.975370147176449,-7.744706058709232,-7.641434285572012,-11.872098374039227,-7.641434285572012,-34.56193482596294,-38.79259891443016,-38.895870687567374,-11.975370147176449,-11.872098374039227,-38.79259891443016],\"z\":[20.099710783631206,20.119677309726285,20.099710783631206,-19.900045522680408,-19.88007899658533,-19.900045522680408,-19.900045522680408,-19.88007899658533,-19.900045522680408,20.099710783631206,20.119677309726285,20.099710783631206,20.099710783631206,20.119677309726285,-19.88007899658533,-19.88007899658533,20.119677309726285,20.119677309726285],\"type\":\"scatter3d\"},{\"hoverinfo\":\"skip\",\"line\":{\"color\":\"darkslategray\",\"width\":4},\"mode\":\"lines\",\"visible\":false,\"x\":[20.035197512014058,20.044596474429863,20.035197512014058,20.058731188675484,20.06813015109129,20.058731188675484,-19.94120788785602,-19.931808925440215,-19.94120788785602,-19.964741564517446,-19.95534260210164,-19.964741564517446,20.035197512014058,20.044596474429863,20.06813015109129,-19.931808925440215,-19.95534260210164,20.044596474429863],\"y\":[-20.149215103630333,-25.534418417811086,-20.149215103630333,-33.633004903541256,-39.01820821772201,-33.633004903541256,-33.70281803817719,-39.08802135235795,-33.70281803817719,-20.219028238266265,-25.60423155244702,-20.219028238266265,-20.149215103630333,-25.534418417811086,-39.01820821772201,-39.08802135235795,-25.60423155244702,-25.534418417811086],\"z\":[28.470335287140905,30.39852016532093,28.470335287140905,-9.188486505340613,-7.260301627160585,-9.188486505340613,-9.188486505340613,-7.260301627160585,-9.188486505340613,28.470335287140905,30.39852016532093,28.470335287140905,28.470335287140905,30.39852016532093,-7.260301627160585,-7.260301627160585,30.39852016532093,30.39852016532093],\"type\":\"scatter3d\"},{\"hoverinfo\":\"skip\",\"line\":{\"color\":\"darkslategray\",\"width\":4},\"mode\":\"lines\",\"visible\":false,\"x\":[20.05710987264615,20.066766375767205,20.05710987264615,20.039394235095912,20.04905073821697,20.039394235095912,-19.960544841435592,-19.950888338314535,-19.960544841435592,-19.942829203885353,-19.9331727007643,-19.942829203885353,20.05710987264615,20.066766375767205,20.04905073821697,-19.950888338314535,-19.9331727007643,20.066766375767205],\"y\":[-32.70406018940703,-38.23682330839422,-32.70406018940703,-22.553757865828945,-28.086520984816136,-22.553757865828945,-22.623571000464878,-28.15633411945207,-22.623571000464878,-32.77387332404296,-38.30663644303015,-32.77387332404296,-32.70406018940703,-38.23682330839422,-28.086520984816136,-28.15633411945207,-38.30663644303015,-38.23682330839422],\"z\":[12.087877840392098,10.63638239736701,12.087877840392098,-26.602832270642978,-28.054327713668066,-26.602832270642978,-26.602832270642978,-28.054327713668066,-26.602832270642978,12.087877840392098,10.63638239736701,12.087877840392098,12.087877840392098,10.63638239736701,-28.054327713668066,-28.054327713668066,10.63638239736701,10.63638239736701],\"type\":\"scatter3d\"},{\"hoverinfo\":\"skip\",\"line\":{\"color\":\"darkslategray\",\"width\":4},\"mode\":\"lines\",\"visible\":false,\"x\":[20.049702475764946,20.059685617169578,20.049702475764946,20.050068014812858,20.06005115621749,20.050068014812858,-19.949871061718646,-19.939887920314014,-19.949871061718646,-19.95023660076656,-19.940253459361927,-19.95023660076656,20.049702475764946,20.059685617169578,20.06005115621749,-19.939887920314014,-19.940253459361927,20.059685617169578],\"y\":[-28.45993871414372,-34.17985159386243,-28.45993871414372,-28.669376948407425,-34.38928982812614,-28.669376948407425,-28.739190083043358,-34.459102962762074,-28.739190083043358,-28.529751848779654,-34.24966472849836,-28.529751848779654,-28.45993871414372,-34.17985159386243,-34.38928982812614,-34.459102962762074,-34.24966472849836,-34.17985159386243],\"z\":[20.149474410527134,20.179424123642853,20.149474410527134,-19.849977279369934,-19.820027566254215,-19.849977279369934,-19.849977279369934,-19.820027566254215,-19.849977279369934,20.149474410527134,20.179424123642853,20.149474410527134,20.149474410527134,20.179424123642853,-19.820027566254215,-19.820027566254215,20.179424123642853,20.179424123642853],\"type\":\"scatter3d\"},{\"hoverinfo\":\"skip\",\"line\":{\"color\":\"darkslategray\",\"width\":4},\"mode\":\"lines\",\"visible\":false,\"x\":[20.049702475764946,20.059685617169578,20.049702475764946,20.050068014812858,20.06005115621749,20.050068014812858,-19.949871061718646,-19.939887920314014,-19.949871061718646,-19.95023660076656,-19.940253459361927,-19.95023660076656,20.049702475764946,20.059685617169578,20.06005115621749,-19.939887920314014,-19.940253459361927,20.059685617169578],\"y\":[-28.45993871414372,-34.17985159386243,-28.45993871414372,-28.669376948407425,-34.38928982812614,-28.669376948407425,-28.739190083043358,-34.459102962762074,-28.739190083043358,-28.529751848779654,-34.24966472849836,-28.529751848779654,-28.45993871414372,-34.17985159386243,-34.38928982812614,-34.459102962762074,-34.24966472849836,-34.17985159386243],\"z\":[20.149474410527134,20.179424123642853,20.149474410527134,-19.849977279369934,-19.820027566254215,-19.849977279369934,-19.849977279369934,-19.820027566254215,-19.849977279369934,20.149474410527134,20.179424123642853,20.149474410527134,20.149474410527134,20.179424123642853,-19.820027566254215,-19.820027566254215,20.179424123642853,20.179424123642853],\"type\":\"scatter3d\"},{\"hoverinfo\":\"skip\",\"line\":{\"color\":\"darkslategray\",\"width\":4},\"mode\":\"lines\",\"visible\":false,\"x\":[20.049702475764946,20.059685617169578,20.049702475764946,20.050068014812858,20.06005115621749,20.050068014812858,-19.949871061718646,-19.939887920314014,-19.949871061718646,-19.95023660076656,-19.940253459361927,-19.95023660076656,20.049702475764946,20.059685617169578,20.06005115621749,-19.939887920314014,-19.940253459361927,20.059685617169578],\"y\":[-28.45993871414372,-34.17985159386243,-28.45993871414372,-28.669376948407425,-34.38928982812614,-28.669376948407425,-28.739190083043358,-34.459102962762074,-28.739190083043358,-28.529751848779654,-34.24966472849836,-28.529751848779654,-28.45993871414372,-34.17985159386243,-34.38928982812614,-34.459102962762074,-34.24966472849836,-34.17985159386243],\"z\":[20.149474410527134,20.179424123642853,20.149474410527134,-19.849977279369934,-19.820027566254215,-19.849977279369934,-19.849977279369934,-19.820027566254215,-19.849977279369934,20.149474410527134,20.179424123642853,20.149474410527134,20.149474410527134,20.179424123642853,-19.820027566254215,-19.820027566254215,20.179424123642853,20.179424123642853],\"type\":\"scatter3d\"},{\"hoverinfo\":\"skip\",\"line\":{\"color\":\"darkslategray\",\"width\":4},\"mode\":\"lines\",\"visible\":false,\"x\":[20.049702475764946,20.059685617169578,20.049702475764946,20.050068014812858,20.06005115621749,20.050068014812858,-19.949871061718646,-19.939887920314014,-19.949871061718646,-19.95023660076656,-19.940253459361927,-19.95023660076656,20.049702475764946,20.059685617169578,20.06005115621749,-19.939887920314014,-19.940253459361927,20.059685617169578],\"y\":[-28.45993871414372,-34.17985159386243,-28.45993871414372,-28.669376948407425,-34.38928982812614,-28.669376948407425,-28.739190083043358,-34.459102962762074,-28.739190083043358,-28.529751848779654,-34.24966472849836,-28.529751848779654,-28.45993871414372,-34.17985159386243,-34.38928982812614,-34.459102962762074,-34.24966472849836,-34.17985159386243],\"z\":[20.149474410527134,20.179424123642853,20.149474410527134,-19.849977279369934,-19.820027566254215,-19.849977279369934,-19.849977279369934,-19.820027566254215,-19.849977279369934,20.149474410527134,20.179424123642853,20.149474410527134,20.149474410527134,20.179424123642853,-19.820027566254215,-19.820027566254215,20.179424123642853,20.179424123642853],\"type\":\"scatter3d\"},{\"hoverinfo\":\"skip\",\"line\":{\"color\":\"darkslategray\",\"width\":4},\"mode\":\"lines\",\"visible\":false,\"x\":[29.729733571797567,35.689642796119855,29.729733571797567,29.93917180606127,35.89908103038357,29.93917180606127,29.869358671425342,35.82926789574764,29.869358671425342,29.659920437161638,35.61982966148393,29.659920437161638,29.729733571797567,35.689642796119855,35.89908103038357,35.82926789574764,35.61982966148393,35.689642796119855],\"y\":[19.948142235436915,19.937740220966358,19.948142235436915,19.947776696389003,19.937374681918445,19.947776696389003,-20.0521623801425,-20.06256439461306,-20.0521623801425,-20.05179684109459,-20.062198855565146,-20.05179684109459,19.948142235436915,19.937740220966358,19.937374681918445,-20.06256439461306,-20.062198855565146,19.937740220966358],\"z\":[20.155757567124837,20.1869639115601,20.155757567124837,-19.84369412277223,-19.81248777833697,-19.84369412277223,-19.84369412277223,-19.81248777833697,-19.84369412277223,20.155757567124837,20.1869639115601,20.155757567124837,20.155757567124837,20.1869639115601,-19.81248777833697,-19.81248777833697,20.1869639115601,20.1869639115601],\"type\":\"scatter3d\"},{\"hoverinfo\":\"skip\",\"line\":{\"color\":\"darkslategray\",\"width\":4},\"mode\":\"lines\",\"visible\":false,\"x\":[29.729733571797567,35.689642796119855,29.729733571797567,29.93917180606127,35.89908103038357,29.93917180606127,29.869358671425342,35.82926789574764,29.869358671425342,29.659920437161638,35.61982966148393,29.659920437161638,29.729733571797567,35.689642796119855,35.89908103038357,35.82926789574764,35.61982966148393,35.689642796119855],\"y\":[19.948142235436915,19.937740220966358,19.948142235436915,19.947776696389003,19.937374681918445,19.947776696389003,-20.0521623801425,-20.06256439461306,-20.0521623801425,-20.05179684109459,-20.062198855565146,-20.05179684109459,19.948142235436915,19.937740220966358,19.937374681918445,-20.06256439461306,-20.062198855565146,19.937740220966358],\"z\":[20.155757567124837,20.1869639115601,20.155757567124837,-19.84369412277223,-19.81248777833697,-19.84369412277223,-19.84369412277223,-19.81248777833697,-19.84369412277223,20.155757567124837,20.1869639115601,20.155757567124837,20.155757567124837,20.1869639115601,-19.81248777833697,-19.81248777833697,20.1869639115601,20.1869639115601],\"type\":\"scatter3d\"},{\"hoverinfo\":\"skip\",\"line\":{\"color\":\"darkslategray\",\"width\":4},\"mode\":\"lines\",\"visible\":false,\"x\":[29.729733571797567,35.689642796119855,29.729733571797567,29.93917180606127,35.89908103038357,29.93917180606127,29.869358671425342,35.82926789574764,29.869358671425342,29.659920437161638,35.61982966148393,29.659920437161638,29.729733571797567,35.689642796119855,35.89908103038357,35.82926789574764,35.61982966148393,35.689642796119855],\"y\":[19.948142235436915,19.937740220966358,19.948142235436915,19.947776696389003,19.937374681918445,19.947776696389003,-20.0521623801425,-20.06256439461306,-20.0521623801425,-20.05179684109459,-20.062198855565146,-20.05179684109459,19.948142235436915,19.937740220966358,19.937374681918445,-20.06256439461306,-20.062198855565146,19.937740220966358],\"z\":[20.155757567124837,20.1869639115601,20.155757567124837,-19.84369412277223,-19.81248777833697,-19.84369412277223,-19.84369412277223,-19.81248777833697,-19.84369412277223,20.155757567124837,20.1869639115601,20.155757567124837,20.155757567124837,20.1869639115601,-19.81248777833697,-19.81248777833697,20.1869639115601,20.1869639115601],\"type\":\"scatter3d\"},{\"hoverinfo\":\"skip\",\"line\":{\"color\":\"darkslategray\",\"width\":4},\"mode\":\"lines\",\"visible\":false,\"x\":[29.729733571797567,35.689642796119855,29.729733571797567,29.93917180606127,35.89908103038357,29.93917180606127,29.869358671425342,35.82926789574764,29.869358671425342,29.659920437161638,35.61982966148393,29.659920437161638,29.729733571797567,35.689642796119855,35.89908103038357,35.82926789574764,35.61982966148393,35.689642796119855],\"y\":[19.948142235436915,19.937740220966358,19.948142235436915,19.947776696389003,19.937374681918445,19.947776696389003,-20.0521623801425,-20.06256439461306,-20.0521623801425,-20.05179684109459,-20.062198855565146,-20.05179684109459,19.948142235436915,19.937740220966358,19.937374681918445,-20.06256439461306,-20.062198855565146,19.937740220966358],\"z\":[20.155757567124837,20.1869639115601,20.155757567124837,-19.84369412277223,-19.81248777833697,-19.84369412277223,-19.84369412277223,-19.81248777833697,-19.84369412277223,20.155757567124837,20.1869639115601,20.155757567124837,20.155757567124837,20.1869639115601,-19.81248777833697,-19.81248777833697,20.1869639115601,20.1869639115601],\"type\":\"scatter3d\"},{\"hoverinfo\":\"skip\",\"line\":{\"color\":\"darkslategray\",\"width\":4},\"mode\":\"lines\",\"visible\":false,\"x\":[20.10328637864309,20.1240898689145,20.10328637864309,20.104504830382588,20.125308320653993,20.104504830382588,-19.89525147592903,-19.874447985657625,-19.89525147592903,-19.896469927668527,-19.87566643739712,-19.896469927668527,20.10328637864309,20.1240898689145,20.125308320653993,-19.874447985657625,-19.87566643739712,20.1240898689145],\"y\":[-29.55434108745625,-35.51407783994173,-29.55434108745625,-29.903400380789584,-35.86313713327506,-29.903400380789584,-30.04302643739853,-36.00276318988401,-30.04302643739853,-29.693967144065198,-35.65370389655068,-29.693967144065198,-29.55434108745625,-35.51407783994173,-35.86313713327506,-36.00276318988401,-35.65370389655068,-35.51407783994173],\"z\":[20.25928921913497,20.311299370705278,20.25928921913497,-19.739187703431885,-19.687177551861573,-19.739187703431885,-19.739187703431885,-19.687177551861573,-19.739187703431885,20.25928921913497,20.311299370705278,20.25928921913497,20.25928921913497,20.311299370705278,-19.687177551861573,-19.687177551861573,20.311299370705278,20.311299370705278],\"type\":\"scatter3d\"}],                        {\"dragmode\":\"orbit\",\"font\":{\"color\":\"rgb(52, 49, 49)\",\"family\":\"Arial\",\"size\":14},\"height\":800,\"hoverlabel\":{\"font\":{\"family\":\"Arial\",\"size\":14}},\"margin\":{\"b\":5,\"l\":5,\"r\":5,\"t\":40},\"paper_bgcolor\":\"rgb(252, 252, 252)\",\"scene\":{\"aspectmode\":\"cube\",\"camera\":{\"center\":{\"x\":0,\"y\":0,\"z\":0},\"eye\":{\"x\":-1.3,\"y\":-1.3,\"z\":0.7},\"up\":{\"x\":0,\"y\":-1,\"z\":0}},\"xaxis\":{\"backgroundcolor\":\"rgb(252, 252, 252)\",\"color\":\"rgb(52, 49, 49)\",\"gridcolor\":\"rgb(99,99,99)\",\"linecolor\":\"rgb(99,99,99)\",\"range\":[-300,300],\"title\":{\"text\":\"X - LON [cm]\"},\"zerolinecolor\":\"green\",\"zerolinewidth\":5},\"yaxis\":{\"backgroundcolor\":\"rgb(252, 252, 252)\",\"color\":\"rgb(52, 49, 49)\",\"gridcolor\":\"rgb(99,99,99)\",\"linecolor\":\"rgb(99,99,99)\",\"range\":[-300,300],\"title\":{\"text\":\"Y - VER [cm]\"},\"zerolinecolor\":\"green\",\"zerolinewidth\":5},\"zaxis\":{\"backgroundcolor\":\"rgb(252, 252, 252)\",\"color\":\"rgb(52, 49, 49)\",\"gridcolor\":\"rgb(99,99,99)\",\"linecolor\":\"rgb(99,99,99)\",\"range\":[-300,300],\"title\":{\"text\":\"Z - LAT [cm]\"},\"zerolinecolor\":\"green\",\"zerolinewidth\":5}},\"showlegend\":false,\"sliders\":[{\"active\":0,\"bgcolor\":\"red\",\"bordercolor\":\"rgb(252,252,252)\",\"borderwidth\":3,\"currentvalue\":{\"font\":{\"color\":\"rgb(52, 49, 49)\",\"size\":18},\"prefix\":\"Active event: \",\"suffix\":\" of 24\"},\"font\":{\"color\":\"rgb(52, 49, 49)\",\"family\":\"Arial\",\"size\":14},\"pad\":{\"b\":0,\"l\":20,\"r\":20,\"t\":0},\"steps\":[{\"args\":[\"visible\",[true,false,false,false,false,false,false,false,false,false,false,false,false,false,false,false,false,false,false,false,false,false,false,false]],\"label\":\"1\",\"method\":\"restyle\"},{\"args\":[\"visible\",[false,true,false,false,false,false,false,false,false,false,false,false,false,false,false,false,false,false,false,false,false,false,false,false]],\"label\":\"2\",\"method\":\"restyle\"},{\"args\":[\"visible\",[false,false,true,false,false,false,false,false,false,false,false,false,false,false,false,false,false,false,false,false,false,false,false,false]],\"label\":\"3\",\"method\":\"restyle\"},{\"args\":[\"visible\",[false,false,false,true,false,false,false,false,false,false,false,false,false,false,false,false,false,false,false,false,false,false,false,false]],\"label\":\"4\",\"method\":\"restyle\"},{\"args\":[\"visible\",[false,false,false,false,true,false,false,false,false,false,false,false,false,false,false,false,false,false,false,false,false,false,false,false]],\"label\":\"5\",\"method\":\"restyle\"},{\"args\":[\"visible\",[false,false,false,false,false,true,false,false,false,false,false,false,false,false,false,false,false,false,false,false,false,false,false,false]],\"label\":\"6\",\"method\":\"restyle\"},{\"args\":[\"visible\",[false,false,false,false,false,false,true,false,false,false,false,false,false,false,false,false,false,false,false,false,false,false,false,false]],\"label\":\"7\",\"method\":\"restyle\"},{\"args\":[\"visible\",[false,false,false,false,false,false,false,true,false,false,false,false,false,false,false,false,false,false,false,false,false,false,false,false]],\"label\":\"8\",\"method\":\"restyle\"},{\"args\":[\"visible\",[false,false,false,false,false,false,false,false,true,false,false,false,false,false,false,false,false,false,false,false,false,false,false,false]],\"label\":\"9\",\"method\":\"restyle\"},{\"args\":[\"visible\",[false,false,false,false,false,false,false,false,false,true,false,false,false,false,false,false,false,false,false,false,false,false,false,false]],\"label\":\"10\",\"method\":\"restyle\"},{\"args\":[\"visible\",[false,false,false,false,false,false,false,false,false,false,true,false,false,false,false,false,false,false,false,false,false,false,false,false]],\"label\":\"11\",\"method\":\"restyle\"},{\"args\":[\"visible\",[false,false,false,false,false,false,false,false,false,false,false,true,false,false,false,false,false,false,false,false,false,false,false,false]],\"label\":\"12\",\"method\":\"restyle\"},{\"args\":[\"visible\",[false,false,false,false,false,false,false,false,false,false,false,false,true,false,false,false,false,false,false,false,false,false,false,false]],\"label\":\"13\",\"method\":\"restyle\"},{\"args\":[\"visible\",[false,false,false,false,false,false,false,false,false,false,false,false,false,true,false,false,false,false,false,false,false,false,false,false]],\"label\":\"14\",\"method\":\"restyle\"},{\"args\":[\"visible\",[false,false,false,false,false,false,false,false,false,false,false,false,false,false,true,false,false,false,false,false,false,false,false,false]],\"label\":\"15\",\"method\":\"restyle\"},{\"args\":[\"visible\",[false,false,false,false,false,false,false,false,false,false,false,false,false,false,false,true,false,false,false,false,false,false,false,false]],\"label\":\"16\",\"method\":\"restyle\"},{\"args\":[\"visible\",[false,false,false,false,false,false,false,false,false,false,false,false,false,false,false,false,true,false,false,false,false,false,false,false]],\"label\":\"17\",\"method\":\"restyle\"},{\"args\":[\"visible\",[false,false,false,false,false,false,false,false,false,false,false,false,false,false,false,false,false,true,false,false,false,false,false,false]],\"label\":\"18\",\"method\":\"restyle\"},{\"args\":[\"visible\",[false,false,false,false,false,false,false,false,false,false,false,false,false,false,false,false,false,false,true,false,false,false,false,false]],\"label\":\"19\",\"method\":\"restyle\"},{\"args\":[\"visible\",[false,false,false,false,false,false,false,false,false,false,false,false,false,false,false,false,false,false,false,true,false,false,false,false]],\"label\":\"20\",\"method\":\"restyle\"},{\"args\":[\"visible\",[false,false,false,false,false,false,false,false,false,false,false,false,false,false,false,false,false,false,false,false,true,false,false,false]],\"label\":\"21\",\"method\":\"restyle\"},{\"args\":[\"visible\",[false,false,false,false,false,false,false,false,false,false,false,false,false,false,false,false,false,false,false,false,false,true,false,false]],\"label\":\"22\",\"method\":\"restyle\"},{\"args\":[\"visible\",[false,false,false,false,false,false,false,false,false,false,false,false,false,false,false,false,false,false,false,false,false,false,true,false]],\"label\":\"23\",\"method\":\"restyle\"},{\"args\":[\"visible\",[false,false,false,false,false,false,false,false,false,false,false,false,false,false,false,false,false,false,false,false,false,false,false,true]],\"label\":\"24\",\"method\":\"restyle\"}],\"tickcolor\":\"rgb(52, 49, 49)\",\"transition\":{\"duration\":300,\"easing\":\"quad-in-out\"}}],\"title\":{\"font\":{\"color\":\"rgb(52, 49, 49)\",\"family\":\"Arial\",\"size\":14},\"text\":\"<b>P</b>y<b>S</b>kin<b>D</b>ose [mode: plot_procedure]\"},\"template\":{\"data\":{\"histogram2dcontour\":[{\"type\":\"histogram2dcontour\",\"colorbar\":{\"outlinewidth\":0,\"ticks\":\"\"},\"colorscale\":[[0.0,\"#0d0887\"],[0.1111111111111111,\"#46039f\"],[0.2222222222222222,\"#7201a8\"],[0.3333333333333333,\"#9c179e\"],[0.4444444444444444,\"#bd3786\"],[0.5555555555555556,\"#d8576b\"],[0.6666666666666666,\"#ed7953\"],[0.7777777777777778,\"#fb9f3a\"],[0.8888888888888888,\"#fdca26\"],[1.0,\"#f0f921\"]]}],\"choropleth\":[{\"type\":\"choropleth\",\"colorbar\":{\"outlinewidth\":0,\"ticks\":\"\"}}],\"histogram2d\":[{\"type\":\"histogram2d\",\"colorbar\":{\"outlinewidth\":0,\"ticks\":\"\"},\"colorscale\":[[0.0,\"#0d0887\"],[0.1111111111111111,\"#46039f\"],[0.2222222222222222,\"#7201a8\"],[0.3333333333333333,\"#9c179e\"],[0.4444444444444444,\"#bd3786\"],[0.5555555555555556,\"#d8576b\"],[0.6666666666666666,\"#ed7953\"],[0.7777777777777778,\"#fb9f3a\"],[0.8888888888888888,\"#fdca26\"],[1.0,\"#f0f921\"]]}],\"heatmap\":[{\"type\":\"heatmap\",\"colorbar\":{\"outlinewidth\":0,\"ticks\":\"\"},\"colorscale\":[[0.0,\"#0d0887\"],[0.1111111111111111,\"#46039f\"],[0.2222222222222222,\"#7201a8\"],[0.3333333333333333,\"#9c179e\"],[0.4444444444444444,\"#bd3786\"],[0.5555555555555556,\"#d8576b\"],[0.6666666666666666,\"#ed7953\"],[0.7777777777777778,\"#fb9f3a\"],[0.8888888888888888,\"#fdca26\"],[1.0,\"#f0f921\"]]}],\"heatmapgl\":[{\"type\":\"heatmapgl\",\"colorbar\":{\"outlinewidth\":0,\"ticks\":\"\"},\"colorscale\":[[0.0,\"#0d0887\"],[0.1111111111111111,\"#46039f\"],[0.2222222222222222,\"#7201a8\"],[0.3333333333333333,\"#9c179e\"],[0.4444444444444444,\"#bd3786\"],[0.5555555555555556,\"#d8576b\"],[0.6666666666666666,\"#ed7953\"],[0.7777777777777778,\"#fb9f3a\"],[0.8888888888888888,\"#fdca26\"],[1.0,\"#f0f921\"]]}],\"contourcarpet\":[{\"type\":\"contourcarpet\",\"colorbar\":{\"outlinewidth\":0,\"ticks\":\"\"}}],\"contour\":[{\"type\":\"contour\",\"colorbar\":{\"outlinewidth\":0,\"ticks\":\"\"},\"colorscale\":[[0.0,\"#0d0887\"],[0.1111111111111111,\"#46039f\"],[0.2222222222222222,\"#7201a8\"],[0.3333333333333333,\"#9c179e\"],[0.4444444444444444,\"#bd3786\"],[0.5555555555555556,\"#d8576b\"],[0.6666666666666666,\"#ed7953\"],[0.7777777777777778,\"#fb9f3a\"],[0.8888888888888888,\"#fdca26\"],[1.0,\"#f0f921\"]]}],\"surface\":[{\"type\":\"surface\",\"colorbar\":{\"outlinewidth\":0,\"ticks\":\"\"},\"colorscale\":[[0.0,\"#0d0887\"],[0.1111111111111111,\"#46039f\"],[0.2222222222222222,\"#7201a8\"],[0.3333333333333333,\"#9c179e\"],[0.4444444444444444,\"#bd3786\"],[0.5555555555555556,\"#d8576b\"],[0.6666666666666666,\"#ed7953\"],[0.7777777777777778,\"#fb9f3a\"],[0.8888888888888888,\"#fdca26\"],[1.0,\"#f0f921\"]]}],\"mesh3d\":[{\"type\":\"mesh3d\",\"colorbar\":{\"outlinewidth\":0,\"ticks\":\"\"}}],\"scatter\":[{\"fillpattern\":{\"fillmode\":\"overlay\",\"size\":10,\"solidity\":0.2},\"type\":\"scatter\"}],\"parcoords\":[{\"type\":\"parcoords\",\"line\":{\"colorbar\":{\"outlinewidth\":0,\"ticks\":\"\"}}}],\"scatterpolargl\":[{\"type\":\"scatterpolargl\",\"marker\":{\"colorbar\":{\"outlinewidth\":0,\"ticks\":\"\"}}}],\"bar\":[{\"error_x\":{\"color\":\"#2a3f5f\"},\"error_y\":{\"color\":\"#2a3f5f\"},\"marker\":{\"line\":{\"color\":\"#E5ECF6\",\"width\":0.5},\"pattern\":{\"fillmode\":\"overlay\",\"size\":10,\"solidity\":0.2}},\"type\":\"bar\"}],\"scattergeo\":[{\"type\":\"scattergeo\",\"marker\":{\"colorbar\":{\"outlinewidth\":0,\"ticks\":\"\"}}}],\"scatterpolar\":[{\"type\":\"scatterpolar\",\"marker\":{\"colorbar\":{\"outlinewidth\":0,\"ticks\":\"\"}}}],\"histogram\":[{\"marker\":{\"pattern\":{\"fillmode\":\"overlay\",\"size\":10,\"solidity\":0.2}},\"type\":\"histogram\"}],\"scattergl\":[{\"type\":\"scattergl\",\"marker\":{\"colorbar\":{\"outlinewidth\":0,\"ticks\":\"\"}}}],\"scatter3d\":[{\"type\":\"scatter3d\",\"line\":{\"colorbar\":{\"outlinewidth\":0,\"ticks\":\"\"}},\"marker\":{\"colorbar\":{\"outlinewidth\":0,\"ticks\":\"\"}}}],\"scattermapbox\":[{\"type\":\"scattermapbox\",\"marker\":{\"colorbar\":{\"outlinewidth\":0,\"ticks\":\"\"}}}],\"scatterternary\":[{\"type\":\"scatterternary\",\"marker\":{\"colorbar\":{\"outlinewidth\":0,\"ticks\":\"\"}}}],\"scattercarpet\":[{\"type\":\"scattercarpet\",\"marker\":{\"colorbar\":{\"outlinewidth\":0,\"ticks\":\"\"}}}],\"carpet\":[{\"aaxis\":{\"endlinecolor\":\"#2a3f5f\",\"gridcolor\":\"white\",\"linecolor\":\"white\",\"minorgridcolor\":\"white\",\"startlinecolor\":\"#2a3f5f\"},\"baxis\":{\"endlinecolor\":\"#2a3f5f\",\"gridcolor\":\"white\",\"linecolor\":\"white\",\"minorgridcolor\":\"white\",\"startlinecolor\":\"#2a3f5f\"},\"type\":\"carpet\"}],\"table\":[{\"cells\":{\"fill\":{\"color\":\"#EBF0F8\"},\"line\":{\"color\":\"white\"}},\"header\":{\"fill\":{\"color\":\"#C8D4E3\"},\"line\":{\"color\":\"white\"}},\"type\":\"table\"}],\"barpolar\":[{\"marker\":{\"line\":{\"color\":\"#E5ECF6\",\"width\":0.5},\"pattern\":{\"fillmode\":\"overlay\",\"size\":10,\"solidity\":0.2}},\"type\":\"barpolar\"}],\"pie\":[{\"automargin\":true,\"type\":\"pie\"}]},\"layout\":{\"autotypenumbers\":\"strict\",\"colorway\":[\"#636efa\",\"#EF553B\",\"#00cc96\",\"#ab63fa\",\"#FFA15A\",\"#19d3f3\",\"#FF6692\",\"#B6E880\",\"#FF97FF\",\"#FECB52\"],\"font\":{\"color\":\"#2a3f5f\"},\"hovermode\":\"closest\",\"hoverlabel\":{\"align\":\"left\"},\"paper_bgcolor\":\"white\",\"plot_bgcolor\":\"#E5ECF6\",\"polar\":{\"bgcolor\":\"#E5ECF6\",\"angularaxis\":{\"gridcolor\":\"white\",\"linecolor\":\"white\",\"ticks\":\"\"},\"radialaxis\":{\"gridcolor\":\"white\",\"linecolor\":\"white\",\"ticks\":\"\"}},\"ternary\":{\"bgcolor\":\"#E5ECF6\",\"aaxis\":{\"gridcolor\":\"white\",\"linecolor\":\"white\",\"ticks\":\"\"},\"baxis\":{\"gridcolor\":\"white\",\"linecolor\":\"white\",\"ticks\":\"\"},\"caxis\":{\"gridcolor\":\"white\",\"linecolor\":\"white\",\"ticks\":\"\"}},\"coloraxis\":{\"colorbar\":{\"outlinewidth\":0,\"ticks\":\"\"}},\"colorscale\":{\"sequential\":[[0.0,\"#0d0887\"],[0.1111111111111111,\"#46039f\"],[0.2222222222222222,\"#7201a8\"],[0.3333333333333333,\"#9c179e\"],[0.4444444444444444,\"#bd3786\"],[0.5555555555555556,\"#d8576b\"],[0.6666666666666666,\"#ed7953\"],[0.7777777777777778,\"#fb9f3a\"],[0.8888888888888888,\"#fdca26\"],[1.0,\"#f0f921\"]],\"sequentialminus\":[[0.0,\"#0d0887\"],[0.1111111111111111,\"#46039f\"],[0.2222222222222222,\"#7201a8\"],[0.3333333333333333,\"#9c179e\"],[0.4444444444444444,\"#bd3786\"],[0.5555555555555556,\"#d8576b\"],[0.6666666666666666,\"#ed7953\"],[0.7777777777777778,\"#fb9f3a\"],[0.8888888888888888,\"#fdca26\"],[1.0,\"#f0f921\"]],\"diverging\":[[0,\"#8e0152\"],[0.1,\"#c51b7d\"],[0.2,\"#de77ae\"],[0.3,\"#f1b6da\"],[0.4,\"#fde0ef\"],[0.5,\"#f7f7f7\"],[0.6,\"#e6f5d0\"],[0.7,\"#b8e186\"],[0.8,\"#7fbc41\"],[0.9,\"#4d9221\"],[1,\"#276419\"]]},\"xaxis\":{\"gridcolor\":\"white\",\"linecolor\":\"white\",\"ticks\":\"\",\"title\":{\"standoff\":15},\"zerolinecolor\":\"white\",\"automargin\":true,\"zerolinewidth\":2},\"yaxis\":{\"gridcolor\":\"white\",\"linecolor\":\"white\",\"ticks\":\"\",\"title\":{\"standoff\":15},\"zerolinecolor\":\"white\",\"automargin\":true,\"zerolinewidth\":2},\"scene\":{\"xaxis\":{\"backgroundcolor\":\"#E5ECF6\",\"gridcolor\":\"white\",\"linecolor\":\"white\",\"showbackground\":true,\"ticks\":\"\",\"zerolinecolor\":\"white\",\"gridwidth\":2},\"yaxis\":{\"backgroundcolor\":\"#E5ECF6\",\"gridcolor\":\"white\",\"linecolor\":\"white\",\"showbackground\":true,\"ticks\":\"\",\"zerolinecolor\":\"white\",\"gridwidth\":2},\"zaxis\":{\"backgroundcolor\":\"#E5ECF6\",\"gridcolor\":\"white\",\"linecolor\":\"white\",\"showbackground\":true,\"ticks\":\"\",\"zerolinecolor\":\"white\",\"gridwidth\":2}},\"shapedefaults\":{\"line\":{\"color\":\"#2a3f5f\"}},\"annotationdefaults\":{\"arrowcolor\":\"#2a3f5f\",\"arrowhead\":0,\"arrowwidth\":1},\"geo\":{\"bgcolor\":\"white\",\"landcolor\":\"#E5ECF6\",\"subunitcolor\":\"white\",\"showland\":true,\"showlakes\":true,\"lakecolor\":\"white\"},\"title\":{\"x\":0.05},\"mapbox\":{\"style\":\"light\"}}}},                        {\"responsive\": true}                    ).then(function(){\n                            \nvar gd = document.getElementById('8a19937a-7b37-42d5-851e-ccb93a6606b2');\nvar x = new MutationObserver(function (mutations, observer) {{\n        var display = window.getComputedStyle(gd).display;\n        if (!display || display === 'none') {{\n            console.log([gd, 'removed!']);\n            Plotly.purge(gd);\n            observer.disconnect();\n        }}\n}});\n\n// Listen for the removal of the full notebook cells\nvar notebookContainer = gd.closest('#notebook-container');\nif (notebookContainer) {{\n    x.observe(notebookContainer, {childList: true});\n}}\n\n// Listen for the clearing of the current output cell\nvar outputEl = gd.closest('.output');\nif (outputEl) {{\n    x.observe(outputEl, {childList: true});\n}}\n\n                        })                };                });            </script>        </div>"
     },
     "metadata": {},
     "output_type": "display_data"
    }
   ],
   "source": [
    "main(settings=settings)"
   ]
  },
  {
   "cell_type": "code",
   "execution_count": null,
   "metadata": {},
   "outputs": [],
   "source": []
  }
 ],
 "metadata": {
  "kernelspec": {
   "display_name": "Python 3",
   "language": "python",
   "name": "python3"
  },
  "language_info": {
   "codemirror_mode": {
    "name": "ipython",
    "version": 3
   },
   "file_extension": ".py",
   "mimetype": "text/x-python",
   "name": "python",
   "nbconvert_exporter": "python",
   "pygments_lexer": "ipython3",
   "version": "3.9.0"
  }
 },
 "nbformat": 4,
 "nbformat_minor": 4
}
