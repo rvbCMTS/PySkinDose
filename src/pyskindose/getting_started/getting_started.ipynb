{
 "cells": [
  {
   "cell_type": "markdown",
   "id": "c9a2425d-49a8-4060-8af9-a078a7ca7475",
   "metadata": {},
   "source": [
    "# Getting started with PySkinDose\n",
    "Welcome! This is a getting-started guide for PySkinDose. It will be updated when more functionality is added or modified.\n",
    "\n"
   ]
  },
  {
   "cell_type": "markdown",
   "id": "65c80f08-d40f-41fe-8c8d-ebe6070dd3ec",
   "metadata": {},
   "source": [
    "## PART I: Settings"
   ]
  },
  {
   "cell_type": "markdown",
   "id": "85e68b59-b761-4ed1-bc2c-9ff2463d03f3",
   "metadata": {},
   "source": [
    "We need to start our session with adding the class PyskindoseSettings for parsing of user defined settings:"
   ]
  },
  {
   "cell_type": "code",
   "execution_count": null,
   "id": "b61afc58-ec9f-48e2-9231-9a5a908e6a5c",
   "metadata": {},
   "outputs": [],
   "source": [
    "import json\n",
    "from pyskindose.settings_pyskindose import PyskindoseSettings\n",
    "from pyskindose.main import main\n",
    "\n",
    "#import plotly.io as pio\n",
    "#pio.renderers.default = \"browser\""
   ]
  },
  {
   "cell_type": "markdown",
   "id": "2de6a01c-a52e-4558-9bcd-58b3bb05126d",
   "metadata": {},
   "source": [
    "once completed, we need to initialize all the user defined settings. Lets load a template of pre-loaded settings  (located in settings_example.json), then we can change each of the inidividual settings prior to calculating skin dose"
   ]
  },
  {
   "cell_type": "code",
   "execution_count": null,
   "id": "83490313-f4be-4ec0-8f8f-06d03a669226",
   "metadata": {},
   "outputs": [],
   "source": [
    "# load the settings.json file\n",
    "settings_json = json.load(open(\"../settings_example.json\"))\n",
    "\n",
    "# Parse the settings to a setting class:\n",
    "settings = PyskindoseSettings(settings=settings_json)"
   ]
  },
  {
   "cell_type": "markdown",
   "id": "8547c150-7c47-4173-90ea-ea2ad9964270",
   "metadata": {},
   "source": [
    "Now, all the settings are populated in settings. We can print all user defined setting by typing `settings.print_parameters()`:"
   ]
  },
  {
   "cell_type": "code",
   "execution_count": null,
   "id": "c96c974c-cb21-464c-8ce1-ec6790024939",
   "metadata": {},
   "outputs": [],
   "source": [
    "settings.print_parameters()"
   ]
  },
  {
   "cell_type": "markdown",
   "id": "07a55d3e-f007-4bff-82e1-165ecacfdb2d",
   "metadata": {},
   "source": [
    "As seen in the above output, `settings`  includes the sections __general__, __phantom__, and __plot__. \n",
    "\n",
    "You can access each of the settings in general by simply typing `settings.mode`, `settings.k_tab_val` etc. For the other sections, include the section name, e.g. `settings.phantom.patient_orientation`.\n",
    "\n",
    "\n",
    "You can read up each by adressing the corresponding docstring with the `__doc__` function. E.g: `settings__doc__` returns detailed descriptions of the setting in __general__, i.e., \"mode\", \"k_tab_val\",  \"estimate_k_tab\", and \"rdsr_filename\". \n",
    "\n",
    "Uncommany any of the following lines for more info on each of the subsections in settings.\n"
   ]
  },
  {
   "cell_type": "code",
   "execution_count": null,
   "id": "8f44c480-0a73-4921-96c6-b0a4c8f3c465",
   "metadata": {},
   "outputs": [],
   "source": [
    "# UNCOMMENT ANY OF THE FOLLOWING LINES FOR DESCRIPTION ON THE VARIABLES IN SETTINGS\n",
    "\n",
    "#print(settings.__doc__) # uncomment this line to read up on settings.general\n",
    "#print(settings.phantom.__doc__) # uncomment this line to read up on settings.phantom\n",
    "#print(settings.phantom.patient_offset.__doc__)  # uncomment this line to read up on settings.phantom.patient_offset\n",
    "#print(settings.phantom.dimension.__doc__) # uncomment this line to read up on settings.phantom.dimension\n",
    "#print(settings.plot.__doc__) # uncomment this line to read up on settings.plot\n"
   ]
  },
  {
   "cell_type": "markdown",
   "id": "fec17d93-48b5-4d54-9d14-09a415ca024f",
   "metadata": {},
   "source": [
    "## PART II: Plot setup"
   ]
  },
  {
   "cell_type": "code",
   "execution_count": null,
   "id": "f17ce8aa-cc42-4b88-aaec-736629ddbba1",
   "metadata": {},
   "outputs": [],
   "source": [
    "#This section uses a lot of quite memory heavy interactive .html plots. \n",
    "#If you are low on available RAM memory, uncommen the following code block. \n",
    "#This will export all the plots to separate browser tabs so that you can close the each plot prior to creating a new one\n",
    "\n",
    "#import plotly.io as pio\n",
    "#pio.renderers.default = \"browser\""
   ]
  },
  {
   "cell_type": "markdown",
   "id": "4665e721-9935-4b3a-a4df-f1c0b9c6de23",
   "metadata": {},
   "source": [
    "Now, lets have a look on the geometry in which the skin dose is calculated. PySkinDose has a built in mode for plotting the setup (i.e. patient phantom, and its position upon the patient support table. This is accessed by running `main.py` with `settings.mode` = \"plot_setup\". Since mode is already set to \"plot_setup\" i setting, we simply run main like this:"
   ]
  },
  {
   "cell_type": "code",
   "execution_count": null,
   "id": "2290d2af-b61b-4827-832b-aab10465aa35",
   "metadata": {},
   "outputs": [],
   "source": [
    "main(settings=settings)"
   ]
  },
  {
   "cell_type": "markdown",
   "id": "ee930e3c-5ef4-4a85-8a49-11d54afcd2d1",
   "metadata": {},
   "source": [
    "In the above output, you will see the patient phantom and its position upon the support table. The X-ray source, beam, and image receptor is also added in standard position (AP1=AP2=0)\n",
    "There are a few things one should adress prior to conducting any skin dose estimation.\n",
    "\n",
    "1. **Patient phantom selection**: Select you phantom by setting `settings.phantom.phantom_type` to either \"plane\", \"cylinder\", or \"human\". If you select \"human\", you need to specify what human phantom to use. The different phantoms can be found in source/phantom/phantom_data. Our current default phantom is \"hudfrid.stl\". Several more advanced phantoms (e.g. for neurointerventions) are in development. If you select any of the mathematical phantoms (plane or cylinder), then you can tweek settings such as length and radius in settings.phantom.dimension. You can also change the dimension of the patient support table and pad.\n",
    "2. Patient \n",
    "3. Third item\n",
    "4. Fourth item\n"
   ]
  },
  {
   "cell_type": "code",
   "execution_count": null,
   "id": "1ed64f1d-4d57-4c05-8491-35b43754eaec",
   "metadata": {},
   "outputs": [],
   "source": [
    "settings.phantom.model=\"plane\"\n",
    "main(settings=settings)"
   ]
  },
  {
   "cell_type": "code",
   "execution_count": null,
   "id": "85920ff8-0729-40ce-b066-5ea63930a423",
   "metadata": {},
   "outputs": [],
   "source": [
    "main(settings=settings) # högre"
   ]
  },
  {
   "cell_type": "code",
   "execution_count": null,
   "id": "3c0578d2-558e-49ee-92ab-8314ca0d5fd6",
   "metadata": {},
   "outputs": [],
   "source": [
    "\n"
   ]
  },
  {
   "cell_type": "code",
   "execution_count": null,
   "id": "ba45c520-4d85-48bb-bb57-14a7f7aedfa9",
   "metadata": {},
   "outputs": [],
   "source": [
    "pio.renderers.default = \"browser\"\n",
    "main(settings=settings) # högremain(settings=settings) # högre\n"
   ]
  },
  {
   "cell_type": "code",
   "execution_count": null,
   "id": "b809b3ed-cb18-4057-9616-c8659ab98003",
   "metadata": {},
   "outputs": [],
   "source": [
    "pio.renderers\n"
   ]
  },
  {
   "cell_type": "code",
   "execution_count": null,
   "id": "b30aa9bd-3117-4748-9eaa-ab4fd7c43137",
   "metadata": {},
   "outputs": [],
   "source": []
  }
 ],
 "metadata": {
  "kernelspec": {
   "display_name": "Python 3 (ipykernel)",
   "language": "python",
   "name": "python3"
  },
  "language_info": {
   "codemirror_mode": {
    "name": "ipython",
    "version": 3
   },
   "file_extension": ".py",
   "mimetype": "text/x-python",
   "name": "python",
   "nbconvert_exporter": "python",
   "pygments_lexer": "ipython3",
   "version": "3.8.12"
  }
 },
 "nbformat": 4,
 "nbformat_minor": 5
}
